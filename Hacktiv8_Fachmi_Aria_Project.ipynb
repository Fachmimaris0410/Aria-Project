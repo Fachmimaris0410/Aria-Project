{
 "cells": [
  {
   "attachments": {},
   "cell_type": "markdown",
   "metadata": {},
   "source": [
    "# Aria Project\n",
    "## 1.Perkenalan\n",
    "`Fachmi Maris`\n",
    "\n",
    "Batch HCK_002\n",
    "\n",
    "\n"
   ]
  },
  {
   "attachments": {},
   "cell_type": "markdown",
   "metadata": {},
   "source": [
    "### Dataset\n",
    "\n",
    "Pada penelitian ini menggunakan dataset yang telah disediakan ARIA Indonesia.Aria merupakan perusahaan yang mengubah pertanian melalui Internet-of-things & big data. Aria pun hadir untuk meningkatkan kinerja perusahaan peternakan. \n",
    "\n",
    "Penelitian ini akan melakukan prediksi pada nilai target yang memiliki fitur dari v1 sampai v8 dan sample_type\n",
    "\n",
    "### Source Dataset :\n",
    "https://github.com/ardhiraka/talent_fair_sample_challenge/blob/main/datasets/aria_data.xlsx"
   ]
  },
  {
   "attachments": {},
   "cell_type": "markdown",
   "metadata": {},
   "source": [
    "### OBJECTIVES\n",
    "\n",
    "- Mampu membuat model prediksi data nutrisi tanaman yang telah diperoleh dari lab uji.\n",
    "- Mampu mengeksplorasi dan menganalisis dataset.\n",
    "- Mampu menjelaskan cara mengevaluasi model.\n",
    "- Mampu menjelaskan metodologi yang digunakan untuk setiap langkah, algoritma, manipulasi data, - pembersihan data, dll.\n",
    "- Mampu memberikan rencana perbaikan lebih lanjut."
   ]
  },
  {
   "attachments": {},
   "cell_type": "markdown",
   "metadata": {},
   "source": [
    "### PROBLEM STATEMENT\n",
    "Memprediksi nilai target menggunakan model regresi"
   ]
  },
  {
   "attachments": {},
   "cell_type": "markdown",
   "metadata": {},
   "source": [
    "## 2. Import Library\n",
    "Memanggil library yang dibutuhkan dalam penelitian ini"
   ]
  },
  {
   "cell_type": "code",
   "execution_count": 1,
   "metadata": {},
   "outputs": [],
   "source": [
    "# Define Libraries\n",
    "import pandas as pd\n",
    "import numpy as np\n",
    "from scipy import stats\n",
    "import pickle\n",
    "from sklearn import set_config\n",
    "\n",
    "# For plotting\n",
    "import seaborn as sns\n",
    "import matplotlib.pyplot as plt\n",
    "import plotly.express as px\n",
    "%matplotlib inline\n",
    "\n",
    "\n",
    "# For Regression Problems\n",
    "from sklearn.linear_model import LinearRegression,Ridge\n",
    "from sklearn.tree import DecisionTreeRegressor\n",
    "from sklearn.ensemble import RandomForestRegressor\n",
    "\n",
    "# Standarize the Datasets\n",
    "from sklearn.model_selection import train_test_split, GridSearchCV\n",
    "from sklearn.preprocessing import MinMaxScaler, StandardScaler, OneHotEncoder, OrdinalEncoder\n",
    "from feature_engine.outliers import Winsorizer, OutlierTrimmer\n",
    "from sklearn.pipeline import Pipeline\n",
    "from sklearn.compose import ColumnTransformer\n",
    "from sklearn.model_selection import cross_val_score\n",
    "\n",
    "# Check Multicollinearity\n",
    "from statsmodels.stats.outliers_influence import variance_inflation_factor\n",
    "\n",
    "from sklearn.feature_selection import f_classif, SelectKBest\n",
    "from sklearn.metrics import mean_absolute_error, r2_score,mean_squared_error\n",
    "\n",
    "# Error and Display settings\n",
    "pd.set_option('display.max_column', None)\n",
    "pd.set_option('display.max_rows', 150)\n",
    "import warnings\n",
    "warnings.filterwarnings('ignore')"
   ]
  },
  {
   "attachments": {},
   "cell_type": "markdown",
   "metadata": {},
   "source": [
    "## 3. Data Loading\n",
    "Memanggil dataset yang digunakan dalam penelitian ini"
   ]
  },
  {
   "cell_type": "code",
   "execution_count": 4,
   "metadata": {},
   "outputs": [],
   "source": [
    "df = pd.read_csv('aria_data.csv')"
   ]
  },
  {
   "attachments": {},
   "cell_type": "markdown",
   "metadata": {},
   "source": [
    "dataset pada penelitian ini diberi nama df "
   ]
  },
  {
   "cell_type": "code",
   "execution_count": 5,
   "metadata": {},
   "outputs": [
    {
     "data": {
      "text/html": [
       "<div>\n",
       "<style scoped>\n",
       "    .dataframe tbody tr th:only-of-type {\n",
       "        vertical-align: middle;\n",
       "    }\n",
       "\n",
       "    .dataframe tbody tr th {\n",
       "        vertical-align: top;\n",
       "    }\n",
       "\n",
       "    .dataframe thead th {\n",
       "        text-align: right;\n",
       "    }\n",
       "</style>\n",
       "<table border=\"1\" class=\"dataframe\">\n",
       "  <thead>\n",
       "    <tr style=\"text-align: right;\">\n",
       "      <th></th>\n",
       "      <th>target</th>\n",
       "      <th>v1</th>\n",
       "      <th>v2</th>\n",
       "      <th>v3</th>\n",
       "      <th>v4</th>\n",
       "      <th>v5</th>\n",
       "      <th>v6</th>\n",
       "      <th>v7</th>\n",
       "      <th>v8</th>\n",
       "      <th>sample_type</th>\n",
       "    </tr>\n",
       "  </thead>\n",
       "  <tbody>\n",
       "    <tr>\n",
       "      <th>0</th>\n",
       "      <td>4.63</td>\n",
       "      <td>260.600000</td>\n",
       "      <td>199.000000</td>\n",
       "      <td>391.333333</td>\n",
       "      <td>371.733333</td>\n",
       "      <td>466.800000</td>\n",
       "      <td>273.133333</td>\n",
       "      <td>742.066667</td>\n",
       "      <td>4047.733333</td>\n",
       "      <td>lab 1</td>\n",
       "    </tr>\n",
       "    <tr>\n",
       "      <th>1</th>\n",
       "      <td>5.00</td>\n",
       "      <td>263.200000</td>\n",
       "      <td>194.600000</td>\n",
       "      <td>393.666667</td>\n",
       "      <td>348.533333</td>\n",
       "      <td>401.800000</td>\n",
       "      <td>220.066667</td>\n",
       "      <td>712.000000</td>\n",
       "      <td>4673.466667</td>\n",
       "      <td>lab 1</td>\n",
       "    </tr>\n",
       "    <tr>\n",
       "      <th>2</th>\n",
       "      <td>4.91</td>\n",
       "      <td>247.266667</td>\n",
       "      <td>205.800000</td>\n",
       "      <td>375.466667</td>\n",
       "      <td>354.866667</td>\n",
       "      <td>419.000000</td>\n",
       "      <td>222.133333</td>\n",
       "      <td>677.200000</td>\n",
       "      <td>4386.800000</td>\n",
       "      <td>lab 1</td>\n",
       "    </tr>\n",
       "    <tr>\n",
       "      <th>3</th>\n",
       "      <td>4.77</td>\n",
       "      <td>257.944444</td>\n",
       "      <td>191.833333</td>\n",
       "      <td>368.722222</td>\n",
       "      <td>334.666667</td>\n",
       "      <td>417.222222</td>\n",
       "      <td>195.944444</td>\n",
       "      <td>678.555556</td>\n",
       "      <td>4588.777778</td>\n",
       "      <td>lab 1</td>\n",
       "    </tr>\n",
       "    <tr>\n",
       "      <th>4</th>\n",
       "      <td>4.89</td>\n",
       "      <td>258.200000</td>\n",
       "      <td>195.733333</td>\n",
       "      <td>356.666667</td>\n",
       "      <td>333.333333</td>\n",
       "      <td>394.600000</td>\n",
       "      <td>196.000000</td>\n",
       "      <td>677.133333</td>\n",
       "      <td>4867.066667</td>\n",
       "      <td>lab 1</td>\n",
       "    </tr>\n",
       "    <tr>\n",
       "      <th>...</th>\n",
       "      <td>...</td>\n",
       "      <td>...</td>\n",
       "      <td>...</td>\n",
       "      <td>...</td>\n",
       "      <td>...</td>\n",
       "      <td>...</td>\n",
       "      <td>...</td>\n",
       "      <td>...</td>\n",
       "      <td>...</td>\n",
       "      <td>...</td>\n",
       "    </tr>\n",
       "    <tr>\n",
       "      <th>155</th>\n",
       "      <td>4.83</td>\n",
       "      <td>573.250000</td>\n",
       "      <td>361.250000</td>\n",
       "      <td>643.125000</td>\n",
       "      <td>489.812500</td>\n",
       "      <td>666.875000</td>\n",
       "      <td>355.250000</td>\n",
       "      <td>712.312500</td>\n",
       "      <td>3943.687500</td>\n",
       "      <td>lab 2</td>\n",
       "    </tr>\n",
       "    <tr>\n",
       "      <th>156</th>\n",
       "      <td>4.47</td>\n",
       "      <td>678.375000</td>\n",
       "      <td>398.125000</td>\n",
       "      <td>678.250000</td>\n",
       "      <td>541.125000</td>\n",
       "      <td>704.000000</td>\n",
       "      <td>393.500000</td>\n",
       "      <td>788.812500</td>\n",
       "      <td>3928.187500</td>\n",
       "      <td>lab 2</td>\n",
       "    </tr>\n",
       "    <tr>\n",
       "      <th>157</th>\n",
       "      <td>4.63</td>\n",
       "      <td>634.000000</td>\n",
       "      <td>382.866667</td>\n",
       "      <td>657.466667</td>\n",
       "      <td>505.066667</td>\n",
       "      <td>719.200000</td>\n",
       "      <td>366.600000</td>\n",
       "      <td>792.133333</td>\n",
       "      <td>3861.200000</td>\n",
       "      <td>lab 2</td>\n",
       "    </tr>\n",
       "    <tr>\n",
       "      <th>158</th>\n",
       "      <td>4.35</td>\n",
       "      <td>615.312500</td>\n",
       "      <td>366.750000</td>\n",
       "      <td>642.937500</td>\n",
       "      <td>483.687500</td>\n",
       "      <td>675.625000</td>\n",
       "      <td>359.062500</td>\n",
       "      <td>730.125000</td>\n",
       "      <td>3859.062500</td>\n",
       "      <td>lab 2</td>\n",
       "    </tr>\n",
       "    <tr>\n",
       "      <th>159</th>\n",
       "      <td>4.43</td>\n",
       "      <td>575.200000</td>\n",
       "      <td>350.266667</td>\n",
       "      <td>648.333333</td>\n",
       "      <td>495.400000</td>\n",
       "      <td>679.800000</td>\n",
       "      <td>346.266667</td>\n",
       "      <td>718.733333</td>\n",
       "      <td>3903.333333</td>\n",
       "      <td>lab 2</td>\n",
       "    </tr>\n",
       "  </tbody>\n",
       "</table>\n",
       "<p>160 rows × 10 columns</p>\n",
       "</div>"
      ],
      "text/plain": [
       "     target          v1          v2          v3          v4          v5  \\\n",
       "0      4.63  260.600000  199.000000  391.333333  371.733333  466.800000   \n",
       "1      5.00  263.200000  194.600000  393.666667  348.533333  401.800000   \n",
       "2      4.91  247.266667  205.800000  375.466667  354.866667  419.000000   \n",
       "3      4.77  257.944444  191.833333  368.722222  334.666667  417.222222   \n",
       "4      4.89  258.200000  195.733333  356.666667  333.333333  394.600000   \n",
       "..      ...         ...         ...         ...         ...         ...   \n",
       "155    4.83  573.250000  361.250000  643.125000  489.812500  666.875000   \n",
       "156    4.47  678.375000  398.125000  678.250000  541.125000  704.000000   \n",
       "157    4.63  634.000000  382.866667  657.466667  505.066667  719.200000   \n",
       "158    4.35  615.312500  366.750000  642.937500  483.687500  675.625000   \n",
       "159    4.43  575.200000  350.266667  648.333333  495.400000  679.800000   \n",
       "\n",
       "             v6          v7           v8 sample_type  \n",
       "0    273.133333  742.066667  4047.733333       lab 1  \n",
       "1    220.066667  712.000000  4673.466667       lab 1  \n",
       "2    222.133333  677.200000  4386.800000       lab 1  \n",
       "3    195.944444  678.555556  4588.777778       lab 1  \n",
       "4    196.000000  677.133333  4867.066667       lab 1  \n",
       "..          ...         ...          ...         ...  \n",
       "155  355.250000  712.312500  3943.687500       lab 2  \n",
       "156  393.500000  788.812500  3928.187500       lab 2  \n",
       "157  366.600000  792.133333  3861.200000       lab 2  \n",
       "158  359.062500  730.125000  3859.062500       lab 2  \n",
       "159  346.266667  718.733333  3903.333333       lab 2  \n",
       "\n",
       "[160 rows x 10 columns]"
      ]
     },
     "execution_count": 5,
     "metadata": {},
     "output_type": "execute_result"
    }
   ],
   "source": [
    "df"
   ]
  },
  {
   "attachments": {},
   "cell_type": "markdown",
   "metadata": {},
   "source": [
    "|      `COLUMN`      | DESKRIPSI                                                                                                       |\n",
    "| :----------------: | :---------------------------------------------------------------------------------------------------------------- |\n",
    "|    `target`    | Informasi untuk memprediksi nutrisi tanaman                                                                                       |\n",
    "|      `V1 - V8`      | Informasi tentang variabel untuk memprediksi nutrisi tanaman                                                            |\n",
    "|  `sample_type`   | Informasi tentang 2 sampel laboratorium berbeda yang diperoleh  |"
   ]
  },
  {
   "attachments": {},
   "cell_type": "markdown",
   "metadata": {},
   "source": [
    "Menampilkan data 5 baris teratas pada dataset "
   ]
  },
  {
   "cell_type": "code",
   "execution_count": 6,
   "metadata": {},
   "outputs": [
    {
     "data": {
      "text/html": [
       "<div>\n",
       "<style scoped>\n",
       "    .dataframe tbody tr th:only-of-type {\n",
       "        vertical-align: middle;\n",
       "    }\n",
       "\n",
       "    .dataframe tbody tr th {\n",
       "        vertical-align: top;\n",
       "    }\n",
       "\n",
       "    .dataframe thead th {\n",
       "        text-align: right;\n",
       "    }\n",
       "</style>\n",
       "<table border=\"1\" class=\"dataframe\">\n",
       "  <thead>\n",
       "    <tr style=\"text-align: right;\">\n",
       "      <th></th>\n",
       "      <th>target</th>\n",
       "      <th>v1</th>\n",
       "      <th>v2</th>\n",
       "      <th>v3</th>\n",
       "      <th>v4</th>\n",
       "      <th>v5</th>\n",
       "      <th>v6</th>\n",
       "      <th>v7</th>\n",
       "      <th>v8</th>\n",
       "      <th>sample_type</th>\n",
       "    </tr>\n",
       "  </thead>\n",
       "  <tbody>\n",
       "    <tr>\n",
       "      <th>0</th>\n",
       "      <td>4.63</td>\n",
       "      <td>260.600000</td>\n",
       "      <td>199.000000</td>\n",
       "      <td>391.333333</td>\n",
       "      <td>371.733333</td>\n",
       "      <td>466.800000</td>\n",
       "      <td>273.133333</td>\n",
       "      <td>742.066667</td>\n",
       "      <td>4047.733333</td>\n",
       "      <td>lab 1</td>\n",
       "    </tr>\n",
       "    <tr>\n",
       "      <th>1</th>\n",
       "      <td>5.00</td>\n",
       "      <td>263.200000</td>\n",
       "      <td>194.600000</td>\n",
       "      <td>393.666667</td>\n",
       "      <td>348.533333</td>\n",
       "      <td>401.800000</td>\n",
       "      <td>220.066667</td>\n",
       "      <td>712.000000</td>\n",
       "      <td>4673.466667</td>\n",
       "      <td>lab 1</td>\n",
       "    </tr>\n",
       "    <tr>\n",
       "      <th>2</th>\n",
       "      <td>4.91</td>\n",
       "      <td>247.266667</td>\n",
       "      <td>205.800000</td>\n",
       "      <td>375.466667</td>\n",
       "      <td>354.866667</td>\n",
       "      <td>419.000000</td>\n",
       "      <td>222.133333</td>\n",
       "      <td>677.200000</td>\n",
       "      <td>4386.800000</td>\n",
       "      <td>lab 1</td>\n",
       "    </tr>\n",
       "    <tr>\n",
       "      <th>3</th>\n",
       "      <td>4.77</td>\n",
       "      <td>257.944444</td>\n",
       "      <td>191.833333</td>\n",
       "      <td>368.722222</td>\n",
       "      <td>334.666667</td>\n",
       "      <td>417.222222</td>\n",
       "      <td>195.944444</td>\n",
       "      <td>678.555556</td>\n",
       "      <td>4588.777778</td>\n",
       "      <td>lab 1</td>\n",
       "    </tr>\n",
       "    <tr>\n",
       "      <th>4</th>\n",
       "      <td>4.89</td>\n",
       "      <td>258.200000</td>\n",
       "      <td>195.733333</td>\n",
       "      <td>356.666667</td>\n",
       "      <td>333.333333</td>\n",
       "      <td>394.600000</td>\n",
       "      <td>196.000000</td>\n",
       "      <td>677.133333</td>\n",
       "      <td>4867.066667</td>\n",
       "      <td>lab 1</td>\n",
       "    </tr>\n",
       "  </tbody>\n",
       "</table>\n",
       "</div>"
      ],
      "text/plain": [
       "   target          v1          v2          v3          v4          v5  \\\n",
       "0    4.63  260.600000  199.000000  391.333333  371.733333  466.800000   \n",
       "1    5.00  263.200000  194.600000  393.666667  348.533333  401.800000   \n",
       "2    4.91  247.266667  205.800000  375.466667  354.866667  419.000000   \n",
       "3    4.77  257.944444  191.833333  368.722222  334.666667  417.222222   \n",
       "4    4.89  258.200000  195.733333  356.666667  333.333333  394.600000   \n",
       "\n",
       "           v6          v7           v8 sample_type  \n",
       "0  273.133333  742.066667  4047.733333       lab 1  \n",
       "1  220.066667  712.000000  4673.466667       lab 1  \n",
       "2  222.133333  677.200000  4386.800000       lab 1  \n",
       "3  195.944444  678.555556  4588.777778       lab 1  \n",
       "4  196.000000  677.133333  4867.066667       lab 1  "
      ]
     },
     "execution_count": 6,
     "metadata": {},
     "output_type": "execute_result"
    }
   ],
   "source": [
    "df.head()"
   ]
  },
  {
   "attachments": {},
   "cell_type": "markdown",
   "metadata": {},
   "source": [
    "Menampilkan 5 data terbawah pada dataset"
   ]
  },
  {
   "cell_type": "code",
   "execution_count": 7,
   "metadata": {},
   "outputs": [
    {
     "data": {
      "text/html": [
       "<div>\n",
       "<style scoped>\n",
       "    .dataframe tbody tr th:only-of-type {\n",
       "        vertical-align: middle;\n",
       "    }\n",
       "\n",
       "    .dataframe tbody tr th {\n",
       "        vertical-align: top;\n",
       "    }\n",
       "\n",
       "    .dataframe thead th {\n",
       "        text-align: right;\n",
       "    }\n",
       "</style>\n",
       "<table border=\"1\" class=\"dataframe\">\n",
       "  <thead>\n",
       "    <tr style=\"text-align: right;\">\n",
       "      <th></th>\n",
       "      <th>target</th>\n",
       "      <th>v1</th>\n",
       "      <th>v2</th>\n",
       "      <th>v3</th>\n",
       "      <th>v4</th>\n",
       "      <th>v5</th>\n",
       "      <th>v6</th>\n",
       "      <th>v7</th>\n",
       "      <th>v8</th>\n",
       "      <th>sample_type</th>\n",
       "    </tr>\n",
       "  </thead>\n",
       "  <tbody>\n",
       "    <tr>\n",
       "      <th>155</th>\n",
       "      <td>4.83</td>\n",
       "      <td>573.2500</td>\n",
       "      <td>361.250000</td>\n",
       "      <td>643.125000</td>\n",
       "      <td>489.812500</td>\n",
       "      <td>666.875</td>\n",
       "      <td>355.250000</td>\n",
       "      <td>712.312500</td>\n",
       "      <td>3943.687500</td>\n",
       "      <td>lab 2</td>\n",
       "    </tr>\n",
       "    <tr>\n",
       "      <th>156</th>\n",
       "      <td>4.47</td>\n",
       "      <td>678.3750</td>\n",
       "      <td>398.125000</td>\n",
       "      <td>678.250000</td>\n",
       "      <td>541.125000</td>\n",
       "      <td>704.000</td>\n",
       "      <td>393.500000</td>\n",
       "      <td>788.812500</td>\n",
       "      <td>3928.187500</td>\n",
       "      <td>lab 2</td>\n",
       "    </tr>\n",
       "    <tr>\n",
       "      <th>157</th>\n",
       "      <td>4.63</td>\n",
       "      <td>634.0000</td>\n",
       "      <td>382.866667</td>\n",
       "      <td>657.466667</td>\n",
       "      <td>505.066667</td>\n",
       "      <td>719.200</td>\n",
       "      <td>366.600000</td>\n",
       "      <td>792.133333</td>\n",
       "      <td>3861.200000</td>\n",
       "      <td>lab 2</td>\n",
       "    </tr>\n",
       "    <tr>\n",
       "      <th>158</th>\n",
       "      <td>4.35</td>\n",
       "      <td>615.3125</td>\n",
       "      <td>366.750000</td>\n",
       "      <td>642.937500</td>\n",
       "      <td>483.687500</td>\n",
       "      <td>675.625</td>\n",
       "      <td>359.062500</td>\n",
       "      <td>730.125000</td>\n",
       "      <td>3859.062500</td>\n",
       "      <td>lab 2</td>\n",
       "    </tr>\n",
       "    <tr>\n",
       "      <th>159</th>\n",
       "      <td>4.43</td>\n",
       "      <td>575.2000</td>\n",
       "      <td>350.266667</td>\n",
       "      <td>648.333333</td>\n",
       "      <td>495.400000</td>\n",
       "      <td>679.800</td>\n",
       "      <td>346.266667</td>\n",
       "      <td>718.733333</td>\n",
       "      <td>3903.333333</td>\n",
       "      <td>lab 2</td>\n",
       "    </tr>\n",
       "  </tbody>\n",
       "</table>\n",
       "</div>"
      ],
      "text/plain": [
       "     target        v1          v2          v3          v4       v5  \\\n",
       "155    4.83  573.2500  361.250000  643.125000  489.812500  666.875   \n",
       "156    4.47  678.3750  398.125000  678.250000  541.125000  704.000   \n",
       "157    4.63  634.0000  382.866667  657.466667  505.066667  719.200   \n",
       "158    4.35  615.3125  366.750000  642.937500  483.687500  675.625   \n",
       "159    4.43  575.2000  350.266667  648.333333  495.400000  679.800   \n",
       "\n",
       "             v6          v7           v8 sample_type  \n",
       "155  355.250000  712.312500  3943.687500       lab 2  \n",
       "156  393.500000  788.812500  3928.187500       lab 2  \n",
       "157  366.600000  792.133333  3861.200000       lab 2  \n",
       "158  359.062500  730.125000  3859.062500       lab 2  \n",
       "159  346.266667  718.733333  3903.333333       lab 2  "
      ]
     },
     "execution_count": 7,
     "metadata": {},
     "output_type": "execute_result"
    }
   ],
   "source": [
    "df.tail()"
   ]
  },
  {
   "attachments": {},
   "cell_type": "markdown",
   "metadata": {},
   "source": [
    "Menampilkan info apa saja yang ada di df dengan menggunakan fungsi .info"
   ]
  },
  {
   "cell_type": "code",
   "execution_count": 8,
   "metadata": {},
   "outputs": [
    {
     "name": "stdout",
     "output_type": "stream",
     "text": [
      "<class 'pandas.core.frame.DataFrame'>\n",
      "RangeIndex: 160 entries, 0 to 159\n",
      "Data columns (total 10 columns):\n",
      " #   Column       Non-Null Count  Dtype  \n",
      "---  ------       --------------  -----  \n",
      " 0   target       160 non-null    float64\n",
      " 1   v1           160 non-null    float64\n",
      " 2   v2           160 non-null    float64\n",
      " 3   v3           160 non-null    float64\n",
      " 4   v4           160 non-null    float64\n",
      " 5   v5           160 non-null    float64\n",
      " 6   v6           160 non-null    float64\n",
      " 7   v7           160 non-null    float64\n",
      " 8   v8           160 non-null    float64\n",
      " 9   sample_type  160 non-null    object \n",
      "dtypes: float64(9), object(1)\n",
      "memory usage: 12.6+ KB\n"
     ]
    }
   ],
   "source": [
    "df.info()"
   ]
  },
  {
   "attachments": {},
   "cell_type": "markdown",
   "metadata": {},
   "source": [
    "Dataset yang digunakan terdiri dari 160 baris dan 10 kolom. Terlihat tidak ditemukan missing value dari dataset. Setiap kolom akan dicek nilainya dan tipe datanya"
   ]
  },
  {
   "attachments": {},
   "cell_type": "markdown",
   "metadata": {},
   "source": [
    "Memeriksa dataset data terduplikat pada df"
   ]
  },
  {
   "cell_type": "code",
   "execution_count": 10,
   "metadata": {},
   "outputs": [
    {
     "data": {
      "text/plain": [
       "(0, 10)"
      ]
     },
     "execution_count": 10,
     "metadata": {},
     "output_type": "execute_result"
    }
   ],
   "source": [
    "\n",
    "df[df.duplicated()].shape"
   ]
  },
  {
   "attachments": {},
   "cell_type": "markdown",
   "metadata": {},
   "source": [
    "Tidak ditemukan data yang terduplikat berdasarkan fungsi duplicated"
   ]
  },
  {
   "cell_type": "code",
   "execution_count": 9,
   "metadata": {},
   "outputs": [
    {
     "data": {
      "text/plain": [
       "target         0\n",
       "v1             0\n",
       "v2             0\n",
       "v3             0\n",
       "v4             0\n",
       "v5             0\n",
       "v6             0\n",
       "v7             0\n",
       "v8             0\n",
       "sample_type    0\n",
       "dtype: int64"
      ]
     },
     "execution_count": 9,
     "metadata": {},
     "output_type": "execute_result"
    }
   ],
   "source": [
    "# Memastikan apakah terdapat missing values pada df\n",
    "df.isnull().sum()"
   ]
  },
  {
   "attachments": {},
   "cell_type": "markdown",
   "metadata": {},
   "source": [
    "Berdasarkan kode di atas tidak ditemukan missing values pada dataset"
   ]
  },
  {
   "attachments": {},
   "cell_type": "markdown",
   "metadata": {},
   "source": [
    "Langkah berikutnya adalah membuat variabel yang memisahkan kolom numerikal dan kolom kategorikal.\n",
    "\n",
    "\n",
    "|      `Jenis Kolom`      | DESKRIPSI                                                                                                       |\n",
    "| :----------------: | :---------------------------------------------------------------------------------------------------------------- |\n",
    "|    `Numerikal`    | Kolom yang berisi data berupa angka yang dapat diukur atau dihitung                                                                       |\n",
    "|      `Kategorikal`      | Kolom yang berisi data berupa data berupa string angka yang dapat tidak dapat diukur atau dihitung secara matematis                                      |"
   ]
  },
  {
   "cell_type": "code",
   "execution_count": 11,
   "metadata": {},
   "outputs": [],
   "source": [
    "numerical = ['target','v1','v2','v3','v4','v5','v6','v7','v8']\n",
    "categorical = ['sample_type']"
   ]
  },
  {
   "attachments": {},
   "cell_type": "markdown",
   "metadata": {},
   "source": [
    "Langkah selanjutnya adalah menggunakan fungsi describe untuk melakukan perhitungan statistik sederhan"
   ]
  },
  {
   "cell_type": "code",
   "execution_count": 12,
   "metadata": {},
   "outputs": [
    {
     "data": {
      "text/html": [
       "<div>\n",
       "<style scoped>\n",
       "    .dataframe tbody tr th:only-of-type {\n",
       "        vertical-align: middle;\n",
       "    }\n",
       "\n",
       "    .dataframe tbody tr th {\n",
       "        vertical-align: top;\n",
       "    }\n",
       "\n",
       "    .dataframe thead th {\n",
       "        text-align: right;\n",
       "    }\n",
       "</style>\n",
       "<table border=\"1\" class=\"dataframe\">\n",
       "  <thead>\n",
       "    <tr style=\"text-align: right;\">\n",
       "      <th></th>\n",
       "      <th>target</th>\n",
       "      <th>v1</th>\n",
       "      <th>v2</th>\n",
       "      <th>v3</th>\n",
       "      <th>v4</th>\n",
       "      <th>v5</th>\n",
       "      <th>v6</th>\n",
       "      <th>v7</th>\n",
       "      <th>v8</th>\n",
       "    </tr>\n",
       "  </thead>\n",
       "  <tbody>\n",
       "    <tr>\n",
       "      <th>count</th>\n",
       "      <td>160.00000</td>\n",
       "      <td>160.000000</td>\n",
       "      <td>160.000000</td>\n",
       "      <td>160.000000</td>\n",
       "      <td>160.000000</td>\n",
       "      <td>160.000000</td>\n",
       "      <td>160.000000</td>\n",
       "      <td>160.000000</td>\n",
       "      <td>160.000000</td>\n",
       "    </tr>\n",
       "    <tr>\n",
       "      <th>mean</th>\n",
       "      <td>4.73375</td>\n",
       "      <td>389.892437</td>\n",
       "      <td>237.442677</td>\n",
       "      <td>480.573041</td>\n",
       "      <td>394.109622</td>\n",
       "      <td>487.316520</td>\n",
       "      <td>251.450820</td>\n",
       "      <td>714.737926</td>\n",
       "      <td>4456.913233</td>\n",
       "    </tr>\n",
       "    <tr>\n",
       "      <th>std</th>\n",
       "      <td>0.21405</td>\n",
       "      <td>148.673511</td>\n",
       "      <td>70.128690</td>\n",
       "      <td>118.798984</td>\n",
       "      <td>63.060442</td>\n",
       "      <td>100.941711</td>\n",
       "      <td>59.634652</td>\n",
       "      <td>51.148098</td>\n",
       "      <td>335.035933</td>\n",
       "    </tr>\n",
       "    <tr>\n",
       "      <th>min</th>\n",
       "      <td>4.13000</td>\n",
       "      <td>227.285714</td>\n",
       "      <td>178.800000</td>\n",
       "      <td>348.933333</td>\n",
       "      <td>313.733333</td>\n",
       "      <td>373.333333</td>\n",
       "      <td>189.200000</td>\n",
       "      <td>586.266667</td>\n",
       "      <td>3725.666667</td>\n",
       "    </tr>\n",
       "    <tr>\n",
       "      <th>25%</th>\n",
       "      <td>4.60000</td>\n",
       "      <td>268.608333</td>\n",
       "      <td>194.029018</td>\n",
       "      <td>384.419643</td>\n",
       "      <td>353.181250</td>\n",
       "      <td>418.583333</td>\n",
       "      <td>213.000000</td>\n",
       "      <td>678.385417</td>\n",
       "      <td>4273.437500</td>\n",
       "    </tr>\n",
       "    <tr>\n",
       "      <th>50%</th>\n",
       "      <td>4.72000</td>\n",
       "      <td>295.162500</td>\n",
       "      <td>204.187500</td>\n",
       "      <td>414.383929</td>\n",
       "      <td>370.741667</td>\n",
       "      <td>456.031250</td>\n",
       "      <td>226.062500</td>\n",
       "      <td>718.833333</td>\n",
       "      <td>4554.766667</td>\n",
       "    </tr>\n",
       "    <tr>\n",
       "      <th>75%</th>\n",
       "      <td>4.89000</td>\n",
       "      <td>536.409375</td>\n",
       "      <td>244.716667</td>\n",
       "      <td>591.611404</td>\n",
       "      <td>424.131250</td>\n",
       "      <td>496.475000</td>\n",
       "      <td>262.531250</td>\n",
       "      <td>751.446875</td>\n",
       "      <td>4700.612500</td>\n",
       "    </tr>\n",
       "    <tr>\n",
       "      <th>max</th>\n",
       "      <td>5.26000</td>\n",
       "      <td>678.375000</td>\n",
       "      <td>422.812500</td>\n",
       "      <td>722.312500</td>\n",
       "      <td>558.500000</td>\n",
       "      <td>721.000000</td>\n",
       "      <td>415.375000</td>\n",
       "      <td>853.466667</td>\n",
       "      <td>5086.375000</td>\n",
       "    </tr>\n",
       "  </tbody>\n",
       "</table>\n",
       "</div>"
      ],
      "text/plain": [
       "          target          v1          v2          v3          v4          v5  \\\n",
       "count  160.00000  160.000000  160.000000  160.000000  160.000000  160.000000   \n",
       "mean     4.73375  389.892437  237.442677  480.573041  394.109622  487.316520   \n",
       "std      0.21405  148.673511   70.128690  118.798984   63.060442  100.941711   \n",
       "min      4.13000  227.285714  178.800000  348.933333  313.733333  373.333333   \n",
       "25%      4.60000  268.608333  194.029018  384.419643  353.181250  418.583333   \n",
       "50%      4.72000  295.162500  204.187500  414.383929  370.741667  456.031250   \n",
       "75%      4.89000  536.409375  244.716667  591.611404  424.131250  496.475000   \n",
       "max      5.26000  678.375000  422.812500  722.312500  558.500000  721.000000   \n",
       "\n",
       "               v6          v7           v8  \n",
       "count  160.000000  160.000000   160.000000  \n",
       "mean   251.450820  714.737926  4456.913233  \n",
       "std     59.634652   51.148098   335.035933  \n",
       "min    189.200000  586.266667  3725.666667  \n",
       "25%    213.000000  678.385417  4273.437500  \n",
       "50%    226.062500  718.833333  4554.766667  \n",
       "75%    262.531250  751.446875  4700.612500  \n",
       "max    415.375000  853.466667  5086.375000  "
      ]
     },
     "execution_count": 12,
     "metadata": {},
     "output_type": "execute_result"
    }
   ],
   "source": [
    "df.describe()"
   ]
  },
  {
   "attachments": {},
   "cell_type": "markdown",
   "metadata": {},
   "source": [
    "Menampilkan tampilan fungsi description untuk melihat pengolahan data statistik sederhana. Berdasarkan hasil yang telah dipaparkan di atas, diketahui tidak ada kejanggalan pada data numerik seperti data hilang(missing values) nilai 99999 dst, sehingga dapat diproses ke tahap selanjutnya."
   ]
  },
  {
   "attachments": {},
   "cell_type": "markdown",
   "metadata": {},
   "source": [
    "Langkag selanjutnya melihat isi data pada kolom kategorikal"
   ]
  },
  {
   "cell_type": "code",
   "execution_count": 13,
   "metadata": {},
   "outputs": [
    {
     "name": "stdout",
     "output_type": "stream",
     "text": [
      "sample_type\n",
      "\n",
      "lab 1    100\n",
      "lab 2     60\n",
      "Name: sample_type, dtype: int64\n",
      "----------\n"
     ]
    }
   ],
   "source": [
    "for i in categorical:\n",
    "    print(i)\n",
    "    print()\n",
    "    print(df[i].value_counts())\n",
    "    print('-' * 10)"
   ]
  },
  {
   "attachments": {},
   "cell_type": "markdown",
   "metadata": {},
   "source": [
    "Pada kolom kategorikal terdiri dari unique value type lab 1 dan lab 2 "
   ]
  },
  {
   "attachments": {},
   "cell_type": "markdown",
   "metadata": {},
   "source": [
    "Berdasarkan peninjauan di awal, diperoleh informasi sebagai berikut :\n",
    "- Tidak ditemukan data yang terduplikat\n",
    "- Tidak ditemukan missing values\n",
    "- Data terdiri dari kolom numerikal dan kolom kategorikal"
   ]
  },
  {
   "attachments": {},
   "cell_type": "markdown",
   "metadata": {},
   "source": [
    "### Data Cleaning"
   ]
  },
  {
   "cell_type": "code",
   "execution_count": 14,
   "metadata": {},
   "outputs": [],
   "source": [
    "#duplikasi data\n",
    "df_clean = df.copy()"
   ]
  },
  {
   "attachments": {},
   "cell_type": "markdown",
   "metadata": {},
   "source": [
    "df diduplikasi agar saat proses penelitian tidak mengubah dataset utama"
   ]
  },
  {
   "attachments": {},
   "cell_type": "markdown",
   "metadata": {},
   "source": [
    "## 4.Exploratory Data Analysis (EDA)\n",
    "\n",
    "Tahap ini bertujuan untuk mengekplor dataset"
   ]
  },
  {
   "cell_type": "code",
   "execution_count": 15,
   "metadata": {},
   "outputs": [
    {
     "data": {
      "image/png": "[encoded data removed]",
      "text/plain": [
       "<Figure size 432x288 with 1 Axes>"
      ]
     },
     "metadata": {
      "needs_background": "light"
     },
     "output_type": "display_data"
    }
   ],
   "source": [
    "ax = sns.countplot(x=\"sample_type\", data=df_clean, palette=\"Blues\")\n",
    "ax.set_xticklabels(ax.get_xticklabels(), rotation=45)\n",
    "\n",
    "for p in ax.patches:\n",
    "  percentage = '{:.1f}%'.format(100 * p.get_height()/len(df_clean))\n",
    "  x = p.get_x() + p.get_width()\n",
    "  y = p.get_height()\n",
    "  ax.annotate(percentage, (x, y),ha='right')"
   ]
  },
  {
   "attachments": {},
   "cell_type": "markdown",
   "metadata": {},
   "source": [
    "Berdasarkan visualisasi di atas diketahui bahwa lab 1 memiliki data yang lebih banyak dibanding dengan lab 2. Lab 1 memiliki 100 data dan lab 2 60 data."
   ]
  },
  {
   "cell_type": "code",
   "execution_count": 17,
   "metadata": {},
   "outputs": [
    {
     "data": {
      "application/vnd.plotly.v1+json": {
       "config": {
        "plotlyServerURL": "https://plot.ly"
       },
       "data": [
        {
         "alignmentgroup": "True",
         "hovertemplate": "sample_type=%{x}<br>target=%{y}<extra></extra>",
         "legendgroup": "lab 1",
         "marker": {
          "color": "#F8766D"
         },
         "name": "lab 1",
         "notched": false,
         "offsetgroup": "lab 1",
         "orientation": "v",
         "showlegend": true,
         "type": "box",
         "x": [
          "lab 1",
          "lab 1",
          "lab 1",
          "lab 1",
          "lab 1",
          "lab 1",
          "lab 1",
          "lab 1",
          "lab 1",
          "lab 1",
          "lab 1",
          "lab 1",
          "lab 1",
          "lab 1",
          "lab 1",
          "lab 1",
          "lab 1",
          "lab 1",
          "lab 1",
          "lab 1",
          "lab 1",
          "lab 1",
          "lab 1",
          "lab 1",
          "lab 1",
          "lab 1",
          "lab 1",
          "lab 1",
          "lab 1",
          "lab 1",
          "lab 1",
          "lab 1",
          "lab 1",
          "lab 1",
          "lab 1",
          "lab 1",
          "lab 1",
          "lab 1",
          "lab 1",
          "lab 1",
          "lab 1",
          "lab 1",
          "lab 1",
          "lab 1",
          "lab 1",
          "lab 1",
          "lab 1",
          "lab 1",
          "lab 1",
          "lab 1",
          "lab 1",
          "lab 1",
          "lab 1",
          "lab 1",
          "lab 1",
          "lab 1",
          "lab 1",
          "lab 1",
          "lab 1",
          "lab 1",
          "lab 1",
          "lab 1",
          "lab 1",
          "lab 1",
          "lab 1",
          "lab 1",
          "lab 1",
          "lab 1",
          "lab 1",
          "lab 1",
          "lab 1",
          "lab 1",
          "lab 1",
          "lab 1",
          "lab 1",
          "lab 1",
          "lab 1",
          "lab 1",
          "lab 1",
          "lab 1",
          "lab 1",
          "lab 1",
          "lab 1",
          "lab 1",
          "lab 1",
          "lab 1",
          "lab 1",
          "lab 1",
          "lab 1",
          "lab 1",
          "lab 1",
          "lab 1",
          "lab 1",
          "lab 1",
          "lab 1",
          "lab 1",
          "lab 1",
          "lab 1",
          "lab 1",
          "lab 1"
         ],
         "x0": " ",
         "xaxis": "x",
         "y": [
          4.63,
          5,
          4.91,
          4.77,
          4.89,
          4.88,
          4.55,
          4.74,
          4.72,
          4.72,
          4.69,
          4.79,
          4.85,
          4.66,
          4.85,
          4.46,
          5,
          4.65,
          5.26,
          4.78,
          4.67,
          5.09,
          4.86,
          5.07,
          4.44,
          4.66,
          4.94,
          4.86,
          4.91,
          5.26,
          4.92,
          4.94,
          4.57,
          4.91,
          4.7,
          4.85,
          4.65,
          4.65,
          5.02,
          4.86,
          4.62,
          4.36,
          4.84,
          4.4,
          4.83,
          4.48,
          4.5,
          4.81,
          4.62,
          4.55,
          4.57,
          4.6,
          4.68,
          4.45,
          4.82,
          4.59,
          4.37,
          5.04,
          4.57,
          4.94,
          4.53,
          4.48,
          4.79,
          4.67,
          4.38,
          4.44,
          4.48,
          4.63,
          4.68,
          4.62,
          4.71,
          4.88,
          4.56,
          4.62,
          4.89,
          4.63,
          4.87,
          4.76,
          4.76,
          4.77,
          4.45,
          4.96,
          4.64,
          4.53,
          4.6,
          4.63,
          4.66,
          4.62,
          4.67,
          4.8,
          4.62,
          4.66,
          4.64,
          4.64,
          4.6,
          4.84,
          4.71,
          4.96,
          4.89,
          4.66
         ],
         "y0": " ",
         "yaxis": "y"
        },
        {
         "alignmentgroup": "True",
         "hovertemplate": "sample_type=%{x}<br>target=%{y}<extra></extra>",
         "legendgroup": "lab 2",
         "marker": {
          "color": "#A3A500"
         },
         "name": "lab 2",
         "notched": false,
         "offsetgroup": "lab 2",
         "orientation": "v",
         "showlegend": true,
         "type": "box",
         "x": [
          "lab 2",
          "lab 2",
          "lab 2",
          "lab 2",
          "lab 2",
          "lab 2",
          "lab 2",
          "lab 2",
          "lab 2",
          "lab 2",
          "lab 2",
          "lab 2",
          "lab 2",
          "lab 2",
          "lab 2",
          "lab 2",
          "lab 2",
          "lab 2",
          "lab 2",
          "lab 2",
          "lab 2",
          "lab 2",
          "lab 2",
          "lab 2",
          "lab 2",
          "lab 2",
          "lab 2",
          "lab 2",
          "lab 2",
          "lab 2",
          "lab 2",
          "lab 2",
          "lab 2",
          "lab 2",
          "lab 2",
          "lab 2",
          "lab 2",
          "lab 2",
          "lab 2",
          "lab 2",
          "lab 2",
          "lab 2",
          "lab 2",
          "lab 2",
          "lab 2",
          "lab 2",
          "lab 2",
          "lab 2",
          "lab 2",
          "lab 2",
          "lab 2",
          "lab 2",
          "lab 2",
          "lab 2",
          "lab 2",
          "lab 2",
          "lab 2",
          "lab 2",
          "lab 2",
          "lab 2"
         ],
         "x0": " ",
         "xaxis": "x",
         "y": [
          4.79,
          4.93,
          5.03,
          4.72,
          4.77,
          5.11,
          5.09,
          4.66,
          4.89,
          4.84,
          4.95,
          5,
          5,
          4.92,
          4.74,
          4.98,
          5.05,
          4.92,
          5.11,
          5.09,
          5.02,
          4.93,
          4.9,
          4.8,
          5.01,
          5.03,
          4.84,
          5.03,
          5.08,
          4.83,
          4.89,
          4.44,
          4.57,
          4.14,
          4.55,
          4.37,
          4.2,
          4.69,
          4.48,
          4.58,
          4.52,
          4.45,
          4.84,
          4.34,
          4.65,
          4.54,
          4.97,
          4.72,
          4.73,
          4.69,
          4.8,
          4.62,
          4.73,
          4.13,
          4.79,
          4.83,
          4.47,
          4.63,
          4.35,
          4.43
         ],
         "y0": " ",
         "yaxis": "y"
        }
       ],
       "layout": {
        "boxmode": "overlay",
        "legend": {
         "title": {
          "text": "sample_type"
         },
         "tracegroupgap": 0
        },
        "template": {
         "data": {
          "bar": [
           {
            "error_x": {
             "color": "rgb(51,51,51)"
            },
            "error_y": {
             "color": "rgb(51,51,51)"
            },
            "marker": {
             "line": {
              "color": "rgb(237,237,237)",
              "width": 0.5
             },
             "pattern": {
              "fillmode": "overlay",
              "size": 10,
              "solidity": 0.2
             }
            },
            "type": "bar"
           }
          ],
          "barpolar": [
           {
            "marker": {
             "line": {
              "color": "rgb(237,237,237)",
              "width": 0.5
             },
             "pattern": {
              "fillmode": "overlay",
              "size": 10,
              "solidity": 0.2
             }
            },
            "type": "barpolar"
           }
          ],
          "carpet": [
           {
            "aaxis": {
             "endlinecolor": "rgb(51,51,51)",
             "gridcolor": "white",
             "linecolor": "white",
             "minorgridcolor": "white",
             "startlinecolor": "rgb(51,51,51)"
            },
            "baxis": {
             "endlinecolor": "rgb(51,51,51)",
             "gridcolor": "white",
             "linecolor": "white",
             "minorgridcolor": "white",
             "startlinecolor": "rgb(51,51,51)"
            },
            "type": "carpet"
           }
          ],
          "choropleth": [
           {
            "colorbar": {
             "outlinewidth": 0,
             "tickcolor": "rgb(237,237,237)",
             "ticklen": 6,
             "ticks": "inside"
            },
            "type": "choropleth"
           }
          ],
          "contour": [
           {
            "colorbar": {
             "outlinewidth": 0,
             "tickcolor": "rgb(237,237,237)",
             "ticklen": 6,
             "ticks": "inside"
            },
            "colorscale": [
             [
              0,
              "rgb(20,44,66)"
             ],
             [
              1,
              "rgb(90,179,244)"
             ]
            ],
            "type": "contour"
           }
          ],
          "contourcarpet": [
           {
            "colorbar": {
             "outlinewidth": 0,
             "tickcolor": "rgb(237,237,237)",
             "ticklen": 6,
             "ticks": "inside"
            },
            "type": "contourcarpet"
           }
          ],
          "heatmap": [
           {
            "colorbar": {
             "outlinewidth": 0,
             "tickcolor": "rgb(237,237,237)",
             "ticklen": 6,
             "ticks": "inside"
            },
            "colorscale": [
             [
              0,
              "rgb(20,44,66)"
             ],
             [
              1,
              "rgb(90,179,244)"
             ]
            ],
            "type": "heatmap"
           }
          ],
          "heatmapgl": [
           {
            "colorbar": {
             "outlinewidth": 0,
             "tickcolor": "rgb(237,237,237)",
             "ticklen": 6,
             "ticks": "inside"
            },
            "colorscale": [
             [
              0,
              "rgb(20,44,66)"
             ],
             [
              1,
              "rgb(90,179,244)"
             ]
            ],
            "type": "heatmapgl"
           }
          ],
          "histogram": [
           {
            "marker": {
             "pattern": {
              "fillmode": "overlay",
              "size": 10,
              "solidity": 0.2
             }
            },
            "type": "histogram"
           }
          ],
          "histogram2d": [
           {
            "colorbar": {
             "outlinewidth": 0,
             "tickcolor": "rgb(237,237,237)",
             "ticklen": 6,
             "ticks": "inside"
            },
            "colorscale": [
             [
              0,
              "rgb(20,44,66)"
             ],
             [
              1,
              "rgb(90,179,244)"
             ]
            ],
            "type": "histogram2d"
           }
          ],
          "histogram2dcontour": [
           {
            "colorbar": {
             "outlinewidth": 0,
             "tickcolor": "rgb(237,237,237)",
             "ticklen": 6,
             "ticks": "inside"
            },
            "colorscale": [
             [
              0,
              "rgb(20,44,66)"
             ],
             [
              1,
              "rgb(90,179,244)"
             ]
            ],
            "type": "histogram2dcontour"
           }
          ],
          "mesh3d": [
           {
            "colorbar": {
             "outlinewidth": 0,
             "tickcolor": "rgb(237,237,237)",
             "ticklen": 6,
             "ticks": "inside"
            },
            "type": "mesh3d"
           }
          ],
          "parcoords": [
           {
            "line": {
             "colorbar": {
              "outlinewidth": 0,
              "tickcolor": "rgb(237,237,237)",
              "ticklen": 6,
              "ticks": "inside"
             }
            },
            "type": "parcoords"
           }
          ],
          "pie": [
           {
            "automargin": true,
            "type": "pie"
           }
          ],
          "scatter": [
           {
            "marker": {
             "colorbar": {
              "outlinewidth": 0,
              "tickcolor": "rgb(237,237,237)",
              "ticklen": 6,
              "ticks": "inside"
             }
            },
            "type": "scatter"
           }
          ],
          "scatter3d": [
           {
            "line": {
             "colorbar": {
              "outlinewidth": 0,
              "tickcolor": "rgb(237,237,237)",
              "ticklen": 6,
              "ticks": "inside"
             }
            },
            "marker": {
             "colorbar": {
              "outlinewidth": 0,
              "tickcolor": "rgb(237,237,237)",
              "ticklen": 6,
              "ticks": "inside"
             }
            },
            "type": "scatter3d"
           }
          ],
          "scattercarpet": [
           {
            "marker": {
             "colorbar": {
              "outlinewidth": 0,
              "tickcolor": "rgb(237,237,237)",
              "ticklen": 6,
              "ticks": "inside"
             }
            },
            "type": "scattercarpet"
           }
          ],
          "scattergeo": [
           {
            "marker": {
             "colorbar": {
              "outlinewidth": 0,
              "tickcolor": "rgb(237,237,237)",
              "ticklen": 6,
              "ticks": "inside"
             }
            },
            "type": "scattergeo"
           }
          ],
          "scattergl": [
           {
            "marker": {
             "colorbar": {
              "outlinewidth": 0,
              "tickcolor": "rgb(237,237,237)",
              "ticklen": 6,
              "ticks": "inside"
             }
            },
            "type": "scattergl"
           }
          ],
          "scattermapbox": [
           {
            "marker": {
             "colorbar": {
              "outlinewidth": 0,
              "tickcolor": "rgb(237,237,237)",
              "ticklen": 6,
              "ticks": "inside"
             }
            },
            "type": "scattermapbox"
           }
          ],
          "scatterpolar": [
           {
            "marker": {
             "colorbar": {
              "outlinewidth": 0,
              "tickcolor": "rgb(237,237,237)",
              "ticklen": 6,
              "ticks": "inside"
             }
            },
            "type": "scatterpolar"
           }
          ],
          "scatterpolargl": [
           {
            "marker": {
             "colorbar": {
              "outlinewidth": 0,
              "tickcolor": "rgb(237,237,237)",
              "ticklen": 6,
              "ticks": "inside"
             }
            },
            "type": "scatterpolargl"
           }
          ],
          "scatterternary": [
           {
            "marker": {
             "colorbar": {
              "outlinewidth": 0,
              "tickcolor": "rgb(237,237,237)",
              "ticklen": 6,
              "ticks": "inside"
             }
            },
            "type": "scatterternary"
           }
          ],
          "surface": [
           {
            "colorbar": {
             "outlinewidth": 0,
             "tickcolor": "rgb(237,237,237)",
             "ticklen": 6,
             "ticks": "inside"
            },
            "colorscale": [
             [
              0,
              "rgb(20,44,66)"
             ],
             [
              1,
              "rgb(90,179,244)"
             ]
            ],
            "type": "surface"
           }
          ],
          "table": [
           {
            "cells": {
             "fill": {
              "color": "rgb(237,237,237)"
             },
             "line": {
              "color": "white"
             }
            },
            "header": {
             "fill": {
              "color": "rgb(217,217,217)"
             },
             "line": {
              "color": "white"
             }
            },
            "type": "table"
           }
          ]
         },
         "layout": {
          "annotationdefaults": {
           "arrowhead": 0,
           "arrowwidth": 1
          },
          "autotypenumbers": "strict",
          "coloraxis": {
           "colorbar": {
            "outlinewidth": 0,
            "tickcolor": "rgb(237,237,237)",
            "ticklen": 6,
            "ticks": "inside"
           }
          },
          "colorscale": {
           "sequential": [
            [
             0,
             "rgb(20,44,66)"
            ],
            [
             1,
             "rgb(90,179,244)"
            ]
           ],
           "sequentialminus": [
            [
             0,
             "rgb(20,44,66)"
            ],
            [
             1,
             "rgb(90,179,244)"
            ]
           ]
          },
          "colorway": [
           "#F8766D",
           "#A3A500",
           "#00BF7D",
           "#00B0F6",
           "#E76BF3"
          ],
          "font": {
           "color": "rgb(51,51,51)"
          },
          "geo": {
           "bgcolor": "white",
           "lakecolor": "white",
           "landcolor": "rgb(237,237,237)",
           "showlakes": true,
           "showland": true,
           "subunitcolor": "white"
          },
          "hoverlabel": {
           "align": "left"
          },
          "hovermode": "closest",
          "paper_bgcolor": "white",
          "plot_bgcolor": "rgb(237,237,237)",
          "polar": {
           "angularaxis": {
            "gridcolor": "white",
            "linecolor": "white",
            "showgrid": true,
            "tickcolor": "rgb(51,51,51)",
            "ticks": "outside"
           },
           "bgcolor": "rgb(237,237,237)",
           "radialaxis": {
            "gridcolor": "white",
            "linecolor": "white",
            "showgrid": true,
            "tickcolor": "rgb(51,51,51)",
            "ticks": "outside"
           }
          },
          "scene": {
           "xaxis": {
            "backgroundcolor": "rgb(237,237,237)",
            "gridcolor": "white",
            "gridwidth": 2,
            "linecolor": "white",
            "showbackground": true,
            "showgrid": true,
            "tickcolor": "rgb(51,51,51)",
            "ticks": "outside",
            "zerolinecolor": "white"
           },
           "yaxis": {
            "backgroundcolor": "rgb(237,237,237)",
            "gridcolor": "white",
            "gridwidth": 2,
            "linecolor": "white",
            "showbackground": true,
            "showgrid": true,
            "tickcolor": "rgb(51,51,51)",
            "ticks": "outside",
            "zerolinecolor": "white"
           },
           "zaxis": {
            "backgroundcolor": "rgb(237,237,237)",
            "gridcolor": "white",
            "gridwidth": 2,
            "linecolor": "white",
            "showbackground": true,
            "showgrid": true,
            "tickcolor": "rgb(51,51,51)",
            "ticks": "outside",
            "zerolinecolor": "white"
           }
          },
          "shapedefaults": {
           "fillcolor": "black",
           "line": {
            "width": 0
           },
           "opacity": 0.3
          },
          "ternary": {
           "aaxis": {
            "gridcolor": "white",
            "linecolor": "white",
            "showgrid": true,
            "tickcolor": "rgb(51,51,51)",
            "ticks": "outside"
           },
           "baxis": {
            "gridcolor": "white",
            "linecolor": "white",
            "showgrid": true,
            "tickcolor": "rgb(51,51,51)",
            "ticks": "outside"
           },
           "bgcolor": "rgb(237,237,237)",
           "caxis": {
            "gridcolor": "white",
            "linecolor": "white",
            "showgrid": true,
            "tickcolor": "rgb(51,51,51)",
            "ticks": "outside"
           }
          },
          "xaxis": {
           "automargin": true,
           "gridcolor": "white",
           "linecolor": "white",
           "showgrid": true,
           "tickcolor": "rgb(51,51,51)",
           "ticks": "outside",
           "title": {
            "standoff": 15
           },
           "zerolinecolor": "white"
          },
          "yaxis": {
           "automargin": true,
           "gridcolor": "white",
           "linecolor": "white",
           "showgrid": true,
           "tickcolor": "rgb(51,51,51)",
           "ticks": "outside",
           "title": {
            "standoff": 15
           },
           "zerolinecolor": "white"
          }
         }
        },
        "title": {
         "text": "<b>target on sample_type"
        },
        "xaxis": {
         "anchor": "y",
         "categoryarray": [
          "lab 1",
          "lab 2"
         ],
         "categoryorder": "array",
         "domain": [
          0,
          1
         ],
         "title": {
          "text": "sample_type"
         }
        },
        "yaxis": {
         "anchor": "x",
         "domain": [
          0,
          1
         ],
         "title": {
          "text": "target"
         }
        }
       }
      }
     },
     "metadata": {},
     "output_type": "display_data"
    }
   ],
   "source": [
    "px.box(df,x='sample_type',y='target',\n",
    "       color='sample_type',template='ggplot2',\n",
    "       labels={'sample_type':'sample_type',\n",
    "               'target':'target'},\n",
    "       title=\"<b>target on sample_type\")"
   ]
  },
  {
   "attachments": {},
   "cell_type": "markdown",
   "metadata": {},
   "source": [
    "Berdasarkan visualisasi di atas, diketahui bahwa sample di lab 1 memiliki nilai `target` paling rendah `4.36` dan paling tinggi `5.26`. Sample di lab 2 memiliki nilai `target` paling rendah `4.13` dan paling tinggi `5.11`.\n",
    "Jika dibandingkan maka nilai `target` paling rendah berada di `sample_type lab 2` dan nilai `target` tertinggi berada di `sample type lab 1` ."
   ]
  },
  {
   "cell_type": "code",
   "execution_count": 18,
   "metadata": {},
   "outputs": [
    {
     "data": {
      "application/vnd.plotly.v1+json": {
       "config": {
        "plotlyServerURL": "https://plot.ly"
       },
       "data": [
        {
         "alignmentgroup": "True",
         "hovertemplate": "sample_type=%{x}<br>v1=%{y}<extra></extra>",
         "legendgroup": "lab 1",
         "marker": {
          "color": "#F8766D"
         },
         "name": "lab 1",
         "notched": false,
         "offsetgroup": "lab 1",
         "orientation": "v",
         "showlegend": true,
         "type": "box",
         "x": [
          "lab 1",
          "lab 1",
          "lab 1",
          "lab 1",
          "lab 1",
          "lab 1",
          "lab 1",
          "lab 1",
          "lab 1",
          "lab 1",
          "lab 1",
          "lab 1",
          "lab 1",
          "lab 1",
          "lab 1",
          "lab 1",
          "lab 1",
          "lab 1",
          "lab 1",
          "lab 1",
          "lab 1",
          "lab 1",
          "lab 1",
          "lab 1",
          "lab 1",
          "lab 1",
          "lab 1",
          "lab 1",
          "lab 1",
          "lab 1",
          "lab 1",
          "lab 1",
          "lab 1",
          "lab 1",
          "lab 1",
          "lab 1",
          "lab 1",
          "lab 1",
          "lab 1",
          "lab 1",
          "lab 1",
          "lab 1",
          "lab 1",
          "lab 1",
          "lab 1",
          "lab 1",
          "lab 1",
          "lab 1",
          "lab 1",
          "lab 1",
          "lab 1",
          "lab 1",
          "lab 1",
          "lab 1",
          "lab 1",
          "lab 1",
          "lab 1",
          "lab 1",
          "lab 1",
          "lab 1",
          "lab 1",
          "lab 1",
          "lab 1",
          "lab 1",
          "lab 1",
          "lab 1",
          "lab 1",
          "lab 1",
          "lab 1",
          "lab 1",
          "lab 1",
          "lab 1",
          "lab 1",
          "lab 1",
          "lab 1",
          "lab 1",
          "lab 1",
          "lab 1",
          "lab 1",
          "lab 1",
          "lab 1",
          "lab 1",
          "lab 1",
          "lab 1",
          "lab 1",
          "lab 1",
          "lab 1",
          "lab 1",
          "lab 1",
          "lab 1",
          "lab 1",
          "lab 1",
          "lab 1",
          "lab 1",
          "lab 1",
          "lab 1",
          "lab 1",
          "lab 1",
          "lab 1",
          "lab 1"
         ],
         "x0": " ",
         "xaxis": "x",
         "y": [
          260.6,
          263.2,
          247.2666667,
          257.9444444,
          258.2,
          268.7222222,
          255.8666667,
          248.9333333,
          269,
          268.2666667,
          266.8571429,
          227.2857143,
          245,
          280.8666667,
          267.8125,
          256.875,
          266.75,
          237.6,
          266.5333333,
          279.6,
          279.8666667,
          248.9375,
          273.3333333,
          260.6875,
          243.2,
          251.8125,
          270,
          280.8125,
          264.2,
          250.875,
          260.5625,
          286.4666667,
          272.0666667,
          286,
          281.6666667,
          265,
          264.9333333,
          279.8,
          281.0666667,
          282.7333333,
          269.9375,
          266.25,
          276.9375,
          277.1333333,
          269.9333333,
          261.9333333,
          270,
          301.2857143,
          259.2,
          280.5625,
          264,
          264.3125,
          278.6666667,
          268.2666667,
          302.6,
          272.3333333,
          265.875,
          276.125,
          279.125,
          253.1875,
          288.4666667,
          284.4,
          261.5555556,
          256,
          273.8125,
          274.6875,
          298.4375,
          261.8666667,
          298.125,
          276.6,
          267,
          286.6875,
          277.3571429,
          290.2,
          266.375,
          250.1875,
          285.1428571,
          297.125,
          256.6875,
          273.625,
          290.7333333,
          271.6875,
          293.2,
          274.5333333,
          284.875,
          332.5,
          333.7142857,
          360.6666667,
          332.6875,
          327.8125,
          335.4,
          332.4375,
          331.3125,
          342.875,
          305.25,
          331.4666667,
          341.5,
          326.1333333,
          316.6875,
          326.4
         ],
         "y0": " ",
         "yaxis": "y"
        },
        {
         "alignmentgroup": "True",
         "hovertemplate": "sample_type=%{x}<br>v1=%{y}<extra></extra>",
         "legendgroup": "lab 2",
         "marker": {
          "color": "#A3A500"
         },
         "name": "lab 2",
         "notched": false,
         "offsetgroup": "lab 2",
         "orientation": "v",
         "showlegend": true,
         "type": "box",
         "x": [
          "lab 2",
          "lab 2",
          "lab 2",
          "lab 2",
          "lab 2",
          "lab 2",
          "lab 2",
          "lab 2",
          "lab 2",
          "lab 2",
          "lab 2",
          "lab 2",
          "lab 2",
          "lab 2",
          "lab 2",
          "lab 2",
          "lab 2",
          "lab 2",
          "lab 2",
          "lab 2",
          "lab 2",
          "lab 2",
          "lab 2",
          "lab 2",
          "lab 2",
          "lab 2",
          "lab 2",
          "lab 2",
          "lab 2",
          "lab 2",
          "lab 2",
          "lab 2",
          "lab 2",
          "lab 2",
          "lab 2",
          "lab 2",
          "lab 2",
          "lab 2",
          "lab 2",
          "lab 2",
          "lab 2",
          "lab 2",
          "lab 2",
          "lab 2",
          "lab 2",
          "lab 2",
          "lab 2",
          "lab 2",
          "lab 2",
          "lab 2",
          "lab 2",
          "lab 2",
          "lab 2",
          "lab 2",
          "lab 2",
          "lab 2",
          "lab 2",
          "lab 2",
          "lab 2",
          "lab 2"
         ],
         "x0": " ",
         "xaxis": "x",
         "y": [
          526.4666667,
          504.3571429,
          529.4375,
          541.875,
          537.5333333,
          499.9333333,
          538.3333333,
          514.125,
          495.3333333,
          525.3333333,
          482.5625,
          521.1875,
          505.8666667,
          515.8666667,
          536.4375,
          552.875,
          501.5789474,
          515.6875,
          557.2666667,
          504.1333333,
          506.125,
          499.4666667,
          534.3333333,
          536.4,
          551.6315789,
          542.5625,
          513.8125,
          517.75,
          545.75,
          539.6666667,
          663.375,
          658.4375,
          593.8125,
          620.875,
          602,
          605.2,
          619.6666667,
          651.5333333,
          676.0666667,
          672.5,
          641,
          614.1875,
          601.3125,
          616.9333333,
          652.6666667,
          635.5625,
          640.3571429,
          670.1333333,
          635.9333333,
          597.7333333,
          583.875,
          570.5625,
          567.5625,
          646.4,
          624.2,
          573.25,
          678.375,
          634,
          615.3125,
          575.2
         ],
         "y0": " ",
         "yaxis": "y"
        }
       ],
       "layout": {
        "boxmode": "overlay",
        "legend": {
         "title": {
          "text": "sample_type"
         },
         "tracegroupgap": 0
        },
        "template": {
         "data": {
          "bar": [
           {
            "error_x": {
             "color": "rgb(51,51,51)"
            },
            "error_y": {
             "color": "rgb(51,51,51)"
            },
            "marker": {
             "line": {
              "color": "rgb(237,237,237)",
              "width": 0.5
             },
             "pattern": {
              "fillmode": "overlay",
              "size": 10,
              "solidity": 0.2
             }
            },
            "type": "bar"
           }
          ],
          "barpolar": [
           {
            "marker": {
             "line": {
              "color": "rgb(237,237,237)",
              "width": 0.5
             },
             "pattern": {
              "fillmode": "overlay",
              "size": 10,
              "solidity": 0.2
             }
            },
            "type": "barpolar"
           }
          ],
          "carpet": [
           {
            "aaxis": {
             "endlinecolor": "rgb(51,51,51)",
             "gridcolor": "white",
             "linecolor": "white",
             "minorgridcolor": "white",
             "startlinecolor": "rgb(51,51,51)"
            },
            "baxis": {
             "endlinecolor": "rgb(51,51,51)",
             "gridcolor": "white",
             "linecolor": "white",
             "minorgridcolor": "white",
             "startlinecolor": "rgb(51,51,51)"
            },
            "type": "carpet"
           }
          ],
          "choropleth": [
           {
            "colorbar": {
             "outlinewidth": 0,
             "tickcolor": "rgb(237,237,237)",
             "ticklen": 6,
             "ticks": "inside"
            },
            "type": "choropleth"
           }
          ],
          "contour": [
           {
            "colorbar": {
             "outlinewidth": 0,
             "tickcolor": "rgb(237,237,237)",
             "ticklen": 6,
             "ticks": "inside"
            },
            "colorscale": [
             [
              0,
              "rgb(20,44,66)"
             ],
             [
              1,
              "rgb(90,179,244)"
             ]
            ],
            "type": "contour"
           }
          ],
          "contourcarpet": [
           {
            "colorbar": {
             "outlinewidth": 0,
             "tickcolor": "rgb(237,237,237)",
             "ticklen": 6,
             "ticks": "inside"
            },
            "type": "contourcarpet"
           }
          ],
          "heatmap": [
           {
            "colorbar": {
             "outlinewidth": 0,
             "tickcolor": "rgb(237,237,237)",
             "ticklen": 6,
             "ticks": "inside"
            },
            "colorscale": [
             [
              0,
              "rgb(20,44,66)"
             ],
             [
              1,
              "rgb(90,179,244)"
             ]
            ],
            "type": "heatmap"
           }
          ],
          "heatmapgl": [
           {
            "colorbar": {
             "outlinewidth": 0,
             "tickcolor": "rgb(237,237,237)",
             "ticklen": 6,
             "ticks": "inside"
            },
            "colorscale": [
             [
              0,
              "rgb(20,44,66)"
             ],
             [
              1,
              "rgb(90,179,244)"
             ]
            ],
            "type": "heatmapgl"
           }
          ],
          "histogram": [
           {
            "marker": {
             "pattern": {
              "fillmode": "overlay",
              "size": 10,
              "solidity": 0.2
             }
            },
            "type": "histogram"
           }
          ],
          "histogram2d": [
           {
            "colorbar": {
             "outlinewidth": 0,
             "tickcolor": "rgb(237,237,237)",
             "ticklen": 6,
             "ticks": "inside"
            },
            "colorscale": [
             [
              0,
              "rgb(20,44,66)"
             ],
             [
              1,
              "rgb(90,179,244)"
             ]
            ],
            "type": "histogram2d"
           }
          ],
          "histogram2dcontour": [
           {
            "colorbar": {
             "outlinewidth": 0,
             "tickcolor": "rgb(237,237,237)",
             "ticklen": 6,
             "ticks": "inside"
            },
            "colorscale": [
             [
              0,
              "rgb(20,44,66)"
             ],
             [
              1,
              "rgb(90,179,244)"
             ]
            ],
            "type": "histogram2dcontour"
           }
          ],
          "mesh3d": [
           {
            "colorbar": {
             "outlinewidth": 0,
             "tickcolor": "rgb(237,237,237)",
             "ticklen": 6,
             "ticks": "inside"
            },
            "type": "mesh3d"
           }
          ],
          "parcoords": [
           {
            "line": {
             "colorbar": {
              "outlinewidth": 0,
              "tickcolor": "rgb(237,237,237)",
              "ticklen": 6,
              "ticks": "inside"
             }
            },
            "type": "parcoords"
           }
          ],
          "pie": [
           {
            "automargin": true,
            "type": "pie"
           }
          ],
          "scatter": [
           {
            "marker": {
             "colorbar": {
              "outlinewidth": 0,
              "tickcolor": "rgb(237,237,237)",
              "ticklen": 6,
              "ticks": "inside"
             }
            },
            "type": "scatter"
           }
          ],
          "scatter3d": [
           {
            "line": {
             "colorbar": {
              "outlinewidth": 0,
              "tickcolor": "rgb(237,237,237)",
              "ticklen": 6,
              "ticks": "inside"
             }
            },
            "marker": {
             "colorbar": {
              "outlinewidth": 0,
              "tickcolor": "rgb(237,237,237)",
              "ticklen": 6,
              "ticks": "inside"
             }
            },
            "type": "scatter3d"
           }
          ],
          "scattercarpet": [
           {
            "marker": {
             "colorbar": {
              "outlinewidth": 0,
              "tickcolor": "rgb(237,237,237)",
              "ticklen": 6,
              "ticks": "inside"
             }
            },
            "type": "scattercarpet"
           }
          ],
          "scattergeo": [
           {
            "marker": {
             "colorbar": {
              "outlinewidth": 0,
              "tickcolor": "rgb(237,237,237)",
              "ticklen": 6,
              "ticks": "inside"
             }
            },
            "type": "scattergeo"
           }
          ],
          "scattergl": [
           {
            "marker": {
             "colorbar": {
              "outlinewidth": 0,
              "tickcolor": "rgb(237,237,237)",
              "ticklen": 6,
              "ticks": "inside"
             }
            },
            "type": "scattergl"
           }
          ],
          "scattermapbox": [
           {
            "marker": {
             "colorbar": {
              "outlinewidth": 0,
              "tickcolor": "rgb(237,237,237)",
              "ticklen": 6,
              "ticks": "inside"
             }
            },
            "type": "scattermapbox"
           }
          ],
          "scatterpolar": [
           {
            "marker": {
             "colorbar": {
              "outlinewidth": 0,
              "tickcolor": "rgb(237,237,237)",
              "ticklen": 6,
              "ticks": "inside"
             }
            },
            "type": "scatterpolar"
           }
          ],
          "scatterpolargl": [
           {
            "marker": {
             "colorbar": {
              "outlinewidth": 0,
              "tickcolor": "rgb(237,237,237)",
              "ticklen": 6,
              "ticks": "inside"
             }
            },
            "type": "scatterpolargl"
           }
          ],
          "scatterternary": [
           {
            "marker": {
             "colorbar": {
              "outlinewidth": 0,
              "tickcolor": "rgb(237,237,237)",
              "ticklen": 6,
              "ticks": "inside"
             }
            },
            "type": "scatterternary"
           }
          ],
          "surface": [
           {
            "colorbar": {
             "outlinewidth": 0,
             "tickcolor": "rgb(237,237,237)",
             "ticklen": 6,
             "ticks": "inside"
            },
            "colorscale": [
             [
              0,
              "rgb(20,44,66)"
             ],
             [
              1,
              "rgb(90,179,244)"
             ]
            ],
            "type": "surface"
           }
          ],
          "table": [
           {
            "cells": {
             "fill": {
              "color": "rgb(237,237,237)"
             },
             "line": {
              "color": "white"
             }
            },
            "header": {
             "fill": {
              "color": "rgb(217,217,217)"
             },
             "line": {
              "color": "white"
             }
            },
            "type": "table"
           }
          ]
         },
         "layout": {
          "annotationdefaults": {
           "arrowhead": 0,
           "arrowwidth": 1
          },
          "autotypenumbers": "strict",
          "coloraxis": {
           "colorbar": {
            "outlinewidth": 0,
            "tickcolor": "rgb(237,237,237)",
            "ticklen": 6,
            "ticks": "inside"
           }
          },
          "colorscale": {
           "sequential": [
            [
             0,
             "rgb(20,44,66)"
            ],
            [
             1,
             "rgb(90,179,244)"
            ]
           ],
           "sequentialminus": [
            [
             0,
             "rgb(20,44,66)"
            ],
            [
             1,
             "rgb(90,179,244)"
            ]
           ]
          },
          "colorway": [
           "#F8766D",
           "#A3A500",
           "#00BF7D",
           "#00B0F6",
           "#E76BF3"
          ],
          "font": {
           "color": "rgb(51,51,51)"
          },
          "geo": {
           "bgcolor": "white",
           "lakecolor": "white",
           "landcolor": "rgb(237,237,237)",
           "showlakes": true,
           "showland": true,
           "subunitcolor": "white"
          },
          "hoverlabel": {
           "align": "left"
          },
          "hovermode": "closest",
          "paper_bgcolor": "white",
          "plot_bgcolor": "rgb(237,237,237)",
          "polar": {
           "angularaxis": {
            "gridcolor": "white",
            "linecolor": "white",
            "showgrid": true,
            "tickcolor": "rgb(51,51,51)",
            "ticks": "outside"
           },
           "bgcolor": "rgb(237,237,237)",
           "radialaxis": {
            "gridcolor": "white",
            "linecolor": "white",
            "showgrid": true,
            "tickcolor": "rgb(51,51,51)",
            "ticks": "outside"
           }
          },
          "scene": {
           "xaxis": {
            "backgroundcolor": "rgb(237,237,237)",
            "gridcolor": "white",
            "gridwidth": 2,
            "linecolor": "white",
            "showbackground": true,
            "showgrid": true,
            "tickcolor": "rgb(51,51,51)",
            "ticks": "outside",
            "zerolinecolor": "white"
           },
           "yaxis": {
            "backgroundcolor": "rgb(237,237,237)",
            "gridcolor": "white",
            "gridwidth": 2,
            "linecolor": "white",
            "showbackground": true,
            "showgrid": true,
            "tickcolor": "rgb(51,51,51)",
            "ticks": "outside",
            "zerolinecolor": "white"
           },
           "zaxis": {
            "backgroundcolor": "rgb(237,237,237)",
            "gridcolor": "white",
            "gridwidth": 2,
            "linecolor": "white",
            "showbackground": true,
            "showgrid": true,
            "tickcolor": "rgb(51,51,51)",
            "ticks": "outside",
            "zerolinecolor": "white"
           }
          },
          "shapedefaults": {
           "fillcolor": "black",
           "line": {
            "width": 0
           },
           "opacity": 0.3
          },
          "ternary": {
           "aaxis": {
            "gridcolor": "white",
            "linecolor": "white",
            "showgrid": true,
            "tickcolor": "rgb(51,51,51)",
            "ticks": "outside"
           },
           "baxis": {
            "gridcolor": "white",
            "linecolor": "white",
            "showgrid": true,
            "tickcolor": "rgb(51,51,51)",
            "ticks": "outside"
           },
           "bgcolor": "rgb(237,237,237)",
           "caxis": {
            "gridcolor": "white",
            "linecolor": "white",
            "showgrid": true,
            "tickcolor": "rgb(51,51,51)",
            "ticks": "outside"
           }
          },
          "xaxis": {
           "automargin": true,
           "gridcolor": "white",
           "linecolor": "white",
           "showgrid": true,
           "tickcolor": "rgb(51,51,51)",
           "ticks": "outside",
           "title": {
            "standoff": 15
           },
           "zerolinecolor": "white"
          },
          "yaxis": {
           "automargin": true,
           "gridcolor": "white",
           "linecolor": "white",
           "showgrid": true,
           "tickcolor": "rgb(51,51,51)",
           "ticks": "outside",
           "title": {
            "standoff": 15
           },
           "zerolinecolor": "white"
          }
         }
        },
        "title": {
         "text": "<b>v1 on sample_type"
        },
        "xaxis": {
         "anchor": "y",
         "categoryarray": [
          "lab 1",
          "lab 2"
         ],
         "categoryorder": "array",
         "domain": [
          0,
          1
         ],
         "title": {
          "text": "sample_type"
         }
        },
        "yaxis": {
         "anchor": "x",
         "domain": [
          0,
          1
         ],
         "title": {
          "text": "v1"
         }
        }
       }
      }
     },
     "metadata": {},
     "output_type": "display_data"
    }
   ],
   "source": [
    "px.box(df, x='sample_type', y='v1',\n",
    "       color='sample_type', template='ggplot2',\n",
    "       labels={'sample_type': 'sample_type',\n",
    "               'v1': 'v1'},\n",
    "       title=\"<b>v1 on sample_type\")"
   ]
  },
  {
   "attachments": {},
   "cell_type": "markdown",
   "metadata": {},
   "source": [
    "Berdasarkan visualisasi di atas, diketahui bahwa sample di lab 1 memiliki nilai `v1` paling rendah `227.2857` dan paling tinggi `360.667`. Sample di lab 2 memiliki nilai `v1` paling rendah `482.562` dan paling tinggi `678.375`.\n",
    "\n",
    "Jika dibandingkan maka nilai `v1` paling rendah berada di `sample_type lab 1`  dan nilai `v1` tertinggi berada di `sample type lab 2`."
   ]
  },
  {
   "cell_type": "code",
   "execution_count": 19,
   "metadata": {},
   "outputs": [
    {
     "data": {
      "application/vnd.plotly.v1+json": {
       "config": {
        "plotlyServerURL": "https://plot.ly"
       },
       "data": [
        {
         "alignmentgroup": "True",
         "hovertemplate": "sample_type=%{x}<br>v2=%{y}<extra></extra>",
         "legendgroup": "lab 1",
         "marker": {
          "color": "#F8766D"
         },
         "name": "lab 1",
         "notched": false,
         "offsetgroup": "lab 1",
         "orientation": "v",
         "showlegend": true,
         "type": "box",
         "x": [
          "lab 1",
          "lab 1",
          "lab 1",
          "lab 1",
          "lab 1",
          "lab 1",
          "lab 1",
          "lab 1",
          "lab 1",
          "lab 1",
          "lab 1",
          "lab 1",
          "lab 1",
          "lab 1",
          "lab 1",
          "lab 1",
          "lab 1",
          "lab 1",
          "lab 1",
          "lab 1",
          "lab 1",
          "lab 1",
          "lab 1",
          "lab 1",
          "lab 1",
          "lab 1",
          "lab 1",
          "lab 1",
          "lab 1",
          "lab 1",
          "lab 1",
          "lab 1",
          "lab 1",
          "lab 1",
          "lab 1",
          "lab 1",
          "lab 1",
          "lab 1",
          "lab 1",
          "lab 1",
          "lab 1",
          "lab 1",
          "lab 1",
          "lab 1",
          "lab 1",
          "lab 1",
          "lab 1",
          "lab 1",
          "lab 1",
          "lab 1",
          "lab 1",
          "lab 1",
          "lab 1",
          "lab 1",
          "lab 1",
          "lab 1",
          "lab 1",
          "lab 1",
          "lab 1",
          "lab 1",
          "lab 1",
          "lab 1",
          "lab 1",
          "lab 1",
          "lab 1",
          "lab 1",
          "lab 1",
          "lab 1",
          "lab 1",
          "lab 1",
          "lab 1",
          "lab 1",
          "lab 1",
          "lab 1",
          "lab 1",
          "lab 1",
          "lab 1",
          "lab 1",
          "lab 1",
          "lab 1",
          "lab 1",
          "lab 1",
          "lab 1",
          "lab 1",
          "lab 1",
          "lab 1",
          "lab 1",
          "lab 1",
          "lab 1",
          "lab 1",
          "lab 1",
          "lab 1",
          "lab 1",
          "lab 1",
          "lab 1",
          "lab 1",
          "lab 1",
          "lab 1",
          "lab 1",
          "lab 1"
         ],
         "x0": " ",
         "xaxis": "x",
         "y": [
          199,
          194.6,
          205.8,
          191.8333333,
          195.7333333,
          193,
          182.1333333,
          203.9333333,
          191.4666667,
          178.8,
          189.1428571,
          185.7857143,
          186.2857143,
          197.4,
          184.5,
          189.3125,
          183.0625,
          188.4,
          203,
          181,
          193.1333333,
          182.1875,
          181.4,
          197.625,
          196.6666667,
          182.625,
          184.1875,
          187.1875,
          194.6666667,
          181.9375,
          192.9375,
          197.2666667,
          181.0666667,
          216.75,
          190.9333333,
          192.5625,
          214.2,
          200.2,
          187.4666667,
          217.4666667,
          200.875,
          206.875,
          203.1875,
          201.6,
          205.6666667,
          199.8,
          206.1333333,
          219.2142857,
          203.3333333,
          199.625,
          202,
          201.5,
          191.1333333,
          202.4,
          237.2,
          205,
          205.375,
          197.5625,
          209.125,
          187.6875,
          205.4,
          201.4666667,
          192.7777778,
          201.375,
          195.375,
          194.0625,
          201.5625,
          209.4,
          189.3125,
          195.3333333,
          198.5,
          185.25,
          209.4285714,
          213.4666667,
          186.625,
          197,
          193.9285714,
          200.6875,
          204.375,
          190.8125,
          211.4,
          186.5625,
          205.7333333,
          187.1333333,
          198.5625,
          254.4375,
          261.7857143,
          261.6666667,
          241.9375,
          260.125,
          244.6666667,
          252.5,
          252.3125,
          265.4375,
          234.25,
          244.8666667,
          263.5625,
          243.9333333,
          245.25,
          231.4
         ],
         "y0": " ",
         "yaxis": "y"
        },
        {
         "alignmentgroup": "True",
         "hovertemplate": "sample_type=%{x}<br>v2=%{y}<extra></extra>",
         "legendgroup": "lab 2",
         "marker": {
          "color": "#A3A500"
         },
         "name": "lab 2",
         "notched": false,
         "offsetgroup": "lab 2",
         "orientation": "v",
         "showlegend": true,
         "type": "box",
         "x": [
          "lab 2",
          "lab 2",
          "lab 2",
          "lab 2",
          "lab 2",
          "lab 2",
          "lab 2",
          "lab 2",
          "lab 2",
          "lab 2",
          "lab 2",
          "lab 2",
          "lab 2",
          "lab 2",
          "lab 2",
          "lab 2",
          "lab 2",
          "lab 2",
          "lab 2",
          "lab 2",
          "lab 2",
          "lab 2",
          "lab 2",
          "lab 2",
          "lab 2",
          "lab 2",
          "lab 2",
          "lab 2",
          "lab 2",
          "lab 2",
          "lab 2",
          "lab 2",
          "lab 2",
          "lab 2",
          "lab 2",
          "lab 2",
          "lab 2",
          "lab 2",
          "lab 2",
          "lab 2",
          "lab 2",
          "lab 2",
          "lab 2",
          "lab 2",
          "lab 2",
          "lab 2",
          "lab 2",
          "lab 2",
          "lab 2",
          "lab 2",
          "lab 2",
          "lab 2",
          "lab 2",
          "lab 2",
          "lab 2",
          "lab 2",
          "lab 2",
          "lab 2",
          "lab 2",
          "lab 2"
         ],
         "x0": " ",
         "xaxis": "x",
         "y": [
          192.8666667,
          211.2857143,
          210.875,
          209.5,
          207.7333333,
          195.6666667,
          207,
          205,
          182.9333333,
          195.0666667,
          191.3125,
          202.4375,
          184.2666667,
          195.9333333,
          204,
          211.8125,
          203.6315789,
          189.375,
          210.8,
          202.0666667,
          203.8125,
          201.0666667,
          226.7333333,
          222.2666667,
          225.3684211,
          211.8125,
          208.125,
          216.75,
          234.5625,
          236,
          422.8125,
          403.875,
          379.625,
          367,
          384.6666667,
          376.4666667,
          366.1333333,
          371.6,
          414.2,
          412.3125,
          383.4,
          368.375,
          369.6875,
          333.6,
          410.4666667,
          332.8125,
          396.7142857,
          378,
          376.4,
          370.6666667,
          349.1875,
          344.0625,
          356.5,
          389.6666667,
          377.6666667,
          361.25,
          398.125,
          382.8666667,
          366.75,
          350.2666667
         ],
         "y0": " ",
         "yaxis": "y"
        }
       ],
       "layout": {
        "boxmode": "overlay",
        "legend": {
         "title": {
          "text": "sample_type"
         },
         "tracegroupgap": 0
        },
        "template": {
         "data": {
          "bar": [
           {
            "error_x": {
             "color": "rgb(51,51,51)"
            },
            "error_y": {
             "color": "rgb(51,51,51)"
            },
            "marker": {
             "line": {
              "color": "rgb(237,237,237)",
              "width": 0.5
             },
             "pattern": {
              "fillmode": "overlay",
              "size": 10,
              "solidity": 0.2
             }
            },
            "type": "bar"
           }
          ],
          "barpolar": [
           {
            "marker": {
             "line": {
              "color": "rgb(237,237,237)",
              "width": 0.5
             },
             "pattern": {
              "fillmode": "overlay",
              "size": 10,
              "solidity": 0.2
             }
            },
            "type": "barpolar"
           }
          ],
          "carpet": [
           {
            "aaxis": {
             "endlinecolor": "rgb(51,51,51)",
             "gridcolor": "white",
             "linecolor": "white",
             "minorgridcolor": "white",
             "startlinecolor": "rgb(51,51,51)"
            },
            "baxis": {
             "endlinecolor": "rgb(51,51,51)",
             "gridcolor": "white",
             "linecolor": "white",
             "minorgridcolor": "white",
             "startlinecolor": "rgb(51,51,51)"
            },
            "type": "carpet"
           }
          ],
          "choropleth": [
           {
            "colorbar": {
             "outlinewidth": 0,
             "tickcolor": "rgb(237,237,237)",
             "ticklen": 6,
             "ticks": "inside"
            },
            "type": "choropleth"
           }
          ],
          "contour": [
           {
            "colorbar": {
             "outlinewidth": 0,
             "tickcolor": "rgb(237,237,237)",
             "ticklen": 6,
             "ticks": "inside"
            },
            "colorscale": [
             [
              0,
              "rgb(20,44,66)"
             ],
             [
              1,
              "rgb(90,179,244)"
             ]
            ],
            "type": "contour"
           }
          ],
          "contourcarpet": [
           {
            "colorbar": {
             "outlinewidth": 0,
             "tickcolor": "rgb(237,237,237)",
             "ticklen": 6,
             "ticks": "inside"
            },
            "type": "contourcarpet"
           }
          ],
          "heatmap": [
           {
            "colorbar": {
             "outlinewidth": 0,
             "tickcolor": "rgb(237,237,237)",
             "ticklen": 6,
             "ticks": "inside"
            },
            "colorscale": [
             [
              0,
              "rgb(20,44,66)"
             ],
             [
              1,
              "rgb(90,179,244)"
             ]
            ],
            "type": "heatmap"
           }
          ],
          "heatmapgl": [
           {
            "colorbar": {
             "outlinewidth": 0,
             "tickcolor": "rgb(237,237,237)",
             "ticklen": 6,
             "ticks": "inside"
            },
            "colorscale": [
             [
              0,
              "rgb(20,44,66)"
             ],
             [
              1,
              "rgb(90,179,244)"
             ]
            ],
            "type": "heatmapgl"
           }
          ],
          "histogram": [
           {
            "marker": {
             "pattern": {
              "fillmode": "overlay",
              "size": 10,
              "solidity": 0.2
             }
            },
            "type": "histogram"
           }
          ],
          "histogram2d": [
           {
            "colorbar": {
             "outlinewidth": 0,
             "tickcolor": "rgb(237,237,237)",
             "ticklen": 6,
             "ticks": "inside"
            },
            "colorscale": [
             [
              0,
              "rgb(20,44,66)"
             ],
             [
              1,
              "rgb(90,179,244)"
             ]
            ],
            "type": "histogram2d"
           }
          ],
          "histogram2dcontour": [
           {
            "colorbar": {
             "outlinewidth": 0,
             "tickcolor": "rgb(237,237,237)",
             "ticklen": 6,
             "ticks": "inside"
            },
            "colorscale": [
             [
              0,
              "rgb(20,44,66)"
             ],
             [
              1,
              "rgb(90,179,244)"
             ]
            ],
            "type": "histogram2dcontour"
           }
          ],
          "mesh3d": [
           {
            "colorbar": {
             "outlinewidth": 0,
             "tickcolor": "rgb(237,237,237)",
             "ticklen": 6,
             "ticks": "inside"
            },
            "type": "mesh3d"
           }
          ],
          "parcoords": [
           {
            "line": {
             "colorbar": {
              "outlinewidth": 0,
              "tickcolor": "rgb(237,237,237)",
              "ticklen": 6,
              "ticks": "inside"
             }
            },
            "type": "parcoords"
           }
          ],
          "pie": [
           {
            "automargin": true,
            "type": "pie"
           }
          ],
          "scatter": [
           {
            "marker": {
             "colorbar": {
              "outlinewidth": 0,
              "tickcolor": "rgb(237,237,237)",
              "ticklen": 6,
              "ticks": "inside"
             }
            },
            "type": "scatter"
           }
          ],
          "scatter3d": [
           {
            "line": {
             "colorbar": {
              "outlinewidth": 0,
              "tickcolor": "rgb(237,237,237)",
              "ticklen": 6,
              "ticks": "inside"
             }
            },
            "marker": {
             "colorbar": {
              "outlinewidth": 0,
              "tickcolor": "rgb(237,237,237)",
              "ticklen": 6,
              "ticks": "inside"
             }
            },
            "type": "scatter3d"
           }
          ],
          "scattercarpet": [
           {
            "marker": {
             "colorbar": {
              "outlinewidth": 0,
              "tickcolor": "rgb(237,237,237)",
              "ticklen": 6,
              "ticks": "inside"
             }
            },
            "type": "scattercarpet"
           }
          ],
          "scattergeo": [
           {
            "marker": {
             "colorbar": {
              "outlinewidth": 0,
              "tickcolor": "rgb(237,237,237)",
              "ticklen": 6,
              "ticks": "inside"
             }
            },
            "type": "scattergeo"
           }
          ],
          "scattergl": [
           {
            "marker": {
             "colorbar": {
              "outlinewidth": 0,
              "tickcolor": "rgb(237,237,237)",
              "ticklen": 6,
              "ticks": "inside"
             }
            },
            "type": "scattergl"
           }
          ],
          "scattermapbox": [
           {
            "marker": {
             "colorbar": {
              "outlinewidth": 0,
              "tickcolor": "rgb(237,237,237)",
              "ticklen": 6,
              "ticks": "inside"
             }
            },
            "type": "scattermapbox"
           }
          ],
          "scatterpolar": [
           {
            "marker": {
             "colorbar": {
              "outlinewidth": 0,
              "tickcolor": "rgb(237,237,237)",
              "ticklen": 6,
              "ticks": "inside"
             }
            },
            "type": "scatterpolar"
           }
          ],
          "scatterpolargl": [
           {
            "marker": {
             "colorbar": {
              "outlinewidth": 0,
              "tickcolor": "rgb(237,237,237)",
              "ticklen": 6,
              "ticks": "inside"
             }
            },
            "type": "scatterpolargl"
           }
          ],
          "scatterternary": [
           {
            "marker": {
             "colorbar": {
              "outlinewidth": 0,
              "tickcolor": "rgb(237,237,237)",
              "ticklen": 6,
              "ticks": "inside"
             }
            },
            "type": "scatterternary"
           }
          ],
          "surface": [
           {
            "colorbar": {
             "outlinewidth": 0,
             "tickcolor": "rgb(237,237,237)",
             "ticklen": 6,
             "ticks": "inside"
            },
            "colorscale": [
             [
              0,
              "rgb(20,44,66)"
             ],
             [
              1,
              "rgb(90,179,244)"
             ]
            ],
            "type": "surface"
           }
          ],
          "table": [
           {
            "cells": {
             "fill": {
              "color": "rgb(237,237,237)"
             },
             "line": {
              "color": "white"
             }
            },
            "header": {
             "fill": {
              "color": "rgb(217,217,217)"
             },
             "line": {
              "color": "white"
             }
            },
            "type": "table"
           }
          ]
         },
         "layout": {
          "annotationdefaults": {
           "arrowhead": 0,
           "arrowwidth": 1
          },
          "autotypenumbers": "strict",
          "coloraxis": {
           "colorbar": {
            "outlinewidth": 0,
            "tickcolor": "rgb(237,237,237)",
            "ticklen": 6,
            "ticks": "inside"
           }
          },
          "colorscale": {
           "sequential": [
            [
             0,
             "rgb(20,44,66)"
            ],
            [
             1,
             "rgb(90,179,244)"
            ]
           ],
           "sequentialminus": [
            [
             0,
             "rgb(20,44,66)"
            ],
            [
             1,
             "rgb(90,179,244)"
            ]
           ]
          },
          "colorway": [
           "#F8766D",
           "#A3A500",
           "#00BF7D",
           "#00B0F6",
           "#E76BF3"
          ],
          "font": {
           "color": "rgb(51,51,51)"
          },
          "geo": {
           "bgcolor": "white",
           "lakecolor": "white",
           "landcolor": "rgb(237,237,237)",
           "showlakes": true,
           "showland": true,
           "subunitcolor": "white"
          },
          "hoverlabel": {
           "align": "left"
          },
          "hovermode": "closest",
          "paper_bgcolor": "white",
          "plot_bgcolor": "rgb(237,237,237)",
          "polar": {
           "angularaxis": {
            "gridcolor": "white",
            "linecolor": "white",
            "showgrid": true,
            "tickcolor": "rgb(51,51,51)",
            "ticks": "outside"
           },
           "bgcolor": "rgb(237,237,237)",
           "radialaxis": {
            "gridcolor": "white",
            "linecolor": "white",
            "showgrid": true,
            "tickcolor": "rgb(51,51,51)",
            "ticks": "outside"
           }
          },
          "scene": {
           "xaxis": {
            "backgroundcolor": "rgb(237,237,237)",
            "gridcolor": "white",
            "gridwidth": 2,
            "linecolor": "white",
            "showbackground": true,
            "showgrid": true,
            "tickcolor": "rgb(51,51,51)",
            "ticks": "outside",
            "zerolinecolor": "white"
           },
           "yaxis": {
            "backgroundcolor": "rgb(237,237,237)",
            "gridcolor": "white",
            "gridwidth": 2,
            "linecolor": "white",
            "showbackground": true,
            "showgrid": true,
            "tickcolor": "rgb(51,51,51)",
            "ticks": "outside",
            "zerolinecolor": "white"
           },
           "zaxis": {
            "backgroundcolor": "rgb(237,237,237)",
            "gridcolor": "white",
            "gridwidth": 2,
            "linecolor": "white",
            "showbackground": true,
            "showgrid": true,
            "tickcolor": "rgb(51,51,51)",
            "ticks": "outside",
            "zerolinecolor": "white"
           }
          },
          "shapedefaults": {
           "fillcolor": "black",
           "line": {
            "width": 0
           },
           "opacity": 0.3
          },
          "ternary": {
           "aaxis": {
            "gridcolor": "white",
            "linecolor": "white",
            "showgrid": true,
            "tickcolor": "rgb(51,51,51)",
            "ticks": "outside"
           },
           "baxis": {
            "gridcolor": "white",
            "linecolor": "white",
            "showgrid": true,
            "tickcolor": "rgb(51,51,51)",
            "ticks": "outside"
           },
           "bgcolor": "rgb(237,237,237)",
           "caxis": {
            "gridcolor": "white",
            "linecolor": "white",
            "showgrid": true,
            "tickcolor": "rgb(51,51,51)",
            "ticks": "outside"
           }
          },
          "xaxis": {
           "automargin": true,
           "gridcolor": "white",
           "linecolor": "white",
           "showgrid": true,
           "tickcolor": "rgb(51,51,51)",
           "ticks": "outside",
           "title": {
            "standoff": 15
           },
           "zerolinecolor": "white"
          },
          "yaxis": {
           "automargin": true,
           "gridcolor": "white",
           "linecolor": "white",
           "showgrid": true,
           "tickcolor": "rgb(51,51,51)",
           "ticks": "outside",
           "title": {
            "standoff": 15
           },
           "zerolinecolor": "white"
          }
         }
        },
        "title": {
         "text": "<b>v2 on sample_type"
        },
        "xaxis": {
         "anchor": "y",
         "categoryarray": [
          "lab 1",
          "lab 2"
         ],
         "categoryorder": "array",
         "domain": [
          0,
          1
         ],
         "title": {
          "text": "sample_type"
         }
        },
        "yaxis": {
         "anchor": "x",
         "domain": [
          0,
          1
         ],
         "title": {
          "text": "v2"
         }
        }
       }
      }
     },
     "metadata": {},
     "output_type": "display_data"
    }
   ],
   "source": [
    "px.box(df, x='sample_type', y='v2',\n",
    "       color='sample_type', template='ggplot2',\n",
    "       labels={'sample_type': 'sample_type',\n",
    "               'v2': 'v2'},\n",
    "       title=\"<b>v2 on sample_type\")"
   ]
  },
  {
   "attachments": {},
   "cell_type": "markdown",
   "metadata": {},
   "source": [
    "Berdasarkan visualisasi di atas, diketahui bahwa sample di lab 1 memiliki nilai `v2` paling rendah `178.8` dan paling tinggi `265.4375`.\n",
    "Sample di lab 2 memiliki nilai `v2` paling rendah `182.933` dan paling tinggi `422.8125`.\n",
    "\n",
    "Jika dibandingkan maka nilai `v2` paling rendah berada di `sample_type lab 1`  dan nilai `v2` tertinggi berada di `sample type lab 2`."
   ]
  },
  {
   "cell_type": "code",
   "execution_count": 20,
   "metadata": {},
   "outputs": [
    {
     "data": {
      "application/vnd.plotly.v1+json": {
       "config": {
        "plotlyServerURL": "https://plot.ly"
       },
       "data": [
        {
         "alignmentgroup": "True",
         "hovertemplate": "sample_type=%{x}<br>v3=%{y}<extra></extra>",
         "legendgroup": "lab 1",
         "marker": {
          "color": "#F8766D"
         },
         "name": "lab 1",
         "notched": false,
         "offsetgroup": "lab 1",
         "orientation": "v",
         "showlegend": true,
         "type": "box",
         "x": [
          "lab 1",
          "lab 1",
          "lab 1",
          "lab 1",
          "lab 1",
          "lab 1",
          "lab 1",
          "lab 1",
          "lab 1",
          "lab 1",
          "lab 1",
          "lab 1",
          "lab 1",
          "lab 1",
          "lab 1",
          "lab 1",
          "lab 1",
          "lab 1",
          "lab 1",
          "lab 1",
          "lab 1",
          "lab 1",
          "lab 1",
          "lab 1",
          "lab 1",
          "lab 1",
          "lab 1",
          "lab 1",
          "lab 1",
          "lab 1",
          "lab 1",
          "lab 1",
          "lab 1",
          "lab 1",
          "lab 1",
          "lab 1",
          "lab 1",
          "lab 1",
          "lab 1",
          "lab 1",
          "lab 1",
          "lab 1",
          "lab 1",
          "lab 1",
          "lab 1",
          "lab 1",
          "lab 1",
          "lab 1",
          "lab 1",
          "lab 1",
          "lab 1",
          "lab 1",
          "lab 1",
          "lab 1",
          "lab 1",
          "lab 1",
          "lab 1",
          "lab 1",
          "lab 1",
          "lab 1",
          "lab 1",
          "lab 1",
          "lab 1",
          "lab 1",
          "lab 1",
          "lab 1",
          "lab 1",
          "lab 1",
          "lab 1",
          "lab 1",
          "lab 1",
          "lab 1",
          "lab 1",
          "lab 1",
          "lab 1",
          "lab 1",
          "lab 1",
          "lab 1",
          "lab 1",
          "lab 1",
          "lab 1",
          "lab 1",
          "lab 1",
          "lab 1",
          "lab 1",
          "lab 1",
          "lab 1",
          "lab 1",
          "lab 1",
          "lab 1",
          "lab 1",
          "lab 1",
          "lab 1",
          "lab 1",
          "lab 1",
          "lab 1",
          "lab 1",
          "lab 1",
          "lab 1",
          "lab 1"
         ],
         "x0": " ",
         "xaxis": "x",
         "y": [
          391.3333333,
          393.6666667,
          375.4666667,
          368.7222222,
          356.6666667,
          364.9444444,
          359.4666667,
          365.2,
          381.2,
          370,
          383.4285714,
          377.3571429,
          359.8571429,
          374.6666667,
          362.5,
          387.9375,
          368.6875,
          386.4,
          393.9333333,
          370.8666667,
          387.2666667,
          359.875,
          403.7333333,
          360.9375,
          393.6,
          355.5625,
          356.125,
          361.375,
          390.1333333,
          365.1875,
          384.75,
          389.5333333,
          348.9333333,
          435.3125,
          364.0666667,
          356.625,
          398.5333333,
          355.3333333,
          376.6,
          397.8,
          414.125,
          375,
          381,
          402.4,
          393.2,
          367.4,
          386.3333333,
          414.6428571,
          390.4,
          381.6875,
          401.4375,
          389.125,
          379.8666667,
          383.0666667,
          437.2,
          383.2666667,
          380.125,
          389.5,
          395.875,
          374.875,
          391.7333333,
          400.0666667,
          378.1666667,
          393.9375,
          377.9375,
          389.5,
          419.0625,
          394.9333333,
          382.6875,
          383.4,
          418.375,
          371.125,
          407.7857143,
          393,
          389.3125,
          389.375,
          388.7857143,
          396.5,
          395.0625,
          395.25,
          386.4,
          407.125,
          393.0666667,
          397.5333333,
          412.1875,
          430.4375,
          461.1428571,
          452.4,
          422.3125,
          450,
          448.4666667,
          428.25,
          429,
          440.5,
          434.125,
          424.5333333,
          448.5,
          424.6,
          451.25,
          424.8
         ],
         "y0": " ",
         "yaxis": "y"
        },
        {
         "alignmentgroup": "True",
         "hovertemplate": "sample_type=%{x}<br>v3=%{y}<extra></extra>",
         "legendgroup": "lab 2",
         "marker": {
          "color": "#A3A500"
         },
         "name": "lab 2",
         "notched": false,
         "offsetgroup": "lab 2",
         "orientation": "v",
         "showlegend": true,
         "type": "box",
         "x": [
          "lab 2",
          "lab 2",
          "lab 2",
          "lab 2",
          "lab 2",
          "lab 2",
          "lab 2",
          "lab 2",
          "lab 2",
          "lab 2",
          "lab 2",
          "lab 2",
          "lab 2",
          "lab 2",
          "lab 2",
          "lab 2",
          "lab 2",
          "lab 2",
          "lab 2",
          "lab 2",
          "lab 2",
          "lab 2",
          "lab 2",
          "lab 2",
          "lab 2",
          "lab 2",
          "lab 2",
          "lab 2",
          "lab 2",
          "lab 2",
          "lab 2",
          "lab 2",
          "lab 2",
          "lab 2",
          "lab 2",
          "lab 2",
          "lab 2",
          "lab 2",
          "lab 2",
          "lab 2",
          "lab 2",
          "lab 2",
          "lab 2",
          "lab 2",
          "lab 2",
          "lab 2",
          "lab 2",
          "lab 2",
          "lab 2",
          "lab 2",
          "lab 2",
          "lab 2",
          "lab 2",
          "lab 2",
          "lab 2",
          "lab 2",
          "lab 2",
          "lab 2",
          "lab 2",
          "lab 2"
         ],
         "x0": " ",
         "xaxis": "x",
         "y": [
          575.9333333,
          626.6428571,
          585.375,
          589.25,
          577.4666667,
          561.8666667,
          607.8666667,
          573.375,
          549.5333333,
          591.8666667,
          559.875,
          577.5625,
          547.8666667,
          562.1333333,
          587.4375,
          574.8125,
          591.5263158,
          572.5,
          586.6666667,
          574.8666667,
          598.6875,
          584.6666667,
          592.2666667,
          625,
          627.7894737,
          621.875,
          585.5625,
          583.25,
          612.6875,
          646.2,
          722.3125,
          696.75,
          637.125,
          659,
          663.0666667,
          696.2666667,
          680.5333333,
          657.5333333,
          702.5333333,
          692.125,
          667.1333333,
          650.25,
          662.75,
          654.6,
          687.5333333,
          651.4375,
          682.8571429,
          694,
          640.4,
          670.2666667,
          641.625,
          629.0625,
          623,
          684.6,
          645.6666667,
          643.125,
          678.25,
          657.4666667,
          642.9375,
          648.3333333
         ],
         "y0": " ",
         "yaxis": "y"
        }
       ],
       "layout": {
        "boxmode": "overlay",
        "legend": {
         "title": {
          "text": "sample_type"
         },
         "tracegroupgap": 0
        },
        "template": {
         "data": {
          "bar": [
           {
            "error_x": {
             "color": "rgb(51,51,51)"
            },
            "error_y": {
             "color": "rgb(51,51,51)"
            },
            "marker": {
             "line": {
              "color": "rgb(237,237,237)",
              "width": 0.5
             },
             "pattern": {
              "fillmode": "overlay",
              "size": 10,
              "solidity": 0.2
             }
            },
            "type": "bar"
           }
          ],
          "barpolar": [
           {
            "marker": {
             "line": {
              "color": "rgb(237,237,237)",
              "width": 0.5
             },
             "pattern": {
              "fillmode": "overlay",
              "size": 10,
              "solidity": 0.2
             }
            },
            "type": "barpolar"
           }
          ],
          "carpet": [
           {
            "aaxis": {
             "endlinecolor": "rgb(51,51,51)",
             "gridcolor": "white",
             "linecolor": "white",
             "minorgridcolor": "white",
             "startlinecolor": "rgb(51,51,51)"
            },
            "baxis": {
             "endlinecolor": "rgb(51,51,51)",
             "gridcolor": "white",
             "linecolor": "white",
             "minorgridcolor": "white",
             "startlinecolor": "rgb(51,51,51)"
            },
            "type": "carpet"
           }
          ],
          "choropleth": [
           {
            "colorbar": {
             "outlinewidth": 0,
             "tickcolor": "rgb(237,237,237)",
             "ticklen": 6,
             "ticks": "inside"
            },
            "type": "choropleth"
           }
          ],
          "contour": [
           {
            "colorbar": {
             "outlinewidth": 0,
             "tickcolor": "rgb(237,237,237)",
             "ticklen": 6,
             "ticks": "inside"
            },
            "colorscale": [
             [
              0,
              "rgb(20,44,66)"
             ],
             [
              1,
              "rgb(90,179,244)"
             ]
            ],
            "type": "contour"
           }
          ],
          "contourcarpet": [
           {
            "colorbar": {
             "outlinewidth": 0,
             "tickcolor": "rgb(237,237,237)",
             "ticklen": 6,
             "ticks": "inside"
            },
            "type": "contourcarpet"
           }
          ],
          "heatmap": [
           {
            "colorbar": {
             "outlinewidth": 0,
             "tickcolor": "rgb(237,237,237)",
             "ticklen": 6,
             "ticks": "inside"
            },
            "colorscale": [
             [
              0,
              "rgb(20,44,66)"
             ],
             [
              1,
              "rgb(90,179,244)"
             ]
            ],
            "type": "heatmap"
           }
          ],
          "heatmapgl": [
           {
            "colorbar": {
             "outlinewidth": 0,
             "tickcolor": "rgb(237,237,237)",
             "ticklen": 6,
             "ticks": "inside"
            },
            "colorscale": [
             [
              0,
              "rgb(20,44,66)"
             ],
             [
              1,
              "rgb(90,179,244)"
             ]
            ],
            "type": "heatmapgl"
           }
          ],
          "histogram": [
           {
            "marker": {
             "pattern": {
              "fillmode": "overlay",
              "size": 10,
              "solidity": 0.2
             }
            },
            "type": "histogram"
           }
          ],
          "histogram2d": [
           {
            "colorbar": {
             "outlinewidth": 0,
             "tickcolor": "rgb(237,237,237)",
             "ticklen": 6,
             "ticks": "inside"
            },
            "colorscale": [
             [
              0,
              "rgb(20,44,66)"
             ],
             [
              1,
              "rgb(90,179,244)"
             ]
            ],
            "type": "histogram2d"
           }
          ],
          "histogram2dcontour": [
           {
            "colorbar": {
             "outlinewidth": 0,
             "tickcolor": "rgb(237,237,237)",
             "ticklen": 6,
             "ticks": "inside"
            },
            "colorscale": [
             [
              0,
              "rgb(20,44,66)"
             ],
             [
              1,
              "rgb(90,179,244)"
             ]
            ],
            "type": "histogram2dcontour"
           }
          ],
          "mesh3d": [
           {
            "colorbar": {
             "outlinewidth": 0,
             "tickcolor": "rgb(237,237,237)",
             "ticklen": 6,
             "ticks": "inside"
            },
            "type": "mesh3d"
           }
          ],
          "parcoords": [
           {
            "line": {
             "colorbar": {
              "outlinewidth": 0,
              "tickcolor": "rgb(237,237,237)",
              "ticklen": 6,
              "ticks": "inside"
             }
            },
            "type": "parcoords"
           }
          ],
          "pie": [
           {
            "automargin": true,
            "type": "pie"
           }
          ],
          "scatter": [
           {
            "marker": {
             "colorbar": {
              "outlinewidth": 0,
              "tickcolor": "rgb(237,237,237)",
              "ticklen": 6,
              "ticks": "inside"
             }
            },
            "type": "scatter"
           }
          ],
          "scatter3d": [
           {
            "line": {
             "colorbar": {
              "outlinewidth": 0,
              "tickcolor": "rgb(237,237,237)",
              "ticklen": 6,
              "ticks": "inside"
             }
            },
            "marker": {
             "colorbar": {
              "outlinewidth": 0,
              "tickcolor": "rgb(237,237,237)",
              "ticklen": 6,
              "ticks": "inside"
             }
            },
            "type": "scatter3d"
           }
          ],
          "scattercarpet": [
           {
            "marker": {
             "colorbar": {
              "outlinewidth": 0,
              "tickcolor": "rgb(237,237,237)",
              "ticklen": 6,
              "ticks": "inside"
             }
            },
            "type": "scattercarpet"
           }
          ],
          "scattergeo": [
           {
            "marker": {
             "colorbar": {
              "outlinewidth": 0,
              "tickcolor": "rgb(237,237,237)",
              "ticklen": 6,
              "ticks": "inside"
             }
            },
            "type": "scattergeo"
           }
          ],
          "scattergl": [
           {
            "marker": {
             "colorbar": {
              "outlinewidth": 0,
              "tickcolor": "rgb(237,237,237)",
              "ticklen": 6,
              "ticks": "inside"
             }
            },
            "type": "scattergl"
           }
          ],
          "scattermapbox": [
           {
            "marker": {
             "colorbar": {
              "outlinewidth": 0,
              "tickcolor": "rgb(237,237,237)",
              "ticklen": 6,
              "ticks": "inside"
             }
            },
            "type": "scattermapbox"
           }
          ],
          "scatterpolar": [
           {
            "marker": {
             "colorbar": {
              "outlinewidth": 0,
              "tickcolor": "rgb(237,237,237)",
              "ticklen": 6,
              "ticks": "inside"
             }
            },
            "type": "scatterpolar"
           }
          ],
          "scatterpolargl": [
           {
            "marker": {
             "colorbar": {
              "outlinewidth": 0,
              "tickcolor": "rgb(237,237,237)",
              "ticklen": 6,
              "ticks": "inside"
             }
            },
            "type": "scatterpolargl"
           }
          ],
          "scatterternary": [
           {
            "marker": {
             "colorbar": {
              "outlinewidth": 0,
              "tickcolor": "rgb(237,237,237)",
              "ticklen": 6,
              "ticks": "inside"
             }
            },
            "type": "scatterternary"
           }
          ],
          "surface": [
           {
            "colorbar": {
             "outlinewidth": 0,
             "tickcolor": "rgb(237,237,237)",
             "ticklen": 6,
             "ticks": "inside"
            },
            "colorscale": [
             [
              0,
              "rgb(20,44,66)"
             ],
             [
              1,
              "rgb(90,179,244)"
             ]
            ],
            "type": "surface"
           }
          ],
          "table": [
           {
            "cells": {
             "fill": {
              "color": "rgb(237,237,237)"
             },
             "line": {
              "color": "white"
             }
            },
            "header": {
             "fill": {
              "color": "rgb(217,217,217)"
             },
             "line": {
              "color": "white"
             }
            },
            "type": "table"
           }
          ]
         },
         "layout": {
          "annotationdefaults": {
           "arrowhead": 0,
           "arrowwidth": 1
          },
          "autotypenumbers": "strict",
          "coloraxis": {
           "colorbar": {
            "outlinewidth": 0,
            "tickcolor": "rgb(237,237,237)",
            "ticklen": 6,
            "ticks": "inside"
           }
          },
          "colorscale": {
           "sequential": [
            [
             0,
             "rgb(20,44,66)"
            ],
            [
             1,
             "rgb(90,179,244)"
            ]
           ],
           "sequentialminus": [
            [
             0,
             "rgb(20,44,66)"
            ],
            [
             1,
             "rgb(90,179,244)"
            ]
           ]
          },
          "colorway": [
           "#F8766D",
           "#A3A500",
           "#00BF7D",
           "#00B0F6",
           "#E76BF3"
          ],
          "font": {
           "color": "rgb(51,51,51)"
          },
          "geo": {
           "bgcolor": "white",
           "lakecolor": "white",
           "landcolor": "rgb(237,237,237)",
           "showlakes": true,
           "showland": true,
           "subunitcolor": "white"
          },
          "hoverlabel": {
           "align": "left"
          },
          "hovermode": "closest",
          "paper_bgcolor": "white",
          "plot_bgcolor": "rgb(237,237,237)",
          "polar": {
           "angularaxis": {
            "gridcolor": "white",
            "linecolor": "white",
            "showgrid": true,
            "tickcolor": "rgb(51,51,51)",
            "ticks": "outside"
           },
           "bgcolor": "rgb(237,237,237)",
           "radialaxis": {
            "gridcolor": "white",
            "linecolor": "white",
            "showgrid": true,
            "tickcolor": "rgb(51,51,51)",
            "ticks": "outside"
           }
          },
          "scene": {
           "xaxis": {
            "backgroundcolor": "rgb(237,237,237)",
            "gridcolor": "white",
            "gridwidth": 2,
            "linecolor": "white",
            "showbackground": true,
            "showgrid": true,
            "tickcolor": "rgb(51,51,51)",
            "ticks": "outside",
            "zerolinecolor": "white"
           },
           "yaxis": {
            "backgroundcolor": "rgb(237,237,237)",
            "gridcolor": "white",
            "gridwidth": 2,
            "linecolor": "white",
            "showbackground": true,
            "showgrid": true,
            "tickcolor": "rgb(51,51,51)",
            "ticks": "outside",
            "zerolinecolor": "white"
           },
           "zaxis": {
            "backgroundcolor": "rgb(237,237,237)",
            "gridcolor": "white",
            "gridwidth": 2,
            "linecolor": "white",
            "showbackground": true,
            "showgrid": true,
            "tickcolor": "rgb(51,51,51)",
            "ticks": "outside",
            "zerolinecolor": "white"
           }
          },
          "shapedefaults": {
           "fillcolor": "black",
           "line": {
            "width": 0
           },
           "opacity": 0.3
          },
          "ternary": {
           "aaxis": {
            "gridcolor": "white",
            "linecolor": "white",
            "showgrid": true,
            "tickcolor": "rgb(51,51,51)",
            "ticks": "outside"
           },
           "baxis": {
            "gridcolor": "white",
            "linecolor": "white",
            "showgrid": true,
            "tickcolor": "rgb(51,51,51)",
            "ticks": "outside"
           },
           "bgcolor": "rgb(237,237,237)",
           "caxis": {
            "gridcolor": "white",
            "linecolor": "white",
            "showgrid": true,
            "tickcolor": "rgb(51,51,51)",
            "ticks": "outside"
           }
          },
          "xaxis": {
           "automargin": true,
           "gridcolor": "white",
           "linecolor": "white",
           "showgrid": true,
           "tickcolor": "rgb(51,51,51)",
           "ticks": "outside",
           "title": {
            "standoff": 15
           },
           "zerolinecolor": "white"
          },
          "yaxis": {
           "automargin": true,
           "gridcolor": "white",
           "linecolor": "white",
           "showgrid": true,
           "tickcolor": "rgb(51,51,51)",
           "ticks": "outside",
           "title": {
            "standoff": 15
           },
           "zerolinecolor": "white"
          }
         }
        },
        "title": {
         "text": "<b>v3 on sample_type"
        },
        "xaxis": {
         "anchor": "y",
         "categoryarray": [
          "lab 1",
          "lab 2"
         ],
         "categoryorder": "array",
         "domain": [
          0,
          1
         ],
         "title": {
          "text": "sample_type"
         }
        },
        "yaxis": {
         "anchor": "x",
         "domain": [
          0,
          1
         ],
         "title": {
          "text": "v3"
         }
        }
       }
      }
     },
     "metadata": {},
     "output_type": "display_data"
    }
   ],
   "source": [
    "px.box(df, x='sample_type', y='v3',\n",
    "       color='sample_type', template='ggplot2',\n",
    "       labels={'sample_type': 'sample_type',\n",
    "               'v3': 'v3'},\n",
    "       title=\"<b>v3 on sample_type\")"
   ]
  },
  {
   "attachments": {},
   "cell_type": "markdown",
   "metadata": {},
   "source": [
    "Berdasarkan visualisasi di atas, diketahui bahwa sample di `lab 1` memiliki nilai `v3` paling rendah `348.9333` dan paling tinggi `461.1429`.\n",
    "Sample di `lab 2` memiliki nilai `v3` paling rendah `547.86677` dan paling tinggi `722.3125`.\n",
    "\n",
    "Jika dibandingkan maka nilai `v3` paling rendah berada di `sample_type lab 1`  dan nilai `v3` tertinggi berada di `sample type lab 2`."
   ]
  },
  {
   "cell_type": "code",
   "execution_count": 21,
   "metadata": {},
   "outputs": [
    {
     "data": {
      "application/vnd.plotly.v1+json": {
       "config": {
        "plotlyServerURL": "https://plot.ly"
       },
       "data": [
        {
         "alignmentgroup": "True",
         "hovertemplate": "sample_type=%{x}<br>v4=%{y}<extra></extra>",
         "legendgroup": "lab 1",
         "marker": {
          "color": "#F8766D"
         },
         "name": "lab 1",
         "notched": false,
         "offsetgroup": "lab 1",
         "orientation": "v",
         "showlegend": true,
         "type": "box",
         "x": [
          "lab 1",
          "lab 1",
          "lab 1",
          "lab 1",
          "lab 1",
          "lab 1",
          "lab 1",
          "lab 1",
          "lab 1",
          "lab 1",
          "lab 1",
          "lab 1",
          "lab 1",
          "lab 1",
          "lab 1",
          "lab 1",
          "lab 1",
          "lab 1",
          "lab 1",
          "lab 1",
          "lab 1",
          "lab 1",
          "lab 1",
          "lab 1",
          "lab 1",
          "lab 1",
          "lab 1",
          "lab 1",
          "lab 1",
          "lab 1",
          "lab 1",
          "lab 1",
          "lab 1",
          "lab 1",
          "lab 1",
          "lab 1",
          "lab 1",
          "lab 1",
          "lab 1",
          "lab 1",
          "lab 1",
          "lab 1",
          "lab 1",
          "lab 1",
          "lab 1",
          "lab 1",
          "lab 1",
          "lab 1",
          "lab 1",
          "lab 1",
          "lab 1",
          "lab 1",
          "lab 1",
          "lab 1",
          "lab 1",
          "lab 1",
          "lab 1",
          "lab 1",
          "lab 1",
          "lab 1",
          "lab 1",
          "lab 1",
          "lab 1",
          "lab 1",
          "lab 1",
          "lab 1",
          "lab 1",
          "lab 1",
          "lab 1",
          "lab 1",
          "lab 1",
          "lab 1",
          "lab 1",
          "lab 1",
          "lab 1",
          "lab 1",
          "lab 1",
          "lab 1",
          "lab 1",
          "lab 1",
          "lab 1",
          "lab 1",
          "lab 1",
          "lab 1",
          "lab 1",
          "lab 1",
          "lab 1",
          "lab 1",
          "lab 1",
          "lab 1",
          "lab 1",
          "lab 1",
          "lab 1",
          "lab 1",
          "lab 1",
          "lab 1",
          "lab 1",
          "lab 1",
          "lab 1",
          "lab 1"
         ],
         "x0": " ",
         "xaxis": "x",
         "y": [
          371.7333333,
          348.5333333,
          354.8666667,
          334.6666667,
          333.3333333,
          345.8888889,
          326.8,
          332.9333333,
          353.2,
          342.4666667,
          324.2857143,
          350.5714286,
          320.5714286,
          339.2666667,
          320.8125,
          339.3125,
          338.4375,
          342.4,
          358,
          327.3333333,
          362.4,
          315.625,
          354.5333333,
          339.125,
          356.3333333,
          332.5,
          330.375,
          328.9375,
          359.3333333,
          321.5625,
          337.8125,
          342.2666667,
          313.7333333,
          396.5625,
          323.9333333,
          322.1875,
          363.0666667,
          327.9333333,
          335.8,
          378.2,
          384.8125,
          355.875,
          341.25,
          379.7333333,
          371.3333333,
          349.8666667,
          359.4,
          397.7142857,
          369.7333333,
          369.125,
          346.4375,
          360.3125,
          371.3333333,
          348.9333333,
          432.4666667,
          366.6666667,
          355.75,
          365.625,
          372.3125,
          349.375,
          378.7333333,
          359.6666667,
          362.2222222,
          361.875,
          357,
          358.5,
          396.75,
          364.7333333,
          363.5,
          348.9333333,
          365.375,
          342.625,
          386.3571429,
          381.2666667,
          381.625,
          358,
          371.7857143,
          368.6875,
          367.5625,
          357.1875,
          361.6,
          366.8125,
          377,
          379.8666667,
          378.125,
          419.375,
          437.3571429,
          443.2,
          400.4375,
          439.875,
          429,
          429.125,
          408.875,
          426.125,
          392.9375,
          404.3333333,
          428.3125,
          394.4,
          436.4375,
          401.8
         ],
         "y0": " ",
         "yaxis": "y"
        },
        {
         "alignmentgroup": "True",
         "hovertemplate": "sample_type=%{x}<br>v4=%{y}<extra></extra>",
         "legendgroup": "lab 2",
         "marker": {
          "color": "#A3A500"
         },
         "name": "lab 2",
         "notched": false,
         "offsetgroup": "lab 2",
         "orientation": "v",
         "showlegend": true,
         "type": "box",
         "x": [
          "lab 2",
          "lab 2",
          "lab 2",
          "lab 2",
          "lab 2",
          "lab 2",
          "lab 2",
          "lab 2",
          "lab 2",
          "lab 2",
          "lab 2",
          "lab 2",
          "lab 2",
          "lab 2",
          "lab 2",
          "lab 2",
          "lab 2",
          "lab 2",
          "lab 2",
          "lab 2",
          "lab 2",
          "lab 2",
          "lab 2",
          "lab 2",
          "lab 2",
          "lab 2",
          "lab 2",
          "lab 2",
          "lab 2",
          "lab 2",
          "lab 2",
          "lab 2",
          "lab 2",
          "lab 2",
          "lab 2",
          "lab 2",
          "lab 2",
          "lab 2",
          "lab 2",
          "lab 2",
          "lab 2",
          "lab 2",
          "lab 2",
          "lab 2",
          "lab 2",
          "lab 2",
          "lab 2",
          "lab 2",
          "lab 2",
          "lab 2",
          "lab 2",
          "lab 2",
          "lab 2",
          "lab 2",
          "lab 2",
          "lab 2",
          "lab 2",
          "lab 2",
          "lab 2",
          "lab 2"
         ],
         "x0": " ",
         "xaxis": "x",
         "y": [
          379.3333333,
          436.7857143,
          373.9375,
          374.6875,
          365.6666667,
          361.3333333,
          383.8,
          364.5625,
          344.5333333,
          382.7333333,
          353.125,
          369.125,
          337.9333333,
          342.4,
          364.5625,
          366.375,
          377.1578947,
          355.375,
          370.7333333,
          361.5333333,
          370.75,
          378.7333333,
          377.6,
          414.2666667,
          406.3157895,
          406.4375,
          355.125,
          376.125,
          399.25,
          423.4666667,
          541.75,
          558.5,
          489,
          480,
          491.2,
          533.6666667,
          509.2666667,
          485.0666667,
          555.6,
          547.75,
          535.1333333,
          500.0625,
          482.8125,
          494.5333333,
          552.8666667,
          496.625,
          530.6428571,
          542.4,
          519.2666667,
          484.8,
          477,
          487.4375,
          476.5,
          527,
          486.7333333,
          489.8125,
          541.125,
          505.0666667,
          483.6875,
          495.4
         ],
         "y0": " ",
         "yaxis": "y"
        }
       ],
       "layout": {
        "boxmode": "overlay",
        "legend": {
         "title": {
          "text": "sample_type"
         },
         "tracegroupgap": 0
        },
        "template": {
         "data": {
          "bar": [
           {
            "error_x": {
             "color": "rgb(51,51,51)"
            },
            "error_y": {
             "color": "rgb(51,51,51)"
            },
            "marker": {
             "line": {
              "color": "rgb(237,237,237)",
              "width": 0.5
             },
             "pattern": {
              "fillmode": "overlay",
              "size": 10,
              "solidity": 0.2
             }
            },
            "type": "bar"
           }
          ],
          "barpolar": [
           {
            "marker": {
             "line": {
              "color": "rgb(237,237,237)",
              "width": 0.5
             },
             "pattern": {
              "fillmode": "overlay",
              "size": 10,
              "solidity": 0.2
             }
            },
            "type": "barpolar"
           }
          ],
          "carpet": [
           {
            "aaxis": {
             "endlinecolor": "rgb(51,51,51)",
             "gridcolor": "white",
             "linecolor": "white",
             "minorgridcolor": "white",
             "startlinecolor": "rgb(51,51,51)"
            },
            "baxis": {
             "endlinecolor": "rgb(51,51,51)",
             "gridcolor": "white",
             "linecolor": "white",
             "minorgridcolor": "white",
             "startlinecolor": "rgb(51,51,51)"
            },
            "type": "carpet"
           }
          ],
          "choropleth": [
           {
            "colorbar": {
             "outlinewidth": 0,
             "tickcolor": "rgb(237,237,237)",
             "ticklen": 6,
             "ticks": "inside"
            },
            "type": "choropleth"
           }
          ],
          "contour": [
           {
            "colorbar": {
             "outlinewidth": 0,
             "tickcolor": "rgb(237,237,237)",
             "ticklen": 6,
             "ticks": "inside"
            },
            "colorscale": [
             [
              0,
              "rgb(20,44,66)"
             ],
             [
              1,
              "rgb(90,179,244)"
             ]
            ],
            "type": "contour"
           }
          ],
          "contourcarpet": [
           {
            "colorbar": {
             "outlinewidth": 0,
             "tickcolor": "rgb(237,237,237)",
             "ticklen": 6,
             "ticks": "inside"
            },
            "type": "contourcarpet"
           }
          ],
          "heatmap": [
           {
            "colorbar": {
             "outlinewidth": 0,
             "tickcolor": "rgb(237,237,237)",
             "ticklen": 6,
             "ticks": "inside"
            },
            "colorscale": [
             [
              0,
              "rgb(20,44,66)"
             ],
             [
              1,
              "rgb(90,179,244)"
             ]
            ],
            "type": "heatmap"
           }
          ],
          "heatmapgl": [
           {
            "colorbar": {
             "outlinewidth": 0,
             "tickcolor": "rgb(237,237,237)",
             "ticklen": 6,
             "ticks": "inside"
            },
            "colorscale": [
             [
              0,
              "rgb(20,44,66)"
             ],
             [
              1,
              "rgb(90,179,244)"
             ]
            ],
            "type": "heatmapgl"
           }
          ],
          "histogram": [
           {
            "marker": {
             "pattern": {
              "fillmode": "overlay",
              "size": 10,
              "solidity": 0.2
             }
            },
            "type": "histogram"
           }
          ],
          "histogram2d": [
           {
            "colorbar": {
             "outlinewidth": 0,
             "tickcolor": "rgb(237,237,237)",
             "ticklen": 6,
             "ticks": "inside"
            },
            "colorscale": [
             [
              0,
              "rgb(20,44,66)"
             ],
             [
              1,
              "rgb(90,179,244)"
             ]
            ],
            "type": "histogram2d"
           }
          ],
          "histogram2dcontour": [
           {
            "colorbar": {
             "outlinewidth": 0,
             "tickcolor": "rgb(237,237,237)",
             "ticklen": 6,
             "ticks": "inside"
            },
            "colorscale": [
             [
              0,
              "rgb(20,44,66)"
             ],
             [
              1,
              "rgb(90,179,244)"
             ]
            ],
            "type": "histogram2dcontour"
           }
          ],
          "mesh3d": [
           {
            "colorbar": {
             "outlinewidth": 0,
             "tickcolor": "rgb(237,237,237)",
             "ticklen": 6,
             "ticks": "inside"
            },
            "type": "mesh3d"
           }
          ],
          "parcoords": [
           {
            "line": {
             "colorbar": {
              "outlinewidth": 0,
              "tickcolor": "rgb(237,237,237)",
              "ticklen": 6,
              "ticks": "inside"
             }
            },
            "type": "parcoords"
           }
          ],
          "pie": [
           {
            "automargin": true,
            "type": "pie"
           }
          ],
          "scatter": [
           {
            "marker": {
             "colorbar": {
              "outlinewidth": 0,
              "tickcolor": "rgb(237,237,237)",
              "ticklen": 6,
              "ticks": "inside"
             }
            },
            "type": "scatter"
           }
          ],
          "scatter3d": [
           {
            "line": {
             "colorbar": {
              "outlinewidth": 0,
              "tickcolor": "rgb(237,237,237)",
              "ticklen": 6,
              "ticks": "inside"
             }
            },
            "marker": {
             "colorbar": {
              "outlinewidth": 0,
              "tickcolor": "rgb(237,237,237)",
              "ticklen": 6,
              "ticks": "inside"
             }
            },
            "type": "scatter3d"
           }
          ],
          "scattercarpet": [
           {
            "marker": {
             "colorbar": {
              "outlinewidth": 0,
              "tickcolor": "rgb(237,237,237)",
              "ticklen": 6,
              "ticks": "inside"
             }
            },
            "type": "scattercarpet"
           }
          ],
          "scattergeo": [
           {
            "marker": {
             "colorbar": {
              "outlinewidth": 0,
              "tickcolor": "rgb(237,237,237)",
              "ticklen": 6,
              "ticks": "inside"
             }
            },
            "type": "scattergeo"
           }
          ],
          "scattergl": [
           {
            "marker": {
             "colorbar": {
              "outlinewidth": 0,
              "tickcolor": "rgb(237,237,237)",
              "ticklen": 6,
              "ticks": "inside"
             }
            },
            "type": "scattergl"
           }
          ],
          "scattermapbox": [
           {
            "marker": {
             "colorbar": {
              "outlinewidth": 0,
              "tickcolor": "rgb(237,237,237)",
              "ticklen": 6,
              "ticks": "inside"
             }
            },
            "type": "scattermapbox"
           }
          ],
          "scatterpolar": [
           {
            "marker": {
             "colorbar": {
              "outlinewidth": 0,
              "tickcolor": "rgb(237,237,237)",
              "ticklen": 6,
              "ticks": "inside"
             }
            },
            "type": "scatterpolar"
           }
          ],
          "scatterpolargl": [
           {
            "marker": {
             "colorbar": {
              "outlinewidth": 0,
              "tickcolor": "rgb(237,237,237)",
              "ticklen": 6,
              "ticks": "inside"
             }
            },
            "type": "scatterpolargl"
           }
          ],
          "scatterternary": [
           {
            "marker": {
             "colorbar": {
              "outlinewidth": 0,
              "tickcolor": "rgb(237,237,237)",
              "ticklen": 6,
              "ticks": "inside"
             }
            },
            "type": "scatterternary"
           }
          ],
          "surface": [
           {
            "colorbar": {
             "outlinewidth": 0,
             "tickcolor": "rgb(237,237,237)",
             "ticklen": 6,
             "ticks": "inside"
            },
            "colorscale": [
             [
              0,
              "rgb(20,44,66)"
             ],
             [
              1,
              "rgb(90,179,244)"
             ]
            ],
            "type": "surface"
           }
          ],
          "table": [
           {
            "cells": {
             "fill": {
              "color": "rgb(237,237,237)"
             },
             "line": {
              "color": "white"
             }
            },
            "header": {
             "fill": {
              "color": "rgb(217,217,217)"
             },
             "line": {
              "color": "white"
             }
            },
            "type": "table"
           }
          ]
         },
         "layout": {
          "annotationdefaults": {
           "arrowhead": 0,
           "arrowwidth": 1
          },
          "autotypenumbers": "strict",
          "coloraxis": {
           "colorbar": {
            "outlinewidth": 0,
            "tickcolor": "rgb(237,237,237)",
            "ticklen": 6,
            "ticks": "inside"
           }
          },
          "colorscale": {
           "sequential": [
            [
             0,
             "rgb(20,44,66)"
            ],
            [
             1,
             "rgb(90,179,244)"
            ]
           ],
           "sequentialminus": [
            [
             0,
             "rgb(20,44,66)"
            ],
            [
             1,
             "rgb(90,179,244)"
            ]
           ]
          },
          "colorway": [
           "#F8766D",
           "#A3A500",
           "#00BF7D",
           "#00B0F6",
           "#E76BF3"
          ],
          "font": {
           "color": "rgb(51,51,51)"
          },
          "geo": {
           "bgcolor": "white",
           "lakecolor": "white",
           "landcolor": "rgb(237,237,237)",
           "showlakes": true,
           "showland": true,
           "subunitcolor": "white"
          },
          "hoverlabel": {
           "align": "left"
          },
          "hovermode": "closest",
          "paper_bgcolor": "white",
          "plot_bgcolor": "rgb(237,237,237)",
          "polar": {
           "angularaxis": {
            "gridcolor": "white",
            "linecolor": "white",
            "showgrid": true,
            "tickcolor": "rgb(51,51,51)",
            "ticks": "outside"
           },
           "bgcolor": "rgb(237,237,237)",
           "radialaxis": {
            "gridcolor": "white",
            "linecolor": "white",
            "showgrid": true,
            "tickcolor": "rgb(51,51,51)",
            "ticks": "outside"
           }
          },
          "scene": {
           "xaxis": {
            "backgroundcolor": "rgb(237,237,237)",
            "gridcolor": "white",
            "gridwidth": 2,
            "linecolor": "white",
            "showbackground": true,
            "showgrid": true,
            "tickcolor": "rgb(51,51,51)",
            "ticks": "outside",
            "zerolinecolor": "white"
           },
           "yaxis": {
            "backgroundcolor": "rgb(237,237,237)",
            "gridcolor": "white",
            "gridwidth": 2,
            "linecolor": "white",
            "showbackground": true,
            "showgrid": true,
            "tickcolor": "rgb(51,51,51)",
            "ticks": "outside",
            "zerolinecolor": "white"
           },
           "zaxis": {
            "backgroundcolor": "rgb(237,237,237)",
            "gridcolor": "white",
            "gridwidth": 2,
            "linecolor": "white",
            "showbackground": true,
            "showgrid": true,
            "tickcolor": "rgb(51,51,51)",
            "ticks": "outside",
            "zerolinecolor": "white"
           }
          },
          "shapedefaults": {
           "fillcolor": "black",
           "line": {
            "width": 0
           },
           "opacity": 0.3
          },
          "ternary": {
           "aaxis": {
            "gridcolor": "white",
            "linecolor": "white",
            "showgrid": true,
            "tickcolor": "rgb(51,51,51)",
            "ticks": "outside"
           },
           "baxis": {
            "gridcolor": "white",
            "linecolor": "white",
            "showgrid": true,
            "tickcolor": "rgb(51,51,51)",
            "ticks": "outside"
           },
           "bgcolor": "rgb(237,237,237)",
           "caxis": {
            "gridcolor": "white",
            "linecolor": "white",
            "showgrid": true,
            "tickcolor": "rgb(51,51,51)",
            "ticks": "outside"
           }
          },
          "xaxis": {
           "automargin": true,
           "gridcolor": "white",
           "linecolor": "white",
           "showgrid": true,
           "tickcolor": "rgb(51,51,51)",
           "ticks": "outside",
           "title": {
            "standoff": 15
           },
           "zerolinecolor": "white"
          },
          "yaxis": {
           "automargin": true,
           "gridcolor": "white",
           "linecolor": "white",
           "showgrid": true,
           "tickcolor": "rgb(51,51,51)",
           "ticks": "outside",
           "title": {
            "standoff": 15
           },
           "zerolinecolor": "white"
          }
         }
        },
        "title": {
         "text": "<b>v4 on sample_type"
        },
        "xaxis": {
         "anchor": "y",
         "categoryarray": [
          "lab 1",
          "lab 2"
         ],
         "categoryorder": "array",
         "domain": [
          0,
          1
         ],
         "title": {
          "text": "sample_type"
         }
        },
        "yaxis": {
         "anchor": "x",
         "domain": [
          0,
          1
         ],
         "title": {
          "text": "v4"
         }
        }
       }
      }
     },
     "metadata": {},
     "output_type": "display_data"
    }
   ],
   "source": [
    "px.box(df, x='sample_type', y='v4',\n",
    "       color='sample_type', template='ggplot2',\n",
    "       labels={'sample_type': 'sample_type',\n",
    "               'v4': 'v4'},\n",
    "       title=\"<b>v4 on sample_type\")"
   ]
  },
  {
   "attachments": {},
   "cell_type": "markdown",
   "metadata": {},
   "source": [
    "Berdasarkan visualisasi di atas, diketahui bahwa sample di `lab 1` memiliki nilai `v4` paling rendah `313.7333` dan paling tinggi `443.2`.\n",
    "Sample di `lab 2` memiliki nilai `v4` paling rendah `337.9333` dan paling tinggi `558.5`.\n",
    "\n",
    "Jika dibandingkan maka nilai `v4` paling rendah berada di `sample_type lab 1`  dan nilai `v4` tertinggi berada di `sample type lab 2`."
   ]
  },
  {
   "cell_type": "code",
   "execution_count": 22,
   "metadata": {},
   "outputs": [
    {
     "data": {
      "application/vnd.plotly.v1+json": {
       "config": {
        "plotlyServerURL": "https://plot.ly"
       },
       "data": [
        {
         "alignmentgroup": "True",
         "hovertemplate": "sample_type=%{x}<br>v5=%{y}<extra></extra>",
         "legendgroup": "lab 1",
         "marker": {
          "color": "#F8766D"
         },
         "name": "lab 1",
         "notched": false,
         "offsetgroup": "lab 1",
         "orientation": "v",
         "showlegend": true,
         "type": "box",
         "x": [
          "lab 1",
          "lab 1",
          "lab 1",
          "lab 1",
          "lab 1",
          "lab 1",
          "lab 1",
          "lab 1",
          "lab 1",
          "lab 1",
          "lab 1",
          "lab 1",
          "lab 1",
          "lab 1",
          "lab 1",
          "lab 1",
          "lab 1",
          "lab 1",
          "lab 1",
          "lab 1",
          "lab 1",
          "lab 1",
          "lab 1",
          "lab 1",
          "lab 1",
          "lab 1",
          "lab 1",
          "lab 1",
          "lab 1",
          "lab 1",
          "lab 1",
          "lab 1",
          "lab 1",
          "lab 1",
          "lab 1",
          "lab 1",
          "lab 1",
          "lab 1",
          "lab 1",
          "lab 1",
          "lab 1",
          "lab 1",
          "lab 1",
          "lab 1",
          "lab 1",
          "lab 1",
          "lab 1",
          "lab 1",
          "lab 1",
          "lab 1",
          "lab 1",
          "lab 1",
          "lab 1",
          "lab 1",
          "lab 1",
          "lab 1",
          "lab 1",
          "lab 1",
          "lab 1",
          "lab 1",
          "lab 1",
          "lab 1",
          "lab 1",
          "lab 1",
          "lab 1",
          "lab 1",
          "lab 1",
          "lab 1",
          "lab 1",
          "lab 1",
          "lab 1",
          "lab 1",
          "lab 1",
          "lab 1",
          "lab 1",
          "lab 1",
          "lab 1",
          "lab 1",
          "lab 1",
          "lab 1",
          "lab 1",
          "lab 1",
          "lab 1",
          "lab 1",
          "lab 1",
          "lab 1",
          "lab 1",
          "lab 1",
          "lab 1",
          "lab 1",
          "lab 1",
          "lab 1",
          "lab 1",
          "lab 1",
          "lab 1",
          "lab 1",
          "lab 1",
          "lab 1",
          "lab 1",
          "lab 1"
         ],
         "x0": " ",
         "xaxis": "x",
         "y": [
          466.8,
          401.8,
          419,
          417.2222222,
          394.6,
          405.4444444,
          389.4666667,
          390.9333333,
          403.5333333,
          384.5333333,
          401.2857143,
          398.3571429,
          396.7857143,
          407.8666667,
          396.125,
          409.875,
          397.6875,
          413.4666667,
          428.4,
          400.9333333,
          417.3333333,
          389.5,
          415.7333333,
          395.5625,
          400,
          382.5625,
          399.9375,
          397.375,
          414.5333333,
          392.625,
          405.3125,
          413.7333333,
          373.3333333,
          466.125,
          385.3333333,
          407.3125,
          425.9333333,
          395.8666667,
          392.8666667,
          454.4666667,
          449.5,
          425.9375,
          414.375,
          420.5333333,
          459.8,
          428.2666667,
          433.7333333,
          469.4285714,
          425.2666667,
          431.125,
          412.5,
          432.3125,
          451.9333333,
          409.8666667,
          532.2666667,
          414,
          415.9375,
          444.8125,
          420.25,
          430.5,
          440.2,
          442.5333333,
          428.7222222,
          421.6875,
          419.8125,
          426.3125,
          467.875,
          421.4,
          419.4375,
          433.2666667,
          454.5,
          409.5,
          445.8571429,
          444.1333333,
          425.9375,
          421.5625,
          427.5714286,
          429.4375,
          420.4375,
          441.8125,
          421.6666667,
          443,
          445,
          449.0666667,
          457.5625,
          475.3125,
          492.4285714,
          490.6,
          463.125,
          494.375,
          474.8,
          482.1875,
          467.5625,
          483.375,
          458.5,
          457.8,
          497.5,
          454.4,
          500.1875,
          452.8
         ],
         "y0": " ",
         "yaxis": "y"
        },
        {
         "alignmentgroup": "True",
         "hovertemplate": "sample_type=%{x}<br>v5=%{y}<extra></extra>",
         "legendgroup": "lab 2",
         "marker": {
          "color": "#A3A500"
         },
         "name": "lab 2",
         "notched": false,
         "offsetgroup": "lab 2",
         "orientation": "v",
         "showlegend": true,
         "type": "box",
         "x": [
          "lab 2",
          "lab 2",
          "lab 2",
          "lab 2",
          "lab 2",
          "lab 2",
          "lab 2",
          "lab 2",
          "lab 2",
          "lab 2",
          "lab 2",
          "lab 2",
          "lab 2",
          "lab 2",
          "lab 2",
          "lab 2",
          "lab 2",
          "lab 2",
          "lab 2",
          "lab 2",
          "lab 2",
          "lab 2",
          "lab 2",
          "lab 2",
          "lab 2",
          "lab 2",
          "lab 2",
          "lab 2",
          "lab 2",
          "lab 2",
          "lab 2",
          "lab 2",
          "lab 2",
          "lab 2",
          "lab 2",
          "lab 2",
          "lab 2",
          "lab 2",
          "lab 2",
          "lab 2",
          "lab 2",
          "lab 2",
          "lab 2",
          "lab 2",
          "lab 2",
          "lab 2",
          "lab 2",
          "lab 2",
          "lab 2",
          "lab 2",
          "lab 2",
          "lab 2",
          "lab 2",
          "lab 2",
          "lab 2",
          "lab 2",
          "lab 2",
          "lab 2",
          "lab 2",
          "lab 2"
         ],
         "x0": " ",
         "xaxis": "x",
         "y": [
          488.6,
          502.0714286,
          476.5,
          490.5,
          492.0666667,
          472,
          475.2666667,
          474.9375,
          457.8666667,
          478.6,
          477,
          479.375,
          460.6666667,
          461.4,
          460.875,
          465.8125,
          478.4736842,
          462.0625,
          462.4666667,
          478.2666667,
          477.0625,
          470,
          496.1333333,
          511.3333333,
          499.4210526,
          502.125,
          474.625,
          498.9375,
          506.6875,
          511.3333333,
          721,
          699.5625,
          672.875,
          668.25,
          663.6,
          687.6,
          684.1333333,
          656.6666667,
          693.7333333,
          712.6875,
          699.4666667,
          678.6875,
          663.6875,
          655.7333333,
          714.7333333,
          669.75,
          691.3571429,
          706.6666667,
          695.5333333,
          674.6666667,
          664,
          672.9375,
          661.0625,
          699.4,
          699.7333333,
          666.875,
          704,
          719.2,
          675.625,
          679.8
         ],
         "y0": " ",
         "yaxis": "y"
        }
       ],
       "layout": {
        "boxmode": "overlay",
        "legend": {
         "title": {
          "text": "sample_type"
         },
         "tracegroupgap": 0
        },
        "template": {
         "data": {
          "bar": [
           {
            "error_x": {
             "color": "rgb(51,51,51)"
            },
            "error_y": {
             "color": "rgb(51,51,51)"
            },
            "marker": {
             "line": {
              "color": "rgb(237,237,237)",
              "width": 0.5
             },
             "pattern": {
              "fillmode": "overlay",
              "size": 10,
              "solidity": 0.2
             }
            },
            "type": "bar"
           }
          ],
          "barpolar": [
           {
            "marker": {
             "line": {
              "color": "rgb(237,237,237)",
              "width": 0.5
             },
             "pattern": {
              "fillmode": "overlay",
              "size": 10,
              "solidity": 0.2
             }
            },
            "type": "barpolar"
           }
          ],
          "carpet": [
           {
            "aaxis": {
             "endlinecolor": "rgb(51,51,51)",
             "gridcolor": "white",
             "linecolor": "white",
             "minorgridcolor": "white",
             "startlinecolor": "rgb(51,51,51)"
            },
            "baxis": {
             "endlinecolor": "rgb(51,51,51)",
             "gridcolor": "white",
             "linecolor": "white",
             "minorgridcolor": "white",
             "startlinecolor": "rgb(51,51,51)"
            },
            "type": "carpet"
           }
          ],
          "choropleth": [
           {
            "colorbar": {
             "outlinewidth": 0,
             "tickcolor": "rgb(237,237,237)",
             "ticklen": 6,
             "ticks": "inside"
            },
            "type": "choropleth"
           }
          ],
          "contour": [
           {
            "colorbar": {
             "outlinewidth": 0,
             "tickcolor": "rgb(237,237,237)",
             "ticklen": 6,
             "ticks": "inside"
            },
            "colorscale": [
             [
              0,
              "rgb(20,44,66)"
             ],
             [
              1,
              "rgb(90,179,244)"
             ]
            ],
            "type": "contour"
           }
          ],
          "contourcarpet": [
           {
            "colorbar": {
             "outlinewidth": 0,
             "tickcolor": "rgb(237,237,237)",
             "ticklen": 6,
             "ticks": "inside"
            },
            "type": "contourcarpet"
           }
          ],
          "heatmap": [
           {
            "colorbar": {
             "outlinewidth": 0,
             "tickcolor": "rgb(237,237,237)",
             "ticklen": 6,
             "ticks": "inside"
            },
            "colorscale": [
             [
              0,
              "rgb(20,44,66)"
             ],
             [
              1,
              "rgb(90,179,244)"
             ]
            ],
            "type": "heatmap"
           }
          ],
          "heatmapgl": [
           {
            "colorbar": {
             "outlinewidth": 0,
             "tickcolor": "rgb(237,237,237)",
             "ticklen": 6,
             "ticks": "inside"
            },
            "colorscale": [
             [
              0,
              "rgb(20,44,66)"
             ],
             [
              1,
              "rgb(90,179,244)"
             ]
            ],
            "type": "heatmapgl"
           }
          ],
          "histogram": [
           {
            "marker": {
             "pattern": {
              "fillmode": "overlay",
              "size": 10,
              "solidity": 0.2
             }
            },
            "type": "histogram"
           }
          ],
          "histogram2d": [
           {
            "colorbar": {
             "outlinewidth": 0,
             "tickcolor": "rgb(237,237,237)",
             "ticklen": 6,
             "ticks": "inside"
            },
            "colorscale": [
             [
              0,
              "rgb(20,44,66)"
             ],
             [
              1,
              "rgb(90,179,244)"
             ]
            ],
            "type": "histogram2d"
           }
          ],
          "histogram2dcontour": [
           {
            "colorbar": {
             "outlinewidth": 0,
             "tickcolor": "rgb(237,237,237)",
             "ticklen": 6,
             "ticks": "inside"
            },
            "colorscale": [
             [
              0,
              "rgb(20,44,66)"
             ],
             [
              1,
              "rgb(90,179,244)"
             ]
            ],
            "type": "histogram2dcontour"
           }
          ],
          "mesh3d": [
           {
            "colorbar": {
             "outlinewidth": 0,
             "tickcolor": "rgb(237,237,237)",
             "ticklen": 6,
             "ticks": "inside"
            },
            "type": "mesh3d"
           }
          ],
          "parcoords": [
           {
            "line": {
             "colorbar": {
              "outlinewidth": 0,
              "tickcolor": "rgb(237,237,237)",
              "ticklen": 6,
              "ticks": "inside"
             }
            },
            "type": "parcoords"
           }
          ],
          "pie": [
           {
            "automargin": true,
            "type": "pie"
           }
          ],
          "scatter": [
           {
            "marker": {
             "colorbar": {
              "outlinewidth": 0,
              "tickcolor": "rgb(237,237,237)",
              "ticklen": 6,
              "ticks": "inside"
             }
            },
            "type": "scatter"
           }
          ],
          "scatter3d": [
           {
            "line": {
             "colorbar": {
              "outlinewidth": 0,
              "tickcolor": "rgb(237,237,237)",
              "ticklen": 6,
              "ticks": "inside"
             }
            },
            "marker": {
             "colorbar": {
              "outlinewidth": 0,
              "tickcolor": "rgb(237,237,237)",
              "ticklen": 6,
              "ticks": "inside"
             }
            },
            "type": "scatter3d"
           }
          ],
          "scattercarpet": [
           {
            "marker": {
             "colorbar": {
              "outlinewidth": 0,
              "tickcolor": "rgb(237,237,237)",
              "ticklen": 6,
              "ticks": "inside"
             }
            },
            "type": "scattercarpet"
           }
          ],
          "scattergeo": [
           {
            "marker": {
             "colorbar": {
              "outlinewidth": 0,
              "tickcolor": "rgb(237,237,237)",
              "ticklen": 6,
              "ticks": "inside"
             }
            },
            "type": "scattergeo"
           }
          ],
          "scattergl": [
           {
            "marker": {
             "colorbar": {
              "outlinewidth": 0,
              "tickcolor": "rgb(237,237,237)",
              "ticklen": 6,
              "ticks": "inside"
             }
            },
            "type": "scattergl"
           }
          ],
          "scattermapbox": [
           {
            "marker": {
             "colorbar": {
              "outlinewidth": 0,
              "tickcolor": "rgb(237,237,237)",
              "ticklen": 6,
              "ticks": "inside"
             }
            },
            "type": "scattermapbox"
           }
          ],
          "scatterpolar": [
           {
            "marker": {
             "colorbar": {
              "outlinewidth": 0,
              "tickcolor": "rgb(237,237,237)",
              "ticklen": 6,
              "ticks": "inside"
             }
            },
            "type": "scatterpolar"
           }
          ],
          "scatterpolargl": [
           {
            "marker": {
             "colorbar": {
              "outlinewidth": 0,
              "tickcolor": "rgb(237,237,237)",
              "ticklen": 6,
              "ticks": "inside"
             }
            },
            "type": "scatterpolargl"
           }
          ],
          "scatterternary": [
           {
            "marker": {
             "colorbar": {
              "outlinewidth": 0,
              "tickcolor": "rgb(237,237,237)",
              "ticklen": 6,
              "ticks": "inside"
             }
            },
            "type": "scatterternary"
           }
          ],
          "surface": [
           {
            "colorbar": {
             "outlinewidth": 0,
             "tickcolor": "rgb(237,237,237)",
             "ticklen": 6,
             "ticks": "inside"
            },
            "colorscale": [
             [
              0,
              "rgb(20,44,66)"
             ],
             [
              1,
              "rgb(90,179,244)"
             ]
            ],
            "type": "surface"
           }
          ],
          "table": [
           {
            "cells": {
             "fill": {
              "color": "rgb(237,237,237)"
             },
             "line": {
              "color": "white"
             }
            },
            "header": {
             "fill": {
              "color": "rgb(217,217,217)"
             },
             "line": {
              "color": "white"
             }
            },
            "type": "table"
           }
          ]
         },
         "layout": {
          "annotationdefaults": {
           "arrowhead": 0,
           "arrowwidth": 1
          },
          "autotypenumbers": "strict",
          "coloraxis": {
           "colorbar": {
            "outlinewidth": 0,
            "tickcolor": "rgb(237,237,237)",
            "ticklen": 6,
            "ticks": "inside"
           }
          },
          "colorscale": {
           "sequential": [
            [
             0,
             "rgb(20,44,66)"
            ],
            [
             1,
             "rgb(90,179,244)"
            ]
           ],
           "sequentialminus": [
            [
             0,
             "rgb(20,44,66)"
            ],
            [
             1,
             "rgb(90,179,244)"
            ]
           ]
          },
          "colorway": [
           "#F8766D",
           "#A3A500",
           "#00BF7D",
           "#00B0F6",
           "#E76BF3"
          ],
          "font": {
           "color": "rgb(51,51,51)"
          },
          "geo": {
           "bgcolor": "white",
           "lakecolor": "white",
           "landcolor": "rgb(237,237,237)",
           "showlakes": true,
           "showland": true,
           "subunitcolor": "white"
          },
          "hoverlabel": {
           "align": "left"
          },
          "hovermode": "closest",
          "paper_bgcolor": "white",
          "plot_bgcolor": "rgb(237,237,237)",
          "polar": {
           "angularaxis": {
            "gridcolor": "white",
            "linecolor": "white",
            "showgrid": true,
            "tickcolor": "rgb(51,51,51)",
            "ticks": "outside"
           },
           "bgcolor": "rgb(237,237,237)",
           "radialaxis": {
            "gridcolor": "white",
            "linecolor": "white",
            "showgrid": true,
            "tickcolor": "rgb(51,51,51)",
            "ticks": "outside"
           }
          },
          "scene": {
           "xaxis": {
            "backgroundcolor": "rgb(237,237,237)",
            "gridcolor": "white",
            "gridwidth": 2,
            "linecolor": "white",
            "showbackground": true,
            "showgrid": true,
            "tickcolor": "rgb(51,51,51)",
            "ticks": "outside",
            "zerolinecolor": "white"
           },
           "yaxis": {
            "backgroundcolor": "rgb(237,237,237)",
            "gridcolor": "white",
            "gridwidth": 2,
            "linecolor": "white",
            "showbackground": true,
            "showgrid": true,
            "tickcolor": "rgb(51,51,51)",
            "ticks": "outside",
            "zerolinecolor": "white"
           },
           "zaxis": {
            "backgroundcolor": "rgb(237,237,237)",
            "gridcolor": "white",
            "gridwidth": 2,
            "linecolor": "white",
            "showbackground": true,
            "showgrid": true,
            "tickcolor": "rgb(51,51,51)",
            "ticks": "outside",
            "zerolinecolor": "white"
           }
          },
          "shapedefaults": {
           "fillcolor": "black",
           "line": {
            "width": 0
           },
           "opacity": 0.3
          },
          "ternary": {
           "aaxis": {
            "gridcolor": "white",
            "linecolor": "white",
            "showgrid": true,
            "tickcolor": "rgb(51,51,51)",
            "ticks": "outside"
           },
           "baxis": {
            "gridcolor": "white",
            "linecolor": "white",
            "showgrid": true,
            "tickcolor": "rgb(51,51,51)",
            "ticks": "outside"
           },
           "bgcolor": "rgb(237,237,237)",
           "caxis": {
            "gridcolor": "white",
            "linecolor": "white",
            "showgrid": true,
            "tickcolor": "rgb(51,51,51)",
            "ticks": "outside"
           }
          },
          "xaxis": {
           "automargin": true,
           "gridcolor": "white",
           "linecolor": "white",
           "showgrid": true,
           "tickcolor": "rgb(51,51,51)",
           "ticks": "outside",
           "title": {
            "standoff": 15
           },
           "zerolinecolor": "white"
          },
          "yaxis": {
           "automargin": true,
           "gridcolor": "white",
           "linecolor": "white",
           "showgrid": true,
           "tickcolor": "rgb(51,51,51)",
           "ticks": "outside",
           "title": {
            "standoff": 15
           },
           "zerolinecolor": "white"
          }
         }
        },
        "title": {
         "text": "<b>v5 on sample_type"
        },
        "xaxis": {
         "anchor": "y",
         "categoryarray": [
          "lab 1",
          "lab 2"
         ],
         "categoryorder": "array",
         "domain": [
          0,
          1
         ],
         "title": {
          "text": "sample_type"
         }
        },
        "yaxis": {
         "anchor": "x",
         "domain": [
          0,
          1
         ],
         "title": {
          "text": "v5"
         }
        }
       }
      }
     },
     "metadata": {},
     "output_type": "display_data"
    }
   ],
   "source": [
    "px.box(df, x='sample_type', y='v5',\n",
    "       color='sample_type', template='ggplot2',\n",
    "       labels={'sample_type': 'sample_type',\n",
    "               'v5': 'v5'},\n",
    "       title=\"<b>v5 on sample_type\")"
   ]
  },
  {
   "attachments": {},
   "cell_type": "markdown",
   "metadata": {},
   "source": [
    "Berdasarkan visualisasi di atas, diketahui bahwa sample di `lab 1` memiliki nilai `v5` paling rendah `373.3333` dan paling tinggi `532.2667`.\n",
    "Sample di `lab 2` memiliki nilai `v5` paling rendah `457.8667` dan paling tinggi `721`.\n",
    "\n",
    "Jika dibandingkan maka nilai `v5` paling rendah berada di `sample_type lab 1`  dan nilai `v5` tertinggi berada di `sample type lab 2`."
   ]
  },
  {
   "cell_type": "code",
   "execution_count": 23,
   "metadata": {},
   "outputs": [
    {
     "data": {
      "application/vnd.plotly.v1+json": {
       "config": {
        "plotlyServerURL": "https://plot.ly"
       },
       "data": [
        {
         "alignmentgroup": "True",
         "hovertemplate": "sample_type=%{x}<br>v6=%{y}<extra></extra>",
         "legendgroup": "lab 1",
         "marker": {
          "color": "#F8766D"
         },
         "name": "lab 1",
         "notched": false,
         "offsetgroup": "lab 1",
         "orientation": "v",
         "showlegend": true,
         "type": "box",
         "x": [
          "lab 1",
          "lab 1",
          "lab 1",
          "lab 1",
          "lab 1",
          "lab 1",
          "lab 1",
          "lab 1",
          "lab 1",
          "lab 1",
          "lab 1",
          "lab 1",
          "lab 1",
          "lab 1",
          "lab 1",
          "lab 1",
          "lab 1",
          "lab 1",
          "lab 1",
          "lab 1",
          "lab 1",
          "lab 1",
          "lab 1",
          "lab 1",
          "lab 1",
          "lab 1",
          "lab 1",
          "lab 1",
          "lab 1",
          "lab 1",
          "lab 1",
          "lab 1",
          "lab 1",
          "lab 1",
          "lab 1",
          "lab 1",
          "lab 1",
          "lab 1",
          "lab 1",
          "lab 1",
          "lab 1",
          "lab 1",
          "lab 1",
          "lab 1",
          "lab 1",
          "lab 1",
          "lab 1",
          "lab 1",
          "lab 1",
          "lab 1",
          "lab 1",
          "lab 1",
          "lab 1",
          "lab 1",
          "lab 1",
          "lab 1",
          "lab 1",
          "lab 1",
          "lab 1",
          "lab 1",
          "lab 1",
          "lab 1",
          "lab 1",
          "lab 1",
          "lab 1",
          "lab 1",
          "lab 1",
          "lab 1",
          "lab 1",
          "lab 1",
          "lab 1",
          "lab 1",
          "lab 1",
          "lab 1",
          "lab 1",
          "lab 1",
          "lab 1",
          "lab 1",
          "lab 1",
          "lab 1",
          "lab 1",
          "lab 1",
          "lab 1",
          "lab 1",
          "lab 1",
          "lab 1",
          "lab 1",
          "lab 1",
          "lab 1",
          "lab 1",
          "lab 1",
          "lab 1",
          "lab 1",
          "lab 1",
          "lab 1",
          "lab 1",
          "lab 1",
          "lab 1",
          "lab 1",
          "lab 1"
         ],
         "x0": " ",
         "xaxis": "x",
         "y": [
          273.1333333,
          220.0666667,
          222.1333333,
          195.9444444,
          196,
          210.0555556,
          191.8666667,
          202.2,
          217.8,
          204.7333333,
          196.7142857,
          207.3571429,
          204,
          212.3333333,
          207.3125,
          213.4375,
          191.3125,
          202.6666667,
          219.6666667,
          192.6666667,
          215.3333333,
          199.5625,
          214.6,
          198.125,
          213,
          200.1875,
          219.0625,
          220.4375,
          215.6,
          195.3125,
          214.9375,
          195.0666667,
          201.1333333,
          244.3125,
          214.1333333,
          206.6875,
          214.8,
          204.5333333,
          211.9333333,
          232.9333333,
          250.0625,
          229.625,
          217.6875,
          220.6,
          241.2666667,
          221.0666667,
          237.8666667,
          254.6428571,
          235.4,
          223.4375,
          208,
          232.5625,
          215.4666667,
          231.0666667,
          319.3333333,
          222.3333333,
          226.5,
          235.3125,
          225.875,
          219.75,
          243.8666667,
          243.6,
          228.1666667,
          223.875,
          222.375,
          226.25,
          239.75,
          225.4666667,
          219,
          220.1333333,
          244.375,
          212.4375,
          232.7857143,
          231,
          222.5625,
          219.75,
          221.8571429,
          222.375,
          233.0625,
          229.9375,
          236.3333333,
          216.625,
          241.6666667,
          235.8,
          246.25,
          264.125,
          273.4285714,
          274,
          248.6875,
          283.9375,
          257.3333333,
          255.5625,
          256.75,
          279.1875,
          252.375,
          257.7333333,
          292.4375,
          251.8,
          291.4375,
          253.2
         ],
         "y0": " ",
         "yaxis": "y"
        },
        {
         "alignmentgroup": "True",
         "hovertemplate": "sample_type=%{x}<br>v6=%{y}<extra></extra>",
         "legendgroup": "lab 2",
         "marker": {
          "color": "#A3A500"
         },
         "name": "lab 2",
         "notched": false,
         "offsetgroup": "lab 2",
         "orientation": "v",
         "showlegend": true,
         "type": "box",
         "x": [
          "lab 2",
          "lab 2",
          "lab 2",
          "lab 2",
          "lab 2",
          "lab 2",
          "lab 2",
          "lab 2",
          "lab 2",
          "lab 2",
          "lab 2",
          "lab 2",
          "lab 2",
          "lab 2",
          "lab 2",
          "lab 2",
          "lab 2",
          "lab 2",
          "lab 2",
          "lab 2",
          "lab 2",
          "lab 2",
          "lab 2",
          "lab 2",
          "lab 2",
          "lab 2",
          "lab 2",
          "lab 2",
          "lab 2",
          "lab 2",
          "lab 2",
          "lab 2",
          "lab 2",
          "lab 2",
          "lab 2",
          "lab 2",
          "lab 2",
          "lab 2",
          "lab 2",
          "lab 2",
          "lab 2",
          "lab 2",
          "lab 2",
          "lab 2",
          "lab 2",
          "lab 2",
          "lab 2",
          "lab 2",
          "lab 2",
          "lab 2",
          "lab 2",
          "lab 2",
          "lab 2",
          "lab 2",
          "lab 2",
          "lab 2",
          "lab 2",
          "lab 2",
          "lab 2",
          "lab 2"
         ],
         "x0": " ",
         "xaxis": "x",
         "y": [
          218.4,
          214.8571429,
          218.5625,
          216.875,
          218.3333333,
          203.6666667,
          204.8,
          209.75,
          189.2,
          207.4666667,
          195.25,
          197.5,
          196.3333333,
          204,
          202.5,
          201.6875,
          213,
          192.6875,
          203.4666667,
          214,
          213.8125,
          207.0666667,
          230.8666667,
          242.6,
          237.6842105,
          241.25,
          213.75,
          231.1875,
          262,
          271.4,
          415.375,
          404.5625,
          368.375,
          364.0625,
          355.8,
          387.8,
          369.1333333,
          355.5333333,
          397.4,
          396.125,
          371.4666667,
          349,
          355.625,
          350.2666667,
          389.2666667,
          329.4375,
          384,
          371.5333333,
          361.0666667,
          357.4666667,
          327.8125,
          323.75,
          321.0625,
          354.9333333,
          364.4,
          355.25,
          393.5,
          366.6,
          359.0625,
          346.2666667
         ],
         "y0": " ",
         "yaxis": "y"
        }
       ],
       "layout": {
        "boxmode": "overlay",
        "legend": {
         "title": {
          "text": "sample_type"
         },
         "tracegroupgap": 0
        },
        "template": {
         "data": {
          "bar": [
           {
            "error_x": {
             "color": "rgb(51,51,51)"
            },
            "error_y": {
             "color": "rgb(51,51,51)"
            },
            "marker": {
             "line": {
              "color": "rgb(237,237,237)",
              "width": 0.5
             },
             "pattern": {
              "fillmode": "overlay",
              "size": 10,
              "solidity": 0.2
             }
            },
            "type": "bar"
           }
          ],
          "barpolar": [
           {
            "marker": {
             "line": {
              "color": "rgb(237,237,237)",
              "width": 0.5
             },
             "pattern": {
              "fillmode": "overlay",
              "size": 10,
              "solidity": 0.2
             }
            },
            "type": "barpolar"
           }
          ],
          "carpet": [
           {
            "aaxis": {
             "endlinecolor": "rgb(51,51,51)",
             "gridcolor": "white",
             "linecolor": "white",
             "minorgridcolor": "white",
             "startlinecolor": "rgb(51,51,51)"
            },
            "baxis": {
             "endlinecolor": "rgb(51,51,51)",
             "gridcolor": "white",
             "linecolor": "white",
             "minorgridcolor": "white",
             "startlinecolor": "rgb(51,51,51)"
            },
            "type": "carpet"
           }
          ],
          "choropleth": [
           {
            "colorbar": {
             "outlinewidth": 0,
             "tickcolor": "rgb(237,237,237)",
             "ticklen": 6,
             "ticks": "inside"
            },
            "type": "choropleth"
           }
          ],
          "contour": [
           {
            "colorbar": {
             "outlinewidth": 0,
             "tickcolor": "rgb(237,237,237)",
             "ticklen": 6,
             "ticks": "inside"
            },
            "colorscale": [
             [
              0,
              "rgb(20,44,66)"
             ],
             [
              1,
              "rgb(90,179,244)"
             ]
            ],
            "type": "contour"
           }
          ],
          "contourcarpet": [
           {
            "colorbar": {
             "outlinewidth": 0,
             "tickcolor": "rgb(237,237,237)",
             "ticklen": 6,
             "ticks": "inside"
            },
            "type": "contourcarpet"
           }
          ],
          "heatmap": [
           {
            "colorbar": {
             "outlinewidth": 0,
             "tickcolor": "rgb(237,237,237)",
             "ticklen": 6,
             "ticks": "inside"
            },
            "colorscale": [
             [
              0,
              "rgb(20,44,66)"
             ],
             [
              1,
              "rgb(90,179,244)"
             ]
            ],
            "type": "heatmap"
           }
          ],
          "heatmapgl": [
           {
            "colorbar": {
             "outlinewidth": 0,
             "tickcolor": "rgb(237,237,237)",
             "ticklen": 6,
             "ticks": "inside"
            },
            "colorscale": [
             [
              0,
              "rgb(20,44,66)"
             ],
             [
              1,
              "rgb(90,179,244)"
             ]
            ],
            "type": "heatmapgl"
           }
          ],
          "histogram": [
           {
            "marker": {
             "pattern": {
              "fillmode": "overlay",
              "size": 10,
              "solidity": 0.2
             }
            },
            "type": "histogram"
           }
          ],
          "histogram2d": [
           {
            "colorbar": {
             "outlinewidth": 0,
             "tickcolor": "rgb(237,237,237)",
             "ticklen": 6,
             "ticks": "inside"
            },
            "colorscale": [
             [
              0,
              "rgb(20,44,66)"
             ],
             [
              1,
              "rgb(90,179,244)"
             ]
            ],
            "type": "histogram2d"
           }
          ],
          "histogram2dcontour": [
           {
            "colorbar": {
             "outlinewidth": 0,
             "tickcolor": "rgb(237,237,237)",
             "ticklen": 6,
             "ticks": "inside"
            },
            "colorscale": [
             [
              0,
              "rgb(20,44,66)"
             ],
             [
              1,
              "rgb(90,179,244)"
             ]
            ],
            "type": "histogram2dcontour"
           }
          ],
          "mesh3d": [
           {
            "colorbar": {
             "outlinewidth": 0,
             "tickcolor": "rgb(237,237,237)",
             "ticklen": 6,
             "ticks": "inside"
            },
            "type": "mesh3d"
           }
          ],
          "parcoords": [
           {
            "line": {
             "colorbar": {
              "outlinewidth": 0,
              "tickcolor": "rgb(237,237,237)",
              "ticklen": 6,
              "ticks": "inside"
             }
            },
            "type": "parcoords"
           }
          ],
          "pie": [
           {
            "automargin": true,
            "type": "pie"
           }
          ],
          "scatter": [
           {
            "marker": {
             "colorbar": {
              "outlinewidth": 0,
              "tickcolor": "rgb(237,237,237)",
              "ticklen": 6,
              "ticks": "inside"
             }
            },
            "type": "scatter"
           }
          ],
          "scatter3d": [
           {
            "line": {
             "colorbar": {
              "outlinewidth": 0,
              "tickcolor": "rgb(237,237,237)",
              "ticklen": 6,
              "ticks": "inside"
             }
            },
            "marker": {
             "colorbar": {
              "outlinewidth": 0,
              "tickcolor": "rgb(237,237,237)",
              "ticklen": 6,
              "ticks": "inside"
             }
            },
            "type": "scatter3d"
           }
          ],
          "scattercarpet": [
           {
            "marker": {
             "colorbar": {
              "outlinewidth": 0,
              "tickcolor": "rgb(237,237,237)",
              "ticklen": 6,
              "ticks": "inside"
             }
            },
            "type": "scattercarpet"
           }
          ],
          "scattergeo": [
           {
            "marker": {
             "colorbar": {
              "outlinewidth": 0,
              "tickcolor": "rgb(237,237,237)",
              "ticklen": 6,
              "ticks": "inside"
             }
            },
            "type": "scattergeo"
           }
          ],
          "scattergl": [
           {
            "marker": {
             "colorbar": {
              "outlinewidth": 0,
              "tickcolor": "rgb(237,237,237)",
              "ticklen": 6,
              "ticks": "inside"
             }
            },
            "type": "scattergl"
           }
          ],
          "scattermapbox": [
           {
            "marker": {
             "colorbar": {
              "outlinewidth": 0,
              "tickcolor": "rgb(237,237,237)",
              "ticklen": 6,
              "ticks": "inside"
             }
            },
            "type": "scattermapbox"
           }
          ],
          "scatterpolar": [
           {
            "marker": {
             "colorbar": {
              "outlinewidth": 0,
              "tickcolor": "rgb(237,237,237)",
              "ticklen": 6,
              "ticks": "inside"
             }
            },
            "type": "scatterpolar"
           }
          ],
          "scatterpolargl": [
           {
            "marker": {
             "colorbar": {
              "outlinewidth": 0,
              "tickcolor": "rgb(237,237,237)",
              "ticklen": 6,
              "ticks": "inside"
             }
            },
            "type": "scatterpolargl"
           }
          ],
          "scatterternary": [
           {
            "marker": {
             "colorbar": {
              "outlinewidth": 0,
              "tickcolor": "rgb(237,237,237)",
              "ticklen": 6,
              "ticks": "inside"
             }
            },
            "type": "scatterternary"
           }
          ],
          "surface": [
           {
            "colorbar": {
             "outlinewidth": 0,
             "tickcolor": "rgb(237,237,237)",
             "ticklen": 6,
             "ticks": "inside"
            },
            "colorscale": [
             [
              0,
              "rgb(20,44,66)"
             ],
             [
              1,
              "rgb(90,179,244)"
             ]
            ],
            "type": "surface"
           }
          ],
          "table": [
           {
            "cells": {
             "fill": {
              "color": "rgb(237,237,237)"
             },
             "line": {
              "color": "white"
             }
            },
            "header": {
             "fill": {
              "color": "rgb(217,217,217)"
             },
             "line": {
              "color": "white"
             }
            },
            "type": "table"
           }
          ]
         },
         "layout": {
          "annotationdefaults": {
           "arrowhead": 0,
           "arrowwidth": 1
          },
          "autotypenumbers": "strict",
          "coloraxis": {
           "colorbar": {
            "outlinewidth": 0,
            "tickcolor": "rgb(237,237,237)",
            "ticklen": 6,
            "ticks": "inside"
           }
          },
          "colorscale": {
           "sequential": [
            [
             0,
             "rgb(20,44,66)"
            ],
            [
             1,
             "rgb(90,179,244)"
            ]
           ],
           "sequentialminus": [
            [
             0,
             "rgb(20,44,66)"
            ],
            [
             1,
             "rgb(90,179,244)"
            ]
           ]
          },
          "colorway": [
           "#F8766D",
           "#A3A500",
           "#00BF7D",
           "#00B0F6",
           "#E76BF3"
          ],
          "font": {
           "color": "rgb(51,51,51)"
          },
          "geo": {
           "bgcolor": "white",
           "lakecolor": "white",
           "landcolor": "rgb(237,237,237)",
           "showlakes": true,
           "showland": true,
           "subunitcolor": "white"
          },
          "hoverlabel": {
           "align": "left"
          },
          "hovermode": "closest",
          "paper_bgcolor": "white",
          "plot_bgcolor": "rgb(237,237,237)",
          "polar": {
           "angularaxis": {
            "gridcolor": "white",
            "linecolor": "white",
            "showgrid": true,
            "tickcolor": "rgb(51,51,51)",
            "ticks": "outside"
           },
           "bgcolor": "rgb(237,237,237)",
           "radialaxis": {
            "gridcolor": "white",
            "linecolor": "white",
            "showgrid": true,
            "tickcolor": "rgb(51,51,51)",
            "ticks": "outside"
           }
          },
          "scene": {
           "xaxis": {
            "backgroundcolor": "rgb(237,237,237)",
            "gridcolor": "white",
            "gridwidth": 2,
            "linecolor": "white",
            "showbackground": true,
            "showgrid": true,
            "tickcolor": "rgb(51,51,51)",
            "ticks": "outside",
            "zerolinecolor": "white"
           },
           "yaxis": {
            "backgroundcolor": "rgb(237,237,237)",
            "gridcolor": "white",
            "gridwidth": 2,
            "linecolor": "white",
            "showbackground": true,
            "showgrid": true,
            "tickcolor": "rgb(51,51,51)",
            "ticks": "outside",
            "zerolinecolor": "white"
           },
           "zaxis": {
            "backgroundcolor": "rgb(237,237,237)",
            "gridcolor": "white",
            "gridwidth": 2,
            "linecolor": "white",
            "showbackground": true,
            "showgrid": true,
            "tickcolor": "rgb(51,51,51)",
            "ticks": "outside",
            "zerolinecolor": "white"
           }
          },
          "shapedefaults": {
           "fillcolor": "black",
           "line": {
            "width": 0
           },
           "opacity": 0.3
          },
          "ternary": {
           "aaxis": {
            "gridcolor": "white",
            "linecolor": "white",
            "showgrid": true,
            "tickcolor": "rgb(51,51,51)",
            "ticks": "outside"
           },
           "baxis": {
            "gridcolor": "white",
            "linecolor": "white",
            "showgrid": true,
            "tickcolor": "rgb(51,51,51)",
            "ticks": "outside"
           },
           "bgcolor": "rgb(237,237,237)",
           "caxis": {
            "gridcolor": "white",
            "linecolor": "white",
            "showgrid": true,
            "tickcolor": "rgb(51,51,51)",
            "ticks": "outside"
           }
          },
          "xaxis": {
           "automargin": true,
           "gridcolor": "white",
           "linecolor": "white",
           "showgrid": true,
           "tickcolor": "rgb(51,51,51)",
           "ticks": "outside",
           "title": {
            "standoff": 15
           },
           "zerolinecolor": "white"
          },
          "yaxis": {
           "automargin": true,
           "gridcolor": "white",
           "linecolor": "white",
           "showgrid": true,
           "tickcolor": "rgb(51,51,51)",
           "ticks": "outside",
           "title": {
            "standoff": 15
           },
           "zerolinecolor": "white"
          }
         }
        },
        "title": {
         "text": "<b>v6 on sample_type"
        },
        "xaxis": {
         "anchor": "y",
         "categoryarray": [
          "lab 1",
          "lab 2"
         ],
         "categoryorder": "array",
         "domain": [
          0,
          1
         ],
         "title": {
          "text": "sample_type"
         }
        },
        "yaxis": {
         "anchor": "x",
         "domain": [
          0,
          1
         ],
         "title": {
          "text": "v6"
         }
        }
       }
      }
     },
     "metadata": {},
     "output_type": "display_data"
    }
   ],
   "source": [
    "px.box(df, x='sample_type', y='v6',\n",
    "       color='sample_type', template='ggplot2',\n",
    "       labels={'sample_type': 'sample_type',\n",
    "               'v6': 'v6'},\n",
    "       title=\"<b>v6 on sample_type\")"
   ]
  },
  {
   "attachments": {},
   "cell_type": "markdown",
   "metadata": {},
   "source": [
    "Berdasarkan visualisasi di atas, diketahui bahwa sample di `lab 1` memiliki nilai `v6` paling rendah `191.3125` dan paling tinggi `319.3333`.\n",
    "Sample di `lab 2` memiliki nilai `v6` paling rendah `189.2` dan paling tinggi `415.375`.\n",
    "\n",
    "Jika dibandingkan maka nilai `v6` paling rendah berada di `sample_type lab 2`  dan nilai `v6` tertinggi berada di `sample type lab 2`."
   ]
  },
  {
   "cell_type": "code",
   "execution_count": 24,
   "metadata": {},
   "outputs": [
    {
     "data": {
      "application/vnd.plotly.v1+json": {
       "config": {
        "plotlyServerURL": "https://plot.ly"
       },
       "data": [
        {
         "alignmentgroup": "True",
         "hovertemplate": "sample_type=%{x}<br>v7=%{y}<extra></extra>",
         "legendgroup": "lab 1",
         "marker": {
          "color": "#F8766D"
         },
         "name": "lab 1",
         "notched": false,
         "offsetgroup": "lab 1",
         "orientation": "v",
         "showlegend": true,
         "type": "box",
         "x": [
          "lab 1",
          "lab 1",
          "lab 1",
          "lab 1",
          "lab 1",
          "lab 1",
          "lab 1",
          "lab 1",
          "lab 1",
          "lab 1",
          "lab 1",
          "lab 1",
          "lab 1",
          "lab 1",
          "lab 1",
          "lab 1",
          "lab 1",
          "lab 1",
          "lab 1",
          "lab 1",
          "lab 1",
          "lab 1",
          "lab 1",
          "lab 1",
          "lab 1",
          "lab 1",
          "lab 1",
          "lab 1",
          "lab 1",
          "lab 1",
          "lab 1",
          "lab 1",
          "lab 1",
          "lab 1",
          "lab 1",
          "lab 1",
          "lab 1",
          "lab 1",
          "lab 1",
          "lab 1",
          "lab 1",
          "lab 1",
          "lab 1",
          "lab 1",
          "lab 1",
          "lab 1",
          "lab 1",
          "lab 1",
          "lab 1",
          "lab 1",
          "lab 1",
          "lab 1",
          "lab 1",
          "lab 1",
          "lab 1",
          "lab 1",
          "lab 1",
          "lab 1",
          "lab 1",
          "lab 1",
          "lab 1",
          "lab 1",
          "lab 1",
          "lab 1",
          "lab 1",
          "lab 1",
          "lab 1",
          "lab 1",
          "lab 1",
          "lab 1",
          "lab 1",
          "lab 1",
          "lab 1",
          "lab 1",
          "lab 1",
          "lab 1",
          "lab 1",
          "lab 1",
          "lab 1",
          "lab 1",
          "lab 1",
          "lab 1",
          "lab 1",
          "lab 1",
          "lab 1",
          "lab 1",
          "lab 1",
          "lab 1",
          "lab 1",
          "lab 1",
          "lab 1",
          "lab 1",
          "lab 1",
          "lab 1",
          "lab 1",
          "lab 1",
          "lab 1",
          "lab 1",
          "lab 1",
          "lab 1"
         ],
         "x0": " ",
         "xaxis": "x",
         "y": [
          742.0666667,
          712,
          677.2,
          678.5555556,
          677.1333333,
          650.6666667,
          632.2666667,
          664,
          714.5333333,
          690.3333333,
          666.0714286,
          682.5714286,
          633.3571429,
          716.2666667,
          641.6875,
          696.4375,
          669.25,
          680.4,
          715.8,
          679.0666667,
          713.8,
          620.875,
          726.2,
          687.875,
          719.2,
          659.6875,
          679.75,
          669.5,
          727.7333333,
          650,
          705.6875,
          704.2,
          626.2666667,
          810.625,
          662.7333333,
          686.4375,
          753.9333333,
          650.6666667,
          664.7333333,
          778,
          758.875,
          732.6875,
          704.1875,
          762.2666667,
          755.7333333,
          716.2,
          719.6666667,
          802.9285714,
          706.0666667,
          757.8125,
          705.1875,
          737.5,
          754.1333333,
          701.8,
          853.4666667,
          711.3333333,
          728.4375,
          723.0625,
          754.25,
          728.25,
          728.7333333,
          715.2666667,
          703.9444444,
          726.6875,
          745.9375,
          732.8125,
          801.5625,
          738.8666667,
          694.375,
          714.4666667,
          737.9375,
          697.8125,
          754,
          760.6666667,
          754.5625,
          728.25,
          748.6428571,
          711.75,
          737.9375,
          747.8125,
          725,
          732.5625,
          751.2,
          775.2666667,
          745.375,
          745.3125,
          791.1428571,
          787.3333333,
          726.9375,
          789.8125,
          815.6666667,
          804,
          779.0625,
          788.5625,
          741.25,
          769.7333333,
          790.5625,
          771.8666667,
          807,
          734.2
         ],
         "y0": " ",
         "yaxis": "y"
        },
        {
         "alignmentgroup": "True",
         "hovertemplate": "sample_type=%{x}<br>v7=%{y}<extra></extra>",
         "legendgroup": "lab 2",
         "marker": {
          "color": "#A3A500"
         },
         "name": "lab 2",
         "notched": false,
         "offsetgroup": "lab 2",
         "orientation": "v",
         "showlegend": true,
         "type": "box",
         "x": [
          "lab 2",
          "lab 2",
          "lab 2",
          "lab 2",
          "lab 2",
          "lab 2",
          "lab 2",
          "lab 2",
          "lab 2",
          "lab 2",
          "lab 2",
          "lab 2",
          "lab 2",
          "lab 2",
          "lab 2",
          "lab 2",
          "lab 2",
          "lab 2",
          "lab 2",
          "lab 2",
          "lab 2",
          "lab 2",
          "lab 2",
          "lab 2",
          "lab 2",
          "lab 2",
          "lab 2",
          "lab 2",
          "lab 2",
          "lab 2",
          "lab 2",
          "lab 2",
          "lab 2",
          "lab 2",
          "lab 2",
          "lab 2",
          "lab 2",
          "lab 2",
          "lab 2",
          "lab 2",
          "lab 2",
          "lab 2",
          "lab 2",
          "lab 2",
          "lab 2",
          "lab 2",
          "lab 2",
          "lab 2",
          "lab 2",
          "lab 2",
          "lab 2",
          "lab 2",
          "lab 2",
          "lab 2",
          "lab 2",
          "lab 2",
          "lab 2",
          "lab 2",
          "lab 2",
          "lab 2"
         ],
         "x0": " ",
         "xaxis": "x",
         "y": [
          658.0666667,
          806.8571429,
          596.0625,
          638.75,
          646.3333333,
          658.5333333,
          679.2,
          635.5625,
          586.2666667,
          657.2,
          638.8125,
          655.0625,
          596.4,
          609.5333333,
          647.125,
          651,
          647.4736842,
          632.625,
          658.4666667,
          676.2,
          638.25,
          646.3333333,
          690.2,
          738.4666667,
          727.1052632,
          692.1875,
          642.5,
          677.875,
          685.125,
          752.2666667,
          738.125,
          725.875,
          689.375,
          752.1875,
          718.9333333,
          764.2666667,
          783.0666667,
          715.1333333,
          750.4,
          771.25,
          759.2666667,
          707.5625,
          706.375,
          723.8666667,
          757.6666667,
          721.5625,
          759.1428571,
          791.4666667,
          719.4666667,
          746.0666667,
          665.75,
          708.75,
          695.9375,
          759.1333333,
          734.2,
          712.3125,
          788.8125,
          792.1333333,
          730.125,
          718.7333333
         ],
         "y0": " ",
         "yaxis": "y"
        }
       ],
       "layout": {
        "boxmode": "overlay",
        "legend": {
         "title": {
          "text": "sample_type"
         },
         "tracegroupgap": 0
        },
        "template": {
         "data": {
          "bar": [
           {
            "error_x": {
             "color": "rgb(51,51,51)"
            },
            "error_y": {
             "color": "rgb(51,51,51)"
            },
            "marker": {
             "line": {
              "color": "rgb(237,237,237)",
              "width": 0.5
             },
             "pattern": {
              "fillmode": "overlay",
              "size": 10,
              "solidity": 0.2
             }
            },
            "type": "bar"
           }
          ],
          "barpolar": [
           {
            "marker": {
             "line": {
              "color": "rgb(237,237,237)",
              "width": 0.5
             },
             "pattern": {
              "fillmode": "overlay",
              "size": 10,
              "solidity": 0.2
             }
            },
            "type": "barpolar"
           }
          ],
          "carpet": [
           {
            "aaxis": {
             "endlinecolor": "rgb(51,51,51)",
             "gridcolor": "white",
             "linecolor": "white",
             "minorgridcolor": "white",
             "startlinecolor": "rgb(51,51,51)"
            },
            "baxis": {
             "endlinecolor": "rgb(51,51,51)",
             "gridcolor": "white",
             "linecolor": "white",
             "minorgridcolor": "white",
             "startlinecolor": "rgb(51,51,51)"
            },
            "type": "carpet"
           }
          ],
          "choropleth": [
           {
            "colorbar": {
             "outlinewidth": 0,
             "tickcolor": "rgb(237,237,237)",
             "ticklen": 6,
             "ticks": "inside"
            },
            "type": "choropleth"
           }
          ],
          "contour": [
           {
            "colorbar": {
             "outlinewidth": 0,
             "tickcolor": "rgb(237,237,237)",
             "ticklen": 6,
             "ticks": "inside"
            },
            "colorscale": [
             [
              0,
              "rgb(20,44,66)"
             ],
             [
              1,
              "rgb(90,179,244)"
             ]
            ],
            "type": "contour"
           }
          ],
          "contourcarpet": [
           {
            "colorbar": {
             "outlinewidth": 0,
             "tickcolor": "rgb(237,237,237)",
             "ticklen": 6,
             "ticks": "inside"
            },
            "type": "contourcarpet"
           }
          ],
          "heatmap": [
           {
            "colorbar": {
             "outlinewidth": 0,
             "tickcolor": "rgb(237,237,237)",
             "ticklen": 6,
             "ticks": "inside"
            },
            "colorscale": [
             [
              0,
              "rgb(20,44,66)"
             ],
             [
              1,
              "rgb(90,179,244)"
             ]
            ],
            "type": "heatmap"
           }
          ],
          "heatmapgl": [
           {
            "colorbar": {
             "outlinewidth": 0,
             "tickcolor": "rgb(237,237,237)",
             "ticklen": 6,
             "ticks": "inside"
            },
            "colorscale": [
             [
              0,
              "rgb(20,44,66)"
             ],
             [
              1,
              "rgb(90,179,244)"
             ]
            ],
            "type": "heatmapgl"
           }
          ],
          "histogram": [
           {
            "marker": {
             "pattern": {
              "fillmode": "overlay",
              "size": 10,
              "solidity": 0.2
             }
            },
            "type": "histogram"
           }
          ],
          "histogram2d": [
           {
            "colorbar": {
             "outlinewidth": 0,
             "tickcolor": "rgb(237,237,237)",
             "ticklen": 6,
             "ticks": "inside"
            },
            "colorscale": [
             [
              0,
              "rgb(20,44,66)"
             ],
             [
              1,
              "rgb(90,179,244)"
             ]
            ],
            "type": "histogram2d"
           }
          ],
          "histogram2dcontour": [
           {
            "colorbar": {
             "outlinewidth": 0,
             "tickcolor": "rgb(237,237,237)",
             "ticklen": 6,
             "ticks": "inside"
            },
            "colorscale": [
             [
              0,
              "rgb(20,44,66)"
             ],
             [
              1,
              "rgb(90,179,244)"
             ]
            ],
            "type": "histogram2dcontour"
           }
          ],
          "mesh3d": [
           {
            "colorbar": {
             "outlinewidth": 0,
             "tickcolor": "rgb(237,237,237)",
             "ticklen": 6,
             "ticks": "inside"
            },
            "type": "mesh3d"
           }
          ],
          "parcoords": [
           {
            "line": {
             "colorbar": {
              "outlinewidth": 0,
              "tickcolor": "rgb(237,237,237)",
              "ticklen": 6,
              "ticks": "inside"
             }
            },
            "type": "parcoords"
           }
          ],
          "pie": [
           {
            "automargin": true,
            "type": "pie"
           }
          ],
          "scatter": [
           {
            "marker": {
             "colorbar": {
              "outlinewidth": 0,
              "tickcolor": "rgb(237,237,237)",
              "ticklen": 6,
              "ticks": "inside"
             }
            },
            "type": "scatter"
           }
          ],
          "scatter3d": [
           {
            "line": {
             "colorbar": {
              "outlinewidth": 0,
              "tickcolor": "rgb(237,237,237)",
              "ticklen": 6,
              "ticks": "inside"
             }
            },
            "marker": {
             "colorbar": {
              "outlinewidth": 0,
              "tickcolor": "rgb(237,237,237)",
              "ticklen": 6,
              "ticks": "inside"
             }
            },
            "type": "scatter3d"
           }
          ],
          "scattercarpet": [
           {
            "marker": {
             "colorbar": {
              "outlinewidth": 0,
              "tickcolor": "rgb(237,237,237)",
              "ticklen": 6,
              "ticks": "inside"
             }
            },
            "type": "scattercarpet"
           }
          ],
          "scattergeo": [
           {
            "marker": {
             "colorbar": {
              "outlinewidth": 0,
              "tickcolor": "rgb(237,237,237)",
              "ticklen": 6,
              "ticks": "inside"
             }
            },
            "type": "scattergeo"
           }
          ],
          "scattergl": [
           {
            "marker": {
             "colorbar": {
              "outlinewidth": 0,
              "tickcolor": "rgb(237,237,237)",
              "ticklen": 6,
              "ticks": "inside"
             }
            },
            "type": "scattergl"
           }
          ],
          "scattermapbox": [
           {
            "marker": {
             "colorbar": {
              "outlinewidth": 0,
              "tickcolor": "rgb(237,237,237)",
              "ticklen": 6,
              "ticks": "inside"
             }
            },
            "type": "scattermapbox"
           }
          ],
          "scatterpolar": [
           {
            "marker": {
             "colorbar": {
              "outlinewidth": 0,
              "tickcolor": "rgb(237,237,237)",
              "ticklen": 6,
              "ticks": "inside"
             }
            },
            "type": "scatterpolar"
           }
          ],
          "scatterpolargl": [
           {
            "marker": {
             "colorbar": {
              "outlinewidth": 0,
              "tickcolor": "rgb(237,237,237)",
              "ticklen": 6,
              "ticks": "inside"
             }
            },
            "type": "scatterpolargl"
           }
          ],
          "scatterternary": [
           {
            "marker": {
             "colorbar": {
              "outlinewidth": 0,
              "tickcolor": "rgb(237,237,237)",
              "ticklen": 6,
              "ticks": "inside"
             }
            },
            "type": "scatterternary"
           }
          ],
          "surface": [
           {
            "colorbar": {
             "outlinewidth": 0,
             "tickcolor": "rgb(237,237,237)",
             "ticklen": 6,
             "ticks": "inside"
            },
            "colorscale": [
             [
              0,
              "rgb(20,44,66)"
             ],
             [
              1,
              "rgb(90,179,244)"
             ]
            ],
            "type": "surface"
           }
          ],
          "table": [
           {
            "cells": {
             "fill": {
              "color": "rgb(237,237,237)"
             },
             "line": {
              "color": "white"
             }
            },
            "header": {
             "fill": {
              "color": "rgb(217,217,217)"
             },
             "line": {
              "color": "white"
             }
            },
            "type": "table"
           }
          ]
         },
         "layout": {
          "annotationdefaults": {
           "arrowhead": 0,
           "arrowwidth": 1
          },
          "autotypenumbers": "strict",
          "coloraxis": {
           "colorbar": {
            "outlinewidth": 0,
            "tickcolor": "rgb(237,237,237)",
            "ticklen": 6,
            "ticks": "inside"
           }
          },
          "colorscale": {
           "sequential": [
            [
             0,
             "rgb(20,44,66)"
            ],
            [
             1,
             "rgb(90,179,244)"
            ]
           ],
           "sequentialminus": [
            [
             0,
             "rgb(20,44,66)"
            ],
            [
             1,
             "rgb(90,179,244)"
            ]
           ]
          },
          "colorway": [
           "#F8766D",
           "#A3A500",
           "#00BF7D",
           "#00B0F6",
           "#E76BF3"
          ],
          "font": {
           "color": "rgb(51,51,51)"
          },
          "geo": {
           "bgcolor": "white",
           "lakecolor": "white",
           "landcolor": "rgb(237,237,237)",
           "showlakes": true,
           "showland": true,
           "subunitcolor": "white"
          },
          "hoverlabel": {
           "align": "left"
          },
          "hovermode": "closest",
          "paper_bgcolor": "white",
          "plot_bgcolor": "rgb(237,237,237)",
          "polar": {
           "angularaxis": {
            "gridcolor": "white",
            "linecolor": "white",
            "showgrid": true,
            "tickcolor": "rgb(51,51,51)",
            "ticks": "outside"
           },
           "bgcolor": "rgb(237,237,237)",
           "radialaxis": {
            "gridcolor": "white",
            "linecolor": "white",
            "showgrid": true,
            "tickcolor": "rgb(51,51,51)",
            "ticks": "outside"
           }
          },
          "scene": {
           "xaxis": {
            "backgroundcolor": "rgb(237,237,237)",
            "gridcolor": "white",
            "gridwidth": 2,
            "linecolor": "white",
            "showbackground": true,
            "showgrid": true,
            "tickcolor": "rgb(51,51,51)",
            "ticks": "outside",
            "zerolinecolor": "white"
           },
           "yaxis": {
            "backgroundcolor": "rgb(237,237,237)",
            "gridcolor": "white",
            "gridwidth": 2,
            "linecolor": "white",
            "showbackground": true,
            "showgrid": true,
            "tickcolor": "rgb(51,51,51)",
            "ticks": "outside",
            "zerolinecolor": "white"
           },
           "zaxis": {
            "backgroundcolor": "rgb(237,237,237)",
            "gridcolor": "white",
            "gridwidth": 2,
            "linecolor": "white",
            "showbackground": true,
            "showgrid": true,
            "tickcolor": "rgb(51,51,51)",
            "ticks": "outside",
            "zerolinecolor": "white"
           }
          },
          "shapedefaults": {
           "fillcolor": "black",
           "line": {
            "width": 0
           },
           "opacity": 0.3
          },
          "ternary": {
           "aaxis": {
            "gridcolor": "white",
            "linecolor": "white",
            "showgrid": true,
            "tickcolor": "rgb(51,51,51)",
            "ticks": "outside"
           },
           "baxis": {
            "gridcolor": "white",
            "linecolor": "white",
            "showgrid": true,
            "tickcolor": "rgb(51,51,51)",
            "ticks": "outside"
           },
           "bgcolor": "rgb(237,237,237)",
           "caxis": {
            "gridcolor": "white",
            "linecolor": "white",
            "showgrid": true,
            "tickcolor": "rgb(51,51,51)",
            "ticks": "outside"
           }
          },
          "xaxis": {
           "automargin": true,
           "gridcolor": "white",
           "linecolor": "white",
           "showgrid": true,
           "tickcolor": "rgb(51,51,51)",
           "ticks": "outside",
           "title": {
            "standoff": 15
           },
           "zerolinecolor": "white"
          },
          "yaxis": {
           "automargin": true,
           "gridcolor": "white",
           "linecolor": "white",
           "showgrid": true,
           "tickcolor": "rgb(51,51,51)",
           "ticks": "outside",
           "title": {
            "standoff": 15
           },
           "zerolinecolor": "white"
          }
         }
        },
        "title": {
         "text": "<b>v7 on sample_type"
        },
        "xaxis": {
         "anchor": "y",
         "categoryarray": [
          "lab 1",
          "lab 2"
         ],
         "categoryorder": "array",
         "domain": [
          0,
          1
         ],
         "title": {
          "text": "sample_type"
         }
        },
        "yaxis": {
         "anchor": "x",
         "domain": [
          0,
          1
         ],
         "title": {
          "text": "v7"
         }
        }
       }
      }
     },
     "metadata": {},
     "output_type": "display_data"
    }
   ],
   "source": [
    "px.box(df, x='sample_type', y='v7',\n",
    "       color='sample_type', template='ggplot2',\n",
    "       labels={'sample_type': 'sample_type',\n",
    "               'v7': 'v7'},\n",
    "       title=\"<b>v7 on sample_type\")"
   ]
  },
  {
   "attachments": {},
   "cell_type": "markdown",
   "metadata": {},
   "source": [
    "Berdasarkan visualisasi di atas, diketahui bahwa sample di `lab 1` memiliki nilai `v7` paling rendah `620.875` dan paling tinggi `853.4667`.\n",
    "Sample di `lab 2` memiliki nilai `v7` paling rendah `586.2667` dan paling tinggi `806.8571`.\n",
    "\n",
    "Jika dibandingkan maka nilai `v7` paling rendah berada di `sample_type lab 2`  dan nilai `v7` tertinggi berada di `sample type lab 1`."
   ]
  },
  {
   "cell_type": "code",
   "execution_count": 25,
   "metadata": {},
   "outputs": [
    {
     "data": {
      "application/vnd.plotly.v1+json": {
       "config": {
        "plotlyServerURL": "https://plot.ly"
       },
       "data": [
        {
         "alignmentgroup": "True",
         "hovertemplate": "sample_type=%{x}<br>v8=%{y}<extra></extra>",
         "legendgroup": "lab 1",
         "marker": {
          "color": "#F8766D"
         },
         "name": "lab 1",
         "notched": false,
         "offsetgroup": "lab 1",
         "orientation": "v",
         "showlegend": true,
         "type": "box",
         "x": [
          "lab 1",
          "lab 1",
          "lab 1",
          "lab 1",
          "lab 1",
          "lab 1",
          "lab 1",
          "lab 1",
          "lab 1",
          "lab 1",
          "lab 1",
          "lab 1",
          "lab 1",
          "lab 1",
          "lab 1",
          "lab 1",
          "lab 1",
          "lab 1",
          "lab 1",
          "lab 1",
          "lab 1",
          "lab 1",
          "lab 1",
          "lab 1",
          "lab 1",
          "lab 1",
          "lab 1",
          "lab 1",
          "lab 1",
          "lab 1",
          "lab 1",
          "lab 1",
          "lab 1",
          "lab 1",
          "lab 1",
          "lab 1",
          "lab 1",
          "lab 1",
          "lab 1",
          "lab 1",
          "lab 1",
          "lab 1",
          "lab 1",
          "lab 1",
          "lab 1",
          "lab 1",
          "lab 1",
          "lab 1",
          "lab 1",
          "lab 1",
          "lab 1",
          "lab 1",
          "lab 1",
          "lab 1",
          "lab 1",
          "lab 1",
          "lab 1",
          "lab 1",
          "lab 1",
          "lab 1",
          "lab 1",
          "lab 1",
          "lab 1",
          "lab 1",
          "lab 1",
          "lab 1",
          "lab 1",
          "lab 1",
          "lab 1",
          "lab 1",
          "lab 1",
          "lab 1",
          "lab 1",
          "lab 1",
          "lab 1",
          "lab 1",
          "lab 1",
          "lab 1",
          "lab 1",
          "lab 1",
          "lab 1",
          "lab 1",
          "lab 1",
          "lab 1",
          "lab 1",
          "lab 1",
          "lab 1",
          "lab 1",
          "lab 1",
          "lab 1",
          "lab 1",
          "lab 1",
          "lab 1",
          "lab 1",
          "lab 1",
          "lab 1",
          "lab 1",
          "lab 1",
          "lab 1",
          "lab 1"
         ],
         "x0": " ",
         "xaxis": "x",
         "y": [
          4047.733333,
          4673.466667,
          4386.8,
          4588.777778,
          4867.066667,
          4493.944444,
          4386.733333,
          4646.2,
          4751.466667,
          4255.2,
          4643.785714,
          4756.285714,
          4383,
          4624,
          4270.75,
          4599.8125,
          4687.25,
          4484.2,
          4848.133333,
          4656.533333,
          4606.466667,
          4658.9375,
          4524.2,
          4724.375,
          4689.333333,
          4189.625,
          3961.625,
          4406.6875,
          4523.8,
          4219.875,
          4590.875,
          4470.333333,
          4142.8,
          4834.1875,
          4437.866667,
          4453.9375,
          4824.933333,
          4551.666667,
          4795.466667,
          4485.266667,
          4491.0625,
          4692,
          4538.4375,
          4472.666667,
          4699.6,
          4567.8,
          4206.466667,
          4679.5,
          4520.933333,
          4722.5625,
          4768.25,
          4566.0625,
          4676,
          4704.533333,
          4111.733333,
          4701.466667,
          4752.4375,
          4359.4375,
          4622.1875,
          4581.75,
          4417.733333,
          4653.333333,
          4589.611111,
          4589.0625,
          4611.125,
          4632.6875,
          4495.4375,
          4526.8,
          4801.1875,
          4700.4,
          4648.25,
          4431.4375,
          4773,
          4761.333333,
          4806.625,
          4747.3125,
          4613.714286,
          4592.625,
          4528.3125,
          4609.0625,
          4557.866667,
          4756.3125,
          4714,
          4703,
          4745.375,
          4747.75,
          4780.928571,
          4784.666667,
          4625.5,
          4508.875,
          4633.466667,
          5086.375,
          4971.4375,
          4973.25,
          4783.4375,
          4871.666667,
          4871,
          4859.466667,
          4762.625,
          5004
         ],
         "y0": " ",
         "yaxis": "y"
        },
        {
         "alignmentgroup": "True",
         "hovertemplate": "sample_type=%{x}<br>v8=%{y}<extra></extra>",
         "legendgroup": "lab 2",
         "marker": {
          "color": "#A3A500"
         },
         "name": "lab 2",
         "notched": false,
         "offsetgroup": "lab 2",
         "orientation": "v",
         "showlegend": true,
         "type": "box",
         "x": [
          "lab 2",
          "lab 2",
          "lab 2",
          "lab 2",
          "lab 2",
          "lab 2",
          "lab 2",
          "lab 2",
          "lab 2",
          "lab 2",
          "lab 2",
          "lab 2",
          "lab 2",
          "lab 2",
          "lab 2",
          "lab 2",
          "lab 2",
          "lab 2",
          "lab 2",
          "lab 2",
          "lab 2",
          "lab 2",
          "lab 2",
          "lab 2",
          "lab 2",
          "lab 2",
          "lab 2",
          "lab 2",
          "lab 2",
          "lab 2",
          "lab 2",
          "lab 2",
          "lab 2",
          "lab 2",
          "lab 2",
          "lab 2",
          "lab 2",
          "lab 2",
          "lab 2",
          "lab 2",
          "lab 2",
          "lab 2",
          "lab 2",
          "lab 2",
          "lab 2",
          "lab 2",
          "lab 2",
          "lab 2",
          "lab 2",
          "lab 2",
          "lab 2",
          "lab 2",
          "lab 2",
          "lab 2",
          "lab 2",
          "lab 2",
          "lab 2",
          "lab 2",
          "lab 2",
          "lab 2"
         ],
         "x0": " ",
         "xaxis": "x",
         "y": [
          4377.333333,
          4836.571429,
          4458.5,
          4467.875,
          4274.333333,
          4607,
          4773.2,
          4509.5,
          4324.6,
          4690.6,
          4462.0625,
          4601.1875,
          4430.066667,
          4217.133333,
          4573.3125,
          4428.3125,
          4418.684211,
          4709.375,
          4530.333333,
          4423.866667,
          4598.4375,
          4544.666667,
          4508,
          4495.933333,
          4670.210526,
          4820.625,
          4705.9375,
          4701.25,
          4423.8125,
          4634.933333,
          3836.8125,
          3961.4375,
          3836.5625,
          3772.875,
          3836,
          3853.133333,
          3962.666667,
          3958.733333,
          3922.866667,
          3868.125,
          3869,
          3889.625,
          3873,
          3823,
          3883.533333,
          3947.125,
          3790.928571,
          3725.666667,
          3738.466667,
          3892.933333,
          3917.625,
          3889.375,
          3858.5,
          3895.4,
          3741.266667,
          3943.6875,
          3928.1875,
          3861.2,
          3859.0625,
          3903.333333
         ],
         "y0": " ",
         "yaxis": "y"
        }
       ],
       "layout": {
        "boxmode": "overlay",
        "legend": {
         "title": {
          "text": "sample_type"
         },
         "tracegroupgap": 0
        },
        "template": {
         "data": {
          "bar": [
           {
            "error_x": {
             "color": "rgb(51,51,51)"
            },
            "error_y": {
             "color": "rgb(51,51,51)"
            },
            "marker": {
             "line": {
              "color": "rgb(237,237,237)",
              "width": 0.5
             },
             "pattern": {
              "fillmode": "overlay",
              "size": 10,
              "solidity": 0.2
             }
            },
            "type": "bar"
           }
          ],
          "barpolar": [
           {
            "marker": {
             "line": {
              "color": "rgb(237,237,237)",
              "width": 0.5
             },
             "pattern": {
              "fillmode": "overlay",
              "size": 10,
              "solidity": 0.2
             }
            },
            "type": "barpolar"
           }
          ],
          "carpet": [
           {
            "aaxis": {
             "endlinecolor": "rgb(51,51,51)",
             "gridcolor": "white",
             "linecolor": "white",
             "minorgridcolor": "white",
             "startlinecolor": "rgb(51,51,51)"
            },
            "baxis": {
             "endlinecolor": "rgb(51,51,51)",
             "gridcolor": "white",
             "linecolor": "white",
             "minorgridcolor": "white",
             "startlinecolor": "rgb(51,51,51)"
            },
            "type": "carpet"
           }
          ],
          "choropleth": [
           {
            "colorbar": {
             "outlinewidth": 0,
             "tickcolor": "rgb(237,237,237)",
             "ticklen": 6,
             "ticks": "inside"
            },
            "type": "choropleth"
           }
          ],
          "contour": [
           {
            "colorbar": {
             "outlinewidth": 0,
             "tickcolor": "rgb(237,237,237)",
             "ticklen": 6,
             "ticks": "inside"
            },
            "colorscale": [
             [
              0,
              "rgb(20,44,66)"
             ],
             [
              1,
              "rgb(90,179,244)"
             ]
            ],
            "type": "contour"
           }
          ],
          "contourcarpet": [
           {
            "colorbar": {
             "outlinewidth": 0,
             "tickcolor": "rgb(237,237,237)",
             "ticklen": 6,
             "ticks": "inside"
            },
            "type": "contourcarpet"
           }
          ],
          "heatmap": [
           {
            "colorbar": {
             "outlinewidth": 0,
             "tickcolor": "rgb(237,237,237)",
             "ticklen": 6,
             "ticks": "inside"
            },
            "colorscale": [
             [
              0,
              "rgb(20,44,66)"
             ],
             [
              1,
              "rgb(90,179,244)"
             ]
            ],
            "type": "heatmap"
           }
          ],
          "heatmapgl": [
           {
            "colorbar": {
             "outlinewidth": 0,
             "tickcolor": "rgb(237,237,237)",
             "ticklen": 6,
             "ticks": "inside"
            },
            "colorscale": [
             [
              0,
              "rgb(20,44,66)"
             ],
             [
              1,
              "rgb(90,179,244)"
             ]
            ],
            "type": "heatmapgl"
           }
          ],
          "histogram": [
           {
            "marker": {
             "pattern": {
              "fillmode": "overlay",
              "size": 10,
              "solidity": 0.2
             }
            },
            "type": "histogram"
           }
          ],
          "histogram2d": [
           {
            "colorbar": {
             "outlinewidth": 0,
             "tickcolor": "rgb(237,237,237)",
             "ticklen": 6,
             "ticks": "inside"
            },
            "colorscale": [
             [
              0,
              "rgb(20,44,66)"
             ],
             [
              1,
              "rgb(90,179,244)"
             ]
            ],
            "type": "histogram2d"
           }
          ],
          "histogram2dcontour": [
           {
            "colorbar": {
             "outlinewidth": 0,
             "tickcolor": "rgb(237,237,237)",
             "ticklen": 6,
             "ticks": "inside"
            },
            "colorscale": [
             [
              0,
              "rgb(20,44,66)"
             ],
             [
              1,
              "rgb(90,179,244)"
             ]
            ],
            "type": "histogram2dcontour"
           }
          ],
          "mesh3d": [
           {
            "colorbar": {
             "outlinewidth": 0,
             "tickcolor": "rgb(237,237,237)",
             "ticklen": 6,
             "ticks": "inside"
            },
            "type": "mesh3d"
           }
          ],
          "parcoords": [
           {
            "line": {
             "colorbar": {
              "outlinewidth": 0,
              "tickcolor": "rgb(237,237,237)",
              "ticklen": 6,
              "ticks": "inside"
             }
            },
            "type": "parcoords"
           }
          ],
          "pie": [
           {
            "automargin": true,
            "type": "pie"
           }
          ],
          "scatter": [
           {
            "marker": {
             "colorbar": {
              "outlinewidth": 0,
              "tickcolor": "rgb(237,237,237)",
              "ticklen": 6,
              "ticks": "inside"
             }
            },
            "type": "scatter"
           }
          ],
          "scatter3d": [
           {
            "line": {
             "colorbar": {
              "outlinewidth": 0,
              "tickcolor": "rgb(237,237,237)",
              "ticklen": 6,
              "ticks": "inside"
             }
            },
            "marker": {
             "colorbar": {
              "outlinewidth": 0,
              "tickcolor": "rgb(237,237,237)",
              "ticklen": 6,
              "ticks": "inside"
             }
            },
            "type": "scatter3d"
           }
          ],
          "scattercarpet": [
           {
            "marker": {
             "colorbar": {
              "outlinewidth": 0,
              "tickcolor": "rgb(237,237,237)",
              "ticklen": 6,
              "ticks": "inside"
             }
            },
            "type": "scattercarpet"
           }
          ],
          "scattergeo": [
           {
            "marker": {
             "colorbar": {
              "outlinewidth": 0,
              "tickcolor": "rgb(237,237,237)",
              "ticklen": 6,
              "ticks": "inside"
             }
            },
            "type": "scattergeo"
           }
          ],
          "scattergl": [
           {
            "marker": {
             "colorbar": {
              "outlinewidth": 0,
              "tickcolor": "rgb(237,237,237)",
              "ticklen": 6,
              "ticks": "inside"
             }
            },
            "type": "scattergl"
           }
          ],
          "scattermapbox": [
           {
            "marker": {
             "colorbar": {
              "outlinewidth": 0,
              "tickcolor": "rgb(237,237,237)",
              "ticklen": 6,
              "ticks": "inside"
             }
            },
            "type": "scattermapbox"
           }
          ],
          "scatterpolar": [
           {
            "marker": {
             "colorbar": {
              "outlinewidth": 0,
              "tickcolor": "rgb(237,237,237)",
              "ticklen": 6,
              "ticks": "inside"
             }
            },
            "type": "scatterpolar"
           }
          ],
          "scatterpolargl": [
           {
            "marker": {
             "colorbar": {
              "outlinewidth": 0,
              "tickcolor": "rgb(237,237,237)",
              "ticklen": 6,
              "ticks": "inside"
             }
            },
            "type": "scatterpolargl"
           }
          ],
          "scatterternary": [
           {
            "marker": {
             "colorbar": {
              "outlinewidth": 0,
              "tickcolor": "rgb(237,237,237)",
              "ticklen": 6,
              "ticks": "inside"
             }
            },
            "type": "scatterternary"
           }
          ],
          "surface": [
           {
            "colorbar": {
             "outlinewidth": 0,
             "tickcolor": "rgb(237,237,237)",
             "ticklen": 6,
             "ticks": "inside"
            },
            "colorscale": [
             [
              0,
              "rgb(20,44,66)"
             ],
             [
              1,
              "rgb(90,179,244)"
             ]
            ],
            "type": "surface"
           }
          ],
          "table": [
           {
            "cells": {
             "fill": {
              "color": "rgb(237,237,237)"
             },
             "line": {
              "color": "white"
             }
            },
            "header": {
             "fill": {
              "color": "rgb(217,217,217)"
             },
             "line": {
              "color": "white"
             }
            },
            "type": "table"
           }
          ]
         },
         "layout": {
          "annotationdefaults": {
           "arrowhead": 0,
           "arrowwidth": 1
          },
          "autotypenumbers": "strict",
          "coloraxis": {
           "colorbar": {
            "outlinewidth": 0,
            "tickcolor": "rgb(237,237,237)",
            "ticklen": 6,
            "ticks": "inside"
           }
          },
          "colorscale": {
           "sequential": [
            [
             0,
             "rgb(20,44,66)"
            ],
            [
             1,
             "rgb(90,179,244)"
            ]
           ],
           "sequentialminus": [
            [
             0,
             "rgb(20,44,66)"
            ],
            [
             1,
             "rgb(90,179,244)"
            ]
           ]
          },
          "colorway": [
           "#F8766D",
           "#A3A500",
           "#00BF7D",
           "#00B0F6",
           "#E76BF3"
          ],
          "font": {
           "color": "rgb(51,51,51)"
          },
          "geo": {
           "bgcolor": "white",
           "lakecolor": "white",
           "landcolor": "rgb(237,237,237)",
           "showlakes": true,
           "showland": true,
           "subunitcolor": "white"
          },
          "hoverlabel": {
           "align": "left"
          },
          "hovermode": "closest",
          "paper_bgcolor": "white",
          "plot_bgcolor": "rgb(237,237,237)",
          "polar": {
           "angularaxis": {
            "gridcolor": "white",
            "linecolor": "white",
            "showgrid": true,
            "tickcolor": "rgb(51,51,51)",
            "ticks": "outside"
           },
           "bgcolor": "rgb(237,237,237)",
           "radialaxis": {
            "gridcolor": "white",
            "linecolor": "white",
            "showgrid": true,
            "tickcolor": "rgb(51,51,51)",
            "ticks": "outside"
           }
          },
          "scene": {
           "xaxis": {
            "backgroundcolor": "rgb(237,237,237)",
            "gridcolor": "white",
            "gridwidth": 2,
            "linecolor": "white",
            "showbackground": true,
            "showgrid": true,
            "tickcolor": "rgb(51,51,51)",
            "ticks": "outside",
            "zerolinecolor": "white"
           },
           "yaxis": {
            "backgroundcolor": "rgb(237,237,237)",
            "gridcolor": "white",
            "gridwidth": 2,
            "linecolor": "white",
            "showbackground": true,
            "showgrid": true,
            "tickcolor": "rgb(51,51,51)",
            "ticks": "outside",
            "zerolinecolor": "white"
           },
           "zaxis": {
            "backgroundcolor": "rgb(237,237,237)",
            "gridcolor": "white",
            "gridwidth": 2,
            "linecolor": "white",
            "showbackground": true,
            "showgrid": true,
            "tickcolor": "rgb(51,51,51)",
            "ticks": "outside",
            "zerolinecolor": "white"
           }
          },
          "shapedefaults": {
           "fillcolor": "black",
           "line": {
            "width": 0
           },
           "opacity": 0.3
          },
          "ternary": {
           "aaxis": {
            "gridcolor": "white",
            "linecolor": "white",
            "showgrid": true,
            "tickcolor": "rgb(51,51,51)",
            "ticks": "outside"
           },
           "baxis": {
            "gridcolor": "white",
            "linecolor": "white",
            "showgrid": true,
            "tickcolor": "rgb(51,51,51)",
            "ticks": "outside"
           },
           "bgcolor": "rgb(237,237,237)",
           "caxis": {
            "gridcolor": "white",
            "linecolor": "white",
            "showgrid": true,
            "tickcolor": "rgb(51,51,51)",
            "ticks": "outside"
           }
          },
          "xaxis": {
           "automargin": true,
           "gridcolor": "white",
           "linecolor": "white",
           "showgrid": true,
           "tickcolor": "rgb(51,51,51)",
           "ticks": "outside",
           "title": {
            "standoff": 15
           },
           "zerolinecolor": "white"
          },
          "yaxis": {
           "automargin": true,
           "gridcolor": "white",
           "linecolor": "white",
           "showgrid": true,
           "tickcolor": "rgb(51,51,51)",
           "ticks": "outside",
           "title": {
            "standoff": 15
           },
           "zerolinecolor": "white"
          }
         }
        },
        "title": {
         "text": "<b>v8 on sample_type"
        },
        "xaxis": {
         "anchor": "y",
         "categoryarray": [
          "lab 1",
          "lab 2"
         ],
         "categoryorder": "array",
         "domain": [
          0,
          1
         ],
         "title": {
          "text": "sample_type"
         }
        },
        "yaxis": {
         "anchor": "x",
         "domain": [
          0,
          1
         ],
         "title": {
          "text": "v8"
         }
        }
       }
      }
     },
     "metadata": {},
     "output_type": "display_data"
    }
   ],
   "source": [
    "px.box(df, x='sample_type', y='v8',\n",
    "       color='sample_type', template='ggplot2',\n",
    "       labels={'sample_type': 'sample_type',\n",
    "               'v8': 'v8'},\n",
    "       title=\"<b>v8 on sample_type\")"
   ]
  },
  {
   "attachments": {},
   "cell_type": "markdown",
   "metadata": {},
   "source": [
    "Berdasarkan visualisasi di atas, diketahui bahwa sample di `lab 1` memiliki nilai `v8` paling rendah `3961.625` dan paling tinggi `5086.375`.\n",
    "Sample di `lab 2` memiliki nilai `v8` paling rendah `3725.667` dan paling tinggi `4836.571`.\n",
    "\n",
    "Jika dibandingkan maka nilai `v8` paling rendah berada di `sample_type lab 2`  dan nilai `v8` tertinggi berada di `sample type lab 1`."
   ]
  },
  {
   "attachments": {},
   "cell_type": "markdown",
   "metadata": {},
   "source": [
    "### Data Split\n",
    "\n",
    "Tahp ini untuk melakukan pembagian data menjadi data train dan data test. Data train digunakan untuk proses latihan model terhadap data dan data test digunakan prsoes untuk ujian. Dapat dianalogikan model seperti seorang siswa yang akan melakukan proses latihan dengan cara mengerjakan pengayaan materi, soal latihan yang diberikan guru dan buku pelajaran, atau pekerjaan rumah sedangkan data test seperti soarang siswa yang mengerjakan ujian seperti UTS atau UAS."
   ]
  },
  {
   "cell_type": "code",
   "execution_count": 26,
   "metadata": {},
   "outputs": [
    {
     "name": "stdout",
     "output_type": "stream",
     "text": [
      "(112, 9)\n",
      "(48, 9)\n",
      "(112,)\n",
      "(48,)\n"
     ]
    }
   ],
   "source": [
    "X = df_clean.drop('target', axis=1)\n",
    "y = df_clean['target']\n",
    "\n",
    "X_train, X_test, y_train, y_test = train_test_split(X, y, test_size=0.3, random_state=0)\n",
    "\n",
    "for i in [X_train, X_test, y_train, y_test]:\n",
    "    print(i.shape)"
   ]
  },
  {
   "attachments": {},
   "cell_type": "markdown",
   "metadata": {},
   "source": [
    "Pada penelitian ini, 70% dataset akan digunakan untuk data train sedangkan 30% dataset akan digunakan untuk data test.\n",
    "Kolom feature atau X kolom terdiri dari kolom `v1` sampai `v8` dan `sample_type`. kolom target atau y target pada penelitian ini adalah kolom `target`. `X_train` terdiri dari 112 baris dan 9 kolom, `X_test` terdiri dari 48 baris dan 9 kolom sedangkan `y_train` terdiri dari 112 baris dan `y_test` terdiri dari 48 baris. "
   ]
  },
  {
   "attachments": {},
   "cell_type": "markdown",
   "metadata": {},
   "source": [
    "### EDA for Modeling\n",
    "Setelah split data, kemudian akan dilakukan tahap EDA untuk melihat distribusi data dan outlier pada feature numerik data train"
   ]
  },
  {
   "cell_type": "code",
   "execution_count": 40,
   "metadata": {},
   "outputs": [
    {
     "data": {
      "text/html": [
       "<div>\n",
       "<style scoped>\n",
       "    .dataframe tbody tr th:only-of-type {\n",
       "        vertical-align: middle;\n",
       "    }\n",
       "\n",
       "    .dataframe tbody tr th {\n",
       "        vertical-align: top;\n",
       "    }\n",
       "\n",
       "    .dataframe thead th {\n",
       "        text-align: right;\n",
       "    }\n",
       "</style>\n",
       "<table border=\"1\" class=\"dataframe\">\n",
       "  <thead>\n",
       "    <tr style=\"text-align: right;\">\n",
       "      <th></th>\n",
       "      <th>v1</th>\n",
       "      <th>v2</th>\n",
       "      <th>v3</th>\n",
       "      <th>v4</th>\n",
       "      <th>v5</th>\n",
       "      <th>v6</th>\n",
       "      <th>v7</th>\n",
       "      <th>v8</th>\n",
       "      <th>sample_type</th>\n",
       "      <th>target</th>\n",
       "    </tr>\n",
       "  </thead>\n",
       "  <tbody>\n",
       "    <tr>\n",
       "      <th>118</th>\n",
       "      <td>557.266667</td>\n",
       "      <td>210.800000</td>\n",
       "      <td>586.666667</td>\n",
       "      <td>370.733333</td>\n",
       "      <td>462.466667</td>\n",
       "      <td>203.466667</td>\n",
       "      <td>658.466667</td>\n",
       "      <td>4530.333333</td>\n",
       "      <td>lab 2</td>\n",
       "      <td>5.11</td>\n",
       "    </tr>\n",
       "    <tr>\n",
       "      <th>95</th>\n",
       "      <td>331.466667</td>\n",
       "      <td>244.866667</td>\n",
       "      <td>424.533333</td>\n",
       "      <td>404.333333</td>\n",
       "      <td>457.800000</td>\n",
       "      <td>257.733333</td>\n",
       "      <td>769.733333</td>\n",
       "      <td>4871.666667</td>\n",
       "      <td>lab 1</td>\n",
       "      <td>4.84</td>\n",
       "    </tr>\n",
       "    <tr>\n",
       "      <th>55</th>\n",
       "      <td>272.333333</td>\n",
       "      <td>205.000000</td>\n",
       "      <td>383.266667</td>\n",
       "      <td>366.666667</td>\n",
       "      <td>414.000000</td>\n",
       "      <td>222.333333</td>\n",
       "      <td>711.333333</td>\n",
       "      <td>4701.466667</td>\n",
       "      <td>lab 1</td>\n",
       "      <td>4.59</td>\n",
       "    </tr>\n",
       "    <tr>\n",
       "      <th>109</th>\n",
       "      <td>525.333333</td>\n",
       "      <td>195.066667</td>\n",
       "      <td>591.866667</td>\n",
       "      <td>382.733333</td>\n",
       "      <td>478.600000</td>\n",
       "      <td>207.466667</td>\n",
       "      <td>657.200000</td>\n",
       "      <td>4690.600000</td>\n",
       "      <td>lab 2</td>\n",
       "      <td>4.84</td>\n",
       "    </tr>\n",
       "    <tr>\n",
       "      <th>18</th>\n",
       "      <td>266.533333</td>\n",
       "      <td>203.000000</td>\n",
       "      <td>393.933333</td>\n",
       "      <td>358.000000</td>\n",
       "      <td>428.400000</td>\n",
       "      <td>219.666667</td>\n",
       "      <td>715.800000</td>\n",
       "      <td>4848.133333</td>\n",
       "      <td>lab 1</td>\n",
       "      <td>5.26</td>\n",
       "    </tr>\n",
       "    <tr>\n",
       "      <th>157</th>\n",
       "      <td>634.000000</td>\n",
       "      <td>382.866667</td>\n",
       "      <td>657.466667</td>\n",
       "      <td>505.066667</td>\n",
       "      <td>719.200000</td>\n",
       "      <td>366.600000</td>\n",
       "      <td>792.133333</td>\n",
       "      <td>3861.200000</td>\n",
       "      <td>lab 2</td>\n",
       "      <td>4.63</td>\n",
       "    </tr>\n",
       "    <tr>\n",
       "      <th>30</th>\n",
       "      <td>260.562500</td>\n",
       "      <td>192.937500</td>\n",
       "      <td>384.750000</td>\n",
       "      <td>337.812500</td>\n",
       "      <td>405.312500</td>\n",
       "      <td>214.937500</td>\n",
       "      <td>705.687500</td>\n",
       "      <td>4590.875000</td>\n",
       "      <td>lab 1</td>\n",
       "      <td>4.92</td>\n",
       "    </tr>\n",
       "    <tr>\n",
       "      <th>94</th>\n",
       "      <td>305.250000</td>\n",
       "      <td>234.250000</td>\n",
       "      <td>434.125000</td>\n",
       "      <td>392.937500</td>\n",
       "      <td>458.500000</td>\n",
       "      <td>252.375000</td>\n",
       "      <td>741.250000</td>\n",
       "      <td>4783.437500</td>\n",
       "      <td>lab 1</td>\n",
       "      <td>4.60</td>\n",
       "    </tr>\n",
       "    <tr>\n",
       "      <th>73</th>\n",
       "      <td>290.200000</td>\n",
       "      <td>213.466667</td>\n",
       "      <td>393.000000</td>\n",
       "      <td>381.266667</td>\n",
       "      <td>444.133333</td>\n",
       "      <td>231.000000</td>\n",
       "      <td>760.666667</td>\n",
       "      <td>4761.333333</td>\n",
       "      <td>lab 1</td>\n",
       "      <td>4.62</td>\n",
       "    </tr>\n",
       "    <tr>\n",
       "      <th>107</th>\n",
       "      <td>514.125000</td>\n",
       "      <td>205.000000</td>\n",
       "      <td>573.375000</td>\n",
       "      <td>364.562500</td>\n",
       "      <td>474.937500</td>\n",
       "      <td>209.750000</td>\n",
       "      <td>635.562500</td>\n",
       "      <td>4509.500000</td>\n",
       "      <td>lab 2</td>\n",
       "      <td>4.66</td>\n",
       "    </tr>\n",
       "    <tr>\n",
       "      <th>2</th>\n",
       "      <td>247.266667</td>\n",
       "      <td>205.800000</td>\n",
       "      <td>375.466667</td>\n",
       "      <td>354.866667</td>\n",
       "      <td>419.000000</td>\n",
       "      <td>222.133333</td>\n",
       "      <td>677.200000</td>\n",
       "      <td>4386.800000</td>\n",
       "      <td>lab 1</td>\n",
       "      <td>4.91</td>\n",
       "    </tr>\n",
       "    <tr>\n",
       "      <th>139</th>\n",
       "      <td>672.500000</td>\n",
       "      <td>412.312500</td>\n",
       "      <td>692.125000</td>\n",
       "      <td>547.750000</td>\n",
       "      <td>712.687500</td>\n",
       "      <td>396.125000</td>\n",
       "      <td>771.250000</td>\n",
       "      <td>3868.125000</td>\n",
       "      <td>lab 2</td>\n",
       "      <td>4.58</td>\n",
       "    </tr>\n",
       "    <tr>\n",
       "      <th>83</th>\n",
       "      <td>274.533333</td>\n",
       "      <td>187.133333</td>\n",
       "      <td>397.533333</td>\n",
       "      <td>379.866667</td>\n",
       "      <td>449.066667</td>\n",
       "      <td>235.800000</td>\n",
       "      <td>775.266667</td>\n",
       "      <td>4703.000000</td>\n",
       "      <td>lab 1</td>\n",
       "      <td>4.53</td>\n",
       "    </tr>\n",
       "    <tr>\n",
       "      <th>43</th>\n",
       "      <td>277.133333</td>\n",
       "      <td>201.600000</td>\n",
       "      <td>402.400000</td>\n",
       "      <td>379.733333</td>\n",
       "      <td>420.533333</td>\n",
       "      <td>220.600000</td>\n",
       "      <td>762.266667</td>\n",
       "      <td>4472.666667</td>\n",
       "      <td>lab 1</td>\n",
       "      <td>4.40</td>\n",
       "    </tr>\n",
       "    <tr>\n",
       "      <th>71</th>\n",
       "      <td>286.687500</td>\n",
       "      <td>185.250000</td>\n",
       "      <td>371.125000</td>\n",
       "      <td>342.625000</td>\n",
       "      <td>409.500000</td>\n",
       "      <td>212.437500</td>\n",
       "      <td>697.812500</td>\n",
       "      <td>4431.437500</td>\n",
       "      <td>lab 1</td>\n",
       "      <td>4.88</td>\n",
       "    </tr>\n",
       "    <tr>\n",
       "      <th>10</th>\n",
       "      <td>266.857143</td>\n",
       "      <td>189.142857</td>\n",
       "      <td>383.428571</td>\n",
       "      <td>324.285714</td>\n",
       "      <td>401.285714</td>\n",
       "      <td>196.714286</td>\n",
       "      <td>666.071429</td>\n",
       "      <td>4643.785714</td>\n",
       "      <td>lab 1</td>\n",
       "      <td>4.69</td>\n",
       "    </tr>\n",
       "    <tr>\n",
       "      <th>141</th>\n",
       "      <td>614.187500</td>\n",
       "      <td>368.375000</td>\n",
       "      <td>650.250000</td>\n",
       "      <td>500.062500</td>\n",
       "      <td>678.687500</td>\n",
       "      <td>349.000000</td>\n",
       "      <td>707.562500</td>\n",
       "      <td>3889.625000</td>\n",
       "      <td>lab 2</td>\n",
       "      <td>4.45</td>\n",
       "    </tr>\n",
       "    <tr>\n",
       "      <th>154</th>\n",
       "      <td>624.200000</td>\n",
       "      <td>377.666667</td>\n",
       "      <td>645.666667</td>\n",
       "      <td>486.733333</td>\n",
       "      <td>699.733333</td>\n",
       "      <td>364.400000</td>\n",
       "      <td>734.200000</td>\n",
       "      <td>3741.266667</td>\n",
       "      <td>lab 2</td>\n",
       "      <td>4.79</td>\n",
       "    </tr>\n",
       "    <tr>\n",
       "      <th>96</th>\n",
       "      <td>341.500000</td>\n",
       "      <td>263.562500</td>\n",
       "      <td>448.500000</td>\n",
       "      <td>428.312500</td>\n",
       "      <td>497.500000</td>\n",
       "      <td>292.437500</td>\n",
       "      <td>790.562500</td>\n",
       "      <td>4871.000000</td>\n",
       "      <td>lab 1</td>\n",
       "      <td>4.71</td>\n",
       "    </tr>\n",
       "    <tr>\n",
       "      <th>89</th>\n",
       "      <td>327.812500</td>\n",
       "      <td>260.125000</td>\n",
       "      <td>450.000000</td>\n",
       "      <td>439.875000</td>\n",
       "      <td>494.375000</td>\n",
       "      <td>283.937500</td>\n",
       "      <td>789.812500</td>\n",
       "      <td>4508.875000</td>\n",
       "      <td>lab 1</td>\n",
       "      <td>4.80</td>\n",
       "    </tr>\n",
       "    <tr>\n",
       "      <th>144</th>\n",
       "      <td>652.666667</td>\n",
       "      <td>410.466667</td>\n",
       "      <td>687.533333</td>\n",
       "      <td>552.866667</td>\n",
       "      <td>714.733333</td>\n",
       "      <td>389.266667</td>\n",
       "      <td>757.666667</td>\n",
       "      <td>3883.533333</td>\n",
       "      <td>lab 2</td>\n",
       "      <td>4.65</td>\n",
       "    </tr>\n",
       "    <tr>\n",
       "      <th>132</th>\n",
       "      <td>593.812500</td>\n",
       "      <td>379.625000</td>\n",
       "      <td>637.125000</td>\n",
       "      <td>489.000000</td>\n",
       "      <td>672.875000</td>\n",
       "      <td>368.375000</td>\n",
       "      <td>689.375000</td>\n",
       "      <td>3836.562500</td>\n",
       "      <td>lab 2</td>\n",
       "      <td>4.57</td>\n",
       "    </tr>\n",
       "    <tr>\n",
       "      <th>124</th>\n",
       "      <td>551.631579</td>\n",
       "      <td>225.368421</td>\n",
       "      <td>627.789474</td>\n",
       "      <td>406.315789</td>\n",
       "      <td>499.421053</td>\n",
       "      <td>237.684211</td>\n",
       "      <td>727.105263</td>\n",
       "      <td>4670.210526</td>\n",
       "      <td>lab 2</td>\n",
       "      <td>5.01</td>\n",
       "    </tr>\n",
       "    <tr>\n",
       "      <th>50</th>\n",
       "      <td>264.000000</td>\n",
       "      <td>202.000000</td>\n",
       "      <td>401.437500</td>\n",
       "      <td>346.437500</td>\n",
       "      <td>412.500000</td>\n",
       "      <td>208.000000</td>\n",
       "      <td>705.187500</td>\n",
       "      <td>4768.250000</td>\n",
       "      <td>lab 1</td>\n",
       "      <td>4.57</td>\n",
       "    </tr>\n",
       "    <tr>\n",
       "      <th>100</th>\n",
       "      <td>526.466667</td>\n",
       "      <td>192.866667</td>\n",
       "      <td>575.933333</td>\n",
       "      <td>379.333333</td>\n",
       "      <td>488.600000</td>\n",
       "      <td>218.400000</td>\n",
       "      <td>658.066667</td>\n",
       "      <td>4377.333333</td>\n",
       "      <td>lab 2</td>\n",
       "      <td>4.79</td>\n",
       "    </tr>\n",
       "    <tr>\n",
       "      <th>142</th>\n",
       "      <td>601.312500</td>\n",
       "      <td>369.687500</td>\n",
       "      <td>662.750000</td>\n",
       "      <td>482.812500</td>\n",
       "      <td>663.687500</td>\n",
       "      <td>355.625000</td>\n",
       "      <td>706.375000</td>\n",
       "      <td>3873.000000</td>\n",
       "      <td>lab 2</td>\n",
       "      <td>4.84</td>\n",
       "    </tr>\n",
       "    <tr>\n",
       "      <th>64</th>\n",
       "      <td>273.812500</td>\n",
       "      <td>195.375000</td>\n",
       "      <td>377.937500</td>\n",
       "      <td>357.000000</td>\n",
       "      <td>419.812500</td>\n",
       "      <td>222.375000</td>\n",
       "      <td>745.937500</td>\n",
       "      <td>4611.125000</td>\n",
       "      <td>lab 1</td>\n",
       "      <td>4.38</td>\n",
       "    </tr>\n",
       "    <tr>\n",
       "      <th>106</th>\n",
       "      <td>538.333333</td>\n",
       "      <td>207.000000</td>\n",
       "      <td>607.866667</td>\n",
       "      <td>383.800000</td>\n",
       "      <td>475.266667</td>\n",
       "      <td>204.800000</td>\n",
       "      <td>679.200000</td>\n",
       "      <td>4773.200000</td>\n",
       "      <td>lab 2</td>\n",
       "      <td>5.09</td>\n",
       "    </tr>\n",
       "    <tr>\n",
       "      <th>108</th>\n",
       "      <td>495.333333</td>\n",
       "      <td>182.933333</td>\n",
       "      <td>549.533333</td>\n",
       "      <td>344.533333</td>\n",
       "      <td>457.866667</td>\n",
       "      <td>189.200000</td>\n",
       "      <td>586.266667</td>\n",
       "      <td>4324.600000</td>\n",
       "      <td>lab 2</td>\n",
       "      <td>4.89</td>\n",
       "    </tr>\n",
       "    <tr>\n",
       "      <th>69</th>\n",
       "      <td>276.600000</td>\n",
       "      <td>195.333333</td>\n",
       "      <td>383.400000</td>\n",
       "      <td>348.933333</td>\n",
       "      <td>433.266667</td>\n",
       "      <td>220.133333</td>\n",
       "      <td>714.466667</td>\n",
       "      <td>4700.400000</td>\n",
       "      <td>lab 1</td>\n",
       "      <td>4.62</td>\n",
       "    </tr>\n",
       "    <tr>\n",
       "      <th>49</th>\n",
       "      <td>280.562500</td>\n",
       "      <td>199.625000</td>\n",
       "      <td>381.687500</td>\n",
       "      <td>369.125000</td>\n",
       "      <td>431.125000</td>\n",
       "      <td>223.437500</td>\n",
       "      <td>757.812500</td>\n",
       "      <td>4722.562500</td>\n",
       "      <td>lab 1</td>\n",
       "      <td>4.55</td>\n",
       "    </tr>\n",
       "    <tr>\n",
       "      <th>48</th>\n",
       "      <td>259.200000</td>\n",
       "      <td>203.333333</td>\n",
       "      <td>390.400000</td>\n",
       "      <td>369.733333</td>\n",
       "      <td>425.266667</td>\n",
       "      <td>235.400000</td>\n",
       "      <td>706.066667</td>\n",
       "      <td>4520.933333</td>\n",
       "      <td>lab 1</td>\n",
       "      <td>4.62</td>\n",
       "    </tr>\n",
       "    <tr>\n",
       "      <th>13</th>\n",
       "      <td>280.866667</td>\n",
       "      <td>197.400000</td>\n",
       "      <td>374.666667</td>\n",
       "      <td>339.266667</td>\n",
       "      <td>407.866667</td>\n",
       "      <td>212.333333</td>\n",
       "      <td>716.266667</td>\n",
       "      <td>4624.000000</td>\n",
       "      <td>lab 1</td>\n",
       "      <td>4.66</td>\n",
       "    </tr>\n",
       "    <tr>\n",
       "      <th>158</th>\n",
       "      <td>615.312500</td>\n",
       "      <td>366.750000</td>\n",
       "      <td>642.937500</td>\n",
       "      <td>483.687500</td>\n",
       "      <td>675.625000</td>\n",
       "      <td>359.062500</td>\n",
       "      <td>730.125000</td>\n",
       "      <td>3859.062500</td>\n",
       "      <td>lab 2</td>\n",
       "      <td>4.35</td>\n",
       "    </tr>\n",
       "    <tr>\n",
       "      <th>23</th>\n",
       "      <td>260.687500</td>\n",
       "      <td>197.625000</td>\n",
       "      <td>360.937500</td>\n",
       "      <td>339.125000</td>\n",
       "      <td>395.562500</td>\n",
       "      <td>198.125000</td>\n",
       "      <td>687.875000</td>\n",
       "      <td>4724.375000</td>\n",
       "      <td>lab 1</td>\n",
       "      <td>5.07</td>\n",
       "    </tr>\n",
       "    <tr>\n",
       "      <th>113</th>\n",
       "      <td>515.866667</td>\n",
       "      <td>195.933333</td>\n",
       "      <td>562.133333</td>\n",
       "      <td>342.400000</td>\n",
       "      <td>461.400000</td>\n",
       "      <td>204.000000</td>\n",
       "      <td>609.533333</td>\n",
       "      <td>4217.133333</td>\n",
       "      <td>lab 2</td>\n",
       "      <td>4.92</td>\n",
       "    </tr>\n",
       "    <tr>\n",
       "      <th>20</th>\n",
       "      <td>279.866667</td>\n",
       "      <td>193.133333</td>\n",
       "      <td>387.266667</td>\n",
       "      <td>362.400000</td>\n",
       "      <td>417.333333</td>\n",
       "      <td>215.333333</td>\n",
       "      <td>713.800000</td>\n",
       "      <td>4606.466667</td>\n",
       "      <td>lab 1</td>\n",
       "      <td>4.67</td>\n",
       "    </tr>\n",
       "    <tr>\n",
       "      <th>15</th>\n",
       "      <td>256.875000</td>\n",
       "      <td>189.312500</td>\n",
       "      <td>387.937500</td>\n",
       "      <td>339.312500</td>\n",
       "      <td>409.875000</td>\n",
       "      <td>213.437500</td>\n",
       "      <td>696.437500</td>\n",
       "      <td>4599.812500</td>\n",
       "      <td>lab 1</td>\n",
       "      <td>4.46</td>\n",
       "    </tr>\n",
       "    <tr>\n",
       "      <th>78</th>\n",
       "      <td>256.687500</td>\n",
       "      <td>204.375000</td>\n",
       "      <td>395.062500</td>\n",
       "      <td>367.562500</td>\n",
       "      <td>420.437500</td>\n",
       "      <td>233.062500</td>\n",
       "      <td>737.937500</td>\n",
       "      <td>4528.312500</td>\n",
       "      <td>lab 1</td>\n",
       "      <td>4.76</td>\n",
       "    </tr>\n",
       "    <tr>\n",
       "      <th>52</th>\n",
       "      <td>278.666667</td>\n",
       "      <td>191.133333</td>\n",
       "      <td>379.866667</td>\n",
       "      <td>371.333333</td>\n",
       "      <td>451.933333</td>\n",
       "      <td>215.466667</td>\n",
       "      <td>754.133333</td>\n",
       "      <td>4676.000000</td>\n",
       "      <td>lab 1</td>\n",
       "      <td>4.68</td>\n",
       "    </tr>\n",
       "    <tr>\n",
       "      <th>76</th>\n",
       "      <td>285.142857</td>\n",
       "      <td>193.928571</td>\n",
       "      <td>388.785714</td>\n",
       "      <td>371.785714</td>\n",
       "      <td>427.571429</td>\n",
       "      <td>221.857143</td>\n",
       "      <td>748.642857</td>\n",
       "      <td>4613.714286</td>\n",
       "      <td>lab 1</td>\n",
       "      <td>4.87</td>\n",
       "    </tr>\n",
       "    <tr>\n",
       "      <th>3</th>\n",
       "      <td>257.944444</td>\n",
       "      <td>191.833333</td>\n",
       "      <td>368.722222</td>\n",
       "      <td>334.666667</td>\n",
       "      <td>417.222222</td>\n",
       "      <td>195.944444</td>\n",
       "      <td>678.555556</td>\n",
       "      <td>4588.777778</td>\n",
       "      <td>lab 1</td>\n",
       "      <td>4.77</td>\n",
       "    </tr>\n",
       "    <tr>\n",
       "      <th>159</th>\n",
       "      <td>575.200000</td>\n",
       "      <td>350.266667</td>\n",
       "      <td>648.333333</td>\n",
       "      <td>495.400000</td>\n",
       "      <td>679.800000</td>\n",
       "      <td>346.266667</td>\n",
       "      <td>718.733333</td>\n",
       "      <td>3903.333333</td>\n",
       "      <td>lab 2</td>\n",
       "      <td>4.43</td>\n",
       "    </tr>\n",
       "    <tr>\n",
       "      <th>93</th>\n",
       "      <td>342.875000</td>\n",
       "      <td>265.437500</td>\n",
       "      <td>440.500000</td>\n",
       "      <td>426.125000</td>\n",
       "      <td>483.375000</td>\n",
       "      <td>279.187500</td>\n",
       "      <td>788.562500</td>\n",
       "      <td>4973.250000</td>\n",
       "      <td>lab 1</td>\n",
       "      <td>4.64</td>\n",
       "    </tr>\n",
       "    <tr>\n",
       "      <th>6</th>\n",
       "      <td>255.866667</td>\n",
       "      <td>182.133333</td>\n",
       "      <td>359.466667</td>\n",
       "      <td>326.800000</td>\n",
       "      <td>389.466667</td>\n",
       "      <td>191.866667</td>\n",
       "      <td>632.266667</td>\n",
       "      <td>4386.733333</td>\n",
       "      <td>lab 1</td>\n",
       "      <td>4.55</td>\n",
       "    </tr>\n",
       "    <tr>\n",
       "      <th>68</th>\n",
       "      <td>298.125000</td>\n",
       "      <td>189.312500</td>\n",
       "      <td>382.687500</td>\n",
       "      <td>363.500000</td>\n",
       "      <td>419.437500</td>\n",
       "      <td>219.000000</td>\n",
       "      <td>694.375000</td>\n",
       "      <td>4801.187500</td>\n",
       "      <td>lab 1</td>\n",
       "      <td>4.68</td>\n",
       "    </tr>\n",
       "    <tr>\n",
       "      <th>75</th>\n",
       "      <td>250.187500</td>\n",
       "      <td>197.000000</td>\n",
       "      <td>389.375000</td>\n",
       "      <td>358.000000</td>\n",
       "      <td>421.562500</td>\n",
       "      <td>219.750000</td>\n",
       "      <td>728.250000</td>\n",
       "      <td>4747.312500</td>\n",
       "      <td>lab 1</td>\n",
       "      <td>4.63</td>\n",
       "    </tr>\n",
       "    <tr>\n",
       "      <th>84</th>\n",
       "      <td>284.875000</td>\n",
       "      <td>198.562500</td>\n",
       "      <td>412.187500</td>\n",
       "      <td>378.125000</td>\n",
       "      <td>457.562500</td>\n",
       "      <td>246.250000</td>\n",
       "      <td>745.375000</td>\n",
       "      <td>4745.375000</td>\n",
       "      <td>lab 1</td>\n",
       "      <td>4.60</td>\n",
       "    </tr>\n",
       "    <tr>\n",
       "      <th>129</th>\n",
       "      <td>539.666667</td>\n",
       "      <td>236.000000</td>\n",
       "      <td>646.200000</td>\n",
       "      <td>423.466667</td>\n",
       "      <td>511.333333</td>\n",
       "      <td>271.400000</td>\n",
       "      <td>752.266667</td>\n",
       "      <td>4634.933333</td>\n",
       "      <td>lab 2</td>\n",
       "      <td>4.83</td>\n",
       "    </tr>\n",
       "    <tr>\n",
       "      <th>12</th>\n",
       "      <td>245.000000</td>\n",
       "      <td>186.285714</td>\n",
       "      <td>359.857143</td>\n",
       "      <td>320.571429</td>\n",
       "      <td>396.785714</td>\n",
       "      <td>204.000000</td>\n",
       "      <td>633.357143</td>\n",
       "      <td>4383.000000</td>\n",
       "      <td>lab 1</td>\n",
       "      <td>4.85</td>\n",
       "    </tr>\n",
       "    <tr>\n",
       "      <th>123</th>\n",
       "      <td>536.400000</td>\n",
       "      <td>222.266667</td>\n",
       "      <td>625.000000</td>\n",
       "      <td>414.266667</td>\n",
       "      <td>511.333333</td>\n",
       "      <td>242.600000</td>\n",
       "      <td>738.466667</td>\n",
       "      <td>4495.933333</td>\n",
       "      <td>lab 2</td>\n",
       "      <td>4.80</td>\n",
       "    </tr>\n",
       "    <tr>\n",
       "      <th>14</th>\n",
       "      <td>267.812500</td>\n",
       "      <td>184.500000</td>\n",
       "      <td>362.500000</td>\n",
       "      <td>320.812500</td>\n",
       "      <td>396.125000</td>\n",
       "      <td>207.312500</td>\n",
       "      <td>641.687500</td>\n",
       "      <td>4270.750000</td>\n",
       "      <td>lab 1</td>\n",
       "      <td>4.85</td>\n",
       "    </tr>\n",
       "    <tr>\n",
       "      <th>125</th>\n",
       "      <td>542.562500</td>\n",
       "      <td>211.812500</td>\n",
       "      <td>621.875000</td>\n",
       "      <td>406.437500</td>\n",
       "      <td>502.125000</td>\n",
       "      <td>241.250000</td>\n",
       "      <td>692.187500</td>\n",
       "      <td>4820.625000</td>\n",
       "      <td>lab 2</td>\n",
       "      <td>5.03</td>\n",
       "    </tr>\n",
       "    <tr>\n",
       "      <th>91</th>\n",
       "      <td>332.437500</td>\n",
       "      <td>252.500000</td>\n",
       "      <td>428.250000</td>\n",
       "      <td>429.125000</td>\n",
       "      <td>482.187500</td>\n",
       "      <td>255.562500</td>\n",
       "      <td>804.000000</td>\n",
       "      <td>5086.375000</td>\n",
       "      <td>lab 1</td>\n",
       "      <td>4.66</td>\n",
       "    </tr>\n",
       "    <tr>\n",
       "      <th>137</th>\n",
       "      <td>651.533333</td>\n",
       "      <td>371.600000</td>\n",
       "      <td>657.533333</td>\n",
       "      <td>485.066667</td>\n",
       "      <td>656.666667</td>\n",
       "      <td>355.533333</td>\n",
       "      <td>715.133333</td>\n",
       "      <td>3958.733333</td>\n",
       "      <td>lab 2</td>\n",
       "      <td>4.69</td>\n",
       "    </tr>\n",
       "    <tr>\n",
       "      <th>46</th>\n",
       "      <td>270.000000</td>\n",
       "      <td>206.133333</td>\n",
       "      <td>386.333333</td>\n",
       "      <td>359.400000</td>\n",
       "      <td>433.733333</td>\n",
       "      <td>237.866667</td>\n",
       "      <td>719.666667</td>\n",
       "      <td>4206.466667</td>\n",
       "      <td>lab 1</td>\n",
       "      <td>4.50</td>\n",
       "    </tr>\n",
       "    <tr>\n",
       "      <th>11</th>\n",
       "      <td>227.285714</td>\n",
       "      <td>185.785714</td>\n",
       "      <td>377.357143</td>\n",
       "      <td>350.571429</td>\n",
       "      <td>398.357143</td>\n",
       "      <td>207.357143</td>\n",
       "      <td>682.571429</td>\n",
       "      <td>4756.285714</td>\n",
       "      <td>lab 1</td>\n",
       "      <td>4.79</td>\n",
       "    </tr>\n",
       "    <tr>\n",
       "      <th>102</th>\n",
       "      <td>529.437500</td>\n",
       "      <td>210.875000</td>\n",
       "      <td>585.375000</td>\n",
       "      <td>373.937500</td>\n",
       "      <td>476.500000</td>\n",
       "      <td>218.562500</td>\n",
       "      <td>596.062500</td>\n",
       "      <td>4458.500000</td>\n",
       "      <td>lab 2</td>\n",
       "      <td>5.03</td>\n",
       "    </tr>\n",
       "    <tr>\n",
       "      <th>35</th>\n",
       "      <td>265.000000</td>\n",
       "      <td>192.562500</td>\n",
       "      <td>356.625000</td>\n",
       "      <td>322.187500</td>\n",
       "      <td>407.312500</td>\n",
       "      <td>206.687500</td>\n",
       "      <td>686.437500</td>\n",
       "      <td>4453.937500</td>\n",
       "      <td>lab 1</td>\n",
       "      <td>4.85</td>\n",
       "    </tr>\n",
       "    <tr>\n",
       "      <th>57</th>\n",
       "      <td>276.125000</td>\n",
       "      <td>197.562500</td>\n",
       "      <td>389.500000</td>\n",
       "      <td>365.625000</td>\n",
       "      <td>444.812500</td>\n",
       "      <td>235.312500</td>\n",
       "      <td>723.062500</td>\n",
       "      <td>4359.437500</td>\n",
       "      <td>lab 1</td>\n",
       "      <td>5.04</td>\n",
       "    </tr>\n",
       "    <tr>\n",
       "      <th>41</th>\n",
       "      <td>266.250000</td>\n",
       "      <td>206.875000</td>\n",
       "      <td>375.000000</td>\n",
       "      <td>355.875000</td>\n",
       "      <td>425.937500</td>\n",
       "      <td>229.625000</td>\n",
       "      <td>732.687500</td>\n",
       "      <td>4692.000000</td>\n",
       "      <td>lab 1</td>\n",
       "      <td>4.36</td>\n",
       "    </tr>\n",
       "    <tr>\n",
       "      <th>156</th>\n",
       "      <td>678.375000</td>\n",
       "      <td>398.125000</td>\n",
       "      <td>678.250000</td>\n",
       "      <td>541.125000</td>\n",
       "      <td>704.000000</td>\n",
       "      <td>393.500000</td>\n",
       "      <td>788.812500</td>\n",
       "      <td>3928.187500</td>\n",
       "      <td>lab 2</td>\n",
       "      <td>4.47</td>\n",
       "    </tr>\n",
       "    <tr>\n",
       "      <th>65</th>\n",
       "      <td>274.687500</td>\n",
       "      <td>194.062500</td>\n",
       "      <td>389.500000</td>\n",
       "      <td>358.500000</td>\n",
       "      <td>426.312500</td>\n",
       "      <td>226.250000</td>\n",
       "      <td>732.812500</td>\n",
       "      <td>4632.687500</td>\n",
       "      <td>lab 1</td>\n",
       "      <td>4.44</td>\n",
       "    </tr>\n",
       "    <tr>\n",
       "      <th>1</th>\n",
       "      <td>263.200000</td>\n",
       "      <td>194.600000</td>\n",
       "      <td>393.666667</td>\n",
       "      <td>348.533333</td>\n",
       "      <td>401.800000</td>\n",
       "      <td>220.066667</td>\n",
       "      <td>712.000000</td>\n",
       "      <td>4673.466667</td>\n",
       "      <td>lab 1</td>\n",
       "      <td>5.00</td>\n",
       "    </tr>\n",
       "    <tr>\n",
       "      <th>130</th>\n",
       "      <td>663.375000</td>\n",
       "      <td>422.812500</td>\n",
       "      <td>722.312500</td>\n",
       "      <td>541.750000</td>\n",
       "      <td>721.000000</td>\n",
       "      <td>415.375000</td>\n",
       "      <td>738.125000</td>\n",
       "      <td>3836.812500</td>\n",
       "      <td>lab 2</td>\n",
       "      <td>4.89</td>\n",
       "    </tr>\n",
       "    <tr>\n",
       "      <th>148</th>\n",
       "      <td>635.933333</td>\n",
       "      <td>376.400000</td>\n",
       "      <td>640.400000</td>\n",
       "      <td>519.266667</td>\n",
       "      <td>695.533333</td>\n",
       "      <td>361.066667</td>\n",
       "      <td>719.466667</td>\n",
       "      <td>3738.466667</td>\n",
       "      <td>lab 2</td>\n",
       "      <td>4.73</td>\n",
       "    </tr>\n",
       "    <tr>\n",
       "      <th>42</th>\n",
       "      <td>276.937500</td>\n",
       "      <td>203.187500</td>\n",
       "      <td>381.000000</td>\n",
       "      <td>341.250000</td>\n",
       "      <td>414.375000</td>\n",
       "      <td>217.687500</td>\n",
       "      <td>704.187500</td>\n",
       "      <td>4538.437500</td>\n",
       "      <td>lab 1</td>\n",
       "      <td>4.84</td>\n",
       "    </tr>\n",
       "    <tr>\n",
       "      <th>105</th>\n",
       "      <td>499.933333</td>\n",
       "      <td>195.666667</td>\n",
       "      <td>561.866667</td>\n",
       "      <td>361.333333</td>\n",
       "      <td>472.000000</td>\n",
       "      <td>203.666667</td>\n",
       "      <td>658.533333</td>\n",
       "      <td>4607.000000</td>\n",
       "      <td>lab 2</td>\n",
       "      <td>5.11</td>\n",
       "    </tr>\n",
       "    <tr>\n",
       "      <th>4</th>\n",
       "      <td>258.200000</td>\n",
       "      <td>195.733333</td>\n",
       "      <td>356.666667</td>\n",
       "      <td>333.333333</td>\n",
       "      <td>394.600000</td>\n",
       "      <td>196.000000</td>\n",
       "      <td>677.133333</td>\n",
       "      <td>4867.066667</td>\n",
       "      <td>lab 1</td>\n",
       "      <td>4.89</td>\n",
       "    </tr>\n",
       "    <tr>\n",
       "      <th>138</th>\n",
       "      <td>676.066667</td>\n",
       "      <td>414.200000</td>\n",
       "      <td>702.533333</td>\n",
       "      <td>555.600000</td>\n",
       "      <td>693.733333</td>\n",
       "      <td>397.400000</td>\n",
       "      <td>750.400000</td>\n",
       "      <td>3922.866667</td>\n",
       "      <td>lab 2</td>\n",
       "      <td>4.48</td>\n",
       "    </tr>\n",
       "    <tr>\n",
       "      <th>17</th>\n",
       "      <td>237.600000</td>\n",
       "      <td>188.400000</td>\n",
       "      <td>386.400000</td>\n",
       "      <td>342.400000</td>\n",
       "      <td>413.466667</td>\n",
       "      <td>202.666667</td>\n",
       "      <td>680.400000</td>\n",
       "      <td>4484.200000</td>\n",
       "      <td>lab 1</td>\n",
       "      <td>4.65</td>\n",
       "    </tr>\n",
       "    <tr>\n",
       "      <th>116</th>\n",
       "      <td>501.578947</td>\n",
       "      <td>203.631579</td>\n",
       "      <td>591.526316</td>\n",
       "      <td>377.157895</td>\n",
       "      <td>478.473684</td>\n",
       "      <td>213.000000</td>\n",
       "      <td>647.473684</td>\n",
       "      <td>4418.684211</td>\n",
       "      <td>lab 2</td>\n",
       "      <td>5.05</td>\n",
       "    </tr>\n",
       "    <tr>\n",
       "      <th>104</th>\n",
       "      <td>537.533333</td>\n",
       "      <td>207.733333</td>\n",
       "      <td>577.466667</td>\n",
       "      <td>365.666667</td>\n",
       "      <td>492.066667</td>\n",
       "      <td>218.333333</td>\n",
       "      <td>646.333333</td>\n",
       "      <td>4274.333333</td>\n",
       "      <td>lab 2</td>\n",
       "      <td>4.77</td>\n",
       "    </tr>\n",
       "    <tr>\n",
       "      <th>38</th>\n",
       "      <td>281.066667</td>\n",
       "      <td>187.466667</td>\n",
       "      <td>376.600000</td>\n",
       "      <td>335.800000</td>\n",
       "      <td>392.866667</td>\n",
       "      <td>211.933333</td>\n",
       "      <td>664.733333</td>\n",
       "      <td>4795.466667</td>\n",
       "      <td>lab 1</td>\n",
       "      <td>5.02</td>\n",
       "    </tr>\n",
       "    <tr>\n",
       "      <th>5</th>\n",
       "      <td>268.722222</td>\n",
       "      <td>193.000000</td>\n",
       "      <td>364.944444</td>\n",
       "      <td>345.888889</td>\n",
       "      <td>405.444444</td>\n",
       "      <td>210.055556</td>\n",
       "      <td>650.666667</td>\n",
       "      <td>4493.944444</td>\n",
       "      <td>lab 1</td>\n",
       "      <td>4.88</td>\n",
       "    </tr>\n",
       "    <tr>\n",
       "      <th>53</th>\n",
       "      <td>268.266667</td>\n",
       "      <td>202.400000</td>\n",
       "      <td>383.066667</td>\n",
       "      <td>348.933333</td>\n",
       "      <td>409.866667</td>\n",
       "      <td>231.066667</td>\n",
       "      <td>701.800000</td>\n",
       "      <td>4704.533333</td>\n",
       "      <td>lab 1</td>\n",
       "      <td>4.45</td>\n",
       "    </tr>\n",
       "    <tr>\n",
       "      <th>153</th>\n",
       "      <td>646.400000</td>\n",
       "      <td>389.666667</td>\n",
       "      <td>684.600000</td>\n",
       "      <td>527.000000</td>\n",
       "      <td>699.400000</td>\n",
       "      <td>354.933333</td>\n",
       "      <td>759.133333</td>\n",
       "      <td>3895.400000</td>\n",
       "      <td>lab 2</td>\n",
       "      <td>4.13</td>\n",
       "    </tr>\n",
       "    <tr>\n",
       "      <th>126</th>\n",
       "      <td>513.812500</td>\n",
       "      <td>208.125000</td>\n",
       "      <td>585.562500</td>\n",
       "      <td>355.125000</td>\n",
       "      <td>474.625000</td>\n",
       "      <td>213.750000</td>\n",
       "      <td>642.500000</td>\n",
       "      <td>4705.937500</td>\n",
       "      <td>lab 2</td>\n",
       "      <td>4.84</td>\n",
       "    </tr>\n",
       "    <tr>\n",
       "      <th>0</th>\n",
       "      <td>260.600000</td>\n",
       "      <td>199.000000</td>\n",
       "      <td>391.333333</td>\n",
       "      <td>371.733333</td>\n",
       "      <td>466.800000</td>\n",
       "      <td>273.133333</td>\n",
       "      <td>742.066667</td>\n",
       "      <td>4047.733333</td>\n",
       "      <td>lab 1</td>\n",
       "      <td>4.63</td>\n",
       "    </tr>\n",
       "    <tr>\n",
       "      <th>34</th>\n",
       "      <td>281.666667</td>\n",
       "      <td>190.933333</td>\n",
       "      <td>364.066667</td>\n",
       "      <td>323.933333</td>\n",
       "      <td>385.333333</td>\n",
       "      <td>214.133333</td>\n",
       "      <td>662.733333</td>\n",
       "      <td>4437.866667</td>\n",
       "      <td>lab 1</td>\n",
       "      <td>4.70</td>\n",
       "    </tr>\n",
       "    <tr>\n",
       "      <th>28</th>\n",
       "      <td>264.200000</td>\n",
       "      <td>194.666667</td>\n",
       "      <td>390.133333</td>\n",
       "      <td>359.333333</td>\n",
       "      <td>414.533333</td>\n",
       "      <td>215.600000</td>\n",
       "      <td>727.733333</td>\n",
       "      <td>4523.800000</td>\n",
       "      <td>lab 1</td>\n",
       "      <td>4.91</td>\n",
       "    </tr>\n",
       "    <tr>\n",
       "      <th>114</th>\n",
       "      <td>536.437500</td>\n",
       "      <td>204.000000</td>\n",
       "      <td>587.437500</td>\n",
       "      <td>364.562500</td>\n",
       "      <td>460.875000</td>\n",
       "      <td>202.500000</td>\n",
       "      <td>647.125000</td>\n",
       "      <td>4573.312500</td>\n",
       "      <td>lab 2</td>\n",
       "      <td>4.74</td>\n",
       "    </tr>\n",
       "    <tr>\n",
       "      <th>31</th>\n",
       "      <td>286.466667</td>\n",
       "      <td>197.266667</td>\n",
       "      <td>389.533333</td>\n",
       "      <td>342.266667</td>\n",
       "      <td>413.733333</td>\n",
       "      <td>195.066667</td>\n",
       "      <td>704.200000</td>\n",
       "      <td>4470.333333</td>\n",
       "      <td>lab 1</td>\n",
       "      <td>4.94</td>\n",
       "    </tr>\n",
       "    <tr>\n",
       "      <th>134</th>\n",
       "      <td>602.000000</td>\n",
       "      <td>384.666667</td>\n",
       "      <td>663.066667</td>\n",
       "      <td>491.200000</td>\n",
       "      <td>663.600000</td>\n",
       "      <td>355.800000</td>\n",
       "      <td>718.933333</td>\n",
       "      <td>3836.000000</td>\n",
       "      <td>lab 2</td>\n",
       "      <td>4.55</td>\n",
       "    </tr>\n",
       "    <tr>\n",
       "      <th>127</th>\n",
       "      <td>517.750000</td>\n",
       "      <td>216.750000</td>\n",
       "      <td>583.250000</td>\n",
       "      <td>376.125000</td>\n",
       "      <td>498.937500</td>\n",
       "      <td>231.187500</td>\n",
       "      <td>677.875000</td>\n",
       "      <td>4701.250000</td>\n",
       "      <td>lab 2</td>\n",
       "      <td>5.03</td>\n",
       "    </tr>\n",
       "    <tr>\n",
       "      <th>149</th>\n",
       "      <td>597.733333</td>\n",
       "      <td>370.666667</td>\n",
       "      <td>670.266667</td>\n",
       "      <td>484.800000</td>\n",
       "      <td>674.666667</td>\n",
       "      <td>357.466667</td>\n",
       "      <td>746.066667</td>\n",
       "      <td>3892.933333</td>\n",
       "      <td>lab 2</td>\n",
       "      <td>4.69</td>\n",
       "    </tr>\n",
       "    <tr>\n",
       "      <th>32</th>\n",
       "      <td>272.066667</td>\n",
       "      <td>181.066667</td>\n",
       "      <td>348.933333</td>\n",
       "      <td>313.733333</td>\n",
       "      <td>373.333333</td>\n",
       "      <td>201.133333</td>\n",
       "      <td>626.266667</td>\n",
       "      <td>4142.800000</td>\n",
       "      <td>lab 1</td>\n",
       "      <td>4.57</td>\n",
       "    </tr>\n",
       "    <tr>\n",
       "      <th>29</th>\n",
       "      <td>250.875000</td>\n",
       "      <td>181.937500</td>\n",
       "      <td>365.187500</td>\n",
       "      <td>321.562500</td>\n",
       "      <td>392.625000</td>\n",
       "      <td>195.312500</td>\n",
       "      <td>650.000000</td>\n",
       "      <td>4219.875000</td>\n",
       "      <td>lab 1</td>\n",
       "      <td>5.26</td>\n",
       "    </tr>\n",
       "    <tr>\n",
       "      <th>99</th>\n",
       "      <td>326.400000</td>\n",
       "      <td>231.400000</td>\n",
       "      <td>424.800000</td>\n",
       "      <td>401.800000</td>\n",
       "      <td>452.800000</td>\n",
       "      <td>253.200000</td>\n",
       "      <td>734.200000</td>\n",
       "      <td>5004.000000</td>\n",
       "      <td>lab 1</td>\n",
       "      <td>4.66</td>\n",
       "    </tr>\n",
       "    <tr>\n",
       "      <th>82</th>\n",
       "      <td>293.200000</td>\n",
       "      <td>205.733333</td>\n",
       "      <td>393.066667</td>\n",
       "      <td>377.000000</td>\n",
       "      <td>445.000000</td>\n",
       "      <td>241.666667</td>\n",
       "      <td>751.200000</td>\n",
       "      <td>4714.000000</td>\n",
       "      <td>lab 1</td>\n",
       "      <td>4.64</td>\n",
       "    </tr>\n",
       "    <tr>\n",
       "      <th>79</th>\n",
       "      <td>273.625000</td>\n",
       "      <td>190.812500</td>\n",
       "      <td>395.250000</td>\n",
       "      <td>357.187500</td>\n",
       "      <td>441.812500</td>\n",
       "      <td>229.937500</td>\n",
       "      <td>747.812500</td>\n",
       "      <td>4609.062500</td>\n",
       "      <td>lab 1</td>\n",
       "      <td>4.77</td>\n",
       "    </tr>\n",
       "    <tr>\n",
       "      <th>115</th>\n",
       "      <td>552.875000</td>\n",
       "      <td>211.812500</td>\n",
       "      <td>574.812500</td>\n",
       "      <td>366.375000</td>\n",
       "      <td>465.812500</td>\n",
       "      <td>201.687500</td>\n",
       "      <td>651.000000</td>\n",
       "      <td>4428.312500</td>\n",
       "      <td>lab 2</td>\n",
       "      <td>4.98</td>\n",
       "    </tr>\n",
       "    <tr>\n",
       "      <th>155</th>\n",
       "      <td>573.250000</td>\n",
       "      <td>361.250000</td>\n",
       "      <td>643.125000</td>\n",
       "      <td>489.812500</td>\n",
       "      <td>666.875000</td>\n",
       "      <td>355.250000</td>\n",
       "      <td>712.312500</td>\n",
       "      <td>3943.687500</td>\n",
       "      <td>lab 2</td>\n",
       "      <td>4.83</td>\n",
       "    </tr>\n",
       "    <tr>\n",
       "      <th>72</th>\n",
       "      <td>277.357143</td>\n",
       "      <td>209.428571</td>\n",
       "      <td>407.785714</td>\n",
       "      <td>386.357143</td>\n",
       "      <td>445.857143</td>\n",
       "      <td>232.785714</td>\n",
       "      <td>754.000000</td>\n",
       "      <td>4773.000000</td>\n",
       "      <td>lab 1</td>\n",
       "      <td>4.56</td>\n",
       "    </tr>\n",
       "    <tr>\n",
       "      <th>77</th>\n",
       "      <td>297.125000</td>\n",
       "      <td>200.687500</td>\n",
       "      <td>396.500000</td>\n",
       "      <td>368.687500</td>\n",
       "      <td>429.437500</td>\n",
       "      <td>222.375000</td>\n",
       "      <td>711.750000</td>\n",
       "      <td>4592.625000</td>\n",
       "      <td>lab 1</td>\n",
       "      <td>4.76</td>\n",
       "    </tr>\n",
       "    <tr>\n",
       "      <th>25</th>\n",
       "      <td>251.812500</td>\n",
       "      <td>182.625000</td>\n",
       "      <td>355.562500</td>\n",
       "      <td>332.500000</td>\n",
       "      <td>382.562500</td>\n",
       "      <td>200.187500</td>\n",
       "      <td>659.687500</td>\n",
       "      <td>4189.625000</td>\n",
       "      <td>lab 1</td>\n",
       "      <td>4.66</td>\n",
       "    </tr>\n",
       "    <tr>\n",
       "      <th>81</th>\n",
       "      <td>271.687500</td>\n",
       "      <td>186.562500</td>\n",
       "      <td>407.125000</td>\n",
       "      <td>366.812500</td>\n",
       "      <td>443.000000</td>\n",
       "      <td>216.625000</td>\n",
       "      <td>732.562500</td>\n",
       "      <td>4756.312500</td>\n",
       "      <td>lab 1</td>\n",
       "      <td>4.96</td>\n",
       "    </tr>\n",
       "    <tr>\n",
       "      <th>150</th>\n",
       "      <td>583.875000</td>\n",
       "      <td>349.187500</td>\n",
       "      <td>641.625000</td>\n",
       "      <td>477.000000</td>\n",
       "      <td>664.000000</td>\n",
       "      <td>327.812500</td>\n",
       "      <td>665.750000</td>\n",
       "      <td>3917.625000</td>\n",
       "      <td>lab 2</td>\n",
       "      <td>4.80</td>\n",
       "    </tr>\n",
       "    <tr>\n",
       "      <th>152</th>\n",
       "      <td>567.562500</td>\n",
       "      <td>356.500000</td>\n",
       "      <td>623.000000</td>\n",
       "      <td>476.500000</td>\n",
       "      <td>661.062500</td>\n",
       "      <td>321.062500</td>\n",
       "      <td>695.937500</td>\n",
       "      <td>3858.500000</td>\n",
       "      <td>lab 2</td>\n",
       "      <td>4.73</td>\n",
       "    </tr>\n",
       "    <tr>\n",
       "      <th>39</th>\n",
       "      <td>282.733333</td>\n",
       "      <td>217.466667</td>\n",
       "      <td>397.800000</td>\n",
       "      <td>378.200000</td>\n",
       "      <td>454.466667</td>\n",
       "      <td>232.933333</td>\n",
       "      <td>778.000000</td>\n",
       "      <td>4485.266667</td>\n",
       "      <td>lab 1</td>\n",
       "      <td>4.86</td>\n",
       "    </tr>\n",
       "    <tr>\n",
       "      <th>58</th>\n",
       "      <td>279.125000</td>\n",
       "      <td>209.125000</td>\n",
       "      <td>395.875000</td>\n",
       "      <td>372.312500</td>\n",
       "      <td>420.250000</td>\n",
       "      <td>225.875000</td>\n",
       "      <td>754.250000</td>\n",
       "      <td>4622.187500</td>\n",
       "      <td>lab 1</td>\n",
       "      <td>4.57</td>\n",
       "    </tr>\n",
       "    <tr>\n",
       "      <th>140</th>\n",
       "      <td>641.000000</td>\n",
       "      <td>383.400000</td>\n",
       "      <td>667.133333</td>\n",
       "      <td>535.133333</td>\n",
       "      <td>699.466667</td>\n",
       "      <td>371.466667</td>\n",
       "      <td>759.266667</td>\n",
       "      <td>3869.000000</td>\n",
       "      <td>lab 2</td>\n",
       "      <td>4.52</td>\n",
       "    </tr>\n",
       "    <tr>\n",
       "      <th>88</th>\n",
       "      <td>332.687500</td>\n",
       "      <td>241.937500</td>\n",
       "      <td>422.312500</td>\n",
       "      <td>400.437500</td>\n",
       "      <td>463.125000</td>\n",
       "      <td>248.687500</td>\n",
       "      <td>726.937500</td>\n",
       "      <td>4625.500000</td>\n",
       "      <td>lab 1</td>\n",
       "      <td>4.67</td>\n",
       "    </tr>\n",
       "    <tr>\n",
       "      <th>70</th>\n",
       "      <td>267.000000</td>\n",
       "      <td>198.500000</td>\n",
       "      <td>418.375000</td>\n",
       "      <td>365.375000</td>\n",
       "      <td>454.500000</td>\n",
       "      <td>244.375000</td>\n",
       "      <td>737.937500</td>\n",
       "      <td>4648.250000</td>\n",
       "      <td>lab 1</td>\n",
       "      <td>4.71</td>\n",
       "    </tr>\n",
       "    <tr>\n",
       "      <th>87</th>\n",
       "      <td>360.666667</td>\n",
       "      <td>261.666667</td>\n",
       "      <td>452.400000</td>\n",
       "      <td>443.200000</td>\n",
       "      <td>490.600000</td>\n",
       "      <td>274.000000</td>\n",
       "      <td>787.333333</td>\n",
       "      <td>4784.666667</td>\n",
       "      <td>lab 1</td>\n",
       "      <td>4.62</td>\n",
       "    </tr>\n",
       "    <tr>\n",
       "      <th>36</th>\n",
       "      <td>264.933333</td>\n",
       "      <td>214.200000</td>\n",
       "      <td>398.533333</td>\n",
       "      <td>363.066667</td>\n",
       "      <td>425.933333</td>\n",
       "      <td>214.800000</td>\n",
       "      <td>753.933333</td>\n",
       "      <td>4824.933333</td>\n",
       "      <td>lab 1</td>\n",
       "      <td>4.65</td>\n",
       "    </tr>\n",
       "    <tr>\n",
       "      <th>21</th>\n",
       "      <td>248.937500</td>\n",
       "      <td>182.187500</td>\n",
       "      <td>359.875000</td>\n",
       "      <td>315.625000</td>\n",
       "      <td>389.500000</td>\n",
       "      <td>199.562500</td>\n",
       "      <td>620.875000</td>\n",
       "      <td>4658.937500</td>\n",
       "      <td>lab 1</td>\n",
       "      <td>5.09</td>\n",
       "    </tr>\n",
       "    <tr>\n",
       "      <th>9</th>\n",
       "      <td>268.266667</td>\n",
       "      <td>178.800000</td>\n",
       "      <td>370.000000</td>\n",
       "      <td>342.466667</td>\n",
       "      <td>384.533333</td>\n",
       "      <td>204.733333</td>\n",
       "      <td>690.333333</td>\n",
       "      <td>4255.200000</td>\n",
       "      <td>lab 1</td>\n",
       "      <td>4.72</td>\n",
       "    </tr>\n",
       "    <tr>\n",
       "      <th>103</th>\n",
       "      <td>541.875000</td>\n",
       "      <td>209.500000</td>\n",
       "      <td>589.250000</td>\n",
       "      <td>374.687500</td>\n",
       "      <td>490.500000</td>\n",
       "      <td>216.875000</td>\n",
       "      <td>638.750000</td>\n",
       "      <td>4467.875000</td>\n",
       "      <td>lab 2</td>\n",
       "      <td>4.72</td>\n",
       "    </tr>\n",
       "    <tr>\n",
       "      <th>67</th>\n",
       "      <td>261.866667</td>\n",
       "      <td>209.400000</td>\n",
       "      <td>394.933333</td>\n",
       "      <td>364.733333</td>\n",
       "      <td>421.400000</td>\n",
       "      <td>225.466667</td>\n",
       "      <td>738.866667</td>\n",
       "      <td>4526.800000</td>\n",
       "      <td>lab 1</td>\n",
       "      <td>4.63</td>\n",
       "    </tr>\n",
       "    <tr>\n",
       "      <th>117</th>\n",
       "      <td>515.687500</td>\n",
       "      <td>189.375000</td>\n",
       "      <td>572.500000</td>\n",
       "      <td>355.375000</td>\n",
       "      <td>462.062500</td>\n",
       "      <td>192.687500</td>\n",
       "      <td>632.625000</td>\n",
       "      <td>4709.375000</td>\n",
       "      <td>lab 2</td>\n",
       "      <td>4.92</td>\n",
       "    </tr>\n",
       "    <tr>\n",
       "      <th>47</th>\n",
       "      <td>301.285714</td>\n",
       "      <td>219.214286</td>\n",
       "      <td>414.642857</td>\n",
       "      <td>397.714286</td>\n",
       "      <td>469.428571</td>\n",
       "      <td>254.642857</td>\n",
       "      <td>802.928571</td>\n",
       "      <td>4679.500000</td>\n",
       "      <td>lab 1</td>\n",
       "      <td>4.81</td>\n",
       "    </tr>\n",
       "  </tbody>\n",
       "</table>\n",
       "</div>"
      ],
      "text/plain": [
       "             v1          v2          v3          v4          v5          v6  \\\n",
       "118  557.266667  210.800000  586.666667  370.733333  462.466667  203.466667   \n",
       "95   331.466667  244.866667  424.533333  404.333333  457.800000  257.733333   \n",
       "55   272.333333  205.000000  383.266667  366.666667  414.000000  222.333333   \n",
       "109  525.333333  195.066667  591.866667  382.733333  478.600000  207.466667   \n",
       "18   266.533333  203.000000  393.933333  358.000000  428.400000  219.666667   \n",
       "157  634.000000  382.866667  657.466667  505.066667  719.200000  366.600000   \n",
       "30   260.562500  192.937500  384.750000  337.812500  405.312500  214.937500   \n",
       "94   305.250000  234.250000  434.125000  392.937500  458.500000  252.375000   \n",
       "73   290.200000  213.466667  393.000000  381.266667  444.133333  231.000000   \n",
       "107  514.125000  205.000000  573.375000  364.562500  474.937500  209.750000   \n",
       "2    247.266667  205.800000  375.466667  354.866667  419.000000  222.133333   \n",
       "139  672.500000  412.312500  692.125000  547.750000  712.687500  396.125000   \n",
       "83   274.533333  187.133333  397.533333  379.866667  449.066667  235.800000   \n",
       "43   277.133333  201.600000  402.400000  379.733333  420.533333  220.600000   \n",
       "71   286.687500  185.250000  371.125000  342.625000  409.500000  212.437500   \n",
       "10   266.857143  189.142857  383.428571  324.285714  401.285714  196.714286   \n",
       "141  614.187500  368.375000  650.250000  500.062500  678.687500  349.000000   \n",
       "154  624.200000  377.666667  645.666667  486.733333  699.733333  364.400000   \n",
       "96   341.500000  263.562500  448.500000  428.312500  497.500000  292.437500   \n",
       "89   327.812500  260.125000  450.000000  439.875000  494.375000  283.937500   \n",
       "144  652.666667  410.466667  687.533333  552.866667  714.733333  389.266667   \n",
       "132  593.812500  379.625000  637.125000  489.000000  672.875000  368.375000   \n",
       "124  551.631579  225.368421  627.789474  406.315789  499.421053  237.684211   \n",
       "50   264.000000  202.000000  401.437500  346.437500  412.500000  208.000000   \n",
       "100  526.466667  192.866667  575.933333  379.333333  488.600000  218.400000   \n",
       "142  601.312500  369.687500  662.750000  482.812500  663.687500  355.625000   \n",
       "64   273.812500  195.375000  377.937500  357.000000  419.812500  222.375000   \n",
       "106  538.333333  207.000000  607.866667  383.800000  475.266667  204.800000   \n",
       "108  495.333333  182.933333  549.533333  344.533333  457.866667  189.200000   \n",
       "69   276.600000  195.333333  383.400000  348.933333  433.266667  220.133333   \n",
       "49   280.562500  199.625000  381.687500  369.125000  431.125000  223.437500   \n",
       "48   259.200000  203.333333  390.400000  369.733333  425.266667  235.400000   \n",
       "13   280.866667  197.400000  374.666667  339.266667  407.866667  212.333333   \n",
       "158  615.312500  366.750000  642.937500  483.687500  675.625000  359.062500   \n",
       "23   260.687500  197.625000  360.937500  339.125000  395.562500  198.125000   \n",
       "113  515.866667  195.933333  562.133333  342.400000  461.400000  204.000000   \n",
       "20   279.866667  193.133333  387.266667  362.400000  417.333333  215.333333   \n",
       "15   256.875000  189.312500  387.937500  339.312500  409.875000  213.437500   \n",
       "78   256.687500  204.375000  395.062500  367.562500  420.437500  233.062500   \n",
       "52   278.666667  191.133333  379.866667  371.333333  451.933333  215.466667   \n",
       "76   285.142857  193.928571  388.785714  371.785714  427.571429  221.857143   \n",
       "3    257.944444  191.833333  368.722222  334.666667  417.222222  195.944444   \n",
       "159  575.200000  350.266667  648.333333  495.400000  679.800000  346.266667   \n",
       "93   342.875000  265.437500  440.500000  426.125000  483.375000  279.187500   \n",
       "6    255.866667  182.133333  359.466667  326.800000  389.466667  191.866667   \n",
       "68   298.125000  189.312500  382.687500  363.500000  419.437500  219.000000   \n",
       "75   250.187500  197.000000  389.375000  358.000000  421.562500  219.750000   \n",
       "84   284.875000  198.562500  412.187500  378.125000  457.562500  246.250000   \n",
       "129  539.666667  236.000000  646.200000  423.466667  511.333333  271.400000   \n",
       "12   245.000000  186.285714  359.857143  320.571429  396.785714  204.000000   \n",
       "123  536.400000  222.266667  625.000000  414.266667  511.333333  242.600000   \n",
       "14   267.812500  184.500000  362.500000  320.812500  396.125000  207.312500   \n",
       "125  542.562500  211.812500  621.875000  406.437500  502.125000  241.250000   \n",
       "91   332.437500  252.500000  428.250000  429.125000  482.187500  255.562500   \n",
       "137  651.533333  371.600000  657.533333  485.066667  656.666667  355.533333   \n",
       "46   270.000000  206.133333  386.333333  359.400000  433.733333  237.866667   \n",
       "11   227.285714  185.785714  377.357143  350.571429  398.357143  207.357143   \n",
       "102  529.437500  210.875000  585.375000  373.937500  476.500000  218.562500   \n",
       "35   265.000000  192.562500  356.625000  322.187500  407.312500  206.687500   \n",
       "57   276.125000  197.562500  389.500000  365.625000  444.812500  235.312500   \n",
       "41   266.250000  206.875000  375.000000  355.875000  425.937500  229.625000   \n",
       "156  678.375000  398.125000  678.250000  541.125000  704.000000  393.500000   \n",
       "65   274.687500  194.062500  389.500000  358.500000  426.312500  226.250000   \n",
       "1    263.200000  194.600000  393.666667  348.533333  401.800000  220.066667   \n",
       "130  663.375000  422.812500  722.312500  541.750000  721.000000  415.375000   \n",
       "148  635.933333  376.400000  640.400000  519.266667  695.533333  361.066667   \n",
       "42   276.937500  203.187500  381.000000  341.250000  414.375000  217.687500   \n",
       "105  499.933333  195.666667  561.866667  361.333333  472.000000  203.666667   \n",
       "4    258.200000  195.733333  356.666667  333.333333  394.600000  196.000000   \n",
       "138  676.066667  414.200000  702.533333  555.600000  693.733333  397.400000   \n",
       "17   237.600000  188.400000  386.400000  342.400000  413.466667  202.666667   \n",
       "116  501.578947  203.631579  591.526316  377.157895  478.473684  213.000000   \n",
       "104  537.533333  207.733333  577.466667  365.666667  492.066667  218.333333   \n",
       "38   281.066667  187.466667  376.600000  335.800000  392.866667  211.933333   \n",
       "5    268.722222  193.000000  364.944444  345.888889  405.444444  210.055556   \n",
       "53   268.266667  202.400000  383.066667  348.933333  409.866667  231.066667   \n",
       "153  646.400000  389.666667  684.600000  527.000000  699.400000  354.933333   \n",
       "126  513.812500  208.125000  585.562500  355.125000  474.625000  213.750000   \n",
       "0    260.600000  199.000000  391.333333  371.733333  466.800000  273.133333   \n",
       "34   281.666667  190.933333  364.066667  323.933333  385.333333  214.133333   \n",
       "28   264.200000  194.666667  390.133333  359.333333  414.533333  215.600000   \n",
       "114  536.437500  204.000000  587.437500  364.562500  460.875000  202.500000   \n",
       "31   286.466667  197.266667  389.533333  342.266667  413.733333  195.066667   \n",
       "134  602.000000  384.666667  663.066667  491.200000  663.600000  355.800000   \n",
       "127  517.750000  216.750000  583.250000  376.125000  498.937500  231.187500   \n",
       "149  597.733333  370.666667  670.266667  484.800000  674.666667  357.466667   \n",
       "32   272.066667  181.066667  348.933333  313.733333  373.333333  201.133333   \n",
       "29   250.875000  181.937500  365.187500  321.562500  392.625000  195.312500   \n",
       "99   326.400000  231.400000  424.800000  401.800000  452.800000  253.200000   \n",
       "82   293.200000  205.733333  393.066667  377.000000  445.000000  241.666667   \n",
       "79   273.625000  190.812500  395.250000  357.187500  441.812500  229.937500   \n",
       "115  552.875000  211.812500  574.812500  366.375000  465.812500  201.687500   \n",
       "155  573.250000  361.250000  643.125000  489.812500  666.875000  355.250000   \n",
       "72   277.357143  209.428571  407.785714  386.357143  445.857143  232.785714   \n",
       "77   297.125000  200.687500  396.500000  368.687500  429.437500  222.375000   \n",
       "25   251.812500  182.625000  355.562500  332.500000  382.562500  200.187500   \n",
       "81   271.687500  186.562500  407.125000  366.812500  443.000000  216.625000   \n",
       "150  583.875000  349.187500  641.625000  477.000000  664.000000  327.812500   \n",
       "152  567.562500  356.500000  623.000000  476.500000  661.062500  321.062500   \n",
       "39   282.733333  217.466667  397.800000  378.200000  454.466667  232.933333   \n",
       "58   279.125000  209.125000  395.875000  372.312500  420.250000  225.875000   \n",
       "140  641.000000  383.400000  667.133333  535.133333  699.466667  371.466667   \n",
       "88   332.687500  241.937500  422.312500  400.437500  463.125000  248.687500   \n",
       "70   267.000000  198.500000  418.375000  365.375000  454.500000  244.375000   \n",
       "87   360.666667  261.666667  452.400000  443.200000  490.600000  274.000000   \n",
       "36   264.933333  214.200000  398.533333  363.066667  425.933333  214.800000   \n",
       "21   248.937500  182.187500  359.875000  315.625000  389.500000  199.562500   \n",
       "9    268.266667  178.800000  370.000000  342.466667  384.533333  204.733333   \n",
       "103  541.875000  209.500000  589.250000  374.687500  490.500000  216.875000   \n",
       "67   261.866667  209.400000  394.933333  364.733333  421.400000  225.466667   \n",
       "117  515.687500  189.375000  572.500000  355.375000  462.062500  192.687500   \n",
       "47   301.285714  219.214286  414.642857  397.714286  469.428571  254.642857   \n",
       "\n",
       "             v7           v8 sample_type  target  \n",
       "118  658.466667  4530.333333       lab 2    5.11  \n",
       "95   769.733333  4871.666667       lab 1    4.84  \n",
       "55   711.333333  4701.466667       lab 1    4.59  \n",
       "109  657.200000  4690.600000       lab 2    4.84  \n",
       "18   715.800000  4848.133333       lab 1    5.26  \n",
       "157  792.133333  3861.200000       lab 2    4.63  \n",
       "30   705.687500  4590.875000       lab 1    4.92  \n",
       "94   741.250000  4783.437500       lab 1    4.60  \n",
       "73   760.666667  4761.333333       lab 1    4.62  \n",
       "107  635.562500  4509.500000       lab 2    4.66  \n",
       "2    677.200000  4386.800000       lab 1    4.91  \n",
       "139  771.250000  3868.125000       lab 2    4.58  \n",
       "83   775.266667  4703.000000       lab 1    4.53  \n",
       "43   762.266667  4472.666667       lab 1    4.40  \n",
       "71   697.812500  4431.437500       lab 1    4.88  \n",
       "10   666.071429  4643.785714       lab 1    4.69  \n",
       "141  707.562500  3889.625000       lab 2    4.45  \n",
       "154  734.200000  3741.266667       lab 2    4.79  \n",
       "96   790.562500  4871.000000       lab 1    4.71  \n",
       "89   789.812500  4508.875000       lab 1    4.80  \n",
       "144  757.666667  3883.533333       lab 2    4.65  \n",
       "132  689.375000  3836.562500       lab 2    4.57  \n",
       "124  727.105263  4670.210526       lab 2    5.01  \n",
       "50   705.187500  4768.250000       lab 1    4.57  \n",
       "100  658.066667  4377.333333       lab 2    4.79  \n",
       "142  706.375000  3873.000000       lab 2    4.84  \n",
       "64   745.937500  4611.125000       lab 1    4.38  \n",
       "106  679.200000  4773.200000       lab 2    5.09  \n",
       "108  586.266667  4324.600000       lab 2    4.89  \n",
       "69   714.466667  4700.400000       lab 1    4.62  \n",
       "49   757.812500  4722.562500       lab 1    4.55  \n",
       "48   706.066667  4520.933333       lab 1    4.62  \n",
       "13   716.266667  4624.000000       lab 1    4.66  \n",
       "158  730.125000  3859.062500       lab 2    4.35  \n",
       "23   687.875000  4724.375000       lab 1    5.07  \n",
       "113  609.533333  4217.133333       lab 2    4.92  \n",
       "20   713.800000  4606.466667       lab 1    4.67  \n",
       "15   696.437500  4599.812500       lab 1    4.46  \n",
       "78   737.937500  4528.312500       lab 1    4.76  \n",
       "52   754.133333  4676.000000       lab 1    4.68  \n",
       "76   748.642857  4613.714286       lab 1    4.87  \n",
       "3    678.555556  4588.777778       lab 1    4.77  \n",
       "159  718.733333  3903.333333       lab 2    4.43  \n",
       "93   788.562500  4973.250000       lab 1    4.64  \n",
       "6    632.266667  4386.733333       lab 1    4.55  \n",
       "68   694.375000  4801.187500       lab 1    4.68  \n",
       "75   728.250000  4747.312500       lab 1    4.63  \n",
       "84   745.375000  4745.375000       lab 1    4.60  \n",
       "129  752.266667  4634.933333       lab 2    4.83  \n",
       "12   633.357143  4383.000000       lab 1    4.85  \n",
       "123  738.466667  4495.933333       lab 2    4.80  \n",
       "14   641.687500  4270.750000       lab 1    4.85  \n",
       "125  692.187500  4820.625000       lab 2    5.03  \n",
       "91   804.000000  5086.375000       lab 1    4.66  \n",
       "137  715.133333  3958.733333       lab 2    4.69  \n",
       "46   719.666667  4206.466667       lab 1    4.50  \n",
       "11   682.571429  4756.285714       lab 1    4.79  \n",
       "102  596.062500  4458.500000       lab 2    5.03  \n",
       "35   686.437500  4453.937500       lab 1    4.85  \n",
       "57   723.062500  4359.437500       lab 1    5.04  \n",
       "41   732.687500  4692.000000       lab 1    4.36  \n",
       "156  788.812500  3928.187500       lab 2    4.47  \n",
       "65   732.812500  4632.687500       lab 1    4.44  \n",
       "1    712.000000  4673.466667       lab 1    5.00  \n",
       "130  738.125000  3836.812500       lab 2    4.89  \n",
       "148  719.466667  3738.466667       lab 2    4.73  \n",
       "42   704.187500  4538.437500       lab 1    4.84  \n",
       "105  658.533333  4607.000000       lab 2    5.11  \n",
       "4    677.133333  4867.066667       lab 1    4.89  \n",
       "138  750.400000  3922.866667       lab 2    4.48  \n",
       "17   680.400000  4484.200000       lab 1    4.65  \n",
       "116  647.473684  4418.684211       lab 2    5.05  \n",
       "104  646.333333  4274.333333       lab 2    4.77  \n",
       "38   664.733333  4795.466667       lab 1    5.02  \n",
       "5    650.666667  4493.944444       lab 1    4.88  \n",
       "53   701.800000  4704.533333       lab 1    4.45  \n",
       "153  759.133333  3895.400000       lab 2    4.13  \n",
       "126  642.500000  4705.937500       lab 2    4.84  \n",
       "0    742.066667  4047.733333       lab 1    4.63  \n",
       "34   662.733333  4437.866667       lab 1    4.70  \n",
       "28   727.733333  4523.800000       lab 1    4.91  \n",
       "114  647.125000  4573.312500       lab 2    4.74  \n",
       "31   704.200000  4470.333333       lab 1    4.94  \n",
       "134  718.933333  3836.000000       lab 2    4.55  \n",
       "127  677.875000  4701.250000       lab 2    5.03  \n",
       "149  746.066667  3892.933333       lab 2    4.69  \n",
       "32   626.266667  4142.800000       lab 1    4.57  \n",
       "29   650.000000  4219.875000       lab 1    5.26  \n",
       "99   734.200000  5004.000000       lab 1    4.66  \n",
       "82   751.200000  4714.000000       lab 1    4.64  \n",
       "79   747.812500  4609.062500       lab 1    4.77  \n",
       "115  651.000000  4428.312500       lab 2    4.98  \n",
       "155  712.312500  3943.687500       lab 2    4.83  \n",
       "72   754.000000  4773.000000       lab 1    4.56  \n",
       "77   711.750000  4592.625000       lab 1    4.76  \n",
       "25   659.687500  4189.625000       lab 1    4.66  \n",
       "81   732.562500  4756.312500       lab 1    4.96  \n",
       "150  665.750000  3917.625000       lab 2    4.80  \n",
       "152  695.937500  3858.500000       lab 2    4.73  \n",
       "39   778.000000  4485.266667       lab 1    4.86  \n",
       "58   754.250000  4622.187500       lab 1    4.57  \n",
       "140  759.266667  3869.000000       lab 2    4.52  \n",
       "88   726.937500  4625.500000       lab 1    4.67  \n",
       "70   737.937500  4648.250000       lab 1    4.71  \n",
       "87   787.333333  4784.666667       lab 1    4.62  \n",
       "36   753.933333  4824.933333       lab 1    4.65  \n",
       "21   620.875000  4658.937500       lab 1    5.09  \n",
       "9    690.333333  4255.200000       lab 1    4.72  \n",
       "103  638.750000  4467.875000       lab 2    4.72  \n",
       "67   738.866667  4526.800000       lab 1    4.63  \n",
       "117  632.625000  4709.375000       lab 2    4.92  \n",
       "47   802.928571  4679.500000       lab 1    4.81  "
      ]
     },
     "execution_count": 40,
     "metadata": {},
     "output_type": "execute_result"
    }
   ],
   "source": [
    "eda_df= pd.concat([X_train, y_train], axis = 1)\n",
    "eda_df"
   ]
  },
  {
   "attachments": {},
   "cell_type": "markdown",
   "metadata": {},
   "source": [
    "Membuat variabel untuk kolom numerik dan kategorikal untuk peroses modeling"
   ]
  },
  {
   "cell_type": "code",
   "execution_count": 28,
   "metadata": {},
   "outputs": [],
   "source": [
    "num_col = ['v1', 'v2', 'v3','v4','v5','v6','v7','v8']\n",
    "cat_col = ['sample_type']"
   ]
  },
  {
   "attachments": {},
   "cell_type": "markdown",
   "metadata": {},
   "source": [
    "### Feature Numerik"
   ]
  },
  {
   "attachments": {},
   "cell_type": "markdown",
   "metadata": {},
   "source": [
    "Membuat feature numerik"
   ]
  },
  {
   "cell_type": "code",
   "execution_count": 32,
   "metadata": {},
   "outputs": [],
   "source": [
    "eda_df_num = eda_df[num_col]"
   ]
  },
  {
   "attachments": {},
   "cell_type": "markdown",
   "metadata": {},
   "source": [
    "### Melihat distribusi data berdasarkan nilai skewness\n",
    "\n",
    "Langkah ini adalah untuk mengetahui distribusi data pada kolom numerik berdasarkan nilai skewness sehingga kita bisa mengetahui apakah kolom tersebut memiliki distribusi normal atau distribusi tidak normal."
   ]
  },
  {
   "cell_type": "code",
   "execution_count": 33,
   "metadata": {},
   "outputs": [
    {
     "data": {
      "text/html": [
       "<div>\n",
       "<style scoped>\n",
       "    .dataframe tbody tr th:only-of-type {\n",
       "        vertical-align: middle;\n",
       "    }\n",
       "\n",
       "    .dataframe tbody tr th {\n",
       "        vertical-align: top;\n",
       "    }\n",
       "\n",
       "    .dataframe thead th {\n",
       "        text-align: right;\n",
       "    }\n",
       "</style>\n",
       "<table border=\"1\" class=\"dataframe\">\n",
       "  <thead>\n",
       "    <tr style=\"text-align: right;\">\n",
       "      <th></th>\n",
       "      <th>0</th>\n",
       "    </tr>\n",
       "  </thead>\n",
       "  <tbody>\n",
       "    <tr>\n",
       "      <th>v1</th>\n",
       "      <td>0.630966</td>\n",
       "    </tr>\n",
       "    <tr>\n",
       "      <th>v2</th>\n",
       "      <td>1.486841</td>\n",
       "    </tr>\n",
       "    <tr>\n",
       "      <th>v3</th>\n",
       "      <td>0.609683</td>\n",
       "    </tr>\n",
       "    <tr>\n",
       "      <th>v4</th>\n",
       "      <td>1.200801</td>\n",
       "    </tr>\n",
       "    <tr>\n",
       "      <th>v5</th>\n",
       "      <td>1.305073</td>\n",
       "    </tr>\n",
       "    <tr>\n",
       "      <th>v6</th>\n",
       "      <td>1.356505</td>\n",
       "    </tr>\n",
       "    <tr>\n",
       "      <th>v7</th>\n",
       "      <td>-0.264614</td>\n",
       "    </tr>\n",
       "    <tr>\n",
       "      <th>v8</th>\n",
       "      <td>-0.712046</td>\n",
       "    </tr>\n",
       "  </tbody>\n",
       "</table>\n",
       "</div>"
      ],
      "text/plain": [
       "           0\n",
       "v1  0.630966\n",
       "v2  1.486841\n",
       "v3  0.609683\n",
       "v4  1.200801\n",
       "v5  1.305073\n",
       "v6  1.356505\n",
       "v7 -0.264614\n",
       "v8 -0.712046"
      ]
     },
     "execution_count": 33,
     "metadata": {},
     "output_type": "execute_result"
    }
   ],
   "source": [
    "skew = eda_df_num.skew()\n",
    "skewness = pd.DataFrame(skew)\n",
    "skewness"
   ]
  },
  {
   "cell_type": "code",
   "execution_count": 34,
   "metadata": {},
   "outputs": [],
   "source": [
    "skewness.columns =['value']"
   ]
  },
  {
   "cell_type": "code",
   "execution_count": 35,
   "metadata": {},
   "outputs": [
    {
     "data": {
      "text/html": [
       "<div>\n",
       "<style scoped>\n",
       "    .dataframe tbody tr th:only-of-type {\n",
       "        vertical-align: middle;\n",
       "    }\n",
       "\n",
       "    .dataframe tbody tr th {\n",
       "        vertical-align: top;\n",
       "    }\n",
       "\n",
       "    .dataframe thead th {\n",
       "        text-align: right;\n",
       "    }\n",
       "</style>\n",
       "<table border=\"1\" class=\"dataframe\">\n",
       "  <thead>\n",
       "    <tr style=\"text-align: right;\">\n",
       "      <th></th>\n",
       "      <th>value</th>\n",
       "      <th>distribusi</th>\n",
       "    </tr>\n",
       "  </thead>\n",
       "  <tbody>\n",
       "    <tr>\n",
       "      <th>v1</th>\n",
       "      <td>0.630966</td>\n",
       "      <td>distribusi tidak normal</td>\n",
       "    </tr>\n",
       "    <tr>\n",
       "      <th>v2</th>\n",
       "      <td>1.486841</td>\n",
       "      <td>distribusi tidak normal</td>\n",
       "    </tr>\n",
       "    <tr>\n",
       "      <th>v3</th>\n",
       "      <td>0.609683</td>\n",
       "      <td>distribusi tidak normal</td>\n",
       "    </tr>\n",
       "    <tr>\n",
       "      <th>v4</th>\n",
       "      <td>1.200801</td>\n",
       "      <td>distribusi tidak normal</td>\n",
       "    </tr>\n",
       "    <tr>\n",
       "      <th>v5</th>\n",
       "      <td>1.305073</td>\n",
       "      <td>distribusi tidak normal</td>\n",
       "    </tr>\n",
       "    <tr>\n",
       "      <th>v6</th>\n",
       "      <td>1.356505</td>\n",
       "      <td>distribusi tidak normal</td>\n",
       "    </tr>\n",
       "    <tr>\n",
       "      <th>v7</th>\n",
       "      <td>-0.264614</td>\n",
       "      <td>distribusi normal</td>\n",
       "    </tr>\n",
       "    <tr>\n",
       "      <th>v8</th>\n",
       "      <td>-0.712046</td>\n",
       "      <td>distribusi tidak normal</td>\n",
       "    </tr>\n",
       "  </tbody>\n",
       "</table>\n",
       "</div>"
      ],
      "text/plain": [
       "       value               distribusi\n",
       "v1  0.630966  distribusi tidak normal\n",
       "v2  1.486841  distribusi tidak normal\n",
       "v3  0.609683  distribusi tidak normal\n",
       "v4  1.200801  distribusi tidak normal\n",
       "v5  1.305073  distribusi tidak normal\n",
       "v6  1.356505  distribusi tidak normal\n",
       "v7 -0.264614        distribusi normal\n",
       "v8 -0.712046  distribusi tidak normal"
      ]
     },
     "execution_count": 35,
     "metadata": {},
     "output_type": "execute_result"
    }
   ],
   "source": [
    "skewness['distribusi']=0\n",
    "for i in skewness.index:\n",
    "  if (skewness[\"value\"][i]>= -0.5) & (skewness[\"value\"][i] <= 0.5):\n",
    "    skewness[\"distribusi\"][i]='distribusi normal'\n",
    "  else:\n",
    "    skewness[\"distribusi\"][i]='distribusi tidak normal'\n",
    "skewness"
   ]
  },
  {
   "cell_type": "code",
   "execution_count": 36,
   "metadata": {},
   "outputs": [
    {
     "data": {
      "text/html": [
       "<div>\n",
       "<style scoped>\n",
       "    .dataframe tbody tr th:only-of-type {\n",
       "        vertical-align: middle;\n",
       "    }\n",
       "\n",
       "    .dataframe tbody tr th {\n",
       "        vertical-align: top;\n",
       "    }\n",
       "\n",
       "    .dataframe thead th {\n",
       "        text-align: right;\n",
       "    }\n",
       "</style>\n",
       "<table border=\"1\" class=\"dataframe\">\n",
       "  <thead>\n",
       "    <tr style=\"text-align: right;\">\n",
       "      <th></th>\n",
       "      <th>distribusi</th>\n",
       "    </tr>\n",
       "    <tr>\n",
       "      <th>distribusi</th>\n",
       "      <th></th>\n",
       "    </tr>\n",
       "  </thead>\n",
       "  <tbody>\n",
       "    <tr>\n",
       "      <th>distribusi normal</th>\n",
       "      <td>1</td>\n",
       "    </tr>\n",
       "    <tr>\n",
       "      <th>distribusi tidak normal</th>\n",
       "      <td>7</td>\n",
       "    </tr>\n",
       "  </tbody>\n",
       "</table>\n",
       "</div>"
      ],
      "text/plain": [
       "                         distribusi\n",
       "distribusi                         \n",
       "distribusi normal                 1\n",
       "distribusi tidak normal           7"
      ]
     },
     "execution_count": 36,
     "metadata": {},
     "output_type": "execute_result"
    }
   ],
   "source": [
    "skewness.groupby('distribusi')[['distribusi']].count()"
   ]
  },
  {
   "attachments": {},
   "cell_type": "markdown",
   "metadata": {},
   "source": [
    "Berdasarkan perhitungan nilai skewness di atas , diketahui bahwa pada penelitian ini feature numerik terdiri dari 8 feature di mana 1 feature yaitu v7 memiliki data distribusi normal dan 7 feature lainnya distribusi tidak normal\n",
    "\n",
    "Selanjutnya peneliti akan menampilkan visualisasi distribusi data "
   ]
  },
  {
   "cell_type": "code",
   "execution_count": 37,
   "metadata": {},
   "outputs": [
    {
     "data": {
      "image/png": "[encoded data removed]",
      "text/plain": [
       "<Figure size 720x1440 with 8 Axes>"
      ]
     },
     "metadata": {
      "needs_background": "light"
     },
     "output_type": "display_data"
    }
   ],
   "source": [
    "fig, ax = plt.subplots(ncols=2,nrows=4,figsize=(10,20))\n",
    "x=0\n",
    "for i in range(4):\n",
    "  for j in range(4):\n",
    "    try:\n",
    "      sns.distplot(eda_df[num_col[x]],ax=ax[i][j])\n",
    "      x+=1\n",
    "    except:\n",
    "      pass\n",
    "plt.show()"
   ]
  },
  {
   "attachments": {},
   "cell_type": "markdown",
   "metadata": {},
   "source": [
    "Visualisasi di atas adalah visualisasi yang menggambarkan distribusi data di setiap kolom numerik dari v1 sampai v8. Suatu kolom dinyatakan memiliki datat ditribusi normal apabila memiliki nilai skewness di antara -0.5 sampai 0.5, sedangkan data tidak distribusi normal memiliki nilai skewness kurang dari(<) -0.5 atau lebih dari(>) 0.5."
   ]
  },
  {
   "attachments": {},
   "cell_type": "markdown",
   "metadata": {},
   "source": [
    "### Outliers Pada Feature Numerik\n",
    "\n",
    "tahap ini memeriksa keberadaan outlier di setiap feature numerik. Jika ditemukan maka akan dihandling"
   ]
  },
  {
   "cell_type": "code",
   "execution_count": 42,
   "metadata": {},
   "outputs": [
    {
     "data": {
      "image/png": "[encoded data removed]",
      "text/plain": [
       "<Figure size 720x1440 with 8 Axes>"
      ]
     },
     "metadata": {
      "needs_background": "light"
     },
     "output_type": "display_data"
    }
   ],
   "source": [
    "def outlier_analysis(eda_df,col):\n",
    "  skewness = eda_df[col].skew()\n",
    "  if skewness>=-0.5 and skewness<=0.5:\n",
    "    upper = eda_df[col].mean() + 3*eda_df[col].std()\n",
    "    lower = eda_df[col].mean() - 3*eda_df[col].std()\n",
    "  else:\n",
    "    Q1 = eda_df[col].quantile(0.25)\n",
    "    Q3 = eda_df[col].quantile(0.75)\n",
    "    IQR = Q3 - Q1\n",
    "    upper = Q3 + 1.5*IQR\n",
    "    lower = Q1 - 1.5*IQR\n",
    "  \n",
    "  no_outliers = eda_df[(eda_df[col]>=lower) & (eda_df[col]<=upper)]\n",
    "  outliers = eda_df[(eda_df[col]<lower) | (eda_df[col]>upper)]\n",
    "\n",
    "  return outliers,no_outliers, upper, lower\n",
    "\n",
    "fig, ax = plt.subplots(ncols=2,nrows=4,figsize=(10,20))\n",
    "x=0\n",
    "for i in range(4):\n",
    "  for j in range(4):\n",
    "    try:\n",
    "      out,no_out, up, low = outlier_analysis(eda_df,num_col[x])\n",
    "      sns.boxplot(eda_df[num_col[x]],ax=ax[i][j])\n",
    "      ax[i][j].set_title('Persentase Outlier: {:.2f}%'.format(len(out)*100/len(eda_df)))\n",
    "      x+=1\n",
    "    except:\n",
    "      pass\n",
    "plt.show()"
   ]
  },
  {
   "attachments": {},
   "cell_type": "markdown",
   "metadata": {},
   "source": [
    "Berdasarkan perhitungan di atas diketahui bahwa data pada kolom v2 memiliki outlier mencapai 17.86%, kolom v4 memiliki 8.04%, v5 memiliki outlier 17.86%, dan v6 memiliki outlier 16.96%. Jumlah outlier di setiap kolom yang memiliki outlier melebihi 5% sehingga pada penelitian ini outlier akan dihandling dengan capping winsorizer agar  data tidak berkurang karena keterbatasan jumlah data yang tersedia. Capping winsorizer berfungsi untuk mengcapping pada data testing dan inference pada tahap selanjutnya"
   ]
  },
  {
   "attachments": {},
   "cell_type": "markdown",
   "metadata": {},
   "source": [
    "### Handling Outlier"
   ]
  },
  {
   "cell_type": "code",
   "execution_count": 43,
   "metadata": {},
   "outputs": [],
   "source": [
    "# capping outlier if exist and in large proportion\n",
    "wins = Winsorizer(capping_method='iqr', tail='both', fold=1.5, variables=['v2','v4','v5','v6'])\n",
    "\n",
    "df_eda_cleaned = wins.fit_transform(eda_df)"
   ]
  },
  {
   "cell_type": "code",
   "execution_count": 44,
   "metadata": {},
   "outputs": [
    {
     "name": "stdout",
     "output_type": "stream",
     "text": [
      "before handling: \n",
      "                v1          v2          v3          v4          v5          v6  \\\n",
      "count  112.000000  112.000000  112.000000  112.000000  112.000000  112.000000   \n",
      "mean   389.592462  237.211331  478.758910  391.618028  485.333642  249.575034   \n",
      "std    150.306130   71.955817  119.173725   62.769690  102.430167   59.833127   \n",
      "min    227.285714  178.800000  348.933333  313.733333  373.333333  189.200000   \n",
      "25%    268.153125  193.729762  383.421429  348.933333  416.550000  211.463889   \n",
      "50%    288.443750  204.187500  404.762500  368.906250  452.366667  222.375000   \n",
      "75%    537.733333  237.484375  589.819079  408.394792  492.643750  256.105208   \n",
      "max    678.375000  422.812500  722.312500  555.600000  721.000000  415.375000   \n",
      "\n",
      "               v7           v8      target  \n",
      "count  112.000000   112.000000  112.000000  \n",
      "mean   709.531973  4457.199094    4.740268  \n",
      "std     48.582239   334.709298    0.203259  \n",
      "min    586.266667  3738.466667    4.130000  \n",
      "25%    677.183333  4266.862500    4.620000  \n",
      "50%    714.133333  4534.385416    4.720000  \n",
      "75%    745.969792  4701.850000    4.872500  \n",
      "max    804.000000  5086.375000    5.260000  \n"
     ]
    }
   ],
   "source": [
    "\n",
    "# Membandingkan kondisi outlier sebelum dan sesudah dihandling\n",
    "print('before handling: \\n', eda_df.describe())"
   ]
  },
  {
   "cell_type": "code",
   "execution_count": 45,
   "metadata": {},
   "outputs": [
    {
     "name": "stdout",
     "output_type": "stream",
     "text": [
      "after handling: \n",
      "                v1          v2          v3          v4          v5          v6  \\\n",
      "count  112.000000  112.000000  112.000000  112.000000  112.000000  112.000000   \n",
      "mean   389.592462  222.648389  478.758910  388.495251  470.382201  241.726988   \n",
      "std    150.306130   42.504752  119.173725   55.874338   72.941297   43.925328   \n",
      "min    227.285714  178.800000  348.933333  313.733333  373.333333  189.200000   \n",
      "25%    268.153125  193.729762  383.421429  348.933333  416.550000  211.463889   \n",
      "50%    288.443750  204.187500  404.762500  368.906250  452.366667  222.375000   \n",
      "75%    537.733333  237.484375  589.819079  408.394792  492.643750  256.105208   \n",
      "max    678.375000  303.116295  722.312500  497.586979  606.784375  323.067188   \n",
      "\n",
      "               v7           v8      target  \n",
      "count  112.000000   112.000000  112.000000  \n",
      "mean   709.531973  4457.199094    4.740268  \n",
      "std     48.582239   334.709298    0.203259  \n",
      "min    586.266667  3738.466667    4.130000  \n",
      "25%    677.183333  4266.862500    4.620000  \n",
      "50%    714.133333  4534.385416    4.720000  \n",
      "75%    745.969792  4701.850000    4.872500  \n",
      "max    804.000000  5086.375000    5.260000  \n"
     ]
    }
   ],
   "source": [
    "print('after handling: \\n', df_eda_cleaned.describe())"
   ]
  },
  {
   "attachments": {},
   "cell_type": "markdown",
   "metadata": {},
   "source": [
    "Setelah melakukan capping, selanjutnya dilihat perbedaan setelah dan sebelum capping, dari hasil diatas terlihat perbedaan pada kolom v2,v4,v5,v6 setelah dan sebelum dicapping, hal ini berarti capping pada kolom v2,v4,v5,v6 berhasil dilakukan"
   ]
  },
  {
   "attachments": {},
   "cell_type": "markdown",
   "metadata": {},
   "source": [
    "### Korelasi Featuere Numerik\n",
    "\n",
    "Tahap ini untuk mencari nilai korelasi antara feature `v1` sampai `v8` dengan kolom `target`. Berdasarkan nilai korelasi yang ada akan menjadi pertimbangan feature mana saja kah yang akan memasuki model di atahp selanjutnya. Metode yang digunakan adalah metode `Spearman` dan metode `Pearson`"
   ]
  },
  {
   "attachments": {},
   "cell_type": "markdown",
   "metadata": {},
   "source": [
    "### Metode Spearman"
   ]
  },
  {
   "cell_type": "code",
   "execution_count": 46,
   "metadata": {},
   "outputs": [
    {
     "data": {
      "image/png": "[encoded data removed]",
      "text/plain": [
       "<Figure size 1080x720 with 2 Axes>"
      ]
     },
     "metadata": {
      "needs_background": "light"
     },
     "output_type": "display_data"
    }
   ],
   "source": [
    "kor_feat = df[num_col].copy()\n",
    "kor_feat['target'] = df['target']\n",
    "plt.figure(figsize=(15, 10))\n",
    "sns.heatmap(round(kor_feat.corr(method='spearman'), 2), annot=True, mask=None, cmap='GnBu')\n",
    "plt.show()"
   ]
  },
  {
   "attachments": {},
   "cell_type": "markdown",
   "metadata": {},
   "source": [
    "### Metode Pearson"
   ]
  },
  {
   "cell_type": "code",
   "execution_count": 47,
   "metadata": {},
   "outputs": [
    {
     "data": {
      "image/png": "[encoded data removed]",
      "text/plain": [
       "<Figure size 1080x720 with 2 Axes>"
      ]
     },
     "metadata": {
      "needs_background": "light"
     },
     "output_type": "display_data"
    }
   ],
   "source": [
    "kor_feat = df[num_col].copy()\n",
    "kor_feat['target'] = df['target']\n",
    "plt.figure(figsize=(15, 10))\n",
    "sns.heatmap(round(kor_feat.corr(method='pearson'), 2), annot=True, mask=None, cmap='GnBu')\n",
    "plt.show()"
   ]
  },
  {
   "attachments": {},
   "cell_type": "markdown",
   "metadata": {},
   "source": [
    "erdasarkan nilai korelasi di atas, peneliti menetapkan tresshold minimal bernilai 0.25. Treshold dalam data science adalah suatu nilai batas atau ambang batas yang ditetapkan untuk menentukan apakah suatu hasil atau prediksi dinyatakan signifikan atau tidak. jadi apabila nilai korelasi di atas 0.25 atau di bawah -0.25 maka dinyatakan memiliki korelasi yang cukup signifikan. Pada penelitian ini kolom `v2`,`v4`,`v5`,`v6`, `v7`, dan `v8` memiliki pengaruh yang signifikan terhadap kolom target\n",
    "\n",
    "Dari hasil uji korelasi di atas maka list kolom pada feature numerik yang akan digunakan pada pemodelan sebagai berikut :"
   ]
  },
  {
   "cell_type": "code",
   "execution_count": null,
   "metadata": {},
   "outputs": [],
   "source": [
    "num_col_final = ['v2','v4','v5','v6','v7','v8']"
   ]
  },
  {
   "attachments": {},
   "cell_type": "markdown",
   "metadata": {},
   "source": [
    "### Feature Kategorikal\n",
    "\n",
    "Pada tahap ini peneliti ingin mengetahui apa saja yang terdapat pada feature kategorik dan akan membuat keputusan apakah feature kategorik akan masuk ke dalam model atau tidak. Peneliti akan menggunakan metode uji chi-square"
   ]
  },
  {
   "cell_type": "code",
   "execution_count": 48,
   "metadata": {},
   "outputs": [],
   "source": [
    "eda_cat=df_eda_cleaned[cat_col]"
   ]
  },
  {
   "cell_type": "code",
   "execution_count": 49,
   "metadata": {},
   "outputs": [
    {
     "data": {
      "text/plain": [
       "lab 1    70\n",
       "lab 2    42\n",
       "Name: sample_type, dtype: int64"
      ]
     },
     "execution_count": 49,
     "metadata": {},
     "output_type": "execute_result"
    }
   ],
   "source": [
    "eda_cat['sample_type'].value_counts()"
   ]
  },
  {
   "attachments": {},
   "cell_type": "markdown",
   "metadata": {},
   "source": [
    "Feature Kategorikal hanya memiliki satu kolom pada penelitian ini yaitu kolom `sample_type` di mana kolom ini hanya memiliki 2 unique value"
   ]
  },
  {
   "cell_type": "code",
   "execution_count": 50,
   "metadata": {},
   "outputs": [],
   "source": [
    "cat_col_final=cat_col"
   ]
  },
  {
   "cell_type": "code",
   "execution_count": 51,
   "metadata": {},
   "outputs": [],
   "source": [
    "chi_list = ['sample_type']"
   ]
  },
  {
   "cell_type": "code",
   "execution_count": 52,
   "metadata": {},
   "outputs": [
    {
     "name": "stdout",
     "output_type": "stream",
     "text": [
      "sample_type\n",
      "p=0.126987\n",
      "Probably independent\n",
      "\n",
      "\n"
     ]
    }
   ],
   "source": [
    "cat_final = []\n",
    "for col in chi_list :\n",
    "    contingency_table = pd.crosstab(df[col], df[\"target\"])\n",
    "    stat, p, dof, excepted = stats.chi2_contingency(contingency_table)\n",
    "    print(col)\n",
    "    print('p=%f' % (p))\n",
    "    if p > 0.05 :\n",
    "        print('Probably independent')\n",
    "    else:\n",
    "        print('Probably dependent')\n",
    "        cat_final.append(col)\n",
    "    print('\\n')\n",
    "\n",
    "    "
   ]
  },
  {
   "attachments": {},
   "cell_type": "markdown",
   "metadata": {},
   "source": [
    "Jika nilai p-value sebesar 0.126987, maka dapat disimpulkan bahwa kemungkinan besar tidak ada hubungan yang signifikan antara kolom kategorikal \"sample_type\" dengan variabel target. Oleh karena itu, kolom ini mungkin tidak terlalu relevan untuk dimasukkan ke dalam model. Kolom ini tidak digunakan dalam pemodelan"
   ]
  },
  {
   "attachments": {},
   "cell_type": "markdown",
   "metadata": {},
   "source": [
    "Membuat variabel yang berisi kolom-kolom yang akan digunakan untuk ke tahap selanjutnya"
   ]
  },
  {
   "cell_type": "code",
   "execution_count": 54,
   "metadata": {},
   "outputs": [],
   "source": [
    "num_col_final = ['v2','v4','v5','v6','v7','v8']\n",
    "cat_col_final= ['sample_type']\n",
    "num_cat_target =['v2','v4','v5','v6','v7','v8','target']"
   ]
  },
  {
   "attachments": {},
   "cell_type": "markdown",
   "metadata": {},
   "source": [
    "### Data train final "
   ]
  },
  {
   "cell_type": "code",
   "execution_count": 55,
   "metadata": {},
   "outputs": [],
   "source": [
    "eda_df_final = df_eda_cleaned[num_cat_target]"
   ]
  },
  {
   "attachments": {},
   "cell_type": "markdown",
   "metadata": {},
   "source": [
    "### Data Test"
   ]
  },
  {
   "cell_type": "code",
   "execution_count": 56,
   "metadata": {},
   "outputs": [
    {
     "data": {
      "text/html": [
       "<div>\n",
       "<style scoped>\n",
       "    .dataframe tbody tr th:only-of-type {\n",
       "        vertical-align: middle;\n",
       "    }\n",
       "\n",
       "    .dataframe tbody tr th {\n",
       "        vertical-align: top;\n",
       "    }\n",
       "\n",
       "    .dataframe thead th {\n",
       "        text-align: right;\n",
       "    }\n",
       "</style>\n",
       "<table border=\"1\" class=\"dataframe\">\n",
       "  <thead>\n",
       "    <tr style=\"text-align: right;\">\n",
       "      <th></th>\n",
       "      <th>v1</th>\n",
       "      <th>v2</th>\n",
       "      <th>v3</th>\n",
       "      <th>v4</th>\n",
       "      <th>v5</th>\n",
       "      <th>v6</th>\n",
       "      <th>v7</th>\n",
       "      <th>v8</th>\n",
       "      <th>sample_type</th>\n",
       "      <th>target</th>\n",
       "    </tr>\n",
       "  </thead>\n",
       "  <tbody>\n",
       "    <tr>\n",
       "      <th>110</th>\n",
       "      <td>482.562500</td>\n",
       "      <td>191.312500</td>\n",
       "      <td>559.875000</td>\n",
       "      <td>353.125000</td>\n",
       "      <td>477.000000</td>\n",
       "      <td>195.250000</td>\n",
       "      <td>638.812500</td>\n",
       "      <td>4462.062500</td>\n",
       "      <td>lab 2</td>\n",
       "      <td>4.95</td>\n",
       "    </tr>\n",
       "    <tr>\n",
       "      <th>112</th>\n",
       "      <td>505.866667</td>\n",
       "      <td>184.266667</td>\n",
       "      <td>547.866667</td>\n",
       "      <td>337.933333</td>\n",
       "      <td>460.666667</td>\n",
       "      <td>196.333333</td>\n",
       "      <td>596.400000</td>\n",
       "      <td>4430.066667</td>\n",
       "      <td>lab 2</td>\n",
       "      <td>5.00</td>\n",
       "    </tr>\n",
       "    <tr>\n",
       "      <th>143</th>\n",
       "      <td>616.933333</td>\n",
       "      <td>333.600000</td>\n",
       "      <td>654.600000</td>\n",
       "      <td>494.533333</td>\n",
       "      <td>655.733333</td>\n",
       "      <td>350.266667</td>\n",
       "      <td>723.866667</td>\n",
       "      <td>3823.000000</td>\n",
       "      <td>lab 2</td>\n",
       "      <td>4.34</td>\n",
       "    </tr>\n",
       "    <tr>\n",
       "      <th>7</th>\n",
       "      <td>248.933333</td>\n",
       "      <td>203.933333</td>\n",
       "      <td>365.200000</td>\n",
       "      <td>332.933333</td>\n",
       "      <td>390.933333</td>\n",
       "      <td>202.200000</td>\n",
       "      <td>664.000000</td>\n",
       "      <td>4646.200000</td>\n",
       "      <td>lab 1</td>\n",
       "      <td>4.74</td>\n",
       "    </tr>\n",
       "    <tr>\n",
       "      <th>44</th>\n",
       "      <td>269.933333</td>\n",
       "      <td>205.666667</td>\n",
       "      <td>393.200000</td>\n",
       "      <td>371.333333</td>\n",
       "      <td>459.800000</td>\n",
       "      <td>241.266667</td>\n",
       "      <td>755.733333</td>\n",
       "      <td>4699.600000</td>\n",
       "      <td>lab 1</td>\n",
       "      <td>4.83</td>\n",
       "    </tr>\n",
       "    <tr>\n",
       "      <th>101</th>\n",
       "      <td>504.357143</td>\n",
       "      <td>211.285714</td>\n",
       "      <td>626.642857</td>\n",
       "      <td>436.785714</td>\n",
       "      <td>502.071429</td>\n",
       "      <td>214.857143</td>\n",
       "      <td>806.857143</td>\n",
       "      <td>4836.571429</td>\n",
       "      <td>lab 2</td>\n",
       "      <td>4.93</td>\n",
       "    </tr>\n",
       "    <tr>\n",
       "      <th>122</th>\n",
       "      <td>534.333333</td>\n",
       "      <td>226.733333</td>\n",
       "      <td>592.266667</td>\n",
       "      <td>377.600000</td>\n",
       "      <td>496.133333</td>\n",
       "      <td>230.866667</td>\n",
       "      <td>690.200000</td>\n",
       "      <td>4508.000000</td>\n",
       "      <td>lab 2</td>\n",
       "      <td>4.90</td>\n",
       "    </tr>\n",
       "    <tr>\n",
       "      <th>66</th>\n",
       "      <td>298.437500</td>\n",
       "      <td>201.562500</td>\n",
       "      <td>419.062500</td>\n",
       "      <td>396.750000</td>\n",
       "      <td>467.875000</td>\n",
       "      <td>239.750000</td>\n",
       "      <td>801.562500</td>\n",
       "      <td>4495.437500</td>\n",
       "      <td>lab 1</td>\n",
       "      <td>4.48</td>\n",
       "    </tr>\n",
       "    <tr>\n",
       "      <th>85</th>\n",
       "      <td>332.500000</td>\n",
       "      <td>254.437500</td>\n",
       "      <td>430.437500</td>\n",
       "      <td>419.375000</td>\n",
       "      <td>475.312500</td>\n",
       "      <td>264.125000</td>\n",
       "      <td>745.312500</td>\n",
       "      <td>4747.750000</td>\n",
       "      <td>lab 1</td>\n",
       "      <td>4.63</td>\n",
       "    </tr>\n",
       "    <tr>\n",
       "      <th>86</th>\n",
       "      <td>333.714286</td>\n",
       "      <td>261.785714</td>\n",
       "      <td>461.142857</td>\n",
       "      <td>437.357143</td>\n",
       "      <td>492.428571</td>\n",
       "      <td>273.428571</td>\n",
       "      <td>791.142857</td>\n",
       "      <td>4780.928571</td>\n",
       "      <td>lab 1</td>\n",
       "      <td>4.66</td>\n",
       "    </tr>\n",
       "    <tr>\n",
       "      <th>133</th>\n",
       "      <td>620.875000</td>\n",
       "      <td>367.000000</td>\n",
       "      <td>659.000000</td>\n",
       "      <td>480.000000</td>\n",
       "      <td>668.250000</td>\n",
       "      <td>364.062500</td>\n",
       "      <td>752.187500</td>\n",
       "      <td>3772.875000</td>\n",
       "      <td>lab 2</td>\n",
       "      <td>4.14</td>\n",
       "    </tr>\n",
       "    <tr>\n",
       "      <th>92</th>\n",
       "      <td>331.312500</td>\n",
       "      <td>252.312500</td>\n",
       "      <td>429.000000</td>\n",
       "      <td>408.875000</td>\n",
       "      <td>467.562500</td>\n",
       "      <td>256.750000</td>\n",
       "      <td>779.062500</td>\n",
       "      <td>4971.437500</td>\n",
       "      <td>lab 1</td>\n",
       "      <td>4.64</td>\n",
       "    </tr>\n",
       "    <tr>\n",
       "      <th>26</th>\n",
       "      <td>270.000000</td>\n",
       "      <td>184.187500</td>\n",
       "      <td>356.125000</td>\n",
       "      <td>330.375000</td>\n",
       "      <td>399.937500</td>\n",
       "      <td>219.062500</td>\n",
       "      <td>679.750000</td>\n",
       "      <td>3961.625000</td>\n",
       "      <td>lab 1</td>\n",
       "      <td>4.94</td>\n",
       "    </tr>\n",
       "    <tr>\n",
       "      <th>146</th>\n",
       "      <td>640.357143</td>\n",
       "      <td>396.714286</td>\n",
       "      <td>682.857143</td>\n",
       "      <td>530.642857</td>\n",
       "      <td>691.357143</td>\n",
       "      <td>384.000000</td>\n",
       "      <td>759.142857</td>\n",
       "      <td>3790.928571</td>\n",
       "      <td>lab 2</td>\n",
       "      <td>4.97</td>\n",
       "    </tr>\n",
       "    <tr>\n",
       "      <th>119</th>\n",
       "      <td>504.133333</td>\n",
       "      <td>202.066667</td>\n",
       "      <td>574.866667</td>\n",
       "      <td>361.533333</td>\n",
       "      <td>478.266667</td>\n",
       "      <td>214.000000</td>\n",
       "      <td>676.200000</td>\n",
       "      <td>4423.866667</td>\n",
       "      <td>lab 2</td>\n",
       "      <td>5.09</td>\n",
       "    </tr>\n",
       "    <tr>\n",
       "      <th>62</th>\n",
       "      <td>261.555556</td>\n",
       "      <td>192.777778</td>\n",
       "      <td>378.166667</td>\n",
       "      <td>362.222222</td>\n",
       "      <td>428.722222</td>\n",
       "      <td>228.166667</td>\n",
       "      <td>703.944444</td>\n",
       "      <td>4589.611111</td>\n",
       "      <td>lab 1</td>\n",
       "      <td>4.79</td>\n",
       "    </tr>\n",
       "    <tr>\n",
       "      <th>51</th>\n",
       "      <td>264.312500</td>\n",
       "      <td>201.500000</td>\n",
       "      <td>389.125000</td>\n",
       "      <td>360.312500</td>\n",
       "      <td>432.312500</td>\n",
       "      <td>232.562500</td>\n",
       "      <td>737.500000</td>\n",
       "      <td>4566.062500</td>\n",
       "      <td>lab 1</td>\n",
       "      <td>4.60</td>\n",
       "    </tr>\n",
       "    <tr>\n",
       "      <th>97</th>\n",
       "      <td>326.133333</td>\n",
       "      <td>243.933333</td>\n",
       "      <td>424.600000</td>\n",
       "      <td>394.400000</td>\n",
       "      <td>454.400000</td>\n",
       "      <td>251.800000</td>\n",
       "      <td>771.866667</td>\n",
       "      <td>4859.466667</td>\n",
       "      <td>lab 1</td>\n",
       "      <td>4.96</td>\n",
       "    </tr>\n",
       "    <tr>\n",
       "      <th>128</th>\n",
       "      <td>545.750000</td>\n",
       "      <td>234.562500</td>\n",
       "      <td>612.687500</td>\n",
       "      <td>399.250000</td>\n",
       "      <td>506.687500</td>\n",
       "      <td>262.000000</td>\n",
       "      <td>685.125000</td>\n",
       "      <td>4423.812500</td>\n",
       "      <td>lab 2</td>\n",
       "      <td>5.08</td>\n",
       "    </tr>\n",
       "    <tr>\n",
       "      <th>90</th>\n",
       "      <td>335.400000</td>\n",
       "      <td>244.666667</td>\n",
       "      <td>448.466667</td>\n",
       "      <td>429.000000</td>\n",
       "      <td>474.800000</td>\n",
       "      <td>257.333333</td>\n",
       "      <td>815.666667</td>\n",
       "      <td>4633.466667</td>\n",
       "      <td>lab 1</td>\n",
       "      <td>4.62</td>\n",
       "    </tr>\n",
       "    <tr>\n",
       "      <th>45</th>\n",
       "      <td>261.933333</td>\n",
       "      <td>199.800000</td>\n",
       "      <td>367.400000</td>\n",
       "      <td>349.866667</td>\n",
       "      <td>428.266667</td>\n",
       "      <td>221.066667</td>\n",
       "      <td>716.200000</td>\n",
       "      <td>4567.800000</td>\n",
       "      <td>lab 1</td>\n",
       "      <td>4.48</td>\n",
       "    </tr>\n",
       "    <tr>\n",
       "      <th>56</th>\n",
       "      <td>265.875000</td>\n",
       "      <td>205.375000</td>\n",
       "      <td>380.125000</td>\n",
       "      <td>355.750000</td>\n",
       "      <td>415.937500</td>\n",
       "      <td>226.500000</td>\n",
       "      <td>728.437500</td>\n",
       "      <td>4752.437500</td>\n",
       "      <td>lab 1</td>\n",
       "      <td>4.37</td>\n",
       "    </tr>\n",
       "    <tr>\n",
       "      <th>59</th>\n",
       "      <td>253.187500</td>\n",
       "      <td>187.687500</td>\n",
       "      <td>374.875000</td>\n",
       "      <td>349.375000</td>\n",
       "      <td>430.500000</td>\n",
       "      <td>219.750000</td>\n",
       "      <td>728.250000</td>\n",
       "      <td>4581.750000</td>\n",
       "      <td>lab 1</td>\n",
       "      <td>4.94</td>\n",
       "    </tr>\n",
       "    <tr>\n",
       "      <th>8</th>\n",
       "      <td>269.000000</td>\n",
       "      <td>191.466667</td>\n",
       "      <td>381.200000</td>\n",
       "      <td>353.200000</td>\n",
       "      <td>403.533333</td>\n",
       "      <td>217.800000</td>\n",
       "      <td>714.533333</td>\n",
       "      <td>4751.466667</td>\n",
       "      <td>lab 1</td>\n",
       "      <td>4.72</td>\n",
       "    </tr>\n",
       "    <tr>\n",
       "      <th>37</th>\n",
       "      <td>279.800000</td>\n",
       "      <td>200.200000</td>\n",
       "      <td>355.333333</td>\n",
       "      <td>327.933333</td>\n",
       "      <td>395.866667</td>\n",
       "      <td>204.533333</td>\n",
       "      <td>650.666667</td>\n",
       "      <td>4551.666667</td>\n",
       "      <td>lab 1</td>\n",
       "      <td>4.65</td>\n",
       "    </tr>\n",
       "    <tr>\n",
       "      <th>33</th>\n",
       "      <td>286.000000</td>\n",
       "      <td>216.750000</td>\n",
       "      <td>435.312500</td>\n",
       "      <td>396.562500</td>\n",
       "      <td>466.125000</td>\n",
       "      <td>244.312500</td>\n",
       "      <td>810.625000</td>\n",
       "      <td>4834.187500</td>\n",
       "      <td>lab 1</td>\n",
       "      <td>4.91</td>\n",
       "    </tr>\n",
       "    <tr>\n",
       "      <th>147</th>\n",
       "      <td>670.133333</td>\n",
       "      <td>378.000000</td>\n",
       "      <td>694.000000</td>\n",
       "      <td>542.400000</td>\n",
       "      <td>706.666667</td>\n",
       "      <td>371.533333</td>\n",
       "      <td>791.466667</td>\n",
       "      <td>3725.666667</td>\n",
       "      <td>lab 2</td>\n",
       "      <td>4.72</td>\n",
       "    </tr>\n",
       "    <tr>\n",
       "      <th>61</th>\n",
       "      <td>284.400000</td>\n",
       "      <td>201.466667</td>\n",
       "      <td>400.066667</td>\n",
       "      <td>359.666667</td>\n",
       "      <td>442.533333</td>\n",
       "      <td>243.600000</td>\n",
       "      <td>715.266667</td>\n",
       "      <td>4653.333333</td>\n",
       "      <td>lab 1</td>\n",
       "      <td>4.48</td>\n",
       "    </tr>\n",
       "    <tr>\n",
       "      <th>98</th>\n",
       "      <td>316.687500</td>\n",
       "      <td>245.250000</td>\n",
       "      <td>451.250000</td>\n",
       "      <td>436.437500</td>\n",
       "      <td>500.187500</td>\n",
       "      <td>291.437500</td>\n",
       "      <td>807.000000</td>\n",
       "      <td>4762.625000</td>\n",
       "      <td>lab 1</td>\n",
       "      <td>4.89</td>\n",
       "    </tr>\n",
       "    <tr>\n",
       "      <th>121</th>\n",
       "      <td>499.466667</td>\n",
       "      <td>201.066667</td>\n",
       "      <td>584.666667</td>\n",
       "      <td>378.733333</td>\n",
       "      <td>470.000000</td>\n",
       "      <td>207.066667</td>\n",
       "      <td>646.333333</td>\n",
       "      <td>4544.666667</td>\n",
       "      <td>lab 2</td>\n",
       "      <td>4.93</td>\n",
       "    </tr>\n",
       "    <tr>\n",
       "      <th>135</th>\n",
       "      <td>605.200000</td>\n",
       "      <td>376.466667</td>\n",
       "      <td>696.266667</td>\n",
       "      <td>533.666667</td>\n",
       "      <td>687.600000</td>\n",
       "      <td>387.800000</td>\n",
       "      <td>764.266667</td>\n",
       "      <td>3853.133333</td>\n",
       "      <td>lab 2</td>\n",
       "      <td>4.37</td>\n",
       "    </tr>\n",
       "    <tr>\n",
       "      <th>24</th>\n",
       "      <td>243.200000</td>\n",
       "      <td>196.666667</td>\n",
       "      <td>393.600000</td>\n",
       "      <td>356.333333</td>\n",
       "      <td>400.000000</td>\n",
       "      <td>213.000000</td>\n",
       "      <td>719.200000</td>\n",
       "      <td>4689.333333</td>\n",
       "      <td>lab 1</td>\n",
       "      <td>4.44</td>\n",
       "    </tr>\n",
       "    <tr>\n",
       "      <th>54</th>\n",
       "      <td>302.600000</td>\n",
       "      <td>237.200000</td>\n",
       "      <td>437.200000</td>\n",
       "      <td>432.466667</td>\n",
       "      <td>532.266667</td>\n",
       "      <td>319.333333</td>\n",
       "      <td>853.466667</td>\n",
       "      <td>4111.733333</td>\n",
       "      <td>lab 1</td>\n",
       "      <td>4.82</td>\n",
       "    </tr>\n",
       "    <tr>\n",
       "      <th>80</th>\n",
       "      <td>290.733333</td>\n",
       "      <td>211.400000</td>\n",
       "      <td>386.400000</td>\n",
       "      <td>361.600000</td>\n",
       "      <td>421.666667</td>\n",
       "      <td>236.333333</td>\n",
       "      <td>725.000000</td>\n",
       "      <td>4557.866667</td>\n",
       "      <td>lab 1</td>\n",
       "      <td>4.45</td>\n",
       "    </tr>\n",
       "    <tr>\n",
       "      <th>19</th>\n",
       "      <td>279.600000</td>\n",
       "      <td>181.000000</td>\n",
       "      <td>370.866667</td>\n",
       "      <td>327.333333</td>\n",
       "      <td>400.933333</td>\n",
       "      <td>192.666667</td>\n",
       "      <td>679.066667</td>\n",
       "      <td>4656.533333</td>\n",
       "      <td>lab 1</td>\n",
       "      <td>4.78</td>\n",
       "    </tr>\n",
       "    <tr>\n",
       "      <th>74</th>\n",
       "      <td>266.375000</td>\n",
       "      <td>186.625000</td>\n",
       "      <td>389.312500</td>\n",
       "      <td>381.625000</td>\n",
       "      <td>425.937500</td>\n",
       "      <td>222.562500</td>\n",
       "      <td>754.562500</td>\n",
       "      <td>4806.625000</td>\n",
       "      <td>lab 1</td>\n",
       "      <td>4.89</td>\n",
       "    </tr>\n",
       "    <tr>\n",
       "      <th>131</th>\n",
       "      <td>658.437500</td>\n",
       "      <td>403.875000</td>\n",
       "      <td>696.750000</td>\n",
       "      <td>558.500000</td>\n",
       "      <td>699.562500</td>\n",
       "      <td>404.562500</td>\n",
       "      <td>725.875000</td>\n",
       "      <td>3961.437500</td>\n",
       "      <td>lab 2</td>\n",
       "      <td>4.44</td>\n",
       "    </tr>\n",
       "    <tr>\n",
       "      <th>16</th>\n",
       "      <td>266.750000</td>\n",
       "      <td>183.062500</td>\n",
       "      <td>368.687500</td>\n",
       "      <td>338.437500</td>\n",
       "      <td>397.687500</td>\n",
       "      <td>191.312500</td>\n",
       "      <td>669.250000</td>\n",
       "      <td>4687.250000</td>\n",
       "      <td>lab 1</td>\n",
       "      <td>5.00</td>\n",
       "    </tr>\n",
       "    <tr>\n",
       "      <th>60</th>\n",
       "      <td>288.466667</td>\n",
       "      <td>205.400000</td>\n",
       "      <td>391.733333</td>\n",
       "      <td>378.733333</td>\n",
       "      <td>440.200000</td>\n",
       "      <td>243.866667</td>\n",
       "      <td>728.733333</td>\n",
       "      <td>4417.733333</td>\n",
       "      <td>lab 1</td>\n",
       "      <td>4.53</td>\n",
       "    </tr>\n",
       "    <tr>\n",
       "      <th>120</th>\n",
       "      <td>506.125000</td>\n",
       "      <td>203.812500</td>\n",
       "      <td>598.687500</td>\n",
       "      <td>370.750000</td>\n",
       "      <td>477.062500</td>\n",
       "      <td>213.812500</td>\n",
       "      <td>638.250000</td>\n",
       "      <td>4598.437500</td>\n",
       "      <td>lab 2</td>\n",
       "      <td>5.02</td>\n",
       "    </tr>\n",
       "    <tr>\n",
       "      <th>40</th>\n",
       "      <td>269.937500</td>\n",
       "      <td>200.875000</td>\n",
       "      <td>414.125000</td>\n",
       "      <td>384.812500</td>\n",
       "      <td>449.500000</td>\n",
       "      <td>250.062500</td>\n",
       "      <td>758.875000</td>\n",
       "      <td>4491.062500</td>\n",
       "      <td>lab 1</td>\n",
       "      <td>4.62</td>\n",
       "    </tr>\n",
       "    <tr>\n",
       "      <th>22</th>\n",
       "      <td>273.333333</td>\n",
       "      <td>181.400000</td>\n",
       "      <td>403.733333</td>\n",
       "      <td>354.533333</td>\n",
       "      <td>415.733333</td>\n",
       "      <td>214.600000</td>\n",
       "      <td>726.200000</td>\n",
       "      <td>4524.200000</td>\n",
       "      <td>lab 1</td>\n",
       "      <td>4.86</td>\n",
       "    </tr>\n",
       "    <tr>\n",
       "      <th>63</th>\n",
       "      <td>256.000000</td>\n",
       "      <td>201.375000</td>\n",
       "      <td>393.937500</td>\n",
       "      <td>361.875000</td>\n",
       "      <td>421.687500</td>\n",
       "      <td>223.875000</td>\n",
       "      <td>726.687500</td>\n",
       "      <td>4589.062500</td>\n",
       "      <td>lab 1</td>\n",
       "      <td>4.67</td>\n",
       "    </tr>\n",
       "    <tr>\n",
       "      <th>151</th>\n",
       "      <td>570.562500</td>\n",
       "      <td>344.062500</td>\n",
       "      <td>629.062500</td>\n",
       "      <td>487.437500</td>\n",
       "      <td>672.937500</td>\n",
       "      <td>323.750000</td>\n",
       "      <td>708.750000</td>\n",
       "      <td>3889.375000</td>\n",
       "      <td>lab 2</td>\n",
       "      <td>4.62</td>\n",
       "    </tr>\n",
       "    <tr>\n",
       "      <th>111</th>\n",
       "      <td>521.187500</td>\n",
       "      <td>202.437500</td>\n",
       "      <td>577.562500</td>\n",
       "      <td>369.125000</td>\n",
       "      <td>479.375000</td>\n",
       "      <td>197.500000</td>\n",
       "      <td>655.062500</td>\n",
       "      <td>4601.187500</td>\n",
       "      <td>lab 2</td>\n",
       "      <td>5.00</td>\n",
       "    </tr>\n",
       "    <tr>\n",
       "      <th>145</th>\n",
       "      <td>635.562500</td>\n",
       "      <td>332.812500</td>\n",
       "      <td>651.437500</td>\n",
       "      <td>496.625000</td>\n",
       "      <td>669.750000</td>\n",
       "      <td>329.437500</td>\n",
       "      <td>721.562500</td>\n",
       "      <td>3947.125000</td>\n",
       "      <td>lab 2</td>\n",
       "      <td>4.54</td>\n",
       "    </tr>\n",
       "    <tr>\n",
       "      <th>136</th>\n",
       "      <td>619.666667</td>\n",
       "      <td>366.133333</td>\n",
       "      <td>680.533333</td>\n",
       "      <td>509.266667</td>\n",
       "      <td>684.133333</td>\n",
       "      <td>369.133333</td>\n",
       "      <td>783.066667</td>\n",
       "      <td>3962.666667</td>\n",
       "      <td>lab 2</td>\n",
       "      <td>4.20</td>\n",
       "    </tr>\n",
       "    <tr>\n",
       "      <th>27</th>\n",
       "      <td>280.812500</td>\n",
       "      <td>187.187500</td>\n",
       "      <td>361.375000</td>\n",
       "      <td>328.937500</td>\n",
       "      <td>397.375000</td>\n",
       "      <td>220.437500</td>\n",
       "      <td>669.500000</td>\n",
       "      <td>4406.687500</td>\n",
       "      <td>lab 1</td>\n",
       "      <td>4.86</td>\n",
       "    </tr>\n",
       "  </tbody>\n",
       "</table>\n",
       "</div>"
      ],
      "text/plain": [
       "             v1          v2          v3          v4          v5          v6  \\\n",
       "110  482.562500  191.312500  559.875000  353.125000  477.000000  195.250000   \n",
       "112  505.866667  184.266667  547.866667  337.933333  460.666667  196.333333   \n",
       "143  616.933333  333.600000  654.600000  494.533333  655.733333  350.266667   \n",
       "7    248.933333  203.933333  365.200000  332.933333  390.933333  202.200000   \n",
       "44   269.933333  205.666667  393.200000  371.333333  459.800000  241.266667   \n",
       "101  504.357143  211.285714  626.642857  436.785714  502.071429  214.857143   \n",
       "122  534.333333  226.733333  592.266667  377.600000  496.133333  230.866667   \n",
       "66   298.437500  201.562500  419.062500  396.750000  467.875000  239.750000   \n",
       "85   332.500000  254.437500  430.437500  419.375000  475.312500  264.125000   \n",
       "86   333.714286  261.785714  461.142857  437.357143  492.428571  273.428571   \n",
       "133  620.875000  367.000000  659.000000  480.000000  668.250000  364.062500   \n",
       "92   331.312500  252.312500  429.000000  408.875000  467.562500  256.750000   \n",
       "26   270.000000  184.187500  356.125000  330.375000  399.937500  219.062500   \n",
       "146  640.357143  396.714286  682.857143  530.642857  691.357143  384.000000   \n",
       "119  504.133333  202.066667  574.866667  361.533333  478.266667  214.000000   \n",
       "62   261.555556  192.777778  378.166667  362.222222  428.722222  228.166667   \n",
       "51   264.312500  201.500000  389.125000  360.312500  432.312500  232.562500   \n",
       "97   326.133333  243.933333  424.600000  394.400000  454.400000  251.800000   \n",
       "128  545.750000  234.562500  612.687500  399.250000  506.687500  262.000000   \n",
       "90   335.400000  244.666667  448.466667  429.000000  474.800000  257.333333   \n",
       "45   261.933333  199.800000  367.400000  349.866667  428.266667  221.066667   \n",
       "56   265.875000  205.375000  380.125000  355.750000  415.937500  226.500000   \n",
       "59   253.187500  187.687500  374.875000  349.375000  430.500000  219.750000   \n",
       "8    269.000000  191.466667  381.200000  353.200000  403.533333  217.800000   \n",
       "37   279.800000  200.200000  355.333333  327.933333  395.866667  204.533333   \n",
       "33   286.000000  216.750000  435.312500  396.562500  466.125000  244.312500   \n",
       "147  670.133333  378.000000  694.000000  542.400000  706.666667  371.533333   \n",
       "61   284.400000  201.466667  400.066667  359.666667  442.533333  243.600000   \n",
       "98   316.687500  245.250000  451.250000  436.437500  500.187500  291.437500   \n",
       "121  499.466667  201.066667  584.666667  378.733333  470.000000  207.066667   \n",
       "135  605.200000  376.466667  696.266667  533.666667  687.600000  387.800000   \n",
       "24   243.200000  196.666667  393.600000  356.333333  400.000000  213.000000   \n",
       "54   302.600000  237.200000  437.200000  432.466667  532.266667  319.333333   \n",
       "80   290.733333  211.400000  386.400000  361.600000  421.666667  236.333333   \n",
       "19   279.600000  181.000000  370.866667  327.333333  400.933333  192.666667   \n",
       "74   266.375000  186.625000  389.312500  381.625000  425.937500  222.562500   \n",
       "131  658.437500  403.875000  696.750000  558.500000  699.562500  404.562500   \n",
       "16   266.750000  183.062500  368.687500  338.437500  397.687500  191.312500   \n",
       "60   288.466667  205.400000  391.733333  378.733333  440.200000  243.866667   \n",
       "120  506.125000  203.812500  598.687500  370.750000  477.062500  213.812500   \n",
       "40   269.937500  200.875000  414.125000  384.812500  449.500000  250.062500   \n",
       "22   273.333333  181.400000  403.733333  354.533333  415.733333  214.600000   \n",
       "63   256.000000  201.375000  393.937500  361.875000  421.687500  223.875000   \n",
       "151  570.562500  344.062500  629.062500  487.437500  672.937500  323.750000   \n",
       "111  521.187500  202.437500  577.562500  369.125000  479.375000  197.500000   \n",
       "145  635.562500  332.812500  651.437500  496.625000  669.750000  329.437500   \n",
       "136  619.666667  366.133333  680.533333  509.266667  684.133333  369.133333   \n",
       "27   280.812500  187.187500  361.375000  328.937500  397.375000  220.437500   \n",
       "\n",
       "             v7           v8 sample_type  target  \n",
       "110  638.812500  4462.062500       lab 2    4.95  \n",
       "112  596.400000  4430.066667       lab 2    5.00  \n",
       "143  723.866667  3823.000000       lab 2    4.34  \n",
       "7    664.000000  4646.200000       lab 1    4.74  \n",
       "44   755.733333  4699.600000       lab 1    4.83  \n",
       "101  806.857143  4836.571429       lab 2    4.93  \n",
       "122  690.200000  4508.000000       lab 2    4.90  \n",
       "66   801.562500  4495.437500       lab 1    4.48  \n",
       "85   745.312500  4747.750000       lab 1    4.63  \n",
       "86   791.142857  4780.928571       lab 1    4.66  \n",
       "133  752.187500  3772.875000       lab 2    4.14  \n",
       "92   779.062500  4971.437500       lab 1    4.64  \n",
       "26   679.750000  3961.625000       lab 1    4.94  \n",
       "146  759.142857  3790.928571       lab 2    4.97  \n",
       "119  676.200000  4423.866667       lab 2    5.09  \n",
       "62   703.944444  4589.611111       lab 1    4.79  \n",
       "51   737.500000  4566.062500       lab 1    4.60  \n",
       "97   771.866667  4859.466667       lab 1    4.96  \n",
       "128  685.125000  4423.812500       lab 2    5.08  \n",
       "90   815.666667  4633.466667       lab 1    4.62  \n",
       "45   716.200000  4567.800000       lab 1    4.48  \n",
       "56   728.437500  4752.437500       lab 1    4.37  \n",
       "59   728.250000  4581.750000       lab 1    4.94  \n",
       "8    714.533333  4751.466667       lab 1    4.72  \n",
       "37   650.666667  4551.666667       lab 1    4.65  \n",
       "33   810.625000  4834.187500       lab 1    4.91  \n",
       "147  791.466667  3725.666667       lab 2    4.72  \n",
       "61   715.266667  4653.333333       lab 1    4.48  \n",
       "98   807.000000  4762.625000       lab 1    4.89  \n",
       "121  646.333333  4544.666667       lab 2    4.93  \n",
       "135  764.266667  3853.133333       lab 2    4.37  \n",
       "24   719.200000  4689.333333       lab 1    4.44  \n",
       "54   853.466667  4111.733333       lab 1    4.82  \n",
       "80   725.000000  4557.866667       lab 1    4.45  \n",
       "19   679.066667  4656.533333       lab 1    4.78  \n",
       "74   754.562500  4806.625000       lab 1    4.89  \n",
       "131  725.875000  3961.437500       lab 2    4.44  \n",
       "16   669.250000  4687.250000       lab 1    5.00  \n",
       "60   728.733333  4417.733333       lab 1    4.53  \n",
       "120  638.250000  4598.437500       lab 2    5.02  \n",
       "40   758.875000  4491.062500       lab 1    4.62  \n",
       "22   726.200000  4524.200000       lab 1    4.86  \n",
       "63   726.687500  4589.062500       lab 1    4.67  \n",
       "151  708.750000  3889.375000       lab 2    4.62  \n",
       "111  655.062500  4601.187500       lab 2    5.00  \n",
       "145  721.562500  3947.125000       lab 2    4.54  \n",
       "136  783.066667  3962.666667       lab 2    4.20  \n",
       "27   669.500000  4406.687500       lab 1    4.86  "
      ]
     },
     "execution_count": 56,
     "metadata": {},
     "output_type": "execute_result"
    }
   ],
   "source": [
    "data_test = pd.concat([X_test,y_test], axis=1)\n",
    "data_test"
   ]
  },
  {
   "attachments": {},
   "cell_type": "markdown",
   "metadata": {},
   "source": [
    "Membuat kolom data test final yang telah dilakukan seleksi feature"
   ]
  },
  {
   "cell_type": "code",
   "execution_count": 57,
   "metadata": {},
   "outputs": [],
   "source": [
    "data_test_final = data_test[num_cat_target]"
   ]
  },
  {
   "attachments": {},
   "cell_type": "markdown",
   "metadata": {},
   "source": [
    "Split Data : X feature dan y target"
   ]
  },
  {
   "cell_type": "code",
   "execution_count": 58,
   "metadata": {},
   "outputs": [],
   "source": [
    "X_train = eda_df_final.drop('target',axis=1).copy()\n",
    "y_train = eda_df_final['target']\n",
    "\n",
    "X_test = data_test_final.drop('target',axis=1).copy()\n",
    "y_test = data_test_final['target']"
   ]
  },
  {
   "attachments": {},
   "cell_type": "markdown",
   "metadata": {},
   "source": [
    "## 5. Prepocessing"
   ]
  },
  {
   "attachments": {},
   "cell_type": "markdown",
   "metadata": {},
   "source": [
    "### Pipeline Numerik\n",
    "\n",
    "Pipeline Numerical berisi langkah-langkah yang dilakukan pada feature numerik yaitu feature scaling"
   ]
  },
  {
   "cell_type": "code",
   "execution_count": 60,
   "metadata": {},
   "outputs": [],
   "source": [
    "num_pipeline = Pipeline([\n",
    "        ('scaler', MinMaxScaler())\n",
    "    ])"
   ]
  },
  {
   "attachments": {},
   "cell_type": "markdown",
   "metadata": {},
   "source": [
    "Feature numerik di penelitian ini didominasi data distribusi tidak normal sehingga umumnya scaler yang digunakan scaler `minmax`"
   ]
  },
  {
   "attachments": {},
   "cell_type": "markdown",
   "metadata": {},
   "source": [
    "### Full Pipeline"
   ]
  },
  {
   "cell_type": "code",
   "execution_count": 61,
   "metadata": {},
   "outputs": [],
   "source": [
    "full_pipeline = ColumnTransformer([\n",
    "        (\"num\", num_pipeline, num_col_final)\n",
    "    ])"
   ]
  },
  {
   "attachments": {},
   "cell_type": "markdown",
   "metadata": {},
   "source": [
    "Melakukan preprocessing pada X train"
   ]
  },
  {
   "cell_type": "code",
   "execution_count": 62,
   "metadata": {},
   "outputs": [],
   "source": [
    "X_train_pipe = full_pipeline.fit_transform(X_train)"
   ]
  },
  {
   "attachments": {},
   "cell_type": "markdown",
   "metadata": {},
   "source": [
    "Menerapkan preprocessing pada X test"
   ]
  },
  {
   "cell_type": "code",
   "execution_count": 63,
   "metadata": {},
   "outputs": [],
   "source": [
    "X_test_pipe = full_pipeline.transform(X_test)"
   ]
  },
  {
   "attachments": {},
   "cell_type": "markdown",
   "metadata": {},
   "source": [
    "## 6.Model Definition"
   ]
  },
  {
   "attachments": {},
   "cell_type": "markdown",
   "metadata": {},
   "source": [
    "Model yang akan digunakan terdiri dari beberapa pilihan yaitu antara lain : Linear Regression, Ridge, Decision Tree, dan Random Forest. Model diseleksi untuk dipilih menjadi model terbaik dalam penelitian ini berdasarkan tingkat akurasi tertinggi dan standar deviasi yang mendekati 0. Kemudian model yang dipilih akan dievaluasi kinerjanya dengan cara mengukur nilai `Mean Absolute Error (MAE)` dan `R2 Score`.\n",
    "> Mean Absolute Error (`MAE`) digunakan untuk mengukur seberapa jauh rata-rata prediksi model dari nilai sebenarnya, tanpa memperhitungkan arah perbedaan antara nilai prediksi dan nilai sebenarnya. Semakin kecil nilai MAE, semakin baik performa model.\n",
    "\n",
    "> `R2 Score` adalah ukuran evaluasi kinerja model regresi dalam mengikuti trend data pada dataet, `R2 Score` memiliki rentang dari 0 sampai 1 semakin mendekati 1 maka model dinilai mampu membaca trend dengan baik jika mendekati 0 maka semakin buruk. pada penelitian ini nilai `R2 Score` tidak terlalu besar karena data yang tersedia tidak terlalu banyak"
   ]
  },
  {
   "attachments": {},
   "cell_type": "markdown",
   "metadata": {},
   "source": [
    "### Definisi Model Linear Regression"
   ]
  },
  {
   "cell_type": "code",
   "execution_count": 64,
   "metadata": {},
   "outputs": [],
   "source": [
    "linreg = LinearRegression()"
   ]
  },
  {
   "attachments": {},
   "cell_type": "markdown",
   "metadata": {},
   "source": [
    "### Definisi Model Ridge Regression"
   ]
  },
  {
   "cell_type": "code",
   "execution_count": 65,
   "metadata": {},
   "outputs": [],
   "source": [
    "rid_model = Ridge()"
   ]
  },
  {
   "attachments": {},
   "cell_type": "markdown",
   "metadata": {},
   "source": [
    "### Definisi Model Decision Tree Regression"
   ]
  },
  {
   "cell_type": "code",
   "execution_count": 66,
   "metadata": {},
   "outputs": [],
   "source": [
    "dt_model = DecisionTreeRegressor(random_state=0)"
   ]
  },
  {
   "attachments": {},
   "cell_type": "markdown",
   "metadata": {},
   "source": [
    "### Definisi Model Random Forest Regression"
   ]
  },
  {
   "cell_type": "code",
   "execution_count": 67,
   "metadata": {},
   "outputs": [],
   "source": [
    "rf_model = RandomForestRegressor(random_state=0)"
   ]
  },
  {
   "attachments": {},
   "cell_type": "markdown",
   "metadata": {},
   "source": [
    "## 7.Model Training\n",
    "\n",
    "Tahap ini adalah tahap model akan melakukan proses training"
   ]
  },
  {
   "attachments": {},
   "cell_type": "markdown",
   "metadata": {},
   "source": [
    "### Training Model Linear Regression"
   ]
  },
  {
   "cell_type": "code",
   "execution_count": 68,
   "metadata": {},
   "outputs": [
    {
     "data": {
      "text/html": [
       "<style>#sk-container-id-1 {color: black;background-color: white;}#sk-container-id-1 pre{padding: 0;}#sk-container-id-1 div.sk-toggleable {background-color: white;}#sk-container-id-1 label.sk-toggleable__label {cursor: pointer;display: block;width: 100%;margin-bottom: 0;padding: 0.3em;box-sizing: border-box;text-align: center;}#sk-container-id-1 label.sk-toggleable__label-arrow:before {content: \"▸\";float: left;margin-right: 0.25em;color: #696969;}#sk-container-id-1 label.sk-toggleable__label-arrow:hover:before {color: black;}#sk-container-id-1 div.sk-estimator:hover label.sk-toggleable__label-arrow:before {color: black;}#sk-container-id-1 div.sk-toggleable__content {max-height: 0;max-width: 0;overflow: hidden;text-align: left;background-color: #f0f8ff;}#sk-container-id-1 div.sk-toggleable__content pre {margin: 0.2em;color: black;border-radius: 0.25em;background-color: #f0f8ff;}#sk-container-id-1 input.sk-toggleable__control:checked~div.sk-toggleable__content {max-height: 200px;max-width: 100%;overflow: auto;}#sk-container-id-1 input.sk-toggleable__control:checked~label.sk-toggleable__label-arrow:before {content: \"▾\";}#sk-container-id-1 div.sk-estimator input.sk-toggleable__control:checked~label.sk-toggleable__label {background-color: #d4ebff;}#sk-container-id-1 div.sk-label input.sk-toggleable__control:checked~label.sk-toggleable__label {background-color: #d4ebff;}#sk-container-id-1 input.sk-hidden--visually {border: 0;clip: rect(1px 1px 1px 1px);clip: rect(1px, 1px, 1px, 1px);height: 1px;margin: -1px;overflow: hidden;padding: 0;position: absolute;width: 1px;}#sk-container-id-1 div.sk-estimator {font-family: monospace;background-color: #f0f8ff;border: 1px dotted black;border-radius: 0.25em;box-sizing: border-box;margin-bottom: 0.5em;}#sk-container-id-1 div.sk-estimator:hover {background-color: #d4ebff;}#sk-container-id-1 div.sk-parallel-item::after {content: \"\";width: 100%;border-bottom: 1px solid gray;flex-grow: 1;}#sk-container-id-1 div.sk-label:hover label.sk-toggleable__label {background-color: #d4ebff;}#sk-container-id-1 div.sk-serial::before {content: \"\";position: absolute;border-left: 1px solid gray;box-sizing: border-box;top: 0;bottom: 0;left: 50%;z-index: 0;}#sk-container-id-1 div.sk-serial {display: flex;flex-direction: column;align-items: center;background-color: white;padding-right: 0.2em;padding-left: 0.2em;position: relative;}#sk-container-id-1 div.sk-item {position: relative;z-index: 1;}#sk-container-id-1 div.sk-parallel {display: flex;align-items: stretch;justify-content: center;background-color: white;position: relative;}#sk-container-id-1 div.sk-item::before, #sk-container-id-1 div.sk-parallel-item::before {content: \"\";position: absolute;border-left: 1px solid gray;box-sizing: border-box;top: 0;bottom: 0;left: 50%;z-index: -1;}#sk-container-id-1 div.sk-parallel-item {display: flex;flex-direction: column;z-index: 1;position: relative;background-color: white;}#sk-container-id-1 div.sk-parallel-item:first-child::after {align-self: flex-end;width: 50%;}#sk-container-id-1 div.sk-parallel-item:last-child::after {align-self: flex-start;width: 50%;}#sk-container-id-1 div.sk-parallel-item:only-child::after {width: 0;}#sk-container-id-1 div.sk-dashed-wrapped {border: 1px dashed gray;margin: 0 0.4em 0.5em 0.4em;box-sizing: border-box;padding-bottom: 0.4em;background-color: white;}#sk-container-id-1 div.sk-label label {font-family: monospace;font-weight: bold;display: inline-block;line-height: 1.2em;}#sk-container-id-1 div.sk-label-container {text-align: center;}#sk-container-id-1 div.sk-container {/* jupyter's `normalize.less` sets `[hidden] { display: none; }` but bootstrap.min.css set `[hidden] { display: none !important; }` so we also need the `!important` here to be able to override the default hidden behavior on the sphinx rendered scikit-learn.org. See: https://github.com/scikit-learn/scikit-learn/issues/21755 */display: inline-block !important;position: relative;}#sk-container-id-1 div.sk-text-repr-fallback {display: none;}</style><div id=\"sk-container-id-1\" class=\"sk-top-container\"><div class=\"sk-text-repr-fallback\"><pre>LinearRegression()</pre><b>In a Jupyter environment, please rerun this cell to show the HTML representation or trust the notebook. <br />On GitHub, the HTML representation is unable to render, please try loading this page with nbviewer.org.</b></div><div class=\"sk-container\" hidden><div class=\"sk-item\"><div class=\"sk-estimator sk-toggleable\"><input class=\"sk-toggleable__control sk-hidden--visually\" id=\"sk-estimator-id-1\" type=\"checkbox\" checked><label for=\"sk-estimator-id-1\" class=\"sk-toggleable__label sk-toggleable__label-arrow\">LinearRegression</label><div class=\"sk-toggleable__content\"><pre>LinearRegression()</pre></div></div></div></div></div>"
      ],
      "text/plain": [
       "LinearRegression()"
      ]
     },
     "execution_count": 68,
     "metadata": {},
     "output_type": "execute_result"
    }
   ],
   "source": [
    "linreg.fit(X_train_pipe, y_train)"
   ]
  },
  {
   "cell_type": "code",
   "execution_count": 69,
   "metadata": {},
   "outputs": [
    {
     "data": {
      "text/plain": [
       "array([0.08378207, 0.06542397, 0.15627333, 0.28308552, 0.23703722])"
      ]
     },
     "execution_count": 69,
     "metadata": {},
     "output_type": "execute_result"
    }
   ],
   "source": [
    "scores_linreg = cross_val_score(linreg, X_train_pipe, y_train, cv=5)\n",
    "scores_linreg"
   ]
  },
  {
   "cell_type": "code",
   "execution_count": 97,
   "metadata": {},
   "outputs": [
    {
     "name": "stdout",
     "output_type": "stream",
     "text": [
      "Model ini memiliki akurasi sebesar 0.17 dan standard deviation sebesar 0.08\n"
     ]
    }
   ],
   "source": [
    "print(\"Model ini memiliki akurasi sebesar %0.2f dan standard deviation sebesar %0.2f\" % (scores_linreg.mean(), scores_linreg.std()))"
   ]
  },
  {
   "attachments": {},
   "cell_type": "markdown",
   "metadata": {},
   "source": [
    "### Training Model Ridge"
   ]
  },
  {
   "cell_type": "code",
   "execution_count": 71,
   "metadata": {},
   "outputs": [
    {
     "data": {
      "text/html": [
       "<style>#sk-container-id-2 {color: black;background-color: white;}#sk-container-id-2 pre{padding: 0;}#sk-container-id-2 div.sk-toggleable {background-color: white;}#sk-container-id-2 label.sk-toggleable__label {cursor: pointer;display: block;width: 100%;margin-bottom: 0;padding: 0.3em;box-sizing: border-box;text-align: center;}#sk-container-id-2 label.sk-toggleable__label-arrow:before {content: \"▸\";float: left;margin-right: 0.25em;color: #696969;}#sk-container-id-2 label.sk-toggleable__label-arrow:hover:before {color: black;}#sk-container-id-2 div.sk-estimator:hover label.sk-toggleable__label-arrow:before {color: black;}#sk-container-id-2 div.sk-toggleable__content {max-height: 0;max-width: 0;overflow: hidden;text-align: left;background-color: #f0f8ff;}#sk-container-id-2 div.sk-toggleable__content pre {margin: 0.2em;color: black;border-radius: 0.25em;background-color: #f0f8ff;}#sk-container-id-2 input.sk-toggleable__control:checked~div.sk-toggleable__content {max-height: 200px;max-width: 100%;overflow: auto;}#sk-container-id-2 input.sk-toggleable__control:checked~label.sk-toggleable__label-arrow:before {content: \"▾\";}#sk-container-id-2 div.sk-estimator input.sk-toggleable__control:checked~label.sk-toggleable__label {background-color: #d4ebff;}#sk-container-id-2 div.sk-label input.sk-toggleable__control:checked~label.sk-toggleable__label {background-color: #d4ebff;}#sk-container-id-2 input.sk-hidden--visually {border: 0;clip: rect(1px 1px 1px 1px);clip: rect(1px, 1px, 1px, 1px);height: 1px;margin: -1px;overflow: hidden;padding: 0;position: absolute;width: 1px;}#sk-container-id-2 div.sk-estimator {font-family: monospace;background-color: #f0f8ff;border: 1px dotted black;border-radius: 0.25em;box-sizing: border-box;margin-bottom: 0.5em;}#sk-container-id-2 div.sk-estimator:hover {background-color: #d4ebff;}#sk-container-id-2 div.sk-parallel-item::after {content: \"\";width: 100%;border-bottom: 1px solid gray;flex-grow: 1;}#sk-container-id-2 div.sk-label:hover label.sk-toggleable__label {background-color: #d4ebff;}#sk-container-id-2 div.sk-serial::before {content: \"\";position: absolute;border-left: 1px solid gray;box-sizing: border-box;top: 0;bottom: 0;left: 50%;z-index: 0;}#sk-container-id-2 div.sk-serial {display: flex;flex-direction: column;align-items: center;background-color: white;padding-right: 0.2em;padding-left: 0.2em;position: relative;}#sk-container-id-2 div.sk-item {position: relative;z-index: 1;}#sk-container-id-2 div.sk-parallel {display: flex;align-items: stretch;justify-content: center;background-color: white;position: relative;}#sk-container-id-2 div.sk-item::before, #sk-container-id-2 div.sk-parallel-item::before {content: \"\";position: absolute;border-left: 1px solid gray;box-sizing: border-box;top: 0;bottom: 0;left: 50%;z-index: -1;}#sk-container-id-2 div.sk-parallel-item {display: flex;flex-direction: column;z-index: 1;position: relative;background-color: white;}#sk-container-id-2 div.sk-parallel-item:first-child::after {align-self: flex-end;width: 50%;}#sk-container-id-2 div.sk-parallel-item:last-child::after {align-self: flex-start;width: 50%;}#sk-container-id-2 div.sk-parallel-item:only-child::after {width: 0;}#sk-container-id-2 div.sk-dashed-wrapped {border: 1px dashed gray;margin: 0 0.4em 0.5em 0.4em;box-sizing: border-box;padding-bottom: 0.4em;background-color: white;}#sk-container-id-2 div.sk-label label {font-family: monospace;font-weight: bold;display: inline-block;line-height: 1.2em;}#sk-container-id-2 div.sk-label-container {text-align: center;}#sk-container-id-2 div.sk-container {/* jupyter's `normalize.less` sets `[hidden] { display: none; }` but bootstrap.min.css set `[hidden] { display: none !important; }` so we also need the `!important` here to be able to override the default hidden behavior on the sphinx rendered scikit-learn.org. See: https://github.com/scikit-learn/scikit-learn/issues/21755 */display: inline-block !important;position: relative;}#sk-container-id-2 div.sk-text-repr-fallback {display: none;}</style><div id=\"sk-container-id-2\" class=\"sk-top-container\"><div class=\"sk-text-repr-fallback\"><pre>Ridge()</pre><b>In a Jupyter environment, please rerun this cell to show the HTML representation or trust the notebook. <br />On GitHub, the HTML representation is unable to render, please try loading this page with nbviewer.org.</b></div><div class=\"sk-container\" hidden><div class=\"sk-item\"><div class=\"sk-estimator sk-toggleable\"><input class=\"sk-toggleable__control sk-hidden--visually\" id=\"sk-estimator-id-2\" type=\"checkbox\" checked><label for=\"sk-estimator-id-2\" class=\"sk-toggleable__label sk-toggleable__label-arrow\">Ridge</label><div class=\"sk-toggleable__content\"><pre>Ridge()</pre></div></div></div></div></div>"
      ],
      "text/plain": [
       "Ridge()"
      ]
     },
     "execution_count": 71,
     "metadata": {},
     "output_type": "execute_result"
    }
   ],
   "source": [
    "rid_model.fit(X_train_pipe, y_train)"
   ]
  },
  {
   "cell_type": "code",
   "execution_count": 72,
   "metadata": {},
   "outputs": [
    {
     "data": {
      "text/plain": [
       "array([0.13398868, 0.04660705, 0.17671397, 0.28827857, 0.27705422])"
      ]
     },
     "execution_count": 72,
     "metadata": {},
     "output_type": "execute_result"
    }
   ],
   "source": [
    "scores_rid_model = cross_val_score(rid_model, X_train_pipe, y_train, cv=5)\n",
    "scores_rid_model"
   ]
  },
  {
   "cell_type": "code",
   "execution_count": 99,
   "metadata": {},
   "outputs": [
    {
     "name": "stdout",
     "output_type": "stream",
     "text": [
      "Model ini memiliki akurasi sebesar 0.18 dan standard deviation sebesar 0.09\n"
     ]
    }
   ],
   "source": [
    "print(\"Model ini memiliki akurasi sebesar %0.2f dan standard deviation sebesar %0.2f\" % (scores_rid_model.mean(), scores_rid_model.std()))"
   ]
  },
  {
   "attachments": {},
   "cell_type": "markdown",
   "metadata": {},
   "source": [
    "### Training Model Decision Tree Regression"
   ]
  },
  {
   "cell_type": "code",
   "execution_count": 74,
   "metadata": {},
   "outputs": [
    {
     "data": {
      "text/html": [
       "<style>#sk-container-id-3 {color: black;background-color: white;}#sk-container-id-3 pre{padding: 0;}#sk-container-id-3 div.sk-toggleable {background-color: white;}#sk-container-id-3 label.sk-toggleable__label {cursor: pointer;display: block;width: 100%;margin-bottom: 0;padding: 0.3em;box-sizing: border-box;text-align: center;}#sk-container-id-3 label.sk-toggleable__label-arrow:before {content: \"▸\";float: left;margin-right: 0.25em;color: #696969;}#sk-container-id-3 label.sk-toggleable__label-arrow:hover:before {color: black;}#sk-container-id-3 div.sk-estimator:hover label.sk-toggleable__label-arrow:before {color: black;}#sk-container-id-3 div.sk-toggleable__content {max-height: 0;max-width: 0;overflow: hidden;text-align: left;background-color: #f0f8ff;}#sk-container-id-3 div.sk-toggleable__content pre {margin: 0.2em;color: black;border-radius: 0.25em;background-color: #f0f8ff;}#sk-container-id-3 input.sk-toggleable__control:checked~div.sk-toggleable__content {max-height: 200px;max-width: 100%;overflow: auto;}#sk-container-id-3 input.sk-toggleable__control:checked~label.sk-toggleable__label-arrow:before {content: \"▾\";}#sk-container-id-3 div.sk-estimator input.sk-toggleable__control:checked~label.sk-toggleable__label {background-color: #d4ebff;}#sk-container-id-3 div.sk-label input.sk-toggleable__control:checked~label.sk-toggleable__label {background-color: #d4ebff;}#sk-container-id-3 input.sk-hidden--visually {border: 0;clip: rect(1px 1px 1px 1px);clip: rect(1px, 1px, 1px, 1px);height: 1px;margin: -1px;overflow: hidden;padding: 0;position: absolute;width: 1px;}#sk-container-id-3 div.sk-estimator {font-family: monospace;background-color: #f0f8ff;border: 1px dotted black;border-radius: 0.25em;box-sizing: border-box;margin-bottom: 0.5em;}#sk-container-id-3 div.sk-estimator:hover {background-color: #d4ebff;}#sk-container-id-3 div.sk-parallel-item::after {content: \"\";width: 100%;border-bottom: 1px solid gray;flex-grow: 1;}#sk-container-id-3 div.sk-label:hover label.sk-toggleable__label {background-color: #d4ebff;}#sk-container-id-3 div.sk-serial::before {content: \"\";position: absolute;border-left: 1px solid gray;box-sizing: border-box;top: 0;bottom: 0;left: 50%;z-index: 0;}#sk-container-id-3 div.sk-serial {display: flex;flex-direction: column;align-items: center;background-color: white;padding-right: 0.2em;padding-left: 0.2em;position: relative;}#sk-container-id-3 div.sk-item {position: relative;z-index: 1;}#sk-container-id-3 div.sk-parallel {display: flex;align-items: stretch;justify-content: center;background-color: white;position: relative;}#sk-container-id-3 div.sk-item::before, #sk-container-id-3 div.sk-parallel-item::before {content: \"\";position: absolute;border-left: 1px solid gray;box-sizing: border-box;top: 0;bottom: 0;left: 50%;z-index: -1;}#sk-container-id-3 div.sk-parallel-item {display: flex;flex-direction: column;z-index: 1;position: relative;background-color: white;}#sk-container-id-3 div.sk-parallel-item:first-child::after {align-self: flex-end;width: 50%;}#sk-container-id-3 div.sk-parallel-item:last-child::after {align-self: flex-start;width: 50%;}#sk-container-id-3 div.sk-parallel-item:only-child::after {width: 0;}#sk-container-id-3 div.sk-dashed-wrapped {border: 1px dashed gray;margin: 0 0.4em 0.5em 0.4em;box-sizing: border-box;padding-bottom: 0.4em;background-color: white;}#sk-container-id-3 div.sk-label label {font-family: monospace;font-weight: bold;display: inline-block;line-height: 1.2em;}#sk-container-id-3 div.sk-label-container {text-align: center;}#sk-container-id-3 div.sk-container {/* jupyter's `normalize.less` sets `[hidden] { display: none; }` but bootstrap.min.css set `[hidden] { display: none !important; }` so we also need the `!important` here to be able to override the default hidden behavior on the sphinx rendered scikit-learn.org. See: https://github.com/scikit-learn/scikit-learn/issues/21755 */display: inline-block !important;position: relative;}#sk-container-id-3 div.sk-text-repr-fallback {display: none;}</style><div id=\"sk-container-id-3\" class=\"sk-top-container\"><div class=\"sk-text-repr-fallback\"><pre>DecisionTreeRegressor(random_state=0)</pre><b>In a Jupyter environment, please rerun this cell to show the HTML representation or trust the notebook. <br />On GitHub, the HTML representation is unable to render, please try loading this page with nbviewer.org.</b></div><div class=\"sk-container\" hidden><div class=\"sk-item\"><div class=\"sk-estimator sk-toggleable\"><input class=\"sk-toggleable__control sk-hidden--visually\" id=\"sk-estimator-id-3\" type=\"checkbox\" checked><label for=\"sk-estimator-id-3\" class=\"sk-toggleable__label sk-toggleable__label-arrow\">DecisionTreeRegressor</label><div class=\"sk-toggleable__content\"><pre>DecisionTreeRegressor(random_state=0)</pre></div></div></div></div></div>"
      ],
      "text/plain": [
       "DecisionTreeRegressor(random_state=0)"
      ]
     },
     "execution_count": 74,
     "metadata": {},
     "output_type": "execute_result"
    }
   ],
   "source": [
    "dt_model.fit(X_train_pipe, y_train)"
   ]
  },
  {
   "cell_type": "code",
   "execution_count": 75,
   "metadata": {},
   "outputs": [
    {
     "data": {
      "text/plain": [
       "array([-0.72595681, -1.32196781, -1.35806996, -0.2830622 , -3.16980174])"
      ]
     },
     "execution_count": 75,
     "metadata": {},
     "output_type": "execute_result"
    }
   ],
   "source": [
    "scores_dt_model = cross_val_score(dt_model, X_train_pipe, y_train, cv=5)\n",
    "scores_dt_model"
   ]
  },
  {
   "cell_type": "code",
   "execution_count": 100,
   "metadata": {},
   "outputs": [
    {
     "name": "stdout",
     "output_type": "stream",
     "text": [
      "Model ini memiliki akurasi sebesar -1.37 dan standard deviation sebesar 0.98\n"
     ]
    }
   ],
   "source": [
    "print(\"Model ini memiliki akurasi sebesar %0.2f dan standard deviation sebesar %0.2f\" % (scores_dt_model.mean(), scores_dt_model.std()))"
   ]
  },
  {
   "attachments": {},
   "cell_type": "markdown",
   "metadata": {},
   "source": [
    "### Training Model Random Forest Regression"
   ]
  },
  {
   "cell_type": "code",
   "execution_count": 77,
   "metadata": {},
   "outputs": [
    {
     "data": {
      "text/html": [
       "<style>#sk-container-id-4 {color: black;background-color: white;}#sk-container-id-4 pre{padding: 0;}#sk-container-id-4 div.sk-toggleable {background-color: white;}#sk-container-id-4 label.sk-toggleable__label {cursor: pointer;display: block;width: 100%;margin-bottom: 0;padding: 0.3em;box-sizing: border-box;text-align: center;}#sk-container-id-4 label.sk-toggleable__label-arrow:before {content: \"▸\";float: left;margin-right: 0.25em;color: #696969;}#sk-container-id-4 label.sk-toggleable__label-arrow:hover:before {color: black;}#sk-container-id-4 div.sk-estimator:hover label.sk-toggleable__label-arrow:before {color: black;}#sk-container-id-4 div.sk-toggleable__content {max-height: 0;max-width: 0;overflow: hidden;text-align: left;background-color: #f0f8ff;}#sk-container-id-4 div.sk-toggleable__content pre {margin: 0.2em;color: black;border-radius: 0.25em;background-color: #f0f8ff;}#sk-container-id-4 input.sk-toggleable__control:checked~div.sk-toggleable__content {max-height: 200px;max-width: 100%;overflow: auto;}#sk-container-id-4 input.sk-toggleable__control:checked~label.sk-toggleable__label-arrow:before {content: \"▾\";}#sk-container-id-4 div.sk-estimator input.sk-toggleable__control:checked~label.sk-toggleable__label {background-color: #d4ebff;}#sk-container-id-4 div.sk-label input.sk-toggleable__control:checked~label.sk-toggleable__label {background-color: #d4ebff;}#sk-container-id-4 input.sk-hidden--visually {border: 0;clip: rect(1px 1px 1px 1px);clip: rect(1px, 1px, 1px, 1px);height: 1px;margin: -1px;overflow: hidden;padding: 0;position: absolute;width: 1px;}#sk-container-id-4 div.sk-estimator {font-family: monospace;background-color: #f0f8ff;border: 1px dotted black;border-radius: 0.25em;box-sizing: border-box;margin-bottom: 0.5em;}#sk-container-id-4 div.sk-estimator:hover {background-color: #d4ebff;}#sk-container-id-4 div.sk-parallel-item::after {content: \"\";width: 100%;border-bottom: 1px solid gray;flex-grow: 1;}#sk-container-id-4 div.sk-label:hover label.sk-toggleable__label {background-color: #d4ebff;}#sk-container-id-4 div.sk-serial::before {content: \"\";position: absolute;border-left: 1px solid gray;box-sizing: border-box;top: 0;bottom: 0;left: 50%;z-index: 0;}#sk-container-id-4 div.sk-serial {display: flex;flex-direction: column;align-items: center;background-color: white;padding-right: 0.2em;padding-left: 0.2em;position: relative;}#sk-container-id-4 div.sk-item {position: relative;z-index: 1;}#sk-container-id-4 div.sk-parallel {display: flex;align-items: stretch;justify-content: center;background-color: white;position: relative;}#sk-container-id-4 div.sk-item::before, #sk-container-id-4 div.sk-parallel-item::before {content: \"\";position: absolute;border-left: 1px solid gray;box-sizing: border-box;top: 0;bottom: 0;left: 50%;z-index: -1;}#sk-container-id-4 div.sk-parallel-item {display: flex;flex-direction: column;z-index: 1;position: relative;background-color: white;}#sk-container-id-4 div.sk-parallel-item:first-child::after {align-self: flex-end;width: 50%;}#sk-container-id-4 div.sk-parallel-item:last-child::after {align-self: flex-start;width: 50%;}#sk-container-id-4 div.sk-parallel-item:only-child::after {width: 0;}#sk-container-id-4 div.sk-dashed-wrapped {border: 1px dashed gray;margin: 0 0.4em 0.5em 0.4em;box-sizing: border-box;padding-bottom: 0.4em;background-color: white;}#sk-container-id-4 div.sk-label label {font-family: monospace;font-weight: bold;display: inline-block;line-height: 1.2em;}#sk-container-id-4 div.sk-label-container {text-align: center;}#sk-container-id-4 div.sk-container {/* jupyter's `normalize.less` sets `[hidden] { display: none; }` but bootstrap.min.css set `[hidden] { display: none !important; }` so we also need the `!important` here to be able to override the default hidden behavior on the sphinx rendered scikit-learn.org. See: https://github.com/scikit-learn/scikit-learn/issues/21755 */display: inline-block !important;position: relative;}#sk-container-id-4 div.sk-text-repr-fallback {display: none;}</style><div id=\"sk-container-id-4\" class=\"sk-top-container\"><div class=\"sk-text-repr-fallback\"><pre>RandomForestRegressor(random_state=0)</pre><b>In a Jupyter environment, please rerun this cell to show the HTML representation or trust the notebook. <br />On GitHub, the HTML representation is unable to render, please try loading this page with nbviewer.org.</b></div><div class=\"sk-container\" hidden><div class=\"sk-item\"><div class=\"sk-estimator sk-toggleable\"><input class=\"sk-toggleable__control sk-hidden--visually\" id=\"sk-estimator-id-4\" type=\"checkbox\" checked><label for=\"sk-estimator-id-4\" class=\"sk-toggleable__label sk-toggleable__label-arrow\">RandomForestRegressor</label><div class=\"sk-toggleable__content\"><pre>RandomForestRegressor(random_state=0)</pre></div></div></div></div></div>"
      ],
      "text/plain": [
       "RandomForestRegressor(random_state=0)"
      ]
     },
     "execution_count": 77,
     "metadata": {},
     "output_type": "execute_result"
    }
   ],
   "source": [
    "rf_model.fit(X_train_pipe, y_train)"
   ]
  },
  {
   "cell_type": "code",
   "execution_count": 78,
   "metadata": {},
   "outputs": [
    {
     "data": {
      "text/plain": [
       "array([-0.16700684, -0.27987993,  0.22482411,  0.31560973, -0.03668346])"
      ]
     },
     "execution_count": 78,
     "metadata": {},
     "output_type": "execute_result"
    }
   ],
   "source": [
    "scores_rf_model = cross_val_score(rf_model, X_train_pipe, y_train, cv=5)\n",
    "scores_rf_model"
   ]
  },
  {
   "cell_type": "code",
   "execution_count": 101,
   "metadata": {},
   "outputs": [
    {
     "name": "stdout",
     "output_type": "stream",
     "text": [
      "Model ini memiliki akurasi sebesar 0.01 dan standard deviation sebesar 0.23\n"
     ]
    }
   ],
   "source": [
    "print(\"Model ini memiliki akurasi sebesar %0.2f dan standard deviation sebesar %0.2f\" % (scores_rf_model.mean(), scores_rf_model.std()))"
   ]
  },
  {
   "attachments": {},
   "cell_type": "markdown",
   "metadata": {},
   "source": [
    "Setelah mengukur skor skor validation dan mengukur akurasi serta standar deviasi dari setiap pilihan model yang tersedia. Peneliti akan menggunakan model dengan akurasi tertinggi yaitu model `Ridge` dengan akurasi `0.18` dan standar deviasi `0.09`. Meskipun model ini memiliki standar deviasi yang lebih besar dibandingkan dengan model linear regression tetap saja selisihnya tidak signifikan karena nilai `0.09` masih mendekati nilai 0. Acuan utama adalah nilai akurasi "
   ]
  },
  {
   "attachments": {},
   "cell_type": "markdown",
   "metadata": {},
   "source": [
    "## 8. Model Evaluation"
   ]
  },
  {
   "attachments": {},
   "cell_type": "markdown",
   "metadata": {},
   "source": [
    "### Model Ridge Baseline"
   ]
  },
  {
   "attachments": {},
   "cell_type": "markdown",
   "metadata": {},
   "source": [
    "Model dengan parameter baseline berarti model dengan parameter dasar atau parameter default."
   ]
  },
  {
   "cell_type": "code",
   "execution_count": 82,
   "metadata": {},
   "outputs": [
    {
     "name": "stdout",
     "output_type": "stream",
     "text": [
      "==================== TRAINING ====================\n",
      "Mean absolute error: 0.14253230238750877\n",
      "R2 Score: 0.2574702956771875\n",
      "==================== TEST ====================\n",
      "Mean absolute error: 0.17311051306659628\n",
      "R2 Score: 0.238876913743153\n"
     ]
    }
   ],
   "source": [
    "pred_train_rid = rid_model.predict(X_train_pipe)\n",
    "pred_test_rid = rid_model.predict(X_test_pipe)\n",
    "\n",
    "print(\"=\"*20,\"TRAINING\",\"=\"*20)\n",
    "print(\"Mean absolute error:\",mean_absolute_error(y_train,pred_train_rid))\n",
    "print(\"R2 Score:\",r2_score(y_train,pred_train_rid))\n",
    "print(\"=\"*20,\"TEST\",\"=\"*20)\n",
    "print(\"Mean absolute error:\",mean_absolute_error(y_test,pred_test_rid))\n",
    "print(\"R2 Score:\",r2_score(y_test,pred_test_rid))"
   ]
  },
  {
   "attachments": {},
   "cell_type": "markdown",
   "metadata": {},
   "source": [
    "Nilai `MAE` saat `training` dan `test` dinilai `good fit` karena selisih nya tidak signifikan yaitu hanya selisih `0.03` dimana nilai tersebut masih mendekati nilai 0. nilai `R2 Score` pada model baseline juga dinilai `good fit` karena hanya selisih `0.02`. Tahap selanjutnya peneliti akan melakukan hyperparameter tunning sebagai upaya untuk memperoleh nilai `MAE` yang lebih kecil dan nilai `R2 Score` lebih besar"
   ]
  },
  {
   "attachments": {},
   "cell_type": "markdown",
   "metadata": {},
   "source": [
    "### Hyperparameter Tuning"
   ]
  },
  {
   "attachments": {},
   "cell_type": "markdown",
   "metadata": {},
   "source": [
    "Tahap ini bertujuan untuk mencari kombinasi parameter terbaik sebelum model melakukan `training` dan `test`."
   ]
  },
  {
   "cell_type": "code",
   "execution_count": 83,
   "metadata": {},
   "outputs": [
    {
     "data": {
      "text/html": [
       "<style>#sk-container-id-5 {color: black;background-color: white;}#sk-container-id-5 pre{padding: 0;}#sk-container-id-5 div.sk-toggleable {background-color: white;}#sk-container-id-5 label.sk-toggleable__label {cursor: pointer;display: block;width: 100%;margin-bottom: 0;padding: 0.3em;box-sizing: border-box;text-align: center;}#sk-container-id-5 label.sk-toggleable__label-arrow:before {content: \"▸\";float: left;margin-right: 0.25em;color: #696969;}#sk-container-id-5 label.sk-toggleable__label-arrow:hover:before {color: black;}#sk-container-id-5 div.sk-estimator:hover label.sk-toggleable__label-arrow:before {color: black;}#sk-container-id-5 div.sk-toggleable__content {max-height: 0;max-width: 0;overflow: hidden;text-align: left;background-color: #f0f8ff;}#sk-container-id-5 div.sk-toggleable__content pre {margin: 0.2em;color: black;border-radius: 0.25em;background-color: #f0f8ff;}#sk-container-id-5 input.sk-toggleable__control:checked~div.sk-toggleable__content {max-height: 200px;max-width: 100%;overflow: auto;}#sk-container-id-5 input.sk-toggleable__control:checked~label.sk-toggleable__label-arrow:before {content: \"▾\";}#sk-container-id-5 div.sk-estimator input.sk-toggleable__control:checked~label.sk-toggleable__label {background-color: #d4ebff;}#sk-container-id-5 div.sk-label input.sk-toggleable__control:checked~label.sk-toggleable__label {background-color: #d4ebff;}#sk-container-id-5 input.sk-hidden--visually {border: 0;clip: rect(1px 1px 1px 1px);clip: rect(1px, 1px, 1px, 1px);height: 1px;margin: -1px;overflow: hidden;padding: 0;position: absolute;width: 1px;}#sk-container-id-5 div.sk-estimator {font-family: monospace;background-color: #f0f8ff;border: 1px dotted black;border-radius: 0.25em;box-sizing: border-box;margin-bottom: 0.5em;}#sk-container-id-5 div.sk-estimator:hover {background-color: #d4ebff;}#sk-container-id-5 div.sk-parallel-item::after {content: \"\";width: 100%;border-bottom: 1px solid gray;flex-grow: 1;}#sk-container-id-5 div.sk-label:hover label.sk-toggleable__label {background-color: #d4ebff;}#sk-container-id-5 div.sk-serial::before {content: \"\";position: absolute;border-left: 1px solid gray;box-sizing: border-box;top: 0;bottom: 0;left: 50%;z-index: 0;}#sk-container-id-5 div.sk-serial {display: flex;flex-direction: column;align-items: center;background-color: white;padding-right: 0.2em;padding-left: 0.2em;position: relative;}#sk-container-id-5 div.sk-item {position: relative;z-index: 1;}#sk-container-id-5 div.sk-parallel {display: flex;align-items: stretch;justify-content: center;background-color: white;position: relative;}#sk-container-id-5 div.sk-item::before, #sk-container-id-5 div.sk-parallel-item::before {content: \"\";position: absolute;border-left: 1px solid gray;box-sizing: border-box;top: 0;bottom: 0;left: 50%;z-index: -1;}#sk-container-id-5 div.sk-parallel-item {display: flex;flex-direction: column;z-index: 1;position: relative;background-color: white;}#sk-container-id-5 div.sk-parallel-item:first-child::after {align-self: flex-end;width: 50%;}#sk-container-id-5 div.sk-parallel-item:last-child::after {align-self: flex-start;width: 50%;}#sk-container-id-5 div.sk-parallel-item:only-child::after {width: 0;}#sk-container-id-5 div.sk-dashed-wrapped {border: 1px dashed gray;margin: 0 0.4em 0.5em 0.4em;box-sizing: border-box;padding-bottom: 0.4em;background-color: white;}#sk-container-id-5 div.sk-label label {font-family: monospace;font-weight: bold;display: inline-block;line-height: 1.2em;}#sk-container-id-5 div.sk-label-container {text-align: center;}#sk-container-id-5 div.sk-container {/* jupyter's `normalize.less` sets `[hidden] { display: none; }` but bootstrap.min.css set `[hidden] { display: none !important; }` so we also need the `!important` here to be able to override the default hidden behavior on the sphinx rendered scikit-learn.org. See: https://github.com/scikit-learn/scikit-learn/issues/21755 */display: inline-block !important;position: relative;}#sk-container-id-5 div.sk-text-repr-fallback {display: none;}</style><div id=\"sk-container-id-5\" class=\"sk-top-container\"><div class=\"sk-text-repr-fallback\"><pre>GridSearchCV(estimator=Ridge(), n_jobs=-1,\n",
       "             param_grid=[{&#x27;alpha&#x27;: [0.1, 0.5, 0.7, 1],\n",
       "                          &#x27;solver&#x27;: [&#x27;auto&#x27;, &#x27;svd&#x27;, &#x27;cholesky&#x27;, &#x27;sparse_cg&#x27;,\n",
       "                                     &#x27;lsqr&#x27;, &#x27;saga&#x27;, &#x27;lbfgs&#x27;]}],\n",
       "             return_train_score=True, scoring=&#x27;neg_mean_absolute_error&#x27;)</pre><b>In a Jupyter environment, please rerun this cell to show the HTML representation or trust the notebook. <br />On GitHub, the HTML representation is unable to render, please try loading this page with nbviewer.org.</b></div><div class=\"sk-container\" hidden><div class=\"sk-item sk-dashed-wrapped\"><div class=\"sk-label-container\"><div class=\"sk-label sk-toggleable\"><input class=\"sk-toggleable__control sk-hidden--visually\" id=\"sk-estimator-id-5\" type=\"checkbox\" ><label for=\"sk-estimator-id-5\" class=\"sk-toggleable__label sk-toggleable__label-arrow\">GridSearchCV</label><div class=\"sk-toggleable__content\"><pre>GridSearchCV(estimator=Ridge(), n_jobs=-1,\n",
       "             param_grid=[{&#x27;alpha&#x27;: [0.1, 0.5, 0.7, 1],\n",
       "                          &#x27;solver&#x27;: [&#x27;auto&#x27;, &#x27;svd&#x27;, &#x27;cholesky&#x27;, &#x27;sparse_cg&#x27;,\n",
       "                                     &#x27;lsqr&#x27;, &#x27;saga&#x27;, &#x27;lbfgs&#x27;]}],\n",
       "             return_train_score=True, scoring=&#x27;neg_mean_absolute_error&#x27;)</pre></div></div></div><div class=\"sk-parallel\"><div class=\"sk-parallel-item\"><div class=\"sk-item\"><div class=\"sk-label-container\"><div class=\"sk-label sk-toggleable\"><input class=\"sk-toggleable__control sk-hidden--visually\" id=\"sk-estimator-id-6\" type=\"checkbox\" ><label for=\"sk-estimator-id-6\" class=\"sk-toggleable__label sk-toggleable__label-arrow\">estimator: Ridge</label><div class=\"sk-toggleable__content\"><pre>Ridge()</pre></div></div></div><div class=\"sk-serial\"><div class=\"sk-item\"><div class=\"sk-estimator sk-toggleable\"><input class=\"sk-toggleable__control sk-hidden--visually\" id=\"sk-estimator-id-7\" type=\"checkbox\" ><label for=\"sk-estimator-id-7\" class=\"sk-toggleable__label sk-toggleable__label-arrow\">Ridge</label><div class=\"sk-toggleable__content\"><pre>Ridge()</pre></div></div></div></div></div></div></div></div></div></div>"
      ],
      "text/plain": [
       "GridSearchCV(estimator=Ridge(), n_jobs=-1,\n",
       "             param_grid=[{'alpha': [0.1, 0.5, 0.7, 1],\n",
       "                          'solver': ['auto', 'svd', 'cholesky', 'sparse_cg',\n",
       "                                     'lsqr', 'saga', 'lbfgs']}],\n",
       "             return_train_score=True, scoring='neg_mean_absolute_error')"
      ]
     },
     "execution_count": 83,
     "metadata": {},
     "output_type": "execute_result"
    }
   ],
   "source": [
    "paramsrid = [\n",
    "    {                                                      \n",
    "     'solver': ['auto','svd','cholesky', 'sparse_cg', 'lsqr', 'saga', 'lbfgs'],       #7\n",
    "     'alpha': [0.1, 0.5, 0.7, 1]                                            #4\n",
    "     }    #   7*4=28 kombinasi      \n",
    "  ]\n",
    "\n",
    "grid_search_ridge = GridSearchCV(rid_model, paramsrid,\n",
    "                           scoring='neg_mean_absolute_error', n_jobs= -1,\n",
    "                           return_train_score=True)\n",
    "                           \n",
    "grid_search_ridge.fit(X_train_pipe, y_train)"
   ]
  },
  {
   "cell_type": "code",
   "execution_count": 84,
   "metadata": {},
   "outputs": [
    {
     "data": {
      "text/plain": [
       "{'alpha': 1, 'solver': 'saga'}"
      ]
     },
     "execution_count": 84,
     "metadata": {},
     "output_type": "execute_result"
    }
   ],
   "source": [
    "grid_search_ridge.best_params_"
   ]
  },
  {
   "cell_type": "code",
   "execution_count": 85,
   "metadata": {},
   "outputs": [
    {
     "data": {
      "text/plain": [
       "-0.1480100669838411"
      ]
     },
     "execution_count": 85,
     "metadata": {},
     "output_type": "execute_result"
    }
   ],
   "source": [
    "grid_search_ridge.best_score_"
   ]
  },
  {
   "cell_type": "code",
   "execution_count": 86,
   "metadata": {},
   "outputs": [],
   "source": [
    "best_model_ridge = grid_search_ridge.best_estimator_"
   ]
  },
  {
   "cell_type": "code",
   "execution_count": 87,
   "metadata": {},
   "outputs": [
    {
     "name": "stdout",
     "output_type": "stream",
     "text": [
      "==================== TRAINING SEBELUM TUNING ====================\n",
      "Mean absolute error: 0.14253230238750877\n",
      "R2 Score: 0.2574702956771875\n",
      "==================== TEST SEBELUM TUNING ====================\n",
      "Mean absolute error: 0.17311051306659628\n",
      "R2 Score: 0.238876913743153\n",
      "==================== TRAINING SETELAH TUNING ====================\n",
      "Mean absolute error: 0.14252943944470542\n",
      "R2 Score: 0.25745023220311614\n",
      "==================== TEST SETELAH TUNING ====================\n",
      "Mean absolute error: 0.17312635281554992\n",
      "R2 Score: 0.23879298233211577\n"
     ]
    }
   ],
   "source": [
    "pred_train_rid_tuning = best_model_ridge.predict(X_train_pipe)\n",
    "pred_test_rid_tuning = best_model_ridge.predict(X_test_pipe)\n",
    "\n",
    "print(\"=\"*20,\"TRAINING SEBELUM TUNING\",\"=\"*20)\n",
    "print(\"Mean absolute error:\",mean_absolute_error(y_train,pred_train_rid))\n",
    "print(\"R2 Score:\",r2_score(y_train,pred_train_rid))\n",
    "\n",
    "print(\"=\"*20,\"TEST SEBELUM TUNING\",\"=\"*20)\n",
    "print(\"Mean absolute error:\",mean_absolute_error(y_test,pred_test_rid))\n",
    "print(\"R2 Score:\",r2_score(y_test,pred_test_rid))\n",
    "\n",
    "print(\"=\"*20,\"TRAINING SETELAH TUNING\",\"=\"*20)\n",
    "print(\"Mean absolute error:\",mean_absolute_error(y_train,pred_train_rid_tuning))\n",
    "print(\"R2 Score:\",r2_score(y_train,pred_train_rid_tuning))\n",
    "\n",
    "print(\"=\"*20,\"TEST SETELAH TUNING\",\"=\"*20)\n",
    "print(\"Mean absolute error:\",mean_absolute_error(y_test,pred_test_rid_tuning))\n",
    "print(\"R2 Score:\",r2_score(y_test,pred_test_rid_tuning))\n",
    "\n"
   ]
  },
  {
   "attachments": {},
   "cell_type": "markdown",
   "metadata": {},
   "source": [
    "Model dengan hyperparameter memiliki selisih nilai `MAE` antarat `training` dengan `test` hanya selisih `0.03` saja dan selisih nilai `R2 Score` hanya `0.02` berarti model baseline dan hyperparameter memiliki performa yang mirip dalam mengolah data di penelitian ini."
   ]
  },
  {
   "attachments": {},
   "cell_type": "markdown",
   "metadata": {},
   "source": [
    "### Combine Pipeline : Preprocessing + Model"
   ]
  },
  {
   "cell_type": "code",
   "execution_count": 88,
   "metadata": {},
   "outputs": [
    {
     "name": "stdout",
     "output_type": "stream",
     "text": [
      "Mean absolute error: 0.17310575271834194\n",
      "R2 Score: 0.23898296870254454\n"
     ]
    }
   ],
   "source": [
    "all_process = Pipeline([\n",
    "    (\"preprocess\", full_pipeline),\n",
    "    (\"ridge\", best_model_ridge)\n",
    "])\n",
    "\n",
    "all_process.fit(X_train, y_train)\n",
    "hasil = all_process.predict(X_test)\n",
    "\n",
    "print(\"Mean absolute error:\",mean_absolute_error(y_test,hasil))\n",
    "print(\"R2 Score:\",r2_score(y_test,hasil))"
   ]
  },
  {
   "attachments": {},
   "cell_type": "markdown",
   "metadata": {},
   "source": [
    "## 9.Model Inference"
   ]
  },
  {
   "attachments": {},
   "cell_type": "markdown",
   "metadata": {},
   "source": [
    "Data Inference adalah data baru yang diambil dari input data terbaru yang akan digunakan untuk memasuki model pada penelitian ini data inference akan dibuat dengan data baru"
   ]
  },
  {
   "cell_type": "code",
   "execution_count": 89,
   "metadata": {},
   "outputs": [
    {
     "data": {
      "text/html": [
       "<div>\n",
       "<style scoped>\n",
       "    .dataframe tbody tr th:only-of-type {\n",
       "        vertical-align: middle;\n",
       "    }\n",
       "\n",
       "    .dataframe tbody tr th {\n",
       "        vertical-align: top;\n",
       "    }\n",
       "\n",
       "    .dataframe thead th {\n",
       "        text-align: right;\n",
       "    }\n",
       "</style>\n",
       "<table border=\"1\" class=\"dataframe\">\n",
       "  <thead>\n",
       "    <tr style=\"text-align: right;\">\n",
       "      <th></th>\n",
       "      <th>target</th>\n",
       "      <th>v1</th>\n",
       "      <th>v2</th>\n",
       "      <th>v3</th>\n",
       "      <th>v4</th>\n",
       "      <th>v5</th>\n",
       "      <th>v6</th>\n",
       "      <th>v7</th>\n",
       "      <th>v8</th>\n",
       "      <th>sample_type</th>\n",
       "    </tr>\n",
       "  </thead>\n",
       "  <tbody>\n",
       "    <tr>\n",
       "      <th>0</th>\n",
       "      <td>4.89</td>\n",
       "      <td>438.78</td>\n",
       "      <td>195.853</td>\n",
       "      <td>500.76</td>\n",
       "      <td>354.897</td>\n",
       "      <td>678.324</td>\n",
       "      <td>222.124</td>\n",
       "      <td>788.856</td>\n",
       "      <td>4588.777</td>\n",
       "      <td>lab 1</td>\n",
       "    </tr>\n",
       "  </tbody>\n",
       "</table>\n",
       "</div>"
      ],
      "text/plain": [
       "  target      v1       v2      v3       v4       v5       v6       v7  \\\n",
       "0   4.89  438.78  195.853  500.76  354.897  678.324  222.124  788.856   \n",
       "\n",
       "         v8 sample_type  \n",
       "0  4588.777       lab 1  "
      ]
     },
     "execution_count": 89,
     "metadata": {},
     "output_type": "execute_result"
    }
   ],
   "source": [
    "new_data = {'target': \"4.89\",\n",
    "  'v1': \"438.78\",\n",
    "  'v2': \"195.853\",\n",
    "  'v3': '500.76',\n",
    "  'v4': \"354.897\",\n",
    "  'v5': '678.324',\n",
    "  'v6': \"222.124\",\n",
    "  'v7': \"788.856\",\n",
    "  'v8': \"4588.777\",\n",
    "  'sample_type': \"lab 1\",\n",
    "  }\n",
    "\n",
    "\n",
    "new_data = pd.DataFrame([new_data])\n",
    "new_data"
   ]
  },
  {
   "cell_type": "code",
   "execution_count": 90,
   "metadata": {},
   "outputs": [],
   "source": [
    "new_data = new_data[[col for col in new_data.columns if col != 'target'] + ['target']]\n",
    "\n"
   ]
  },
  {
   "cell_type": "code",
   "execution_count": 91,
   "metadata": {},
   "outputs": [],
   "source": [
    "data_inf_final=new_data[num_cat_target]"
   ]
  },
  {
   "cell_type": "code",
   "execution_count": 92,
   "metadata": {},
   "outputs": [
    {
     "data": {
      "text/plain": [
       "array([4.83366304])"
      ]
     },
     "execution_count": 92,
     "metadata": {},
     "output_type": "execute_result"
    }
   ],
   "source": [
    "all_process.predict(data_inf_final)"
   ]
  },
  {
   "cell_type": "code",
   "execution_count": 93,
   "metadata": {},
   "outputs": [
    {
     "data": {
      "text/html": [
       "<div>\n",
       "<style scoped>\n",
       "    .dataframe tbody tr th:only-of-type {\n",
       "        vertical-align: middle;\n",
       "    }\n",
       "\n",
       "    .dataframe tbody tr th {\n",
       "        vertical-align: top;\n",
       "    }\n",
       "\n",
       "    .dataframe thead th {\n",
       "        text-align: right;\n",
       "    }\n",
       "</style>\n",
       "<table border=\"1\" class=\"dataframe\">\n",
       "  <thead>\n",
       "    <tr style=\"text-align: right;\">\n",
       "      <th></th>\n",
       "      <th>v1</th>\n",
       "      <th>v2</th>\n",
       "      <th>v3</th>\n",
       "      <th>v4</th>\n",
       "      <th>v5</th>\n",
       "      <th>v6</th>\n",
       "      <th>v7</th>\n",
       "      <th>v8</th>\n",
       "      <th>sample_type</th>\n",
       "      <th>target</th>\n",
       "      <th>target_prediction</th>\n",
       "    </tr>\n",
       "  </thead>\n",
       "  <tbody>\n",
       "    <tr>\n",
       "      <th>0</th>\n",
       "      <td>438.78</td>\n",
       "      <td>195.853</td>\n",
       "      <td>500.76</td>\n",
       "      <td>354.897</td>\n",
       "      <td>678.324</td>\n",
       "      <td>222.124</td>\n",
       "      <td>788.856</td>\n",
       "      <td>4588.777</td>\n",
       "      <td>lab 1</td>\n",
       "      <td>4.89</td>\n",
       "      <td>4.833663</td>\n",
       "    </tr>\n",
       "  </tbody>\n",
       "</table>\n",
       "</div>"
      ],
      "text/plain": [
       "       v1       v2      v3       v4       v5       v6       v7        v8  \\\n",
       "0  438.78  195.853  500.76  354.897  678.324  222.124  788.856  4588.777   \n",
       "\n",
       "  sample_type target  target_prediction  \n",
       "0       lab 1   4.89           4.833663  "
      ]
     },
     "execution_count": 93,
     "metadata": {},
     "output_type": "execute_result"
    }
   ],
   "source": [
    "new_data['target_prediction'] = all_process.predict(data_inf_final)\n",
    "compare = new_data[['v1', 'v2', 'v3', 'v4', 'v5', 'v6', 'v7','v8','sample_type','target', 'target_prediction']]\n",
    "compare"
   ]
  },
  {
   "attachments": {},
   "cell_type": "markdown",
   "metadata": {},
   "source": [
    "Pada data aktual nilai target sebesar 4.89 sedangkan model mampu membuat prediksi terhadap nnilai target sebesar 4.83. Selisih nilai target aktualo dan prediksi hanya sebesar `0.06`. Bearti model ini mampu memprediksi dengan baik karena selisih nilai prediksi dengan nilai aktual masih mendekati nilai 0"
   ]
  },
  {
   "attachments": {},
   "cell_type": "markdown",
   "metadata": {},
   "source": [
    "## 10. Model Saving"
   ]
  },
  {
   "cell_type": "code",
   "execution_count": 94,
   "metadata": {},
   "outputs": [],
   "source": [
    "# save model\n",
    "pickle.dump(all_process, open(\"target_pred.pkl\", \"wb\"))"
   ]
  },
  {
   "cell_type": "code",
   "execution_count": 95,
   "metadata": {},
   "outputs": [],
   "source": [
    "set_config(display='diagram')"
   ]
  },
  {
   "cell_type": "code",
   "execution_count": 96,
   "metadata": {},
   "outputs": [
    {
     "data": {
      "text/html": [
       "<style>#sk-container-id-6 {color: black;background-color: white;}#sk-container-id-6 pre{padding: 0;}#sk-container-id-6 div.sk-toggleable {background-color: white;}#sk-container-id-6 label.sk-toggleable__label {cursor: pointer;display: block;width: 100%;margin-bottom: 0;padding: 0.3em;box-sizing: border-box;text-align: center;}#sk-container-id-6 label.sk-toggleable__label-arrow:before {content: \"▸\";float: left;margin-right: 0.25em;color: #696969;}#sk-container-id-6 label.sk-toggleable__label-arrow:hover:before {color: black;}#sk-container-id-6 div.sk-estimator:hover label.sk-toggleable__label-arrow:before {color: black;}#sk-container-id-6 div.sk-toggleable__content {max-height: 0;max-width: 0;overflow: hidden;text-align: left;background-color: #f0f8ff;}#sk-container-id-6 div.sk-toggleable__content pre {margin: 0.2em;color: black;border-radius: 0.25em;background-color: #f0f8ff;}#sk-container-id-6 input.sk-toggleable__control:checked~div.sk-toggleable__content {max-height: 200px;max-width: 100%;overflow: auto;}#sk-container-id-6 input.sk-toggleable__control:checked~label.sk-toggleable__label-arrow:before {content: \"▾\";}#sk-container-id-6 div.sk-estimator input.sk-toggleable__control:checked~label.sk-toggleable__label {background-color: #d4ebff;}#sk-container-id-6 div.sk-label input.sk-toggleable__control:checked~label.sk-toggleable__label {background-color: #d4ebff;}#sk-container-id-6 input.sk-hidden--visually {border: 0;clip: rect(1px 1px 1px 1px);clip: rect(1px, 1px, 1px, 1px);height: 1px;margin: -1px;overflow: hidden;padding: 0;position: absolute;width: 1px;}#sk-container-id-6 div.sk-estimator {font-family: monospace;background-color: #f0f8ff;border: 1px dotted black;border-radius: 0.25em;box-sizing: border-box;margin-bottom: 0.5em;}#sk-container-id-6 div.sk-estimator:hover {background-color: #d4ebff;}#sk-container-id-6 div.sk-parallel-item::after {content: \"\";width: 100%;border-bottom: 1px solid gray;flex-grow: 1;}#sk-container-id-6 div.sk-label:hover label.sk-toggleable__label {background-color: #d4ebff;}#sk-container-id-6 div.sk-serial::before {content: \"\";position: absolute;border-left: 1px solid gray;box-sizing: border-box;top: 0;bottom: 0;left: 50%;z-index: 0;}#sk-container-id-6 div.sk-serial {display: flex;flex-direction: column;align-items: center;background-color: white;padding-right: 0.2em;padding-left: 0.2em;position: relative;}#sk-container-id-6 div.sk-item {position: relative;z-index: 1;}#sk-container-id-6 div.sk-parallel {display: flex;align-items: stretch;justify-content: center;background-color: white;position: relative;}#sk-container-id-6 div.sk-item::before, #sk-container-id-6 div.sk-parallel-item::before {content: \"\";position: absolute;border-left: 1px solid gray;box-sizing: border-box;top: 0;bottom: 0;left: 50%;z-index: -1;}#sk-container-id-6 div.sk-parallel-item {display: flex;flex-direction: column;z-index: 1;position: relative;background-color: white;}#sk-container-id-6 div.sk-parallel-item:first-child::after {align-self: flex-end;width: 50%;}#sk-container-id-6 div.sk-parallel-item:last-child::after {align-self: flex-start;width: 50%;}#sk-container-id-6 div.sk-parallel-item:only-child::after {width: 0;}#sk-container-id-6 div.sk-dashed-wrapped {border: 1px dashed gray;margin: 0 0.4em 0.5em 0.4em;box-sizing: border-box;padding-bottom: 0.4em;background-color: white;}#sk-container-id-6 div.sk-label label {font-family: monospace;font-weight: bold;display: inline-block;line-height: 1.2em;}#sk-container-id-6 div.sk-label-container {text-align: center;}#sk-container-id-6 div.sk-container {/* jupyter's `normalize.less` sets `[hidden] { display: none; }` but bootstrap.min.css set `[hidden] { display: none !important; }` so we also need the `!important` here to be able to override the default hidden behavior on the sphinx rendered scikit-learn.org. See: https://github.com/scikit-learn/scikit-learn/issues/21755 */display: inline-block !important;position: relative;}#sk-container-id-6 div.sk-text-repr-fallback {display: none;}</style><div id=\"sk-container-id-6\" class=\"sk-top-container\"><div class=\"sk-text-repr-fallback\"><pre>Pipeline(steps=[(&#x27;preprocess&#x27;,\n",
       "                 ColumnTransformer(transformers=[(&#x27;num&#x27;,\n",
       "                                                  Pipeline(steps=[(&#x27;scaler&#x27;,\n",
       "                                                                   MinMaxScaler())]),\n",
       "                                                  [&#x27;v2&#x27;, &#x27;v4&#x27;, &#x27;v5&#x27;, &#x27;v6&#x27;, &#x27;v7&#x27;,\n",
       "                                                   &#x27;v8&#x27;])])),\n",
       "                (&#x27;ridge&#x27;, Ridge(alpha=1, solver=&#x27;saga&#x27;))])</pre><b>In a Jupyter environment, please rerun this cell to show the HTML representation or trust the notebook. <br />On GitHub, the HTML representation is unable to render, please try loading this page with nbviewer.org.</b></div><div class=\"sk-container\" hidden><div class=\"sk-item sk-dashed-wrapped\"><div class=\"sk-label-container\"><div class=\"sk-label sk-toggleable\"><input class=\"sk-toggleable__control sk-hidden--visually\" id=\"sk-estimator-id-8\" type=\"checkbox\" ><label for=\"sk-estimator-id-8\" class=\"sk-toggleable__label sk-toggleable__label-arrow\">Pipeline</label><div class=\"sk-toggleable__content\"><pre>Pipeline(steps=[(&#x27;preprocess&#x27;,\n",
       "                 ColumnTransformer(transformers=[(&#x27;num&#x27;,\n",
       "                                                  Pipeline(steps=[(&#x27;scaler&#x27;,\n",
       "                                                                   MinMaxScaler())]),\n",
       "                                                  [&#x27;v2&#x27;, &#x27;v4&#x27;, &#x27;v5&#x27;, &#x27;v6&#x27;, &#x27;v7&#x27;,\n",
       "                                                   &#x27;v8&#x27;])])),\n",
       "                (&#x27;ridge&#x27;, Ridge(alpha=1, solver=&#x27;saga&#x27;))])</pre></div></div></div><div class=\"sk-serial\"><div class=\"sk-item sk-dashed-wrapped\"><div class=\"sk-label-container\"><div class=\"sk-label sk-toggleable\"><input class=\"sk-toggleable__control sk-hidden--visually\" id=\"sk-estimator-id-9\" type=\"checkbox\" ><label for=\"sk-estimator-id-9\" class=\"sk-toggleable__label sk-toggleable__label-arrow\">preprocess: ColumnTransformer</label><div class=\"sk-toggleable__content\"><pre>ColumnTransformer(transformers=[(&#x27;num&#x27;,\n",
       "                                 Pipeline(steps=[(&#x27;scaler&#x27;, MinMaxScaler())]),\n",
       "                                 [&#x27;v2&#x27;, &#x27;v4&#x27;, &#x27;v5&#x27;, &#x27;v6&#x27;, &#x27;v7&#x27;, &#x27;v8&#x27;])])</pre></div></div></div><div class=\"sk-parallel\"><div class=\"sk-parallel-item\"><div class=\"sk-item\"><div class=\"sk-label-container\"><div class=\"sk-label sk-toggleable\"><input class=\"sk-toggleable__control sk-hidden--visually\" id=\"sk-estimator-id-10\" type=\"checkbox\" ><label for=\"sk-estimator-id-10\" class=\"sk-toggleable__label sk-toggleable__label-arrow\">num</label><div class=\"sk-toggleable__content\"><pre>[&#x27;v2&#x27;, &#x27;v4&#x27;, &#x27;v5&#x27;, &#x27;v6&#x27;, &#x27;v7&#x27;, &#x27;v8&#x27;]</pre></div></div></div><div class=\"sk-serial\"><div class=\"sk-item\"><div class=\"sk-serial\"><div class=\"sk-item\"><div class=\"sk-estimator sk-toggleable\"><input class=\"sk-toggleable__control sk-hidden--visually\" id=\"sk-estimator-id-11\" type=\"checkbox\" ><label for=\"sk-estimator-id-11\" class=\"sk-toggleable__label sk-toggleable__label-arrow\">MinMaxScaler</label><div class=\"sk-toggleable__content\"><pre>MinMaxScaler()</pre></div></div></div></div></div></div></div></div></div></div><div class=\"sk-item\"><div class=\"sk-estimator sk-toggleable\"><input class=\"sk-toggleable__control sk-hidden--visually\" id=\"sk-estimator-id-12\" type=\"checkbox\" ><label for=\"sk-estimator-id-12\" class=\"sk-toggleable__label sk-toggleable__label-arrow\">Ridge</label><div class=\"sk-toggleable__content\"><pre>Ridge(alpha=1, solver=&#x27;saga&#x27;)</pre></div></div></div></div></div></div></div>"
      ],
      "text/plain": [
       "Pipeline(steps=[('preprocess',\n",
       "                 ColumnTransformer(transformers=[('num',\n",
       "                                                  Pipeline(steps=[('scaler',\n",
       "                                                                   MinMaxScaler())]),\n",
       "                                                  ['v2', 'v4', 'v5', 'v6', 'v7',\n",
       "                                                   'v8'])])),\n",
       "                ('ridge', Ridge(alpha=1, solver='saga'))])"
      ]
     },
     "execution_count": 96,
     "metadata": {},
     "output_type": "execute_result"
    }
   ],
   "source": [
    "all_process"
   ]
  },
  {
   "attachments": {},
   "cell_type": "markdown",
   "metadata": {},
   "source": [
    "## 11.Kesimpulan"
   ]
  },
  {
   "attachments": {},
   "cell_type": "markdown",
   "metadata": {},
   "source": [
    "Berdasarkan penelitian yang telah dilakukan, dapat disimpulkan bahwa :\n",
    "1. nilai target paling rendah berada di `lab 2` dengan nilai `4.13` dan paling tinggi berada di `lab 1` dengan nilai `5.26`\n",
    "\n",
    "2. Berdasarkan feature `v1` sampai `v8` dapat disimpulkan bahwa dari `v1` sampai `v5` nilai data terendah selalu berasal dalr `lab 1` dan data dengan nilai tertinggi berasal dari `lab 2`. Untuk `v6` nilai terendah dan tertinggi berasal dari `lab 2` , lalu `v7` dan `v8` nilai terendah berasal dari `lab 2` dan nilai tertinggi berasal dari `lab 1`\n",
    "\n",
    "3. Pada penelitian ini memiliki beberapa pilihan untuk memilih model, setelah mengukur tingkat akurasi di setiap model maka model `ridge` terpilih karena memiliki nilai akurasi tertinggi yaitu sebesar `0.18`\n",
    "\n",
    "4. Pada penelitian ini model dengan parameter `baseline` dinilai `good fit` karena saat proses `trainiing` memiliki `MAE` sebesar `0.14` dan saat model melakukan `test` memiliki `MAE` sebesar `0.17` dimana hanya selisih `0.03` yang tidak terlalu signifikan. Saat model diberikan `hyperparameter tuning` diperoleh hasil `train` dan `test` sama seperti model parameter `baseline`.\n",
    "\n",
    "\n",
    "5. Pada poin ini akan membahas tentang `MAE` dan `R2 Score` yang diketahui bahwa :\n",
    "- Mean Absolute Error (`MAE`) mengukur seberapa jauh rata-rata prediksi model dari nilai sebenarnya, tanpa memperhitungkan arah perbedaan antara nilai prediksi dan nilai sebenarnya. Semakin kecil nilai MAE, semakin baik performa model. \n",
    "\n",
    "Pada penelitian ini `MAE` pada proses `test` sebesar `0.17` itu berarti model memiliki potensi selisih absolute (bisa bernilai positif atau negatif)  dari nilai sebenarnya sebesar `0.17`\n",
    "\n",
    "- `R2 Score` adalah ukuran evaluasi kinerja model regresi dalam mengikuti trend data pada dataet, `R2 Score` memiliki rentang dari 0 sampai 1 semakin mendekati 1 maka model dinilai mampu membaca trend dengan baik jika mendekati 0 maka semakin buruk. pada penelitian ini nilai `R2 Score` tidak terlalu besar karena data yang tersedia tidak terlalu banyak\n",
    "\n",
    "6. Saat Model dimasukan dengan `data inference` maka hasil prediksi nilai targetnya adalah `4.83` sedangkan nilai aktual targetnya sebesar `4.89`. Selisih antara nilai aktual dengan nilai prediksi hanya `0.06` yang dinilai sangat kecil dan tidak signifikan."
   ]
  },
  {
   "attachments": {},
   "cell_type": "markdown",
   "metadata": {},
   "source": [
    "### Improvement\n",
    "\n",
    "> Dataset yang tersedia mungkin dapat ditambah lebih banyak agar model lebih mudah mempelajari data dan melakukan prediksi. \n",
    "> feature dalam dataset mungkin bisa lebih diperjelas agar memudahkan penelitian dalam menarik kesimpulan misalnya di kolom target akan lebih mudah jika mengetahui apakah semakin tinggi nilai target berarti penelitian nutrisi semakin baik atau semakin buruk."
   ]
  }
 ],
 "metadata": {
  "kernelspec": {
   "display_name": "base",
   "language": "python",
   "name": "python3"
  },
  "language_info": {
   "codemirror_mode": {
    "name": "ipython",
    "version": 3
   },
   "file_extension": ".py",
   "mimetype": "text/x-python",
   "name": "python",
   "nbconvert_exporter": "python",
   "pygments_lexer": "ipython3",
   "version": "3.9.12"
  },
  "orig_nbformat": 4,
  "vscode": {
   "interpreter": {
    "hash": "5179d32cf6ec497baf3f8a3ef987cc77c5d2dc691fdde20a56316522f61a7323"
   }
  }
 },
 "nbformat": 4,
 "nbformat_minor": 2
}
